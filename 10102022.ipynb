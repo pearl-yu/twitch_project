{
  "cells": [
    {
      "cell_type": "markdown",
      "metadata": {
        "id": "view-in-github",
        "colab_type": "text"
      },
      "source": [
        "<a href=\"https://colab.research.google.com/github/pearl-yu/twitch_project/blob/main/10102022.ipynb\" target=\"_parent\"><img src=\"https://colab.research.google.com/assets/colab-badge.svg\" alt=\"Open In Colab\"/></a>"
      ]
    },
    {
      "cell_type": "code",
      "execution_count": null,
      "metadata": {
        "colab": {
          "base_uri": "https://localhost:8080/"
        },
        "id": "f66f9c16",
        "outputId": "bf60077a-8cf9-497b-b9c3-bcb17833bb5f"
      },
      "outputs": [
        {
          "output_type": "stream",
          "name": "stdout",
          "text": [
            "Cloning into 'twitch_project'...\n",
            "remote: Enumerating objects: 59, done.\u001b[K\n",
            "remote: Counting objects: 100% (59/59), done.\u001b[K\n",
            "remote: Compressing objects: 100% (53/53), done.\u001b[K\n",
            "remote: Total 59 (delta 23), reused 0 (delta 0), pack-reused 0\u001b[K\n",
            "Unpacking objects: 100% (59/59), done.\n",
            "/content/twitch_project/twitch_project\n"
          ]
        }
      ],
      "source": [
        "## Run this line if using Colab.\n",
        "!git clone https://github.com/pearl-yu/twitch_project\n",
        "%cd twitch_project/"
      ],
      "id": "f66f9c16"
    },
    {
      "cell_type": "raw",
      "metadata": {
        "id": "76edb381"
      },
      "source": [
        "# ignore this cell for now\n",
        "from endpoint_call import *"
      ],
      "id": "76edb381"
    },
    {
      "cell_type": "code",
      "execution_count": null,
      "metadata": {
        "id": "52f9c779"
      },
      "outputs": [],
      "source": [
        "import requests  # get the content from the API by using the get() method. json() method converts the API response to JSON format for easy handling.\n",
        "import json   # to work with the returned json content from API.\n",
        "import numpy as np\n",
        "import pandas as pd\n",
        "\n",
        "from pandas.io.json import json_normalize\n",
        "\n",
        "import matplotlib.pyplot as plt\n",
        "\n",
        "from datetime import datetime\n",
        "import re"
      ],
      "id": "52f9c779"
    },
    {
      "cell_type": "code",
      "execution_count": null,
      "metadata": {
        "id": "ec729766"
      },
      "outputs": [],
      "source": [
        "## Pearl's credentials\n",
        "client_id = 'tamrylbvlu3wub4r8c5fddwsou246x'\n",
        "client_secret= 'y4enh38kpiwkh7j00nqvv185ttsedw'\n",
        "\n",
        "# Defining the URL to which we will make the request\n",
        "url = 'https://id.twitch.tv/oauth2/token'\n",
        "# Defining the parameters to be passed to the request\n",
        "body = {\n",
        "  'client_id'     : client_id,\n",
        "  'client_secret' : client_secret,\n",
        "  'grant_type'    : 'client_credentials'\n",
        "}\n",
        "\n",
        "access_code = requests.post(url, params=body) # Making a POST request to the URL to retrieve the access token\n",
        "access_token = json.loads(access_code.text) #access token response is a JSON-encoded app access token\n",
        "\n",
        "access_token = access_token['access_token']"
      ],
      "id": "ec729766"
    },
    {
      "cell_type": "markdown",
      "metadata": {
        "id": "56f59ea6"
      },
      "source": [
        "With the sample:\n",
        "- Pull user ids by calling the https://dev.twitch.tv/docs/api/reference#get-users endpoint, specifying the login parameter.\n",
        "- Pull the video ids following this: https://github.com/btjmga/twitch-getallvods  (I didn't have the code to pull ALL the vids)\n",
        "- Pull the chatfiles of these videos. (using the downloader https://github.com/lay295/TwitchDownloader is easy. Check  https://github.com/Chaparro/rechat-dl and https://github.com/malciin/twitch-comments-downloader for code.)\n",
        "- Construct variables from the chatfile.\n",
        "- Call what other stuff? "
      ],
      "id": "56f59ea6"
    },
    {
      "cell_type": "code",
      "execution_count": null,
      "metadata": {
        "colab": {
          "base_uri": "https://localhost:8080/",
          "height": 392
        },
        "id": "be1cd2f1",
        "outputId": "394f1679-0ab6-4f23-b700-118dbcaf8ac8"
      },
      "outputs": [
        {
          "output_type": "execute_result",
          "data": {
            "text/plain": [
              "   Unnamed: 0                                         Unnamed: 1  \\\n",
              "0           1  https://static-cdn.jtvnw.net/jtv_user_pictures...   \n",
              "1           2  https://static-cdn.jtvnw.net/jtv_user_pictures...   \n",
              "2           3  https://static-cdn.jtvnw.net/jtv_user_pictures...   \n",
              "3           4  https://static-cdn.jtvnw.net/jtv_user_pictures...   \n",
              "4           5  https://static-cdn.jtvnw.net/jtv_user_pictures...   \n",
              "\n",
              "          Channel  Watch time (mins)  Stream time (mins)  Peak viewers  \\\n",
              "0        KaiCenat          750515550               13845        174509   \n",
              "1        ElSpreen          318862545                5505        173221   \n",
              "2  PaulinhoLOKObr          412465830                6075        141526   \n",
              "3         WestCOL          172343475                5460        145907   \n",
              "4        SypherPK          134891265               14730        151092   \n",
              "\n",
              "   Average viewers  Followers  Followers gained  Partnered  Mature  \\\n",
              "0            54208    2402017            346668       True   False   \n",
              "1            57922    5618251            230563       True   False   \n",
              "2            67895    1235167            222035       True   False   \n",
              "3            31564     863854            212347       True   False   \n",
              "4             9157    6213265            205617       True   False   \n",
              "\n",
              "     Language     Unnamed: 12  \n",
              "0     English        KaiCenat  \n",
              "1     Spanish        ElSpreen  \n",
              "2  Portuguese  PaulinhoLOKObr  \n",
              "3     Spanish         WestCOL  \n",
              "4     English        SypherPK  "
            ],
            "text/html": [
              "\n",
              "  <div id=\"df-3446140d-cd13-4691-8f69-b6e7e7181117\">\n",
              "    <div class=\"colab-df-container\">\n",
              "      <div>\n",
              "<style scoped>\n",
              "    .dataframe tbody tr th:only-of-type {\n",
              "        vertical-align: middle;\n",
              "    }\n",
              "\n",
              "    .dataframe tbody tr th {\n",
              "        vertical-align: top;\n",
              "    }\n",
              "\n",
              "    .dataframe thead th {\n",
              "        text-align: right;\n",
              "    }\n",
              "</style>\n",
              "<table border=\"1\" class=\"dataframe\">\n",
              "  <thead>\n",
              "    <tr style=\"text-align: right;\">\n",
              "      <th></th>\n",
              "      <th>Unnamed: 0</th>\n",
              "      <th>Unnamed: 1</th>\n",
              "      <th>Channel</th>\n",
              "      <th>Watch time (mins)</th>\n",
              "      <th>Stream time (mins)</th>\n",
              "      <th>Peak viewers</th>\n",
              "      <th>Average viewers</th>\n",
              "      <th>Followers</th>\n",
              "      <th>Followers gained</th>\n",
              "      <th>Partnered</th>\n",
              "      <th>Mature</th>\n",
              "      <th>Language</th>\n",
              "      <th>Unnamed: 12</th>\n",
              "    </tr>\n",
              "  </thead>\n",
              "  <tbody>\n",
              "    <tr>\n",
              "      <th>0</th>\n",
              "      <td>1</td>\n",
              "      <td>https://static-cdn.jtvnw.net/jtv_user_pictures...</td>\n",
              "      <td>KaiCenat</td>\n",
              "      <td>750515550</td>\n",
              "      <td>13845</td>\n",
              "      <td>174509</td>\n",
              "      <td>54208</td>\n",
              "      <td>2402017</td>\n",
              "      <td>346668</td>\n",
              "      <td>True</td>\n",
              "      <td>False</td>\n",
              "      <td>English</td>\n",
              "      <td>KaiCenat</td>\n",
              "    </tr>\n",
              "    <tr>\n",
              "      <th>1</th>\n",
              "      <td>2</td>\n",
              "      <td>https://static-cdn.jtvnw.net/jtv_user_pictures...</td>\n",
              "      <td>ElSpreen</td>\n",
              "      <td>318862545</td>\n",
              "      <td>5505</td>\n",
              "      <td>173221</td>\n",
              "      <td>57922</td>\n",
              "      <td>5618251</td>\n",
              "      <td>230563</td>\n",
              "      <td>True</td>\n",
              "      <td>False</td>\n",
              "      <td>Spanish</td>\n",
              "      <td>ElSpreen</td>\n",
              "    </tr>\n",
              "    <tr>\n",
              "      <th>2</th>\n",
              "      <td>3</td>\n",
              "      <td>https://static-cdn.jtvnw.net/jtv_user_pictures...</td>\n",
              "      <td>PaulinhoLOKObr</td>\n",
              "      <td>412465830</td>\n",
              "      <td>6075</td>\n",
              "      <td>141526</td>\n",
              "      <td>67895</td>\n",
              "      <td>1235167</td>\n",
              "      <td>222035</td>\n",
              "      <td>True</td>\n",
              "      <td>False</td>\n",
              "      <td>Portuguese</td>\n",
              "      <td>PaulinhoLOKObr</td>\n",
              "    </tr>\n",
              "    <tr>\n",
              "      <th>3</th>\n",
              "      <td>4</td>\n",
              "      <td>https://static-cdn.jtvnw.net/jtv_user_pictures...</td>\n",
              "      <td>WestCOL</td>\n",
              "      <td>172343475</td>\n",
              "      <td>5460</td>\n",
              "      <td>145907</td>\n",
              "      <td>31564</td>\n",
              "      <td>863854</td>\n",
              "      <td>212347</td>\n",
              "      <td>True</td>\n",
              "      <td>False</td>\n",
              "      <td>Spanish</td>\n",
              "      <td>WestCOL</td>\n",
              "    </tr>\n",
              "    <tr>\n",
              "      <th>4</th>\n",
              "      <td>5</td>\n",
              "      <td>https://static-cdn.jtvnw.net/jtv_user_pictures...</td>\n",
              "      <td>SypherPK</td>\n",
              "      <td>134891265</td>\n",
              "      <td>14730</td>\n",
              "      <td>151092</td>\n",
              "      <td>9157</td>\n",
              "      <td>6213265</td>\n",
              "      <td>205617</td>\n",
              "      <td>True</td>\n",
              "      <td>False</td>\n",
              "      <td>English</td>\n",
              "      <td>SypherPK</td>\n",
              "    </tr>\n",
              "  </tbody>\n",
              "</table>\n",
              "</div>\n",
              "      <button class=\"colab-df-convert\" onclick=\"convertToInteractive('df-3446140d-cd13-4691-8f69-b6e7e7181117')\"\n",
              "              title=\"Convert this dataframe to an interactive table.\"\n",
              "              style=\"display:none;\">\n",
              "        \n",
              "  <svg xmlns=\"http://www.w3.org/2000/svg\" height=\"24px\"viewBox=\"0 0 24 24\"\n",
              "       width=\"24px\">\n",
              "    <path d=\"M0 0h24v24H0V0z\" fill=\"none\"/>\n",
              "    <path d=\"M18.56 5.44l.94 2.06.94-2.06 2.06-.94-2.06-.94-.94-2.06-.94 2.06-2.06.94zm-11 1L8.5 8.5l.94-2.06 2.06-.94-2.06-.94L8.5 2.5l-.94 2.06-2.06.94zm10 10l.94 2.06.94-2.06 2.06-.94-2.06-.94-.94-2.06-.94 2.06-2.06.94z\"/><path d=\"M17.41 7.96l-1.37-1.37c-.4-.4-.92-.59-1.43-.59-.52 0-1.04.2-1.43.59L10.3 9.45l-7.72 7.72c-.78.78-.78 2.05 0 2.83L4 21.41c.39.39.9.59 1.41.59.51 0 1.02-.2 1.41-.59l7.78-7.78 2.81-2.81c.8-.78.8-2.07 0-2.86zM5.41 20L4 18.59l7.72-7.72 1.47 1.35L5.41 20z\"/>\n",
              "  </svg>\n",
              "      </button>\n",
              "      \n",
              "  <style>\n",
              "    .colab-df-container {\n",
              "      display:flex;\n",
              "      flex-wrap:wrap;\n",
              "      gap: 12px;\n",
              "    }\n",
              "\n",
              "    .colab-df-convert {\n",
              "      background-color: #E8F0FE;\n",
              "      border: none;\n",
              "      border-radius: 50%;\n",
              "      cursor: pointer;\n",
              "      display: none;\n",
              "      fill: #1967D2;\n",
              "      height: 32px;\n",
              "      padding: 0 0 0 0;\n",
              "      width: 32px;\n",
              "    }\n",
              "\n",
              "    .colab-df-convert:hover {\n",
              "      background-color: #E2EBFA;\n",
              "      box-shadow: 0px 1px 2px rgba(60, 64, 67, 0.3), 0px 1px 3px 1px rgba(60, 64, 67, 0.15);\n",
              "      fill: #174EA6;\n",
              "    }\n",
              "\n",
              "    [theme=dark] .colab-df-convert {\n",
              "      background-color: #3B4455;\n",
              "      fill: #D2E3FC;\n",
              "    }\n",
              "\n",
              "    [theme=dark] .colab-df-convert:hover {\n",
              "      background-color: #434B5C;\n",
              "      box-shadow: 0px 1px 3px 1px rgba(0, 0, 0, 0.15);\n",
              "      filter: drop-shadow(0px 1px 2px rgba(0, 0, 0, 0.3));\n",
              "      fill: #FFFFFF;\n",
              "    }\n",
              "  </style>\n",
              "\n",
              "      <script>\n",
              "        const buttonEl =\n",
              "          document.querySelector('#df-3446140d-cd13-4691-8f69-b6e7e7181117 button.colab-df-convert');\n",
              "        buttonEl.style.display =\n",
              "          google.colab.kernel.accessAllowed ? 'block' : 'none';\n",
              "\n",
              "        async function convertToInteractive(key) {\n",
              "          const element = document.querySelector('#df-3446140d-cd13-4691-8f69-b6e7e7181117');\n",
              "          const dataTable =\n",
              "            await google.colab.kernel.invokeFunction('convertToInteractive',\n",
              "                                                     [key], {});\n",
              "          if (!dataTable) return;\n",
              "\n",
              "          const docLinkHtml = 'Like what you see? Visit the ' +\n",
              "            '<a target=\"_blank\" href=https://colab.research.google.com/notebooks/data_table.ipynb>data table notebook</a>'\n",
              "            + ' to learn more about interactive tables.';\n",
              "          element.innerHTML = '';\n",
              "          dataTable['output_type'] = 'display_data';\n",
              "          await google.colab.output.renderOutput(dataTable, element);\n",
              "          const docLink = document.createElement('div');\n",
              "          docLink.innerHTML = docLinkHtml;\n",
              "          element.appendChild(docLink);\n",
              "        }\n",
              "      </script>\n",
              "    </div>\n",
              "  </div>\n",
              "  "
            ]
          },
          "metadata": {},
          "execution_count": 73
        }
      ],
      "source": [
        "path = './data/sample_by_growing_sullygnome/Fastest growing Twitch streamers, past 30 days - SullyGnome.csv'\n",
        "df = pd.read_csv(path)\n",
        "\n",
        "df.head()"
      ],
      "id": "be1cd2f1"
    },
    {
      "cell_type": "code",
      "execution_count": null,
      "metadata": {
        "id": "8cc61477"
      },
      "outputs": [],
      "source": [
        "def api_info(url = 'https://api.twitch.tv/helix/users?id=', key_series = df['Channel'], n = 5):\n",
        "    \n",
        "    headers = {\n",
        "            'Authorization' : 'Bearer '+str(access_token),\n",
        "            'Client-Id' : client_id\n",
        "        }\n",
        "\n",
        "    temp_df = pd.DataFrame()\n",
        "    for i in range(0,5) :\n",
        "        temp_response = requests.get(url+str(key_series[i]), headers=headers)\n",
        "        # Load the JSON\n",
        "        temp_response_json = json.loads(temp_response.text)\n",
        "        if list(temp_response_json.keys())[0] == 'error':\n",
        "            continue\n",
        "        else:\n",
        "            temp_data = temp_response_json['data']\n",
        "            temp_df_temp = pd.DataFrame.from_dict(json_normalize(temp_data), orient='columns')\n",
        "        \n",
        "            frames = [temp_df, temp_df_temp]\n",
        "            temp_df = pd.concat(frames, ignore_index=True)\n",
        "    \n",
        "    print(temp_df.shape)\n",
        "    print(temp_df.columns)\n",
        "    \n",
        "    return temp_df"
      ],
      "id": "8cc61477"
    },
    {
      "cell_type": "code",
      "execution_count": null,
      "metadata": {
        "colab": {
          "base_uri": "https://localhost:8080/"
        },
        "id": "fe05125f",
        "outputId": "60a924fe-9660-4f9c-e59e-3fdaf358dbf0"
      },
      "outputs": [
        {
          "output_type": "stream",
          "name": "stderr",
          "text": [
            "/usr/local/lib/python3.7/dist-packages/ipykernel_launcher.py:17: FutureWarning: pandas.io.json.json_normalize is deprecated, use pandas.json_normalize instead\n"
          ]
        },
        {
          "output_type": "stream",
          "name": "stdout",
          "text": [
            "(5, 10)\n",
            "Index(['id', 'login', 'display_name', 'type', 'broadcaster_type',\n",
            "       'description', 'profile_image_url', 'offline_image_url', 'view_count',\n",
            "       'created_at'],\n",
            "      dtype='object')\n"
          ]
        }
      ],
      "source": [
        "## call the get_users end points to retrieve user id\n",
        "user_df = api_info(url = 'https://api.twitch.tv/helix/users?login=',\n",
        "         key_series = df['Channel'], \n",
        "         n = 5)"
      ],
      "id": "fe05125f"
    },
    {
      "cell_type": "code",
      "execution_count": null,
      "metadata": {
        "colab": {
          "base_uri": "https://localhost:8080/",
          "height": 898
        },
        "id": "de9286e2",
        "outputId": "9a539d28-bf5a-4ef9-d809-7e39086be154"
      },
      "outputs": [
        {
          "output_type": "stream",
          "name": "stderr",
          "text": [
            "/usr/local/lib/python3.7/dist-packages/ipykernel_launcher.py:17: FutureWarning: pandas.io.json.json_normalize is deprecated, use pandas.json_normalize instead\n"
          ]
        },
        {
          "output_type": "stream",
          "name": "stdout",
          "text": [
            "(100, 17)\n",
            "Index(['id', 'stream_id', 'user_id', 'user_login', 'user_name', 'title',\n",
            "       'description', 'created_at', 'published_at', 'url', 'thumbnail_url',\n",
            "       'viewable', 'view_count', 'language', 'type', 'duration',\n",
            "       'muted_segments'],\n",
            "      dtype='object')\n"
          ]
        },
        {
          "output_type": "execute_result",
          "data": {
            "text/plain": [
              "           id    stream_id    user_id user_login user_name  \\\n",
              "0  1620026122  47280134781  641972806   kaicenat  KaiCenat   \n",
              "1  1610443346  47258864461  641972806   kaicenat  KaiCenat   \n",
              "2  1609543460  47253862157  641972806   kaicenat  KaiCenat   \n",
              "3  1608653502  47248869229  641972806   kaicenat  KaiCenat   \n",
              "4  1606878570  47238591133  641972806   kaicenat  KaiCenat   \n",
              "\n",
              "                                               title description  \\\n",
              "0  🎃THE DWARF HAS RETURNED🎃CLICK HERE NOW🎃CALLING...               \n",
              "1  🟧AHHH FINAL DAY OF STREAMING🟧THE TALLEST DWARF...               \n",
              "2  🟥MAFIA GET IN HERE NOW🟥TONIGHT WILL BE LIT🟥#1 ...               \n",
              "3  🟪THE BIGGEST DWARF IS BACK🟪CLICK HERE NOW🟪CALL...               \n",
              "4  🟩BOYZ NIGHTS IS HERE🟩TONIGHT IS FOR THE BOYZ🟩C...               \n",
              "\n",
              "             created_at          published_at  \\\n",
              "0  2022-10-10T00:10:28Z  2022-10-10T00:10:28Z   \n",
              "1  2022-10-06T00:15:06Z  2022-10-06T00:15:06Z   \n",
              "2  2022-10-05T00:18:37Z  2022-10-05T00:18:37Z   \n",
              "3  2022-10-04T00:04:49Z  2022-10-04T00:04:49Z   \n",
              "4  2022-10-02T00:47:20Z  2022-10-02T00:47:20Z   \n",
              "\n",
              "                                       url  \\\n",
              "0  https://www.twitch.tv/videos/1620026122   \n",
              "1  https://www.twitch.tv/videos/1610443346   \n",
              "2  https://www.twitch.tv/videos/1609543460   \n",
              "3  https://www.twitch.tv/videos/1608653502   \n",
              "4  https://www.twitch.tv/videos/1606878570   \n",
              "\n",
              "                                       thumbnail_url viewable  view_count  \\\n",
              "0  https://static-cdn.jtvnw.net/cf_vods/d1m7jfoe9...   public     2449380   \n",
              "1  https://static-cdn.jtvnw.net/cf_vods/d1m7jfoe9...   public     2142479   \n",
              "2  https://static-cdn.jtvnw.net/cf_vods/d1m7jfoe9...   public     1816939   \n",
              "3  https://static-cdn.jtvnw.net/cf_vods/d1m7jfoe9...   public     2135369   \n",
              "4  https://static-cdn.jtvnw.net/cf_vods/d1m7jfoe9...   public     1920199   \n",
              "\n",
              "  language     type  duration muted_segments  \n",
              "0       en  archive  10h6m42s           None  \n",
              "1       en  archive  8h11m30s           None  \n",
              "2       en  archive  7h40m58s           None  \n",
              "3       en  archive   9h20m6s           None  \n",
              "4       en  archive   6h5m32s           None  "
            ],
            "text/html": [
              "\n",
              "  <div id=\"df-60bab6b1-f5c6-4b6e-bae6-d3f23f4c8fa8\">\n",
              "    <div class=\"colab-df-container\">\n",
              "      <div>\n",
              "<style scoped>\n",
              "    .dataframe tbody tr th:only-of-type {\n",
              "        vertical-align: middle;\n",
              "    }\n",
              "\n",
              "    .dataframe tbody tr th {\n",
              "        vertical-align: top;\n",
              "    }\n",
              "\n",
              "    .dataframe thead th {\n",
              "        text-align: right;\n",
              "    }\n",
              "</style>\n",
              "<table border=\"1\" class=\"dataframe\">\n",
              "  <thead>\n",
              "    <tr style=\"text-align: right;\">\n",
              "      <th></th>\n",
              "      <th>id</th>\n",
              "      <th>stream_id</th>\n",
              "      <th>user_id</th>\n",
              "      <th>user_login</th>\n",
              "      <th>user_name</th>\n",
              "      <th>title</th>\n",
              "      <th>description</th>\n",
              "      <th>created_at</th>\n",
              "      <th>published_at</th>\n",
              "      <th>url</th>\n",
              "      <th>thumbnail_url</th>\n",
              "      <th>viewable</th>\n",
              "      <th>view_count</th>\n",
              "      <th>language</th>\n",
              "      <th>type</th>\n",
              "      <th>duration</th>\n",
              "      <th>muted_segments</th>\n",
              "    </tr>\n",
              "  </thead>\n",
              "  <tbody>\n",
              "    <tr>\n",
              "      <th>0</th>\n",
              "      <td>1620026122</td>\n",
              "      <td>47280134781</td>\n",
              "      <td>641972806</td>\n",
              "      <td>kaicenat</td>\n",
              "      <td>KaiCenat</td>\n",
              "      <td>🎃THE DWARF HAS RETURNED🎃CLICK HERE NOW🎃CALLING...</td>\n",
              "      <td></td>\n",
              "      <td>2022-10-10T00:10:28Z</td>\n",
              "      <td>2022-10-10T00:10:28Z</td>\n",
              "      <td>https://www.twitch.tv/videos/1620026122</td>\n",
              "      <td>https://static-cdn.jtvnw.net/cf_vods/d1m7jfoe9...</td>\n",
              "      <td>public</td>\n",
              "      <td>2449380</td>\n",
              "      <td>en</td>\n",
              "      <td>archive</td>\n",
              "      <td>10h6m42s</td>\n",
              "      <td>None</td>\n",
              "    </tr>\n",
              "    <tr>\n",
              "      <th>1</th>\n",
              "      <td>1610443346</td>\n",
              "      <td>47258864461</td>\n",
              "      <td>641972806</td>\n",
              "      <td>kaicenat</td>\n",
              "      <td>KaiCenat</td>\n",
              "      <td>🟧AHHH FINAL DAY OF STREAMING🟧THE TALLEST DWARF...</td>\n",
              "      <td></td>\n",
              "      <td>2022-10-06T00:15:06Z</td>\n",
              "      <td>2022-10-06T00:15:06Z</td>\n",
              "      <td>https://www.twitch.tv/videos/1610443346</td>\n",
              "      <td>https://static-cdn.jtvnw.net/cf_vods/d1m7jfoe9...</td>\n",
              "      <td>public</td>\n",
              "      <td>2142479</td>\n",
              "      <td>en</td>\n",
              "      <td>archive</td>\n",
              "      <td>8h11m30s</td>\n",
              "      <td>None</td>\n",
              "    </tr>\n",
              "    <tr>\n",
              "      <th>2</th>\n",
              "      <td>1609543460</td>\n",
              "      <td>47253862157</td>\n",
              "      <td>641972806</td>\n",
              "      <td>kaicenat</td>\n",
              "      <td>KaiCenat</td>\n",
              "      <td>🟥MAFIA GET IN HERE NOW🟥TONIGHT WILL BE LIT🟥#1 ...</td>\n",
              "      <td></td>\n",
              "      <td>2022-10-05T00:18:37Z</td>\n",
              "      <td>2022-10-05T00:18:37Z</td>\n",
              "      <td>https://www.twitch.tv/videos/1609543460</td>\n",
              "      <td>https://static-cdn.jtvnw.net/cf_vods/d1m7jfoe9...</td>\n",
              "      <td>public</td>\n",
              "      <td>1816939</td>\n",
              "      <td>en</td>\n",
              "      <td>archive</td>\n",
              "      <td>7h40m58s</td>\n",
              "      <td>None</td>\n",
              "    </tr>\n",
              "    <tr>\n",
              "      <th>3</th>\n",
              "      <td>1608653502</td>\n",
              "      <td>47248869229</td>\n",
              "      <td>641972806</td>\n",
              "      <td>kaicenat</td>\n",
              "      <td>KaiCenat</td>\n",
              "      <td>🟪THE BIGGEST DWARF IS BACK🟪CLICK HERE NOW🟪CALL...</td>\n",
              "      <td></td>\n",
              "      <td>2022-10-04T00:04:49Z</td>\n",
              "      <td>2022-10-04T00:04:49Z</td>\n",
              "      <td>https://www.twitch.tv/videos/1608653502</td>\n",
              "      <td>https://static-cdn.jtvnw.net/cf_vods/d1m7jfoe9...</td>\n",
              "      <td>public</td>\n",
              "      <td>2135369</td>\n",
              "      <td>en</td>\n",
              "      <td>archive</td>\n",
              "      <td>9h20m6s</td>\n",
              "      <td>None</td>\n",
              "    </tr>\n",
              "    <tr>\n",
              "      <th>4</th>\n",
              "      <td>1606878570</td>\n",
              "      <td>47238591133</td>\n",
              "      <td>641972806</td>\n",
              "      <td>kaicenat</td>\n",
              "      <td>KaiCenat</td>\n",
              "      <td>🟩BOYZ NIGHTS IS HERE🟩TONIGHT IS FOR THE BOYZ🟩C...</td>\n",
              "      <td></td>\n",
              "      <td>2022-10-02T00:47:20Z</td>\n",
              "      <td>2022-10-02T00:47:20Z</td>\n",
              "      <td>https://www.twitch.tv/videos/1606878570</td>\n",
              "      <td>https://static-cdn.jtvnw.net/cf_vods/d1m7jfoe9...</td>\n",
              "      <td>public</td>\n",
              "      <td>1920199</td>\n",
              "      <td>en</td>\n",
              "      <td>archive</td>\n",
              "      <td>6h5m32s</td>\n",
              "      <td>None</td>\n",
              "    </tr>\n",
              "  </tbody>\n",
              "</table>\n",
              "</div>\n",
              "      <button class=\"colab-df-convert\" onclick=\"convertToInteractive('df-60bab6b1-f5c6-4b6e-bae6-d3f23f4c8fa8')\"\n",
              "              title=\"Convert this dataframe to an interactive table.\"\n",
              "              style=\"display:none;\">\n",
              "        \n",
              "  <svg xmlns=\"http://www.w3.org/2000/svg\" height=\"24px\"viewBox=\"0 0 24 24\"\n",
              "       width=\"24px\">\n",
              "    <path d=\"M0 0h24v24H0V0z\" fill=\"none\"/>\n",
              "    <path d=\"M18.56 5.44l.94 2.06.94-2.06 2.06-.94-2.06-.94-.94-2.06-.94 2.06-2.06.94zm-11 1L8.5 8.5l.94-2.06 2.06-.94-2.06-.94L8.5 2.5l-.94 2.06-2.06.94zm10 10l.94 2.06.94-2.06 2.06-.94-2.06-.94-.94-2.06-.94 2.06-2.06.94z\"/><path d=\"M17.41 7.96l-1.37-1.37c-.4-.4-.92-.59-1.43-.59-.52 0-1.04.2-1.43.59L10.3 9.45l-7.72 7.72c-.78.78-.78 2.05 0 2.83L4 21.41c.39.39.9.59 1.41.59.51 0 1.02-.2 1.41-.59l7.78-7.78 2.81-2.81c.8-.78.8-2.07 0-2.86zM5.41 20L4 18.59l7.72-7.72 1.47 1.35L5.41 20z\"/>\n",
              "  </svg>\n",
              "      </button>\n",
              "      \n",
              "  <style>\n",
              "    .colab-df-container {\n",
              "      display:flex;\n",
              "      flex-wrap:wrap;\n",
              "      gap: 12px;\n",
              "    }\n",
              "\n",
              "    .colab-df-convert {\n",
              "      background-color: #E8F0FE;\n",
              "      border: none;\n",
              "      border-radius: 50%;\n",
              "      cursor: pointer;\n",
              "      display: none;\n",
              "      fill: #1967D2;\n",
              "      height: 32px;\n",
              "      padding: 0 0 0 0;\n",
              "      width: 32px;\n",
              "    }\n",
              "\n",
              "    .colab-df-convert:hover {\n",
              "      background-color: #E2EBFA;\n",
              "      box-shadow: 0px 1px 2px rgba(60, 64, 67, 0.3), 0px 1px 3px 1px rgba(60, 64, 67, 0.15);\n",
              "      fill: #174EA6;\n",
              "    }\n",
              "\n",
              "    [theme=dark] .colab-df-convert {\n",
              "      background-color: #3B4455;\n",
              "      fill: #D2E3FC;\n",
              "    }\n",
              "\n",
              "    [theme=dark] .colab-df-convert:hover {\n",
              "      background-color: #434B5C;\n",
              "      box-shadow: 0px 1px 3px 1px rgba(0, 0, 0, 0.15);\n",
              "      filter: drop-shadow(0px 1px 2px rgba(0, 0, 0, 0.3));\n",
              "      fill: #FFFFFF;\n",
              "    }\n",
              "  </style>\n",
              "\n",
              "      <script>\n",
              "        const buttonEl =\n",
              "          document.querySelector('#df-60bab6b1-f5c6-4b6e-bae6-d3f23f4c8fa8 button.colab-df-convert');\n",
              "        buttonEl.style.display =\n",
              "          google.colab.kernel.accessAllowed ? 'block' : 'none';\n",
              "\n",
              "        async function convertToInteractive(key) {\n",
              "          const element = document.querySelector('#df-60bab6b1-f5c6-4b6e-bae6-d3f23f4c8fa8');\n",
              "          const dataTable =\n",
              "            await google.colab.kernel.invokeFunction('convertToInteractive',\n",
              "                                                     [key], {});\n",
              "          if (!dataTable) return;\n",
              "\n",
              "          const docLinkHtml = 'Like what you see? Visit the ' +\n",
              "            '<a target=\"_blank\" href=https://colab.research.google.com/notebooks/data_table.ipynb>data table notebook</a>'\n",
              "            + ' to learn more about interactive tables.';\n",
              "          element.innerHTML = '';\n",
              "          dataTable['output_type'] = 'display_data';\n",
              "          await google.colab.output.renderOutput(dataTable, element);\n",
              "          const docLink = document.createElement('div');\n",
              "          docLink.innerHTML = docLinkHtml;\n",
              "          element.appendChild(docLink);\n",
              "        }\n",
              "      </script>\n",
              "    </div>\n",
              "  </div>\n",
              "  "
            ]
          },
          "metadata": {},
          "execution_count": 76
        }
      ],
      "source": [
        "## call the get_videos end points to retrieve all video ids of the users\n",
        "video_df = api_info(url = 'https://api.twitch.tv/helix/videos?user_id=',\n",
        "         key_series = user_df['id'], \n",
        "         n = 5)\n",
        "\n",
        "video_df.head()"
      ],
      "id": "de9286e2"
    },
    {
      "cell_type": "code",
      "execution_count": null,
      "metadata": {
        "colab": {
          "base_uri": "https://localhost:8080/",
          "height": 36
        },
        "id": "EQp4uu5D85vO",
        "outputId": "73b82e18-4d84-4bac-a82f-0f0f716c759c"
      },
      "outputs": [
        {
          "output_type": "execute_result",
          "data": {
            "text/plain": [
              "'https://www.twitch.tv/videos/1620026122'"
            ],
            "application/vnd.google.colaboratory.intrinsic+json": {
              "type": "string"
            }
          },
          "metadata": {},
          "execution_count": 77
        }
      ],
      "source": [
        "video_df['url'][0]"
      ],
      "id": "EQp4uu5D85vO"
    },
    {
      "cell_type": "code",
      "execution_count": null,
      "metadata": {
        "id": "510de2fb"
      },
      "outputs": [],
      "source": [
        "## retrieve chat files of these videos."
      ],
      "id": "510de2fb"
    },
    {
      "cell_type": "code",
      "execution_count": null,
      "metadata": {
        "id": "zvDzUWsg_R1X"
      },
      "outputs": [],
      "source": [
        "# https://pypi.org/project/chat-downloader/\n",
        "!pip install chat-downloader\n",
        "from chat_downloader import ChatDownloader"
      ],
      "id": "zvDzUWsg_R1X"
    },
    {
      "cell_type": "code",
      "source": [
        "url = video_df['url'][0]\n",
        "chat = ChatDownloader().get_chat(url)       # create a generator\n",
        "         # print the formatted message"
      ],
      "metadata": {
        "id": "pFDb3XlIMDT3"
      },
      "id": "pFDb3XlIMDT3",
      "execution_count": null,
      "outputs": []
    },
    {
      "cell_type": "code",
      "source": [
        "# For each chat message, this is the full structure\n",
        "next(chat)"
      ],
      "metadata": {
        "colab": {
          "base_uri": "https://localhost:8080/"
        },
        "id": "BVmbhld1OFfW",
        "outputId": "831ffa1b-80b8-48fa-8ce7-a1f8b202e745"
      },
      "id": "BVmbhld1OFfW",
      "execution_count": null,
      "outputs": [
        {
          "output_type": "execute_result",
          "data": {
            "text/plain": [
              "{'message_id': '333e49e0-ec2e-4091-9ead-debad8daf6e3',\n",
              " 'timestamp': 1665360629705000,\n",
              " 'time_in_seconds': 1.005,\n",
              " 'author': {'display_name': 'irocki',\n",
              "  'id': '594447720',\n",
              "  'name': 'irocki',\n",
              "  'type': 'user',\n",
              "  'bio': None,\n",
              "  'created_at': 1602378852556209,\n",
              "  'images': [{'url': 'https://static-cdn.jtvnw.net/jtv_user_pictures/bab962cc-3fc7-4a18-b746-e17545a61128-profile_image-300x300.png',\n",
              "    'width': 300,\n",
              "    'height': 300,\n",
              "    'id': '300x300'},\n",
              "   {'url': 'https://static-cdn.jtvnw.net/jtv_user_pictures/bab962cc-3fc7-4a18-b746-e17545a61128-profile_image-70x70.png',\n",
              "    'width': 70,\n",
              "    'height': 70,\n",
              "    'id': '70x70'}],\n",
              "  'badges': [{'name': 'subscriber',\n",
              "    'version': 3,\n",
              "    'title': '3-Month Subscriber',\n",
              "    'description': '3-Month Subscriber',\n",
              "    'click_action': 'subscribe_to_channel',\n",
              "    'click_url': '',\n",
              "    'icons': [{'url': 'https://static-cdn.jtvnw.net/badges/v1/92ebb970-6200-48ab-a96a-8add2d4a4e8d/1',\n",
              "      'width': 18,\n",
              "      'height': 18,\n",
              "      'id': '18x18'},\n",
              "     {'url': 'https://static-cdn.jtvnw.net/badges/v1/92ebb970-6200-48ab-a96a-8add2d4a4e8d/2',\n",
              "      'width': 36,\n",
              "      'height': 36,\n",
              "      'id': '36x36'},\n",
              "     {'url': 'https://static-cdn.jtvnw.net/badges/v1/92ebb970-6200-48ab-a96a-8add2d4a4e8d/3',\n",
              "      'width': 72,\n",
              "      'height': 72,\n",
              "      'id': '72x72'}],\n",
              "    'id': '92ebb970-6200-48ab-a96a-8add2d4a4e8d'},\n",
              "   {'name': 'sub_gifter',\n",
              "    'version': 100,\n",
              "    'title': '100 Gift Subs',\n",
              "    'description': 'Has gifted a subscription to another viewer in this community',\n",
              "    'click_action': 'none',\n",
              "    'click_url': '',\n",
              "    'icons': [{'url': 'https://static-cdn.jtvnw.net/badges/v1/8343ada7-3451-434e-91c4-e82bdcf54460/1',\n",
              "      'width': 18,\n",
              "      'height': 18,\n",
              "      'id': '18x18'},\n",
              "     {'url': 'https://static-cdn.jtvnw.net/badges/v1/8343ada7-3451-434e-91c4-e82bdcf54460/2',\n",
              "      'width': 36,\n",
              "      'height': 36,\n",
              "      'id': '36x36'},\n",
              "     {'url': 'https://static-cdn.jtvnw.net/badges/v1/8343ada7-3451-434e-91c4-e82bdcf54460/3',\n",
              "      'width': 72,\n",
              "      'height': 72,\n",
              "      'id': '72x72'}],\n",
              "    'id': '8343ada7-3451-434e-91c4-e82bdcf54460'}],\n",
              "  'colour': '#00FF7F'},\n",
              " 'source': 'chat',\n",
              " 'state': 'published',\n",
              " 'message': 'kaicENAT kaicENAT kaicENAT kaicENAT kaicENAT kaicENAT kaicENAT kaicENAT kaicENAT kaicENAT kaicENAT',\n",
              " 'emotes': [{'id': '305943346',\n",
              "   'images': [{'url': 'https://static-cdn.jtvnw.net/emoticons/v2/305943346/default/light/1.0',\n",
              "     'width': 28,\n",
              "     'height': 28,\n",
              "     'id': '28x28-light'},\n",
              "    {'url': 'https://static-cdn.jtvnw.net/emoticons/v2/305943346/default/light/2.0',\n",
              "     'width': 56,\n",
              "     'height': 56,\n",
              "     'id': '56x56-light'},\n",
              "    {'url': 'https://static-cdn.jtvnw.net/emoticons/v2/305943346/default/light/3.0',\n",
              "     'width': 112,\n",
              "     'height': 112,\n",
              "     'id': '112x112-light'},\n",
              "    {'url': 'https://static-cdn.jtvnw.net/emoticons/v2/305943346/default/dark/1.0',\n",
              "     'width': 28,\n",
              "     'height': 28,\n",
              "     'id': '28x28-dark'},\n",
              "    {'url': 'https://static-cdn.jtvnw.net/emoticons/v2/305943346/default/dark/2.0',\n",
              "     'width': 56,\n",
              "     'height': 56,\n",
              "     'id': '56x56-dark'},\n",
              "    {'url': 'https://static-cdn.jtvnw.net/emoticons/v2/305943346/default/dark/3.0',\n",
              "     'width': 112,\n",
              "     'height': 112,\n",
              "     'id': '112x112-dark'}],\n",
              "   'name': 'kaicENAT',\n",
              "   'locations': '0-7,9-16,18-25,27-34,36-43,45-52,54-61,63-70,72-79,81-88,90-97'}],\n",
              " 'time_text': '0:01',\n",
              " 'message_type': 'text_message'}"
            ]
          },
          "metadata": {},
          "execution_count": 90
        }
      ]
    },
    {
      "cell_type": "code",
      "execution_count": null,
      "metadata": {
        "id": "7StL-PHd_RYl"
      },
      "outputs": [],
      "source": [
        "## Now what do we want to put in a dataframe? \n",
        "url = video_df['url'][0]\n",
        "chat = ChatDownloader().get_chat(url)   \n",
        "\n",
        "timestamp = []\n",
        "time_in_seconds = []\n",
        "messages = []\n",
        "author_display_name = []\n",
        "# author_id = []\n",
        "## Let's hold off the badges and emotes. Those are multi-levels. But they'll be super helpful!!\n",
        "\n",
        "import itertools\n",
        "\n",
        "top5 = itertools.islice(chat, 5)\n",
        "\n",
        "for message in top5:                        # iterate over messages\n",
        "    timestamp.append(message['timestamp'])\n",
        "    time_in_seconds.append(message['time_in_seconds'])\n",
        "    messages.append(message['message'])\n",
        "    author_display_name.append(message['author']['display_name'])\n",
        "    ## better way to flatten. \n",
        "    ## can be zipped to a function"
      ],
      "id": "7StL-PHd_RYl"
    },
    {
      "cell_type": "code",
      "source": [
        "chat_df = pd.DataFrame(list(zip(timestamp,time_in_seconds,messages,author_display_name)),\n",
        "                       columns = ['timestamp','time_in_seconds','messages','author_display_name'])"
      ],
      "metadata": {
        "id": "4AZyMbSpRAyn"
      },
      "id": "4AZyMbSpRAyn",
      "execution_count": null,
      "outputs": []
    },
    {
      "cell_type": "code",
      "source": [
        "chat_df.head()\n",
        "## There're emotes! "
      ],
      "metadata": {
        "colab": {
          "base_uri": "https://localhost:8080/",
          "height": 206
        },
        "id": "I5nsM7sWSPtt",
        "outputId": "35c4bac1-d146-4151-ccb5-fbf7f6462073"
      },
      "id": "I5nsM7sWSPtt",
      "execution_count": null,
      "outputs": [
        {
          "output_type": "execute_result",
          "data": {
            "text/plain": [
              "          timestamp  time_in_seconds  \\\n",
              "0  1665360629212000            0.512   \n",
              "1  1665360629492000            0.792   \n",
              "2  1665360629705000            1.005   \n",
              "3  1665360629820000            1.120   \n",
              "4  1665360629829000            1.129   \n",
              "\n",
              "                                            messages author_display_name  \n",
              "0                                             🔥🔥🔥🔥🔥🔥           jaytwinem  \n",
              "1                                             WWWWWW           MimiGutta  \n",
              "2  kaicENAT kaicENAT kaicENAT kaicENAT kaicENAT k...              irocki  \n",
              "3                                                 WW          Exstaticss  \n",
              "4                                          WYAT STFU        JordanFeelss  "
            ],
            "text/html": [
              "\n",
              "  <div id=\"df-506aa72d-b3be-49dd-b9e5-7178fdab38f8\">\n",
              "    <div class=\"colab-df-container\">\n",
              "      <div>\n",
              "<style scoped>\n",
              "    .dataframe tbody tr th:only-of-type {\n",
              "        vertical-align: middle;\n",
              "    }\n",
              "\n",
              "    .dataframe tbody tr th {\n",
              "        vertical-align: top;\n",
              "    }\n",
              "\n",
              "    .dataframe thead th {\n",
              "        text-align: right;\n",
              "    }\n",
              "</style>\n",
              "<table border=\"1\" class=\"dataframe\">\n",
              "  <thead>\n",
              "    <tr style=\"text-align: right;\">\n",
              "      <th></th>\n",
              "      <th>timestamp</th>\n",
              "      <th>time_in_seconds</th>\n",
              "      <th>messages</th>\n",
              "      <th>author_display_name</th>\n",
              "    </tr>\n",
              "  </thead>\n",
              "  <tbody>\n",
              "    <tr>\n",
              "      <th>0</th>\n",
              "      <td>1665360629212000</td>\n",
              "      <td>0.512</td>\n",
              "      <td>🔥🔥🔥🔥🔥🔥</td>\n",
              "      <td>jaytwinem</td>\n",
              "    </tr>\n",
              "    <tr>\n",
              "      <th>1</th>\n",
              "      <td>1665360629492000</td>\n",
              "      <td>0.792</td>\n",
              "      <td>WWWWWW</td>\n",
              "      <td>MimiGutta</td>\n",
              "    </tr>\n",
              "    <tr>\n",
              "      <th>2</th>\n",
              "      <td>1665360629705000</td>\n",
              "      <td>1.005</td>\n",
              "      <td>kaicENAT kaicENAT kaicENAT kaicENAT kaicENAT k...</td>\n",
              "      <td>irocki</td>\n",
              "    </tr>\n",
              "    <tr>\n",
              "      <th>3</th>\n",
              "      <td>1665360629820000</td>\n",
              "      <td>1.120</td>\n",
              "      <td>WW</td>\n",
              "      <td>Exstaticss</td>\n",
              "    </tr>\n",
              "    <tr>\n",
              "      <th>4</th>\n",
              "      <td>1665360629829000</td>\n",
              "      <td>1.129</td>\n",
              "      <td>WYAT STFU</td>\n",
              "      <td>JordanFeelss</td>\n",
              "    </tr>\n",
              "  </tbody>\n",
              "</table>\n",
              "</div>\n",
              "      <button class=\"colab-df-convert\" onclick=\"convertToInteractive('df-506aa72d-b3be-49dd-b9e5-7178fdab38f8')\"\n",
              "              title=\"Convert this dataframe to an interactive table.\"\n",
              "              style=\"display:none;\">\n",
              "        \n",
              "  <svg xmlns=\"http://www.w3.org/2000/svg\" height=\"24px\"viewBox=\"0 0 24 24\"\n",
              "       width=\"24px\">\n",
              "    <path d=\"M0 0h24v24H0V0z\" fill=\"none\"/>\n",
              "    <path d=\"M18.56 5.44l.94 2.06.94-2.06 2.06-.94-2.06-.94-.94-2.06-.94 2.06-2.06.94zm-11 1L8.5 8.5l.94-2.06 2.06-.94-2.06-.94L8.5 2.5l-.94 2.06-2.06.94zm10 10l.94 2.06.94-2.06 2.06-.94-2.06-.94-.94-2.06-.94 2.06-2.06.94z\"/><path d=\"M17.41 7.96l-1.37-1.37c-.4-.4-.92-.59-1.43-.59-.52 0-1.04.2-1.43.59L10.3 9.45l-7.72 7.72c-.78.78-.78 2.05 0 2.83L4 21.41c.39.39.9.59 1.41.59.51 0 1.02-.2 1.41-.59l7.78-7.78 2.81-2.81c.8-.78.8-2.07 0-2.86zM5.41 20L4 18.59l7.72-7.72 1.47 1.35L5.41 20z\"/>\n",
              "  </svg>\n",
              "      </button>\n",
              "      \n",
              "  <style>\n",
              "    .colab-df-container {\n",
              "      display:flex;\n",
              "      flex-wrap:wrap;\n",
              "      gap: 12px;\n",
              "    }\n",
              "\n",
              "    .colab-df-convert {\n",
              "      background-color: #E8F0FE;\n",
              "      border: none;\n",
              "      border-radius: 50%;\n",
              "      cursor: pointer;\n",
              "      display: none;\n",
              "      fill: #1967D2;\n",
              "      height: 32px;\n",
              "      padding: 0 0 0 0;\n",
              "      width: 32px;\n",
              "    }\n",
              "\n",
              "    .colab-df-convert:hover {\n",
              "      background-color: #E2EBFA;\n",
              "      box-shadow: 0px 1px 2px rgba(60, 64, 67, 0.3), 0px 1px 3px 1px rgba(60, 64, 67, 0.15);\n",
              "      fill: #174EA6;\n",
              "    }\n",
              "\n",
              "    [theme=dark] .colab-df-convert {\n",
              "      background-color: #3B4455;\n",
              "      fill: #D2E3FC;\n",
              "    }\n",
              "\n",
              "    [theme=dark] .colab-df-convert:hover {\n",
              "      background-color: #434B5C;\n",
              "      box-shadow: 0px 1px 3px 1px rgba(0, 0, 0, 0.15);\n",
              "      filter: drop-shadow(0px 1px 2px rgba(0, 0, 0, 0.3));\n",
              "      fill: #FFFFFF;\n",
              "    }\n",
              "  </style>\n",
              "\n",
              "      <script>\n",
              "        const buttonEl =\n",
              "          document.querySelector('#df-506aa72d-b3be-49dd-b9e5-7178fdab38f8 button.colab-df-convert');\n",
              "        buttonEl.style.display =\n",
              "          google.colab.kernel.accessAllowed ? 'block' : 'none';\n",
              "\n",
              "        async function convertToInteractive(key) {\n",
              "          const element = document.querySelector('#df-506aa72d-b3be-49dd-b9e5-7178fdab38f8');\n",
              "          const dataTable =\n",
              "            await google.colab.kernel.invokeFunction('convertToInteractive',\n",
              "                                                     [key], {});\n",
              "          if (!dataTable) return;\n",
              "\n",
              "          const docLinkHtml = 'Like what you see? Visit the ' +\n",
              "            '<a target=\"_blank\" href=https://colab.research.google.com/notebooks/data_table.ipynb>data table notebook</a>'\n",
              "            + ' to learn more about interactive tables.';\n",
              "          element.innerHTML = '';\n",
              "          dataTable['output_type'] = 'display_data';\n",
              "          await google.colab.output.renderOutput(dataTable, element);\n",
              "          const docLink = document.createElement('div');\n",
              "          docLink.innerHTML = docLinkHtml;\n",
              "          element.appendChild(docLink);\n",
              "        }\n",
              "      </script>\n",
              "    </div>\n",
              "  </div>\n",
              "  "
            ]
          },
          "metadata": {},
          "execution_count": 105
        }
      ]
    },
    {
      "cell_type": "code",
      "source": [
        "#for message in chat:                        # iterate over messages. It's not json!! It's j\n",
        "#    print(json.dumps(message, indent = 4, sort_keys=True))"
      ],
      "metadata": {
        "id": "Jy9boyksL9Pr"
      },
      "id": "Jy9boyksL9Pr",
      "execution_count": null,
      "outputs": []
    },
    {
      "cell_type": "markdown",
      "metadata": {
        "id": "a42f4a27"
      },
      "source": [
        "Parse"
      ],
      "id": "a42f4a27"
    },
    {
      "cell_type": "code",
      "execution_count": null,
      "metadata": {
        "id": "ef9bc0c0"
      },
      "outputs": [],
      "source": [
        "# No need for this anymore.\n",
        "## parse chat file\n",
        "def get_chat_dataframe(file):\n",
        "    data = []\n",
        "    with open(file, 'r', encoding='utf-8') as f:\n",
        "        lines = f.read().split('\\n')\n",
        "        for line in lines:\n",
        "            #print(line)\n",
        "            \n",
        "            time_logged = line.split('UTC')[0][1:].strip()\n",
        "            #time_logged = datetime.strptime(time_logged,'%Y-%m-%d-%H:%M:%S')\n",
        "            #print(time_logged)\n",
        "            \n",
        "            username_message = line.split(']')[1:]\n",
        "            username_message = '—'.join(username_message).strip()\n",
        "            #print(username_message)\n",
        "            try:\n",
        "                temp = username_message.split(\":\")\n",
        "                username = temp[0]\n",
        "                message = temp[1]\n",
        "            except IndexError:\n",
        "                username = temp[0]\n",
        "                message = '-'\n",
        "            #print(username)\n",
        "            #print(message)\n",
        "            \n",
        "            d = {'dt': time_logged,\n",
        "                 'username': username,\n",
        "                 'message': message\n",
        "                    }\n",
        "            data.append(d)\n",
        "            \n",
        "    return pd.DataFrame().from_records(data)"
      ],
      "id": "ef9bc0c0"
    },
    {
      "cell_type": "code",
      "execution_count": null,
      "metadata": {
        "id": "fe224a3e"
      },
      "outputs": [],
      "source": [
        "## This is an example\n",
        "chat_df = get_chat_dataframe('[1-21-22] Mongraal - Winning Duo Cash Cup With FaZe BL GUILD Flikk (Webcam Mic) - Chat.txt')\n",
        "\n",
        "chat_df.head()"
      ],
      "id": "fe224a3e"
    },
    {
      "cell_type": "markdown",
      "metadata": {
        "id": "ef319d89"
      },
      "source": [
        "Cleaning and preprocessing"
      ],
      "id": "ef319d89"
    },
    {
      "cell_type": "code",
      "source": [
        "!pip install texthero"
      ],
      "metadata": {
        "id": "PxrRTN2xTNyS"
      },
      "id": "PxrRTN2xTNyS",
      "execution_count": null,
      "outputs": []
    },
    {
      "cell_type": "code",
      "execution_count": null,
      "metadata": {
        "id": "627535d8",
        "colab": {
          "base_uri": "https://localhost:8080/",
          "height": 405
        },
        "outputId": "52314243-5c4c-4e36-8b7d-885e260467a6"
      },
      "outputs": [
        {
          "output_type": "error",
          "ename": "KeyError",
          "evalue": "ignored",
          "traceback": [
            "\u001b[0;31m---------------------------------------------------------------------------\u001b[0m",
            "\u001b[0;31mKeyError\u001b[0m                                  Traceback (most recent call last)",
            "\u001b[0;32m<ipython-input-112-c8dbbc80fc4a>\u001b[0m in \u001b[0;36m<module>\u001b[0;34m\u001b[0m\n\u001b[1;32m      1\u001b[0m \u001b[0;31m## cleaning\u001b[0m\u001b[0;34m\u001b[0m\u001b[0;34m\u001b[0m\u001b[0;34m\u001b[0m\u001b[0m\n\u001b[0;32m----> 2\u001b[0;31m \u001b[0;32mimport\u001b[0m \u001b[0mtexthero\u001b[0m \u001b[0;32mas\u001b[0m \u001b[0mhero\u001b[0m\u001b[0;34m\u001b[0m\u001b[0;34m\u001b[0m\u001b[0m\n\u001b[0m\u001b[1;32m      3\u001b[0m \u001b[0;32mfrom\u001b[0m \u001b[0mtexthero\u001b[0m \u001b[0;32mimport\u001b[0m \u001b[0mpreprocessing\u001b[0m\u001b[0;34m\u001b[0m\u001b[0;34m\u001b[0m\u001b[0m\n",
            "\u001b[0;32m/usr/local/lib/python3.7/dist-packages/texthero/__init__.py\u001b[0m in \u001b[0;36m<module>\u001b[0;34m\u001b[0m\n\u001b[1;32m     16\u001b[0m \u001b[0;32mfrom\u001b[0m \u001b[0;34m.\u001b[0m\u001b[0mnlp\u001b[0m \u001b[0;32mimport\u001b[0m \u001b[0;34m*\u001b[0m\u001b[0;34m\u001b[0m\u001b[0;34m\u001b[0m\u001b[0m\n\u001b[1;32m     17\u001b[0m \u001b[0;34m\u001b[0m\u001b[0m\n\u001b[0;32m---> 18\u001b[0;31m \u001b[0;32mfrom\u001b[0m \u001b[0;34m.\u001b[0m \u001b[0;32mimport\u001b[0m \u001b[0mstopwords\u001b[0m\u001b[0;34m\u001b[0m\u001b[0;34m\u001b[0m\u001b[0m\n\u001b[0m",
            "\u001b[0;32m/usr/local/lib/python3.7/dist-packages/texthero/stopwords.py\u001b[0m in \u001b[0;36m<module>\u001b[0;34m\u001b[0m\n\u001b[1;32m     12\u001b[0m \u001b[0;32mtry\u001b[0m\u001b[0;34m:\u001b[0m\u001b[0;34m\u001b[0m\u001b[0;34m\u001b[0m\u001b[0m\n\u001b[1;32m     13\u001b[0m     \u001b[0;31m# If not present, download 'en_core_web_sm'\u001b[0m\u001b[0;34m\u001b[0m\u001b[0;34m\u001b[0m\u001b[0;34m\u001b[0m\u001b[0m\n\u001b[0;32m---> 14\u001b[0;31m     \u001b[0mspacy_model\u001b[0m \u001b[0;34m=\u001b[0m \u001b[0mspacy\u001b[0m\u001b[0;34m.\u001b[0m\u001b[0mload\u001b[0m\u001b[0;34m(\u001b[0m\u001b[0;34m\"en_core_web_sm\"\u001b[0m\u001b[0;34m)\u001b[0m\u001b[0;34m\u001b[0m\u001b[0;34m\u001b[0m\u001b[0m\n\u001b[0m\u001b[1;32m     15\u001b[0m \u001b[0;32mexcept\u001b[0m \u001b[0mOSError\u001b[0m\u001b[0;34m:\u001b[0m\u001b[0;34m\u001b[0m\u001b[0;34m\u001b[0m\u001b[0m\n\u001b[1;32m     16\u001b[0m     \u001b[0;32mfrom\u001b[0m \u001b[0mspacy\u001b[0m\u001b[0;34m.\u001b[0m\u001b[0mcli\u001b[0m\u001b[0;34m.\u001b[0m\u001b[0mdownload\u001b[0m \u001b[0;32mimport\u001b[0m \u001b[0mdownload\u001b[0m \u001b[0;32mas\u001b[0m \u001b[0mspacy_download\u001b[0m\u001b[0;34m\u001b[0m\u001b[0;34m\u001b[0m\u001b[0m\n",
            "\u001b[0;32m/usr/local/lib/python3.7/dist-packages/spacy/__init__.py\u001b[0m in \u001b[0;36mload\u001b[0;34m(name, **overrides)\u001b[0m\n\u001b[1;32m     28\u001b[0m     \u001b[0;32mif\u001b[0m \u001b[0mdepr_path\u001b[0m \u001b[0;32mnot\u001b[0m \u001b[0;32min\u001b[0m \u001b[0;34m(\u001b[0m\u001b[0;32mTrue\u001b[0m\u001b[0;34m,\u001b[0m \u001b[0;32mFalse\u001b[0m\u001b[0;34m,\u001b[0m \u001b[0;32mNone\u001b[0m\u001b[0;34m)\u001b[0m\u001b[0;34m:\u001b[0m\u001b[0;34m\u001b[0m\u001b[0;34m\u001b[0m\u001b[0m\n\u001b[1;32m     29\u001b[0m         \u001b[0mwarnings\u001b[0m\u001b[0;34m.\u001b[0m\u001b[0mwarn\u001b[0m\u001b[0;34m(\u001b[0m\u001b[0mWarnings\u001b[0m\u001b[0;34m.\u001b[0m\u001b[0mW001\u001b[0m\u001b[0;34m.\u001b[0m\u001b[0mformat\u001b[0m\u001b[0;34m(\u001b[0m\u001b[0mpath\u001b[0m\u001b[0;34m=\u001b[0m\u001b[0mdepr_path\u001b[0m\u001b[0;34m)\u001b[0m\u001b[0;34m,\u001b[0m \u001b[0mDeprecationWarning\u001b[0m\u001b[0;34m)\u001b[0m\u001b[0;34m\u001b[0m\u001b[0;34m\u001b[0m\u001b[0m\n\u001b[0;32m---> 30\u001b[0;31m     \u001b[0;32mreturn\u001b[0m \u001b[0mutil\u001b[0m\u001b[0;34m.\u001b[0m\u001b[0mload_model\u001b[0m\u001b[0;34m(\u001b[0m\u001b[0mname\u001b[0m\u001b[0;34m,\u001b[0m \u001b[0;34m**\u001b[0m\u001b[0moverrides\u001b[0m\u001b[0;34m)\u001b[0m\u001b[0;34m\u001b[0m\u001b[0;34m\u001b[0m\u001b[0m\n\u001b[0m\u001b[1;32m     31\u001b[0m \u001b[0;34m\u001b[0m\u001b[0m\n\u001b[1;32m     32\u001b[0m \u001b[0;34m\u001b[0m\u001b[0m\n",
            "\u001b[0;32m/usr/local/lib/python3.7/dist-packages/spacy/util.py\u001b[0m in \u001b[0;36mload_model\u001b[0;34m(name, **overrides)\u001b[0m\n\u001b[1;32m    168\u001b[0m             \u001b[0;32mreturn\u001b[0m \u001b[0mload_model_from_link\u001b[0m\u001b[0;34m(\u001b[0m\u001b[0mname\u001b[0m\u001b[0;34m,\u001b[0m \u001b[0;34m**\u001b[0m\u001b[0moverrides\u001b[0m\u001b[0;34m)\u001b[0m\u001b[0;34m\u001b[0m\u001b[0;34m\u001b[0m\u001b[0m\n\u001b[1;32m    169\u001b[0m         \u001b[0;32mif\u001b[0m \u001b[0mis_package\u001b[0m\u001b[0;34m(\u001b[0m\u001b[0mname\u001b[0m\u001b[0;34m)\u001b[0m\u001b[0;34m:\u001b[0m  \u001b[0;31m# installed as package\u001b[0m\u001b[0;34m\u001b[0m\u001b[0;34m\u001b[0m\u001b[0m\n\u001b[0;32m--> 170\u001b[0;31m             \u001b[0;32mreturn\u001b[0m \u001b[0mload_model_from_package\u001b[0m\u001b[0;34m(\u001b[0m\u001b[0mname\u001b[0m\u001b[0;34m,\u001b[0m \u001b[0;34m**\u001b[0m\u001b[0moverrides\u001b[0m\u001b[0;34m)\u001b[0m\u001b[0;34m\u001b[0m\u001b[0;34m\u001b[0m\u001b[0m\n\u001b[0m\u001b[1;32m    171\u001b[0m         \u001b[0;32mif\u001b[0m \u001b[0mPath\u001b[0m\u001b[0;34m(\u001b[0m\u001b[0mname\u001b[0m\u001b[0;34m)\u001b[0m\u001b[0;34m.\u001b[0m\u001b[0mexists\u001b[0m\u001b[0;34m(\u001b[0m\u001b[0;34m)\u001b[0m\u001b[0;34m:\u001b[0m  \u001b[0;31m# path to model data directory\u001b[0m\u001b[0;34m\u001b[0m\u001b[0;34m\u001b[0m\u001b[0m\n\u001b[1;32m    172\u001b[0m             \u001b[0;32mreturn\u001b[0m \u001b[0mload_model_from_path\u001b[0m\u001b[0;34m(\u001b[0m\u001b[0mPath\u001b[0m\u001b[0;34m(\u001b[0m\u001b[0mname\u001b[0m\u001b[0;34m)\u001b[0m\u001b[0;34m,\u001b[0m \u001b[0;34m**\u001b[0m\u001b[0moverrides\u001b[0m\u001b[0;34m)\u001b[0m\u001b[0;34m\u001b[0m\u001b[0;34m\u001b[0m\u001b[0m\n",
            "\u001b[0;32m/usr/local/lib/python3.7/dist-packages/spacy/util.py\u001b[0m in \u001b[0;36mload_model_from_package\u001b[0;34m(name, **overrides)\u001b[0m\n\u001b[1;32m    189\u001b[0m     \u001b[0;34m\"\"\"Load a model from an installed package.\"\"\"\u001b[0m\u001b[0;34m\u001b[0m\u001b[0;34m\u001b[0m\u001b[0m\n\u001b[1;32m    190\u001b[0m     \u001b[0mcls\u001b[0m \u001b[0;34m=\u001b[0m \u001b[0mimportlib\u001b[0m\u001b[0;34m.\u001b[0m\u001b[0mimport_module\u001b[0m\u001b[0;34m(\u001b[0m\u001b[0mname\u001b[0m\u001b[0;34m)\u001b[0m\u001b[0;34m\u001b[0m\u001b[0;34m\u001b[0m\u001b[0m\n\u001b[0;32m--> 191\u001b[0;31m     \u001b[0;32mreturn\u001b[0m \u001b[0mcls\u001b[0m\u001b[0;34m.\u001b[0m\u001b[0mload\u001b[0m\u001b[0;34m(\u001b[0m\u001b[0;34m**\u001b[0m\u001b[0moverrides\u001b[0m\u001b[0;34m)\u001b[0m\u001b[0;34m\u001b[0m\u001b[0;34m\u001b[0m\u001b[0m\n\u001b[0m\u001b[1;32m    192\u001b[0m \u001b[0;34m\u001b[0m\u001b[0m\n\u001b[1;32m    193\u001b[0m \u001b[0;34m\u001b[0m\u001b[0m\n",
            "\u001b[0;32m/usr/local/lib/python3.7/dist-packages/en_core_web_sm/__init__.py\u001b[0m in \u001b[0;36mload\u001b[0;34m(**overrides)\u001b[0m\n\u001b[1;32m      8\u001b[0m \u001b[0;34m\u001b[0m\u001b[0m\n\u001b[1;32m      9\u001b[0m \u001b[0;32mdef\u001b[0m \u001b[0mload\u001b[0m\u001b[0;34m(\u001b[0m\u001b[0;34m**\u001b[0m\u001b[0moverrides\u001b[0m\u001b[0;34m)\u001b[0m\u001b[0;34m:\u001b[0m\u001b[0;34m\u001b[0m\u001b[0;34m\u001b[0m\u001b[0m\n\u001b[0;32m---> 10\u001b[0;31m     \u001b[0;32mreturn\u001b[0m \u001b[0mload_model_from_init_py\u001b[0m\u001b[0;34m(\u001b[0m\u001b[0m__file__\u001b[0m\u001b[0;34m,\u001b[0m \u001b[0;34m**\u001b[0m\u001b[0moverrides\u001b[0m\u001b[0;34m)\u001b[0m\u001b[0;34m\u001b[0m\u001b[0;34m\u001b[0m\u001b[0m\n\u001b[0m",
            "\u001b[0;32m/usr/local/lib/python3.7/dist-packages/spacy/util.py\u001b[0m in \u001b[0;36mload_model_from_init_py\u001b[0;34m(init_file, **overrides)\u001b[0m\n\u001b[1;32m    237\u001b[0m     \u001b[0;32mif\u001b[0m \u001b[0;32mnot\u001b[0m \u001b[0mmodel_path\u001b[0m\u001b[0;34m.\u001b[0m\u001b[0mexists\u001b[0m\u001b[0;34m(\u001b[0m\u001b[0;34m)\u001b[0m\u001b[0;34m:\u001b[0m\u001b[0;34m\u001b[0m\u001b[0;34m\u001b[0m\u001b[0m\n\u001b[1;32m    238\u001b[0m         \u001b[0;32mraise\u001b[0m \u001b[0mIOError\u001b[0m\u001b[0;34m(\u001b[0m\u001b[0mErrors\u001b[0m\u001b[0;34m.\u001b[0m\u001b[0mE052\u001b[0m\u001b[0;34m.\u001b[0m\u001b[0mformat\u001b[0m\u001b[0;34m(\u001b[0m\u001b[0mpath\u001b[0m\u001b[0;34m=\u001b[0m\u001b[0mpath2str\u001b[0m\u001b[0;34m(\u001b[0m\u001b[0mdata_path\u001b[0m\u001b[0;34m)\u001b[0m\u001b[0;34m)\u001b[0m\u001b[0;34m)\u001b[0m\u001b[0;34m\u001b[0m\u001b[0;34m\u001b[0m\u001b[0m\n\u001b[0;32m--> 239\u001b[0;31m     \u001b[0;32mreturn\u001b[0m \u001b[0mload_model_from_path\u001b[0m\u001b[0;34m(\u001b[0m\u001b[0mdata_path\u001b[0m\u001b[0;34m,\u001b[0m \u001b[0mmeta\u001b[0m\u001b[0;34m,\u001b[0m \u001b[0;34m**\u001b[0m\u001b[0moverrides\u001b[0m\u001b[0;34m)\u001b[0m\u001b[0;34m\u001b[0m\u001b[0;34m\u001b[0m\u001b[0m\n\u001b[0m\u001b[1;32m    240\u001b[0m \u001b[0;34m\u001b[0m\u001b[0m\n\u001b[1;32m    241\u001b[0m \u001b[0;34m\u001b[0m\u001b[0m\n",
            "\u001b[0;32m/usr/local/lib/python3.7/dist-packages/spacy/util.py\u001b[0m in \u001b[0;36mload_model_from_path\u001b[0;34m(model_path, meta, **overrides)\u001b[0m\n\u001b[1;32m    218\u001b[0m             \u001b[0mconfig\u001b[0m\u001b[0;34m.\u001b[0m\u001b[0mupdate\u001b[0m\u001b[0;34m(\u001b[0m\u001b[0moverrides\u001b[0m\u001b[0;34m)\u001b[0m\u001b[0;34m\u001b[0m\u001b[0;34m\u001b[0m\u001b[0m\n\u001b[1;32m    219\u001b[0m             \u001b[0mfactory\u001b[0m \u001b[0;34m=\u001b[0m \u001b[0mfactories\u001b[0m\u001b[0;34m.\u001b[0m\u001b[0mget\u001b[0m\u001b[0;34m(\u001b[0m\u001b[0mname\u001b[0m\u001b[0;34m,\u001b[0m \u001b[0mname\u001b[0m\u001b[0;34m)\u001b[0m\u001b[0;34m\u001b[0m\u001b[0;34m\u001b[0m\u001b[0m\n\u001b[0;32m--> 220\u001b[0;31m             \u001b[0mcomponent\u001b[0m \u001b[0;34m=\u001b[0m \u001b[0mnlp\u001b[0m\u001b[0;34m.\u001b[0m\u001b[0mcreate_pipe\u001b[0m\u001b[0;34m(\u001b[0m\u001b[0mfactory\u001b[0m\u001b[0;34m,\u001b[0m \u001b[0mconfig\u001b[0m\u001b[0;34m=\u001b[0m\u001b[0mconfig\u001b[0m\u001b[0;34m)\u001b[0m\u001b[0;34m\u001b[0m\u001b[0;34m\u001b[0m\u001b[0m\n\u001b[0m\u001b[1;32m    221\u001b[0m             \u001b[0mnlp\u001b[0m\u001b[0;34m.\u001b[0m\u001b[0madd_pipe\u001b[0m\u001b[0;34m(\u001b[0m\u001b[0mcomponent\u001b[0m\u001b[0;34m,\u001b[0m \u001b[0mname\u001b[0m\u001b[0;34m=\u001b[0m\u001b[0mname\u001b[0m\u001b[0;34m)\u001b[0m\u001b[0;34m\u001b[0m\u001b[0;34m\u001b[0m\u001b[0m\n\u001b[1;32m    222\u001b[0m     \u001b[0;32mreturn\u001b[0m \u001b[0mnlp\u001b[0m\u001b[0;34m.\u001b[0m\u001b[0mfrom_disk\u001b[0m\u001b[0;34m(\u001b[0m\u001b[0mmodel_path\u001b[0m\u001b[0;34m,\u001b[0m \u001b[0mexclude\u001b[0m\u001b[0;34m=\u001b[0m\u001b[0mdisable\u001b[0m\u001b[0;34m)\u001b[0m\u001b[0;34m\u001b[0m\u001b[0;34m\u001b[0m\u001b[0m\n",
            "\u001b[0;32m/usr/local/lib/python3.7/dist-packages/spacy/language.py\u001b[0m in \u001b[0;36mcreate_pipe\u001b[0;34m(self, name, config)\u001b[0m\n\u001b[1;32m    308\u001b[0m                 \u001b[0;32mraise\u001b[0m \u001b[0mKeyError\u001b[0m\u001b[0;34m(\u001b[0m\u001b[0mErrors\u001b[0m\u001b[0;34m.\u001b[0m\u001b[0mE108\u001b[0m\u001b[0;34m.\u001b[0m\u001b[0mformat\u001b[0m\u001b[0;34m(\u001b[0m\u001b[0mname\u001b[0m\u001b[0;34m=\u001b[0m\u001b[0mname\u001b[0m\u001b[0;34m)\u001b[0m\u001b[0;34m)\u001b[0m\u001b[0;34m\u001b[0m\u001b[0;34m\u001b[0m\u001b[0m\n\u001b[1;32m    309\u001b[0m             \u001b[0;32melse\u001b[0m\u001b[0;34m:\u001b[0m\u001b[0;34m\u001b[0m\u001b[0;34m\u001b[0m\u001b[0m\n\u001b[0;32m--> 310\u001b[0;31m                 \u001b[0;32mraise\u001b[0m \u001b[0mKeyError\u001b[0m\u001b[0;34m(\u001b[0m\u001b[0mErrors\u001b[0m\u001b[0;34m.\u001b[0m\u001b[0mE002\u001b[0m\u001b[0;34m.\u001b[0m\u001b[0mformat\u001b[0m\u001b[0;34m(\u001b[0m\u001b[0mname\u001b[0m\u001b[0;34m=\u001b[0m\u001b[0mname\u001b[0m\u001b[0;34m)\u001b[0m\u001b[0;34m)\u001b[0m\u001b[0;34m\u001b[0m\u001b[0;34m\u001b[0m\u001b[0m\n\u001b[0m\u001b[1;32m    311\u001b[0m         \u001b[0mfactory\u001b[0m \u001b[0;34m=\u001b[0m \u001b[0mself\u001b[0m\u001b[0;34m.\u001b[0m\u001b[0mfactories\u001b[0m\u001b[0;34m[\u001b[0m\u001b[0mname\u001b[0m\u001b[0;34m]\u001b[0m\u001b[0;34m\u001b[0m\u001b[0;34m\u001b[0m\u001b[0m\n\u001b[1;32m    312\u001b[0m         \u001b[0;32mreturn\u001b[0m \u001b[0mfactory\u001b[0m\u001b[0;34m(\u001b[0m\u001b[0mself\u001b[0m\u001b[0;34m,\u001b[0m \u001b[0;34m**\u001b[0m\u001b[0mconfig\u001b[0m\u001b[0;34m)\u001b[0m\u001b[0;34m\u001b[0m\u001b[0;34m\u001b[0m\u001b[0m\n",
            "\u001b[0;31mKeyError\u001b[0m: \"[E002] Can't find factory for 'tok2vec'. This usually happens when spaCy calls `nlp.create_pipe` with a component name that's not built in - for example, when constructing the pipeline from a model's meta.json. If you're using a custom component, you can write to `Language.factories['tok2vec']` or remove it from the model meta and add it via `nlp.add_pipe` instead.\""
          ]
        }
      ],
      "source": [
        "## cleaning\n",
        "import texthero as hero\n",
        "from texthero import preprocessing"
      ],
      "id": "627535d8"
    },
    {
      "cell_type": "code",
      "execution_count": null,
      "metadata": {
        "id": "702bf818",
        "colab": {
          "base_uri": "https://localhost:8080/",
          "height": 239
        },
        "outputId": "9062d13e-7621-44f6-88ec-aec990a93e35"
      },
      "outputs": [
        {
          "output_type": "error",
          "ename": "NameError",
          "evalue": "ignored",
          "traceback": [
            "\u001b[0;31m---------------------------------------------------------------------------\u001b[0m",
            "\u001b[0;31mNameError\u001b[0m                                 Traceback (most recent call last)",
            "\u001b[0;32m<ipython-input-111-3ccbece7e355>\u001b[0m in \u001b[0;36m<module>\u001b[0;34m\u001b[0m\n\u001b[1;32m      1\u001b[0m \u001b[0;31m## customize a pipelifne\u001b[0m\u001b[0;34m\u001b[0m\u001b[0;34m\u001b[0m\u001b[0;34m\u001b[0m\u001b[0m\n\u001b[0;32m----> 2\u001b[0;31m custom_pipeline = [preprocessing.lowercase, \n\u001b[0m\u001b[1;32m      3\u001b[0m                    \u001b[0mpreprocessing\u001b[0m\u001b[0;34m.\u001b[0m\u001b[0mremove_punctuation\u001b[0m\u001b[0;34m,\u001b[0m\u001b[0;34m\u001b[0m\u001b[0;34m\u001b[0m\u001b[0m\n\u001b[1;32m      4\u001b[0m                    preprocessing.remove_urls]\n\u001b[1;32m      5\u001b[0m \u001b[0;34m\u001b[0m\u001b[0m\n",
            "\u001b[0;31mNameError\u001b[0m: name 'preprocessing' is not defined"
          ]
        }
      ],
      "source": [
        "## customize a pipelifne\n",
        "custom_pipeline = [preprocessing.lowercase, \n",
        "                   preprocessing.remove_punctuation,\n",
        "                   preprocessing.remove_urls]\n",
        "\n",
        "chat_df_temp = hero.clean(chat_df['message'])"
      ],
      "id": "702bf818"
    },
    {
      "cell_type": "code",
      "execution_count": null,
      "metadata": {
        "id": "200c7db7"
      },
      "outputs": [],
      "source": [
        "# Custom STOPWORDS removal -- Need to think about this.Could use the cloud as below \n",
        "from texthero import stopwords\n",
        "default_stopwords = stopwords.DEFAULT\n",
        "custom_stopwords = default_stopwords.union(set(['yo','play',\"twitch\",\"make\", \"use\", \"thank\", \"content\", \"good\", \"use\",\n",
        "                                                \"think\", \"need\", \"harrisheller\", \"like\", \"stream\",\n",
        "                                               \"kekw\",\"catjam\",\"tim\",\"timthetatman\",\"tatkevinh\",\n",
        "                                               \"wipz\",\"docspin\",\"pog\",\"tatlove\",\"lol\",\"lul\",\"omegalul\",\n",
        "                                               \"biblethump\",\"clap\",\"tathypers\",\"pepeja\",\"kappa\",\"tattopd\",\"ppsmoke\",\n",
        "                                               \"pepelaugh\",\"gopackgo\",\"gachihyper\",\"tatkevinh\", \"wipz\",\n",
        "                                               \"pausechamp\",\"yep\",\"lmao\",\"jack\",\"lulw\",\"monkaw\",\"kreygasm\",\n",
        "                                               \"pepega\",\"peped\",\"foxsalt\",\"pogchamp\",\"xqcn\",\"get\",\"back\",\n",
        "                                               \"tattuff\",\"tatfat\",\"tatpumpkin\",\"lmao\",\"sadge\",\"sippy\",\n",
        "                                               \"pogu\",\"poggers\",\"consolecd\",\"widepeepohappy\",\"pogu\",\"tategg2\",\n",
        "                                               \"modcheck\",\"timmy\",\"tathmm\",\"tats\",\"got\",\"com\",\"babyrage\",\n",
        "                                               \"xqcp\",\"tatw\",\"pokiw\",\"know\", \"thats\",\"pepocd\",\"tatafk\",\n",
        "                                               \"4weird\",\"tatkkevin\", \"tatblanket\",\"tatglam\",\"tategg1\",\"wutface\",\n",
        "                                               \"blobdance\", \"kapp\",\"tatbruh\",\"kappapride\",\"facebaby\",\"xqc\",\n",
        "                                               \"xqcm\",\"bora\",\"hyperclap\",\"tatlit\",\"5head\",\"gachibass\", \"go\", \"ur\",\n",
        "                                                \"yes\",\"going\",\"would\",\"im\",\"oh\",\"dez\",\"taty\",\"tk\",\"u\",\"sg\", \"dont\",\n",
        "                                                \"hey\",\"hf\",\"look\",\"anita\",\"anitaheart\",\"leeper\",\"anitahey\",\n",
        "                                                \"anitadab\",\"anitadoubt\",\"anitahands\", \"anitalul\",\"anitapog\",\"anitasword\",\n",
        "                                                \"anitaprime\",\"anitafeels\",\"residentsleeper\",\"anitapride\",\"anital\",\n",
        "                                                \"anitabiscuit\", \"thing\",\"widepeeposad\",\"anitahype\",\"among\", \"lesbianpride\",\n",
        "                                                \"heyguys\",\"seemsgood\",\"notlikethis\",\"hi\",\"also\",\"much\",\"yeah\",\n",
        "                                               ])) ## Add as per requirement\n",
        "# data = hero.remove_stopwords(data, default_stopwords)\n",
        "chat_df_clean = hero.remove_stopwords(chat_df_temp, custom_stopwords)"
      ],
      "id": "200c7db7"
    },
    {
      "cell_type": "code",
      "execution_count": null,
      "metadata": {
        "id": "5a76f38a"
      },
      "outputs": [],
      "source": [
        "## visualize with wordcloud\n",
        "hero.visualization.wordcloud(data, font_path = None, width = 400, height = 200, max_words=200, \n",
        "                             mask=None, contour_width=0, \n",
        "                             contour_color='PAPAYAWHIP', background_color='WHITE', \n",
        "                             relative_scaling='auto', colormap=None, return_figure=False)"
      ],
      "id": "5a76f38a"
    },
    {
      "cell_type": "code",
      "execution_count": null,
      "metadata": {
        "id": "e1ed09c8"
      },
      "outputs": [],
      "source": [
        "import gensim\n",
        "\n",
        "# Tokenize\n",
        "def sent_to_words(sentences):\n",
        "    for sentence in sentences:\n",
        "        yield(gensim.utils.simple_preprocess(str(sentence), deacc=True))  # deacc=True removes punctuations\n",
        "\n",
        "data_words = list(sent_to_words(chat_df_clean))\n",
        "\n",
        "print(data_words[:5])"
      ],
      "id": "e1ed09c8"
    },
    {
      "cell_type": "code",
      "execution_count": null,
      "metadata": {
        "id": "42723157"
      },
      "outputs": [],
      "source": [
        "import spacy\n",
        "\n",
        "def lemmatization(texts, allowed_postags=['NOUN', 'ADJ', 'VERB', 'ADV']):\n",
        "    \"\"\"https://spacy.io/api/annotation\"\"\"\n",
        "    texts_out = []\n",
        "    for sent in texts:\n",
        "        doc = nlp(\" \".join(sent)) \n",
        "        texts_out.append(\" \".join([token.lemma_ if token.lemma_ not in ['-PRON-'] else '' for token in doc if token.pos_ in allowed_postags]))\n",
        "    return texts_out\n",
        "\n",
        "# Initialize spacy 'en' model, keeping only tagger component (for efficiency)\n",
        "\n",
        "nlp = spacy.load('en_core_web_sm', disable=['parser', 'ner'])\n",
        "\n",
        "# Do lemmatization keeping only Noun, Adjective, Verb, Adverb\n",
        "data_lemmatized = lemmatization(data_words, allowed_postags=['NOUN', 'ADJ', 'VERB', 'ADV'])\n",
        "\n",
        "print(data_lemmatized[:50])"
      ],
      "id": "42723157"
    },
    {
      "cell_type": "markdown",
      "metadata": {
        "id": "c85ae1b2"
      },
      "source": [
        "LDA"
      ],
      "id": "c85ae1b2"
    },
    {
      "cell_type": "code",
      "execution_count": null,
      "metadata": {
        "id": "25a486e3"
      },
      "outputs": [],
      "source": [
        "# Sklearn\n",
        "from sklearn.decomposition import LatentDirichletAllocation, TruncatedSVD\n",
        "from sklearn.feature_extraction.text import CountVectorizer, TfidfVectorizer\n",
        "from sklearn.model_selection import GridSearchCV\n",
        "from pprint import pprint\n",
        "\n",
        "# Plotting tools\n",
        "# !pip install -U pyLDAvis\n",
        "import pyLDAvis\n",
        "import pyLDAvis.sklearn\n",
        "import matplotlib.pyplot as plt\n",
        "%matplotlib inline"
      ],
      "id": "25a486e3"
    },
    {
      "cell_type": "code",
      "execution_count": null,
      "metadata": {
        "id": "8a876bb7"
      },
      "outputs": [],
      "source": [
        "# Word-Document Matrix\n",
        "# This converts a collection of text documents to a matrix of token counts. \n",
        "# A document-term matrix or term-document matrix is a mathematical matrix that describes the frequency of terms that occur in a collection of documents. \n",
        "# In a document-term matrix, rows correspond to documents in the collection and columns correspond to terms. \n",
        "\n",
        "vectorizer = CountVectorizer(analyzer='word',       \n",
        "                             min_df=10,                        # minimum number occurences of a word required\n",
        "                             stop_words='english',             # remove stop words\n",
        "                             lowercase=True,                   # convert all words to lowercase\n",
        "                             token_pattern='[a-zA-Z0-9]{3,}')  # num of characters > 3\n",
        "                            \n",
        "\n",
        "data_vectorized = vectorizer.fit_transform(data_lemmatized)"
      ],
      "id": "8a876bb7"
    },
    {
      "cell_type": "code",
      "execution_count": null,
      "metadata": {
        "id": "905114c1"
      },
      "outputs": [],
      "source": [
        "# Build LDA model with Sklearn\n",
        "\n",
        "lda_model = LatentDirichletAllocation(n_components=15,               # Number of topics\n",
        "                                      max_iter=10,                   # Max learning iterations\n",
        "                                      learning_method='online',   \n",
        "                                      random_state=100,              # Random state\n",
        "                                      batch_size=128)                # n docs in each learning iter\n",
        "                                            \n",
        "                                      \n",
        "lda_output = lda_model.fit_transform(data_vectorized)\n",
        "\n",
        "print(lda_model)  # Model attributes"
      ],
      "id": "905114c1"
    },
    {
      "cell_type": "code",
      "execution_count": null,
      "metadata": {
        "id": "52d8fa21"
      },
      "outputs": [],
      "source": [
        "#Evaluate model quality\n",
        "\n",
        "# Log Likelihood: Higher the better\n",
        "print(\"Log Likelihood: \", lda_model.score(data_vectorized))\n",
        "\n",
        "# Perplexity: Lower the better. Perplexity = exp((-1) * log-likelihood per word)\n",
        "print(\"Perplexity: \", lda_model.perplexity(data_vectorized))"
      ],
      "id": "52d8fa21"
    },
    {
      "cell_type": "code",
      "execution_count": null,
      "metadata": {
        "id": "c9ca4719"
      },
      "outputs": [],
      "source": [
        "# Grid Search for Best LDA Model\n",
        "# Grid search is a tuning technique that attempts to compute the optimum values of hyperparameters. \n",
        "# It is an exhaustive search that is performed on a the specific parameter values of a model. The model is also known as an estimator.\n",
        "# This is computationally expensive and usually takes time... \n",
        "\n",
        "from sklearn.model_selection import GridSearchCV\n",
        "\n",
        "# Define Search Param\n",
        "params = {'n_components': [5, 10, 15,20], 'learning_decay': [.5, .7, .9]}\n",
        "\n",
        "# Model\n",
        "lda = LatentDirichletAllocation()\n",
        "\n",
        "# Grid Search\n",
        "model = GridSearchCV(lda, param_grid=params)\n",
        "\n",
        "# Perform Grid Search\n",
        "model.fit(data_vectorized)"
      ],
      "id": "c9ca4719"
    },
    {
      "cell_type": "code",
      "execution_count": null,
      "metadata": {
        "id": "31655266"
      },
      "outputs": [],
      "source": [
        "# Best Model\n",
        "best_lda_model = model.best_estimator_\n",
        "\n",
        "# Model Parameters\n",
        "print(\"Best Model's Params: \", model.best_params_)\n",
        "\n",
        "# Log Likelihood Score\n",
        "print(\"Best Log Likelihood Score: \", model.best_score_)\n",
        "\n",
        "# Perplexity\n",
        "print(\"Model Perplexity: \", best_lda_model.perplexity(data_vectorized))"
      ],
      "id": "31655266"
    },
    {
      "cell_type": "code",
      "execution_count": null,
      "metadata": {
        "id": "aeb8524f"
      },
      "outputs": [],
      "source": [
        "# Reflections:\n",
        "# how important and how frequent certain words are in the corpus - what themes/etc. may emerge. \n",
        "# Show top n keywords for each topic\n",
        "\n",
        "def show_topics(vectorizer=vectorizer, lda_model=lda_model, n_words=20):\n",
        "    keywords = np.array(vectorizer.get_feature_names())\n",
        "    topic_keywords = []\n",
        "    for topic_weights in lda_model.components_:\n",
        "        top_keyword_locs = (-topic_weights).argsort()[:n_words]\n",
        "        topic_keywords.append(keywords.take(top_keyword_locs))\n",
        "    return topic_keywords\n",
        "\n",
        "topic_keywords = show_topics(vectorizer=vectorizer, lda_model=lda_model, n_words=10)        \n",
        "\n",
        "# Topic - Keywords Dataframe\n",
        "df_topic_keywords = pd.DataFrame(topic_keywords)\n",
        "df_topic_keywords.columns = ['Word '+str(i) for i in range(df_topic_keywords.shape[1])]\n",
        "df_topic_keywords.index = ['Topic '+str(i) for i in range(df_topic_keywords.shape[0])]\n",
        "df_topic_keywords"
      ],
      "id": "aeb8524f"
    }
  ],
  "metadata": {
    "colab": {
      "provenance": [],
      "collapsed_sections": [],
      "include_colab_link": true
    },
    "kernelspec": {
      "display_name": "Python 3",
      "language": "python",
      "name": "python3"
    },
    "language_info": {
      "codemirror_mode": {
        "name": "ipython",
        "version": 3
      },
      "file_extension": ".py",
      "mimetype": "text/x-python",
      "name": "python",
      "nbconvert_exporter": "python",
      "pygments_lexer": "ipython3",
      "version": "3.8.8"
    }
  },
  "nbformat": 4,
  "nbformat_minor": 5
}