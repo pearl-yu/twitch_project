{
  "nbformat": 4,
  "nbformat_minor": 0,
  "metadata": {
    "colab": {
      "provenance": [],
      "authorship_tag": "ABX9TyNkHfw9DSLyqUSs3GZKdL0N",
      "include_colab_link": true
    },
    "kernelspec": {
      "name": "python3",
      "display_name": "Python 3"
    },
    "language_info": {
      "name": "python"
    }
  },
  "cells": [
    {
      "cell_type": "markdown",
      "metadata": {
        "id": "view-in-github",
        "colab_type": "text"
      },
      "source": [
        "<a href=\"https://colab.research.google.com/github/pearl-yu/twitch_project/blob/main/the_interaction_variable.ipynb\" target=\"_parent\"><img src=\"https://colab.research.google.com/assets/colab-badge.svg\" alt=\"Open In Colab\"/></a>"
      ]
    },
    {
      "cell_type": "markdown",
      "source": [
        "We gotta train a machine learning model to identify streamer action types: If interacting, interaction type. \n",
        "\n",
        "- What variables we want?\n",
        "  - At a session level, interaction levels/proportions to start with. I think it works to just classify each sentence. \n",
        "  - Simple ones: count the number of words. \n",
        "    - Challenge: How to exclude background noise? \n",
        "- We need the labels. \n",
        "  - Just from the videos, classify.\n",
        "  - From the literature? \n",
        "- We need to find a model, fine-tune, then predict. \n",
        "  - What model to choose? Search hugging face.\n",
        "\n",
        "\n",
        "Hence the workflow:\n",
        "- Label a few to get some intuition. \n",
        "- Literature.\n",
        "- Training dataset and labels. \n",
        "  - Remember to classify background noise. \n",
        "\n",
        "- Find the model on hugging face. \n",
        "- Compile the code.\n",
        "- Model evaluation. "
      ],
      "metadata": {
        "id": "ydGSM7g10wik"
      }
    },
    {
      "cell_type": "code",
      "execution_count": null,
      "metadata": {
        "id": "qEhrPTg00qgN"
      },
      "outputs": [],
      "source": []
    }
  ]
}