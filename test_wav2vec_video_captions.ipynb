{
  "nbformat": 4,
  "nbformat_minor": 0,
  "metadata": {
    "colab": {
      "provenance": [],
      "collapsed_sections": [],
      "include_colab_link": true
    },
    "kernelspec": {
      "name": "python3",
      "display_name": "Python 3"
    },
    "language_info": {
      "name": "python"
    },
    "widgets": {
      "application/vnd.jupyter.widget-state+json": {
        "14e62b7076c846d3b5caae6dcdb7aea9": {
          "model_module": "@jupyter-widgets/controls",
          "model_name": "HBoxModel",
          "model_module_version": "1.5.0",
          "state": {
            "_dom_classes": [],
            "_model_module": "@jupyter-widgets/controls",
            "_model_module_version": "1.5.0",
            "_model_name": "HBoxModel",
            "_view_count": null,
            "_view_module": "@jupyter-widgets/controls",
            "_view_module_version": "1.5.0",
            "_view_name": "HBoxView",
            "box_style": "",
            "children": [
              "IPY_MODEL_f9ac84ab47de4709b43039c639e58ea5",
              "IPY_MODEL_33a17bb5ce4347148a8c9957ddfa0ddb",
              "IPY_MODEL_a1b3e69c08b94ec8bc8d3e5b7bee36c5"
            ],
            "layout": "IPY_MODEL_78be96c8b5ab4fed83db62cf6b2939e0"
          }
        },
        "f9ac84ab47de4709b43039c639e58ea5": {
          "model_module": "@jupyter-widgets/controls",
          "model_name": "HTMLModel",
          "model_module_version": "1.5.0",
          "state": {
            "_dom_classes": [],
            "_model_module": "@jupyter-widgets/controls",
            "_model_module_version": "1.5.0",
            "_model_name": "HTMLModel",
            "_view_count": null,
            "_view_module": "@jupyter-widgets/controls",
            "_view_module_version": "1.5.0",
            "_view_name": "HTMLView",
            "description": "",
            "description_tooltip": null,
            "layout": "IPY_MODEL_970d984a34c44f4c90c46e45d636a65f",
            "placeholder": "​",
            "style": "IPY_MODEL_a08c5d2312674da08951b6723c62e469",
            "value": "Downloading: 100%"
          }
        },
        "33a17bb5ce4347148a8c9957ddfa0ddb": {
          "model_module": "@jupyter-widgets/controls",
          "model_name": "FloatProgressModel",
          "model_module_version": "1.5.0",
          "state": {
            "_dom_classes": [],
            "_model_module": "@jupyter-widgets/controls",
            "_model_module_version": "1.5.0",
            "_model_name": "FloatProgressModel",
            "_view_count": null,
            "_view_module": "@jupyter-widgets/controls",
            "_view_module_version": "1.5.0",
            "_view_name": "ProgressView",
            "bar_style": "success",
            "description": "",
            "description_tooltip": null,
            "layout": "IPY_MODEL_bfb55f6c85584a8dab3de8dff9dd658c",
            "max": 291,
            "min": 0,
            "orientation": "horizontal",
            "style": "IPY_MODEL_d107124774e94cbc83606a568f8c0ec7",
            "value": 291
          }
        },
        "a1b3e69c08b94ec8bc8d3e5b7bee36c5": {
          "model_module": "@jupyter-widgets/controls",
          "model_name": "HTMLModel",
          "model_module_version": "1.5.0",
          "state": {
            "_dom_classes": [],
            "_model_module": "@jupyter-widgets/controls",
            "_model_module_version": "1.5.0",
            "_model_name": "HTMLModel",
            "_view_count": null,
            "_view_module": "@jupyter-widgets/controls",
            "_view_module_version": "1.5.0",
            "_view_name": "HTMLView",
            "description": "",
            "description_tooltip": null,
            "layout": "IPY_MODEL_2a0a46776a5941ee8e409a6660e9189f",
            "placeholder": "​",
            "style": "IPY_MODEL_cc7f77cdbf0a4a4bb3ddee35be91d427",
            "value": " 291/291 [00:00&lt;00:00, 4.54kB/s]"
          }
        },
        "78be96c8b5ab4fed83db62cf6b2939e0": {
          "model_module": "@jupyter-widgets/base",
          "model_name": "LayoutModel",
          "model_module_version": "1.2.0",
          "state": {
            "_model_module": "@jupyter-widgets/base",
            "_model_module_version": "1.2.0",
            "_model_name": "LayoutModel",
            "_view_count": null,
            "_view_module": "@jupyter-widgets/base",
            "_view_module_version": "1.2.0",
            "_view_name": "LayoutView",
            "align_content": null,
            "align_items": null,
            "align_self": null,
            "border": null,
            "bottom": null,
            "display": null,
            "flex": null,
            "flex_flow": null,
            "grid_area": null,
            "grid_auto_columns": null,
            "grid_auto_flow": null,
            "grid_auto_rows": null,
            "grid_column": null,
            "grid_gap": null,
            "grid_row": null,
            "grid_template_areas": null,
            "grid_template_columns": null,
            "grid_template_rows": null,
            "height": null,
            "justify_content": null,
            "justify_items": null,
            "left": null,
            "margin": null,
            "max_height": null,
            "max_width": null,
            "min_height": null,
            "min_width": null,
            "object_fit": null,
            "object_position": null,
            "order": null,
            "overflow": null,
            "overflow_x": null,
            "overflow_y": null,
            "padding": null,
            "right": null,
            "top": null,
            "visibility": null,
            "width": null
          }
        },
        "970d984a34c44f4c90c46e45d636a65f": {
          "model_module": "@jupyter-widgets/base",
          "model_name": "LayoutModel",
          "model_module_version": "1.2.0",
          "state": {
            "_model_module": "@jupyter-widgets/base",
            "_model_module_version": "1.2.0",
            "_model_name": "LayoutModel",
            "_view_count": null,
            "_view_module": "@jupyter-widgets/base",
            "_view_module_version": "1.2.0",
            "_view_name": "LayoutView",
            "align_content": null,
            "align_items": null,
            "align_self": null,
            "border": null,
            "bottom": null,
            "display": null,
            "flex": null,
            "flex_flow": null,
            "grid_area": null,
            "grid_auto_columns": null,
            "grid_auto_flow": null,
            "grid_auto_rows": null,
            "grid_column": null,
            "grid_gap": null,
            "grid_row": null,
            "grid_template_areas": null,
            "grid_template_columns": null,
            "grid_template_rows": null,
            "height": null,
            "justify_content": null,
            "justify_items": null,
            "left": null,
            "margin": null,
            "max_height": null,
            "max_width": null,
            "min_height": null,
            "min_width": null,
            "object_fit": null,
            "object_position": null,
            "order": null,
            "overflow": null,
            "overflow_x": null,
            "overflow_y": null,
            "padding": null,
            "right": null,
            "top": null,
            "visibility": null,
            "width": null
          }
        },
        "a08c5d2312674da08951b6723c62e469": {
          "model_module": "@jupyter-widgets/controls",
          "model_name": "DescriptionStyleModel",
          "model_module_version": "1.5.0",
          "state": {
            "_model_module": "@jupyter-widgets/controls",
            "_model_module_version": "1.5.0",
            "_model_name": "DescriptionStyleModel",
            "_view_count": null,
            "_view_module": "@jupyter-widgets/base",
            "_view_module_version": "1.2.0",
            "_view_name": "StyleView",
            "description_width": ""
          }
        },
        "bfb55f6c85584a8dab3de8dff9dd658c": {
          "model_module": "@jupyter-widgets/base",
          "model_name": "LayoutModel",
          "model_module_version": "1.2.0",
          "state": {
            "_model_module": "@jupyter-widgets/base",
            "_model_module_version": "1.2.0",
            "_model_name": "LayoutModel",
            "_view_count": null,
            "_view_module": "@jupyter-widgets/base",
            "_view_module_version": "1.2.0",
            "_view_name": "LayoutView",
            "align_content": null,
            "align_items": null,
            "align_self": null,
            "border": null,
            "bottom": null,
            "display": null,
            "flex": null,
            "flex_flow": null,
            "grid_area": null,
            "grid_auto_columns": null,
            "grid_auto_flow": null,
            "grid_auto_rows": null,
            "grid_column": null,
            "grid_gap": null,
            "grid_row": null,
            "grid_template_areas": null,
            "grid_template_columns": null,
            "grid_template_rows": null,
            "height": null,
            "justify_content": null,
            "justify_items": null,
            "left": null,
            "margin": null,
            "max_height": null,
            "max_width": null,
            "min_height": null,
            "min_width": null,
            "object_fit": null,
            "object_position": null,
            "order": null,
            "overflow": null,
            "overflow_x": null,
            "overflow_y": null,
            "padding": null,
            "right": null,
            "top": null,
            "visibility": null,
            "width": null
          }
        },
        "d107124774e94cbc83606a568f8c0ec7": {
          "model_module": "@jupyter-widgets/controls",
          "model_name": "ProgressStyleModel",
          "model_module_version": "1.5.0",
          "state": {
            "_model_module": "@jupyter-widgets/controls",
            "_model_module_version": "1.5.0",
            "_model_name": "ProgressStyleModel",
            "_view_count": null,
            "_view_module": "@jupyter-widgets/base",
            "_view_module_version": "1.2.0",
            "_view_name": "StyleView",
            "bar_color": null,
            "description_width": ""
          }
        },
        "2a0a46776a5941ee8e409a6660e9189f": {
          "model_module": "@jupyter-widgets/base",
          "model_name": "LayoutModel",
          "model_module_version": "1.2.0",
          "state": {
            "_model_module": "@jupyter-widgets/base",
            "_model_module_version": "1.2.0",
            "_model_name": "LayoutModel",
            "_view_count": null,
            "_view_module": "@jupyter-widgets/base",
            "_view_module_version": "1.2.0",
            "_view_name": "LayoutView",
            "align_content": null,
            "align_items": null,
            "align_self": null,
            "border": null,
            "bottom": null,
            "display": null,
            "flex": null,
            "flex_flow": null,
            "grid_area": null,
            "grid_auto_columns": null,
            "grid_auto_flow": null,
            "grid_auto_rows": null,
            "grid_column": null,
            "grid_gap": null,
            "grid_row": null,
            "grid_template_areas": null,
            "grid_template_columns": null,
            "grid_template_rows": null,
            "height": null,
            "justify_content": null,
            "justify_items": null,
            "left": null,
            "margin": null,
            "max_height": null,
            "max_width": null,
            "min_height": null,
            "min_width": null,
            "object_fit": null,
            "object_position": null,
            "order": null,
            "overflow": null,
            "overflow_x": null,
            "overflow_y": null,
            "padding": null,
            "right": null,
            "top": null,
            "visibility": null,
            "width": null
          }
        },
        "cc7f77cdbf0a4a4bb3ddee35be91d427": {
          "model_module": "@jupyter-widgets/controls",
          "model_name": "DescriptionStyleModel",
          "model_module_version": "1.5.0",
          "state": {
            "_model_module": "@jupyter-widgets/controls",
            "_model_module_version": "1.5.0",
            "_model_name": "DescriptionStyleModel",
            "_view_count": null,
            "_view_module": "@jupyter-widgets/base",
            "_view_module_version": "1.2.0",
            "_view_name": "StyleView",
            "description_width": ""
          }
        },
        "1bf2035da0ea46b0a0e0c0937f43b773": {
          "model_module": "@jupyter-widgets/controls",
          "model_name": "HBoxModel",
          "model_module_version": "1.5.0",
          "state": {
            "_dom_classes": [],
            "_model_module": "@jupyter-widgets/controls",
            "_model_module_version": "1.5.0",
            "_model_name": "HBoxModel",
            "_view_count": null,
            "_view_module": "@jupyter-widgets/controls",
            "_view_module_version": "1.5.0",
            "_view_name": "HBoxView",
            "box_style": "",
            "children": [
              "IPY_MODEL_0d43a6e3dcb74336a4c3ab8717cd68d4",
              "IPY_MODEL_f31cc862b1514aa5b3fdbc6226b5e500",
              "IPY_MODEL_538d0955f21e42eebe6e837a90233239"
            ],
            "layout": "IPY_MODEL_d9c2669dc9c74dfe84af8c9d2de08fd5"
          }
        },
        "0d43a6e3dcb74336a4c3ab8717cd68d4": {
          "model_module": "@jupyter-widgets/controls",
          "model_name": "HTMLModel",
          "model_module_version": "1.5.0",
          "state": {
            "_dom_classes": [],
            "_model_module": "@jupyter-widgets/controls",
            "_model_module_version": "1.5.0",
            "_model_name": "HTMLModel",
            "_view_count": null,
            "_view_module": "@jupyter-widgets/controls",
            "_view_module_version": "1.5.0",
            "_view_name": "HTMLView",
            "description": "",
            "description_tooltip": null,
            "layout": "IPY_MODEL_bcc35daa11d8421891318fd14713e1d5",
            "placeholder": "​",
            "style": "IPY_MODEL_c02a2d034299438296769e68dd75dcc9",
            "value": "Downloading: 100%"
          }
        },
        "f31cc862b1514aa5b3fdbc6226b5e500": {
          "model_module": "@jupyter-widgets/controls",
          "model_name": "FloatProgressModel",
          "model_module_version": "1.5.0",
          "state": {
            "_dom_classes": [],
            "_model_module": "@jupyter-widgets/controls",
            "_model_module_version": "1.5.0",
            "_model_name": "FloatProgressModel",
            "_view_count": null,
            "_view_module": "@jupyter-widgets/controls",
            "_view_module_version": "1.5.0",
            "_view_name": "ProgressView",
            "bar_style": "success",
            "description": "",
            "description_tooltip": null,
            "layout": "IPY_MODEL_4d832a6929d846e78a6957170ac7a8bc",
            "max": 163,
            "min": 0,
            "orientation": "horizontal",
            "style": "IPY_MODEL_e3049013a1534dd9ba95aea9e0585093",
            "value": 163
          }
        },
        "538d0955f21e42eebe6e837a90233239": {
          "model_module": "@jupyter-widgets/controls",
          "model_name": "HTMLModel",
          "model_module_version": "1.5.0",
          "state": {
            "_dom_classes": [],
            "_model_module": "@jupyter-widgets/controls",
            "_model_module_version": "1.5.0",
            "_model_name": "HTMLModel",
            "_view_count": null,
            "_view_module": "@jupyter-widgets/controls",
            "_view_module_version": "1.5.0",
            "_view_name": "HTMLView",
            "description": "",
            "description_tooltip": null,
            "layout": "IPY_MODEL_a4799492e7424e6382ba104ec9e95ff1",
            "placeholder": "​",
            "style": "IPY_MODEL_9f023121b6744129bf5850d7dea8fe6c",
            "value": " 163/163 [00:00&lt;00:00, 4.32kB/s]"
          }
        },
        "d9c2669dc9c74dfe84af8c9d2de08fd5": {
          "model_module": "@jupyter-widgets/base",
          "model_name": "LayoutModel",
          "model_module_version": "1.2.0",
          "state": {
            "_model_module": "@jupyter-widgets/base",
            "_model_module_version": "1.2.0",
            "_model_name": "LayoutModel",
            "_view_count": null,
            "_view_module": "@jupyter-widgets/base",
            "_view_module_version": "1.2.0",
            "_view_name": "LayoutView",
            "align_content": null,
            "align_items": null,
            "align_self": null,
            "border": null,
            "bottom": null,
            "display": null,
            "flex": null,
            "flex_flow": null,
            "grid_area": null,
            "grid_auto_columns": null,
            "grid_auto_flow": null,
            "grid_auto_rows": null,
            "grid_column": null,
            "grid_gap": null,
            "grid_row": null,
            "grid_template_areas": null,
            "grid_template_columns": null,
            "grid_template_rows": null,
            "height": null,
            "justify_content": null,
            "justify_items": null,
            "left": null,
            "margin": null,
            "max_height": null,
            "max_width": null,
            "min_height": null,
            "min_width": null,
            "object_fit": null,
            "object_position": null,
            "order": null,
            "overflow": null,
            "overflow_x": null,
            "overflow_y": null,
            "padding": null,
            "right": null,
            "top": null,
            "visibility": null,
            "width": null
          }
        },
        "bcc35daa11d8421891318fd14713e1d5": {
          "model_module": "@jupyter-widgets/base",
          "model_name": "LayoutModel",
          "model_module_version": "1.2.0",
          "state": {
            "_model_module": "@jupyter-widgets/base",
            "_model_module_version": "1.2.0",
            "_model_name": "LayoutModel",
            "_view_count": null,
            "_view_module": "@jupyter-widgets/base",
            "_view_module_version": "1.2.0",
            "_view_name": "LayoutView",
            "align_content": null,
            "align_items": null,
            "align_self": null,
            "border": null,
            "bottom": null,
            "display": null,
            "flex": null,
            "flex_flow": null,
            "grid_area": null,
            "grid_auto_columns": null,
            "grid_auto_flow": null,
            "grid_auto_rows": null,
            "grid_column": null,
            "grid_gap": null,
            "grid_row": null,
            "grid_template_areas": null,
            "grid_template_columns": null,
            "grid_template_rows": null,
            "height": null,
            "justify_content": null,
            "justify_items": null,
            "left": null,
            "margin": null,
            "max_height": null,
            "max_width": null,
            "min_height": null,
            "min_width": null,
            "object_fit": null,
            "object_position": null,
            "order": null,
            "overflow": null,
            "overflow_x": null,
            "overflow_y": null,
            "padding": null,
            "right": null,
            "top": null,
            "visibility": null,
            "width": null
          }
        },
        "c02a2d034299438296769e68dd75dcc9": {
          "model_module": "@jupyter-widgets/controls",
          "model_name": "DescriptionStyleModel",
          "model_module_version": "1.5.0",
          "state": {
            "_model_module": "@jupyter-widgets/controls",
            "_model_module_version": "1.5.0",
            "_model_name": "DescriptionStyleModel",
            "_view_count": null,
            "_view_module": "@jupyter-widgets/base",
            "_view_module_version": "1.2.0",
            "_view_name": "StyleView",
            "description_width": ""
          }
        },
        "4d832a6929d846e78a6957170ac7a8bc": {
          "model_module": "@jupyter-widgets/base",
          "model_name": "LayoutModel",
          "model_module_version": "1.2.0",
          "state": {
            "_model_module": "@jupyter-widgets/base",
            "_model_module_version": "1.2.0",
            "_model_name": "LayoutModel",
            "_view_count": null,
            "_view_module": "@jupyter-widgets/base",
            "_view_module_version": "1.2.0",
            "_view_name": "LayoutView",
            "align_content": null,
            "align_items": null,
            "align_self": null,
            "border": null,
            "bottom": null,
            "display": null,
            "flex": null,
            "flex_flow": null,
            "grid_area": null,
            "grid_auto_columns": null,
            "grid_auto_flow": null,
            "grid_auto_rows": null,
            "grid_column": null,
            "grid_gap": null,
            "grid_row": null,
            "grid_template_areas": null,
            "grid_template_columns": null,
            "grid_template_rows": null,
            "height": null,
            "justify_content": null,
            "justify_items": null,
            "left": null,
            "margin": null,
            "max_height": null,
            "max_width": null,
            "min_height": null,
            "min_width": null,
            "object_fit": null,
            "object_position": null,
            "order": null,
            "overflow": null,
            "overflow_x": null,
            "overflow_y": null,
            "padding": null,
            "right": null,
            "top": null,
            "visibility": null,
            "width": null
          }
        },
        "e3049013a1534dd9ba95aea9e0585093": {
          "model_module": "@jupyter-widgets/controls",
          "model_name": "ProgressStyleModel",
          "model_module_version": "1.5.0",
          "state": {
            "_model_module": "@jupyter-widgets/controls",
            "_model_module_version": "1.5.0",
            "_model_name": "ProgressStyleModel",
            "_view_count": null,
            "_view_module": "@jupyter-widgets/base",
            "_view_module_version": "1.2.0",
            "_view_name": "StyleView",
            "bar_color": null,
            "description_width": ""
          }
        },
        "a4799492e7424e6382ba104ec9e95ff1": {
          "model_module": "@jupyter-widgets/base",
          "model_name": "LayoutModel",
          "model_module_version": "1.2.0",
          "state": {
            "_model_module": "@jupyter-widgets/base",
            "_model_module_version": "1.2.0",
            "_model_name": "LayoutModel",
            "_view_count": null,
            "_view_module": "@jupyter-widgets/base",
            "_view_module_version": "1.2.0",
            "_view_name": "LayoutView",
            "align_content": null,
            "align_items": null,
            "align_self": null,
            "border": null,
            "bottom": null,
            "display": null,
            "flex": null,
            "flex_flow": null,
            "grid_area": null,
            "grid_auto_columns": null,
            "grid_auto_flow": null,
            "grid_auto_rows": null,
            "grid_column": null,
            "grid_gap": null,
            "grid_row": null,
            "grid_template_areas": null,
            "grid_template_columns": null,
            "grid_template_rows": null,
            "height": null,
            "justify_content": null,
            "justify_items": null,
            "left": null,
            "margin": null,
            "max_height": null,
            "max_width": null,
            "min_height": null,
            "min_width": null,
            "object_fit": null,
            "object_position": null,
            "order": null,
            "overflow": null,
            "overflow_x": null,
            "overflow_y": null,
            "padding": null,
            "right": null,
            "top": null,
            "visibility": null,
            "width": null
          }
        },
        "9f023121b6744129bf5850d7dea8fe6c": {
          "model_module": "@jupyter-widgets/controls",
          "model_name": "DescriptionStyleModel",
          "model_module_version": "1.5.0",
          "state": {
            "_model_module": "@jupyter-widgets/controls",
            "_model_module_version": "1.5.0",
            "_model_name": "DescriptionStyleModel",
            "_view_count": null,
            "_view_module": "@jupyter-widgets/base",
            "_view_module_version": "1.2.0",
            "_view_name": "StyleView",
            "description_width": ""
          }
        },
        "c5179ca947f74479b6507a0c3a9ad6c1": {
          "model_module": "@jupyter-widgets/controls",
          "model_name": "HBoxModel",
          "model_module_version": "1.5.0",
          "state": {
            "_dom_classes": [],
            "_model_module": "@jupyter-widgets/controls",
            "_model_module_version": "1.5.0",
            "_model_name": "HBoxModel",
            "_view_count": null,
            "_view_module": "@jupyter-widgets/controls",
            "_view_module_version": "1.5.0",
            "_view_name": "HBoxView",
            "box_style": "",
            "children": [
              "IPY_MODEL_5d0395e8a9754c5fa3ecb6eaf3ca6698",
              "IPY_MODEL_15d4b375e0cf41e990a5822f23ad01d3",
              "IPY_MODEL_6ecfae6552f94864832a5f040c09a3cc"
            ],
            "layout": "IPY_MODEL_b25ca922134a4860ac2a09b036357bf1"
          }
        },
        "5d0395e8a9754c5fa3ecb6eaf3ca6698": {
          "model_module": "@jupyter-widgets/controls",
          "model_name": "HTMLModel",
          "model_module_version": "1.5.0",
          "state": {
            "_dom_classes": [],
            "_model_module": "@jupyter-widgets/controls",
            "_model_module_version": "1.5.0",
            "_model_name": "HTMLModel",
            "_view_count": null,
            "_view_module": "@jupyter-widgets/controls",
            "_view_module_version": "1.5.0",
            "_view_name": "HTMLView",
            "description": "",
            "description_tooltip": null,
            "layout": "IPY_MODEL_50cd67832492429180377118790266a2",
            "placeholder": "​",
            "style": "IPY_MODEL_4029e8de8e7d4ff9b71c5f0d7d7688cf",
            "value": "Downloading: 100%"
          }
        },
        "15d4b375e0cf41e990a5822f23ad01d3": {
          "model_module": "@jupyter-widgets/controls",
          "model_name": "FloatProgressModel",
          "model_module_version": "1.5.0",
          "state": {
            "_dom_classes": [],
            "_model_module": "@jupyter-widgets/controls",
            "_model_module_version": "1.5.0",
            "_model_name": "FloatProgressModel",
            "_view_count": null,
            "_view_module": "@jupyter-widgets/controls",
            "_view_module_version": "1.5.0",
            "_view_name": "ProgressView",
            "bar_style": "success",
            "description": "",
            "description_tooltip": null,
            "layout": "IPY_MODEL_dc8af105dff246cd83bcef7943cd1236",
            "max": 85,
            "min": 0,
            "orientation": "horizontal",
            "style": "IPY_MODEL_29be9018f34e4ebf9a9e5ef536f3e539",
            "value": 85
          }
        },
        "6ecfae6552f94864832a5f040c09a3cc": {
          "model_module": "@jupyter-widgets/controls",
          "model_name": "HTMLModel",
          "model_module_version": "1.5.0",
          "state": {
            "_dom_classes": [],
            "_model_module": "@jupyter-widgets/controls",
            "_model_module_version": "1.5.0",
            "_model_name": "HTMLModel",
            "_view_count": null,
            "_view_module": "@jupyter-widgets/controls",
            "_view_module_version": "1.5.0",
            "_view_name": "HTMLView",
            "description": "",
            "description_tooltip": null,
            "layout": "IPY_MODEL_e6ebe21989404f5e8dc88a1dbc0fa0ce",
            "placeholder": "​",
            "style": "IPY_MODEL_f112e8a64f3949ae9a0694405caf0bb7",
            "value": " 85.0/85.0 [00:00&lt;00:00, 1.26kB/s]"
          }
        },
        "b25ca922134a4860ac2a09b036357bf1": {
          "model_module": "@jupyter-widgets/base",
          "model_name": "LayoutModel",
          "model_module_version": "1.2.0",
          "state": {
            "_model_module": "@jupyter-widgets/base",
            "_model_module_version": "1.2.0",
            "_model_name": "LayoutModel",
            "_view_count": null,
            "_view_module": "@jupyter-widgets/base",
            "_view_module_version": "1.2.0",
            "_view_name": "LayoutView",
            "align_content": null,
            "align_items": null,
            "align_self": null,
            "border": null,
            "bottom": null,
            "display": null,
            "flex": null,
            "flex_flow": null,
            "grid_area": null,
            "grid_auto_columns": null,
            "grid_auto_flow": null,
            "grid_auto_rows": null,
            "grid_column": null,
            "grid_gap": null,
            "grid_row": null,
            "grid_template_areas": null,
            "grid_template_columns": null,
            "grid_template_rows": null,
            "height": null,
            "justify_content": null,
            "justify_items": null,
            "left": null,
            "margin": null,
            "max_height": null,
            "max_width": null,
            "min_height": null,
            "min_width": null,
            "object_fit": null,
            "object_position": null,
            "order": null,
            "overflow": null,
            "overflow_x": null,
            "overflow_y": null,
            "padding": null,
            "right": null,
            "top": null,
            "visibility": null,
            "width": null
          }
        },
        "50cd67832492429180377118790266a2": {
          "model_module": "@jupyter-widgets/base",
          "model_name": "LayoutModel",
          "model_module_version": "1.2.0",
          "state": {
            "_model_module": "@jupyter-widgets/base",
            "_model_module_version": "1.2.0",
            "_model_name": "LayoutModel",
            "_view_count": null,
            "_view_module": "@jupyter-widgets/base",
            "_view_module_version": "1.2.0",
            "_view_name": "LayoutView",
            "align_content": null,
            "align_items": null,
            "align_self": null,
            "border": null,
            "bottom": null,
            "display": null,
            "flex": null,
            "flex_flow": null,
            "grid_area": null,
            "grid_auto_columns": null,
            "grid_auto_flow": null,
            "grid_auto_rows": null,
            "grid_column": null,
            "grid_gap": null,
            "grid_row": null,
            "grid_template_areas": null,
            "grid_template_columns": null,
            "grid_template_rows": null,
            "height": null,
            "justify_content": null,
            "justify_items": null,
            "left": null,
            "margin": null,
            "max_height": null,
            "max_width": null,
            "min_height": null,
            "min_width": null,
            "object_fit": null,
            "object_position": null,
            "order": null,
            "overflow": null,
            "overflow_x": null,
            "overflow_y": null,
            "padding": null,
            "right": null,
            "top": null,
            "visibility": null,
            "width": null
          }
        },
        "4029e8de8e7d4ff9b71c5f0d7d7688cf": {
          "model_module": "@jupyter-widgets/controls",
          "model_name": "DescriptionStyleModel",
          "model_module_version": "1.5.0",
          "state": {
            "_model_module": "@jupyter-widgets/controls",
            "_model_module_version": "1.5.0",
            "_model_name": "DescriptionStyleModel",
            "_view_count": null,
            "_view_module": "@jupyter-widgets/base",
            "_view_module_version": "1.2.0",
            "_view_name": "StyleView",
            "description_width": ""
          }
        },
        "dc8af105dff246cd83bcef7943cd1236": {
          "model_module": "@jupyter-widgets/base",
          "model_name": "LayoutModel",
          "model_module_version": "1.2.0",
          "state": {
            "_model_module": "@jupyter-widgets/base",
            "_model_module_version": "1.2.0",
            "_model_name": "LayoutModel",
            "_view_count": null,
            "_view_module": "@jupyter-widgets/base",
            "_view_module_version": "1.2.0",
            "_view_name": "LayoutView",
            "align_content": null,
            "align_items": null,
            "align_self": null,
            "border": null,
            "bottom": null,
            "display": null,
            "flex": null,
            "flex_flow": null,
            "grid_area": null,
            "grid_auto_columns": null,
            "grid_auto_flow": null,
            "grid_auto_rows": null,
            "grid_column": null,
            "grid_gap": null,
            "grid_row": null,
            "grid_template_areas": null,
            "grid_template_columns": null,
            "grid_template_rows": null,
            "height": null,
            "justify_content": null,
            "justify_items": null,
            "left": null,
            "margin": null,
            "max_height": null,
            "max_width": null,
            "min_height": null,
            "min_width": null,
            "object_fit": null,
            "object_position": null,
            "order": null,
            "overflow": null,
            "overflow_x": null,
            "overflow_y": null,
            "padding": null,
            "right": null,
            "top": null,
            "visibility": null,
            "width": null
          }
        },
        "29be9018f34e4ebf9a9e5ef536f3e539": {
          "model_module": "@jupyter-widgets/controls",
          "model_name": "ProgressStyleModel",
          "model_module_version": "1.5.0",
          "state": {
            "_model_module": "@jupyter-widgets/controls",
            "_model_module_version": "1.5.0",
            "_model_name": "ProgressStyleModel",
            "_view_count": null,
            "_view_module": "@jupyter-widgets/base",
            "_view_module_version": "1.2.0",
            "_view_name": "StyleView",
            "bar_color": null,
            "description_width": ""
          }
        },
        "e6ebe21989404f5e8dc88a1dbc0fa0ce": {
          "model_module": "@jupyter-widgets/base",
          "model_name": "LayoutModel",
          "model_module_version": "1.2.0",
          "state": {
            "_model_module": "@jupyter-widgets/base",
            "_model_module_version": "1.2.0",
            "_model_name": "LayoutModel",
            "_view_count": null,
            "_view_module": "@jupyter-widgets/base",
            "_view_module_version": "1.2.0",
            "_view_name": "LayoutView",
            "align_content": null,
            "align_items": null,
            "align_self": null,
            "border": null,
            "bottom": null,
            "display": null,
            "flex": null,
            "flex_flow": null,
            "grid_area": null,
            "grid_auto_columns": null,
            "grid_auto_flow": null,
            "grid_auto_rows": null,
            "grid_column": null,
            "grid_gap": null,
            "grid_row": null,
            "grid_template_areas": null,
            "grid_template_columns": null,
            "grid_template_rows": null,
            "height": null,
            "justify_content": null,
            "justify_items": null,
            "left": null,
            "margin": null,
            "max_height": null,
            "max_width": null,
            "min_height": null,
            "min_width": null,
            "object_fit": null,
            "object_position": null,
            "order": null,
            "overflow": null,
            "overflow_x": null,
            "overflow_y": null,
            "padding": null,
            "right": null,
            "top": null,
            "visibility": null,
            "width": null
          }
        },
        "f112e8a64f3949ae9a0694405caf0bb7": {
          "model_module": "@jupyter-widgets/controls",
          "model_name": "DescriptionStyleModel",
          "model_module_version": "1.5.0",
          "state": {
            "_model_module": "@jupyter-widgets/controls",
            "_model_module_version": "1.5.0",
            "_model_name": "DescriptionStyleModel",
            "_view_count": null,
            "_view_module": "@jupyter-widgets/base",
            "_view_module_version": "1.2.0",
            "_view_name": "StyleView",
            "description_width": ""
          }
        },
        "3742dfecdab649b08c29e805eaced800": {
          "model_module": "@jupyter-widgets/controls",
          "model_name": "HBoxModel",
          "model_module_version": "1.5.0",
          "state": {
            "_dom_classes": [],
            "_model_module": "@jupyter-widgets/controls",
            "_model_module_version": "1.5.0",
            "_model_name": "HBoxModel",
            "_view_count": null,
            "_view_module": "@jupyter-widgets/controls",
            "_view_module_version": "1.5.0",
            "_view_name": "HBoxView",
            "box_style": "",
            "children": [
              "IPY_MODEL_8669859bcbdc49d5b35edd530fead54e",
              "IPY_MODEL_e0b3613e53b247fda7c3ae73b3540abd",
              "IPY_MODEL_ae763c0e2cb94a5ea5896312bc9455da"
            ],
            "layout": "IPY_MODEL_4f67b6a2a96445ad9a78777a8a4e1cdc"
          }
        },
        "8669859bcbdc49d5b35edd530fead54e": {
          "model_module": "@jupyter-widgets/controls",
          "model_name": "HTMLModel",
          "model_module_version": "1.5.0",
          "state": {
            "_dom_classes": [],
            "_model_module": "@jupyter-widgets/controls",
            "_model_module_version": "1.5.0",
            "_model_name": "HTMLModel",
            "_view_count": null,
            "_view_module": "@jupyter-widgets/controls",
            "_view_module_version": "1.5.0",
            "_view_name": "HTMLView",
            "description": "",
            "description_tooltip": null,
            "layout": "IPY_MODEL_53efecd9a0ca4b93aa02724815f771b0",
            "placeholder": "​",
            "style": "IPY_MODEL_cb593a6b91a8452086df294330a2bbb8",
            "value": "Downloading: 100%"
          }
        },
        "e0b3613e53b247fda7c3ae73b3540abd": {
          "model_module": "@jupyter-widgets/controls",
          "model_name": "FloatProgressModel",
          "model_module_version": "1.5.0",
          "state": {
            "_dom_classes": [],
            "_model_module": "@jupyter-widgets/controls",
            "_model_module_version": "1.5.0",
            "_model_name": "FloatProgressModel",
            "_view_count": null,
            "_view_module": "@jupyter-widgets/controls",
            "_view_module_version": "1.5.0",
            "_view_name": "ProgressView",
            "bar_style": "success",
            "description": "",
            "description_tooltip": null,
            "layout": "IPY_MODEL_5bd41625ea814c44a23ba407a4c4dcce",
            "max": 1596,
            "min": 0,
            "orientation": "horizontal",
            "style": "IPY_MODEL_11b624fad65240269c10b6a30b277d59",
            "value": 1596
          }
        },
        "ae763c0e2cb94a5ea5896312bc9455da": {
          "model_module": "@jupyter-widgets/controls",
          "model_name": "HTMLModel",
          "model_module_version": "1.5.0",
          "state": {
            "_dom_classes": [],
            "_model_module": "@jupyter-widgets/controls",
            "_model_module_version": "1.5.0",
            "_model_name": "HTMLModel",
            "_view_count": null,
            "_view_module": "@jupyter-widgets/controls",
            "_view_module_version": "1.5.0",
            "_view_name": "HTMLView",
            "description": "",
            "description_tooltip": null,
            "layout": "IPY_MODEL_86813b6a03bf4ff3967f808408c043b5",
            "placeholder": "​",
            "style": "IPY_MODEL_6f2ffe36451849fc8086be4d3029bbea",
            "value": " 1.60k/1.60k [00:00&lt;00:00, 25.3kB/s]"
          }
        },
        "4f67b6a2a96445ad9a78777a8a4e1cdc": {
          "model_module": "@jupyter-widgets/base",
          "model_name": "LayoutModel",
          "model_module_version": "1.2.0",
          "state": {
            "_model_module": "@jupyter-widgets/base",
            "_model_module_version": "1.2.0",
            "_model_name": "LayoutModel",
            "_view_count": null,
            "_view_module": "@jupyter-widgets/base",
            "_view_module_version": "1.2.0",
            "_view_name": "LayoutView",
            "align_content": null,
            "align_items": null,
            "align_self": null,
            "border": null,
            "bottom": null,
            "display": null,
            "flex": null,
            "flex_flow": null,
            "grid_area": null,
            "grid_auto_columns": null,
            "grid_auto_flow": null,
            "grid_auto_rows": null,
            "grid_column": null,
            "grid_gap": null,
            "grid_row": null,
            "grid_template_areas": null,
            "grid_template_columns": null,
            "grid_template_rows": null,
            "height": null,
            "justify_content": null,
            "justify_items": null,
            "left": null,
            "margin": null,
            "max_height": null,
            "max_width": null,
            "min_height": null,
            "min_width": null,
            "object_fit": null,
            "object_position": null,
            "order": null,
            "overflow": null,
            "overflow_x": null,
            "overflow_y": null,
            "padding": null,
            "right": null,
            "top": null,
            "visibility": null,
            "width": null
          }
        },
        "53efecd9a0ca4b93aa02724815f771b0": {
          "model_module": "@jupyter-widgets/base",
          "model_name": "LayoutModel",
          "model_module_version": "1.2.0",
          "state": {
            "_model_module": "@jupyter-widgets/base",
            "_model_module_version": "1.2.0",
            "_model_name": "LayoutModel",
            "_view_count": null,
            "_view_module": "@jupyter-widgets/base",
            "_view_module_version": "1.2.0",
            "_view_name": "LayoutView",
            "align_content": null,
            "align_items": null,
            "align_self": null,
            "border": null,
            "bottom": null,
            "display": null,
            "flex": null,
            "flex_flow": null,
            "grid_area": null,
            "grid_auto_columns": null,
            "grid_auto_flow": null,
            "grid_auto_rows": null,
            "grid_column": null,
            "grid_gap": null,
            "grid_row": null,
            "grid_template_areas": null,
            "grid_template_columns": null,
            "grid_template_rows": null,
            "height": null,
            "justify_content": null,
            "justify_items": null,
            "left": null,
            "margin": null,
            "max_height": null,
            "max_width": null,
            "min_height": null,
            "min_width": null,
            "object_fit": null,
            "object_position": null,
            "order": null,
            "overflow": null,
            "overflow_x": null,
            "overflow_y": null,
            "padding": null,
            "right": null,
            "top": null,
            "visibility": null,
            "width": null
          }
        },
        "cb593a6b91a8452086df294330a2bbb8": {
          "model_module": "@jupyter-widgets/controls",
          "model_name": "DescriptionStyleModel",
          "model_module_version": "1.5.0",
          "state": {
            "_model_module": "@jupyter-widgets/controls",
            "_model_module_version": "1.5.0",
            "_model_name": "DescriptionStyleModel",
            "_view_count": null,
            "_view_module": "@jupyter-widgets/base",
            "_view_module_version": "1.2.0",
            "_view_name": "StyleView",
            "description_width": ""
          }
        },
        "5bd41625ea814c44a23ba407a4c4dcce": {
          "model_module": "@jupyter-widgets/base",
          "model_name": "LayoutModel",
          "model_module_version": "1.2.0",
          "state": {
            "_model_module": "@jupyter-widgets/base",
            "_model_module_version": "1.2.0",
            "_model_name": "LayoutModel",
            "_view_count": null,
            "_view_module": "@jupyter-widgets/base",
            "_view_module_version": "1.2.0",
            "_view_name": "LayoutView",
            "align_content": null,
            "align_items": null,
            "align_self": null,
            "border": null,
            "bottom": null,
            "display": null,
            "flex": null,
            "flex_flow": null,
            "grid_area": null,
            "grid_auto_columns": null,
            "grid_auto_flow": null,
            "grid_auto_rows": null,
            "grid_column": null,
            "grid_gap": null,
            "grid_row": null,
            "grid_template_areas": null,
            "grid_template_columns": null,
            "grid_template_rows": null,
            "height": null,
            "justify_content": null,
            "justify_items": null,
            "left": null,
            "margin": null,
            "max_height": null,
            "max_width": null,
            "min_height": null,
            "min_width": null,
            "object_fit": null,
            "object_position": null,
            "order": null,
            "overflow": null,
            "overflow_x": null,
            "overflow_y": null,
            "padding": null,
            "right": null,
            "top": null,
            "visibility": null,
            "width": null
          }
        },
        "11b624fad65240269c10b6a30b277d59": {
          "model_module": "@jupyter-widgets/controls",
          "model_name": "ProgressStyleModel",
          "model_module_version": "1.5.0",
          "state": {
            "_model_module": "@jupyter-widgets/controls",
            "_model_module_version": "1.5.0",
            "_model_name": "ProgressStyleModel",
            "_view_count": null,
            "_view_module": "@jupyter-widgets/base",
            "_view_module_version": "1.2.0",
            "_view_name": "StyleView",
            "bar_color": null,
            "description_width": ""
          }
        },
        "86813b6a03bf4ff3967f808408c043b5": {
          "model_module": "@jupyter-widgets/base",
          "model_name": "LayoutModel",
          "model_module_version": "1.2.0",
          "state": {
            "_model_module": "@jupyter-widgets/base",
            "_model_module_version": "1.2.0",
            "_model_name": "LayoutModel",
            "_view_count": null,
            "_view_module": "@jupyter-widgets/base",
            "_view_module_version": "1.2.0",
            "_view_name": "LayoutView",
            "align_content": null,
            "align_items": null,
            "align_self": null,
            "border": null,
            "bottom": null,
            "display": null,
            "flex": null,
            "flex_flow": null,
            "grid_area": null,
            "grid_auto_columns": null,
            "grid_auto_flow": null,
            "grid_auto_rows": null,
            "grid_column": null,
            "grid_gap": null,
            "grid_row": null,
            "grid_template_areas": null,
            "grid_template_columns": null,
            "grid_template_rows": null,
            "height": null,
            "justify_content": null,
            "justify_items": null,
            "left": null,
            "margin": null,
            "max_height": null,
            "max_width": null,
            "min_height": null,
            "min_width": null,
            "object_fit": null,
            "object_position": null,
            "order": null,
            "overflow": null,
            "overflow_x": null,
            "overflow_y": null,
            "padding": null,
            "right": null,
            "top": null,
            "visibility": null,
            "width": null
          }
        },
        "6f2ffe36451849fc8086be4d3029bbea": {
          "model_module": "@jupyter-widgets/controls",
          "model_name": "DescriptionStyleModel",
          "model_module_version": "1.5.0",
          "state": {
            "_model_module": "@jupyter-widgets/controls",
            "_model_module_version": "1.5.0",
            "_model_name": "DescriptionStyleModel",
            "_view_count": null,
            "_view_module": "@jupyter-widgets/base",
            "_view_module_version": "1.2.0",
            "_view_name": "StyleView",
            "description_width": ""
          }
        },
        "53047b75a51344839720aa4f18bb3d22": {
          "model_module": "@jupyter-widgets/controls",
          "model_name": "HBoxModel",
          "model_module_version": "1.5.0",
          "state": {
            "_dom_classes": [],
            "_model_module": "@jupyter-widgets/controls",
            "_model_module_version": "1.5.0",
            "_model_name": "HBoxModel",
            "_view_count": null,
            "_view_module": "@jupyter-widgets/controls",
            "_view_module_version": "1.5.0",
            "_view_name": "HBoxView",
            "box_style": "",
            "children": [
              "IPY_MODEL_a7ae80c025e94c6daebc3895b0eb3ee6",
              "IPY_MODEL_3b078b58e27b42fc8f007bc6f4fe3f64",
              "IPY_MODEL_e7ac0fcdbead4002ab1ebfe1eff1d48f"
            ],
            "layout": "IPY_MODEL_d6ea0ba8b54044d68512d474edc54bcb"
          }
        },
        "a7ae80c025e94c6daebc3895b0eb3ee6": {
          "model_module": "@jupyter-widgets/controls",
          "model_name": "HTMLModel",
          "model_module_version": "1.5.0",
          "state": {
            "_dom_classes": [],
            "_model_module": "@jupyter-widgets/controls",
            "_model_module_version": "1.5.0",
            "_model_name": "HTMLModel",
            "_view_count": null,
            "_view_module": "@jupyter-widgets/controls",
            "_view_module_version": "1.5.0",
            "_view_name": "HTMLView",
            "description": "",
            "description_tooltip": null,
            "layout": "IPY_MODEL_d5d81e0d6c2348e48015d30e604c2c54",
            "placeholder": "​",
            "style": "IPY_MODEL_63fe967f9d0948328299da7f8b6f0e74",
            "value": "Downloading: 100%"
          }
        },
        "3b078b58e27b42fc8f007bc6f4fe3f64": {
          "model_module": "@jupyter-widgets/controls",
          "model_name": "FloatProgressModel",
          "model_module_version": "1.5.0",
          "state": {
            "_dom_classes": [],
            "_model_module": "@jupyter-widgets/controls",
            "_model_module_version": "1.5.0",
            "_model_name": "FloatProgressModel",
            "_view_count": null,
            "_view_module": "@jupyter-widgets/controls",
            "_view_module_version": "1.5.0",
            "_view_name": "ProgressView",
            "bar_style": "success",
            "description": "",
            "description_tooltip": null,
            "layout": "IPY_MODEL_10babde8ec334292b5c1721dd904989f",
            "max": 377667514,
            "min": 0,
            "orientation": "horizontal",
            "style": "IPY_MODEL_c1dfec5fae32410b81a90e897a8c68cd",
            "value": 377667514
          }
        },
        "e7ac0fcdbead4002ab1ebfe1eff1d48f": {
          "model_module": "@jupyter-widgets/controls",
          "model_name": "HTMLModel",
          "model_module_version": "1.5.0",
          "state": {
            "_dom_classes": [],
            "_model_module": "@jupyter-widgets/controls",
            "_model_module_version": "1.5.0",
            "_model_name": "HTMLModel",
            "_view_count": null,
            "_view_module": "@jupyter-widgets/controls",
            "_view_module_version": "1.5.0",
            "_view_name": "HTMLView",
            "description": "",
            "description_tooltip": null,
            "layout": "IPY_MODEL_f8fcaceb3d8d4ea9a546f0b39080ad9c",
            "placeholder": "​",
            "style": "IPY_MODEL_6931674e150b400d905a86f2a2a915c7",
            "value": " 378M/378M [00:08&lt;00:00, 50.8MB/s]"
          }
        },
        "d6ea0ba8b54044d68512d474edc54bcb": {
          "model_module": "@jupyter-widgets/base",
          "model_name": "LayoutModel",
          "model_module_version": "1.2.0",
          "state": {
            "_model_module": "@jupyter-widgets/base",
            "_model_module_version": "1.2.0",
            "_model_name": "LayoutModel",
            "_view_count": null,
            "_view_module": "@jupyter-widgets/base",
            "_view_module_version": "1.2.0",
            "_view_name": "LayoutView",
            "align_content": null,
            "align_items": null,
            "align_self": null,
            "border": null,
            "bottom": null,
            "display": null,
            "flex": null,
            "flex_flow": null,
            "grid_area": null,
            "grid_auto_columns": null,
            "grid_auto_flow": null,
            "grid_auto_rows": null,
            "grid_column": null,
            "grid_gap": null,
            "grid_row": null,
            "grid_template_areas": null,
            "grid_template_columns": null,
            "grid_template_rows": null,
            "height": null,
            "justify_content": null,
            "justify_items": null,
            "left": null,
            "margin": null,
            "max_height": null,
            "max_width": null,
            "min_height": null,
            "min_width": null,
            "object_fit": null,
            "object_position": null,
            "order": null,
            "overflow": null,
            "overflow_x": null,
            "overflow_y": null,
            "padding": null,
            "right": null,
            "top": null,
            "visibility": null,
            "width": null
          }
        },
        "d5d81e0d6c2348e48015d30e604c2c54": {
          "model_module": "@jupyter-widgets/base",
          "model_name": "LayoutModel",
          "model_module_version": "1.2.0",
          "state": {
            "_model_module": "@jupyter-widgets/base",
            "_model_module_version": "1.2.0",
            "_model_name": "LayoutModel",
            "_view_count": null,
            "_view_module": "@jupyter-widgets/base",
            "_view_module_version": "1.2.0",
            "_view_name": "LayoutView",
            "align_content": null,
            "align_items": null,
            "align_self": null,
            "border": null,
            "bottom": null,
            "display": null,
            "flex": null,
            "flex_flow": null,
            "grid_area": null,
            "grid_auto_columns": null,
            "grid_auto_flow": null,
            "grid_auto_rows": null,
            "grid_column": null,
            "grid_gap": null,
            "grid_row": null,
            "grid_template_areas": null,
            "grid_template_columns": null,
            "grid_template_rows": null,
            "height": null,
            "justify_content": null,
            "justify_items": null,
            "left": null,
            "margin": null,
            "max_height": null,
            "max_width": null,
            "min_height": null,
            "min_width": null,
            "object_fit": null,
            "object_position": null,
            "order": null,
            "overflow": null,
            "overflow_x": null,
            "overflow_y": null,
            "padding": null,
            "right": null,
            "top": null,
            "visibility": null,
            "width": null
          }
        },
        "63fe967f9d0948328299da7f8b6f0e74": {
          "model_module": "@jupyter-widgets/controls",
          "model_name": "DescriptionStyleModel",
          "model_module_version": "1.5.0",
          "state": {
            "_model_module": "@jupyter-widgets/controls",
            "_model_module_version": "1.5.0",
            "_model_name": "DescriptionStyleModel",
            "_view_count": null,
            "_view_module": "@jupyter-widgets/base",
            "_view_module_version": "1.2.0",
            "_view_name": "StyleView",
            "description_width": ""
          }
        },
        "10babde8ec334292b5c1721dd904989f": {
          "model_module": "@jupyter-widgets/base",
          "model_name": "LayoutModel",
          "model_module_version": "1.2.0",
          "state": {
            "_model_module": "@jupyter-widgets/base",
            "_model_module_version": "1.2.0",
            "_model_name": "LayoutModel",
            "_view_count": null,
            "_view_module": "@jupyter-widgets/base",
            "_view_module_version": "1.2.0",
            "_view_name": "LayoutView",
            "align_content": null,
            "align_items": null,
            "align_self": null,
            "border": null,
            "bottom": null,
            "display": null,
            "flex": null,
            "flex_flow": null,
            "grid_area": null,
            "grid_auto_columns": null,
            "grid_auto_flow": null,
            "grid_auto_rows": null,
            "grid_column": null,
            "grid_gap": null,
            "grid_row": null,
            "grid_template_areas": null,
            "grid_template_columns": null,
            "grid_template_rows": null,
            "height": null,
            "justify_content": null,
            "justify_items": null,
            "left": null,
            "margin": null,
            "max_height": null,
            "max_width": null,
            "min_height": null,
            "min_width": null,
            "object_fit": null,
            "object_position": null,
            "order": null,
            "overflow": null,
            "overflow_x": null,
            "overflow_y": null,
            "padding": null,
            "right": null,
            "top": null,
            "visibility": null,
            "width": null
          }
        },
        "c1dfec5fae32410b81a90e897a8c68cd": {
          "model_module": "@jupyter-widgets/controls",
          "model_name": "ProgressStyleModel",
          "model_module_version": "1.5.0",
          "state": {
            "_model_module": "@jupyter-widgets/controls",
            "_model_module_version": "1.5.0",
            "_model_name": "ProgressStyleModel",
            "_view_count": null,
            "_view_module": "@jupyter-widgets/base",
            "_view_module_version": "1.2.0",
            "_view_name": "StyleView",
            "bar_color": null,
            "description_width": ""
          }
        },
        "f8fcaceb3d8d4ea9a546f0b39080ad9c": {
          "model_module": "@jupyter-widgets/base",
          "model_name": "LayoutModel",
          "model_module_version": "1.2.0",
          "state": {
            "_model_module": "@jupyter-widgets/base",
            "_model_module_version": "1.2.0",
            "_model_name": "LayoutModel",
            "_view_count": null,
            "_view_module": "@jupyter-widgets/base",
            "_view_module_version": "1.2.0",
            "_view_name": "LayoutView",
            "align_content": null,
            "align_items": null,
            "align_self": null,
            "border": null,
            "bottom": null,
            "display": null,
            "flex": null,
            "flex_flow": null,
            "grid_area": null,
            "grid_auto_columns": null,
            "grid_auto_flow": null,
            "grid_auto_rows": null,
            "grid_column": null,
            "grid_gap": null,
            "grid_row": null,
            "grid_template_areas": null,
            "grid_template_columns": null,
            "grid_template_rows": null,
            "height": null,
            "justify_content": null,
            "justify_items": null,
            "left": null,
            "margin": null,
            "max_height": null,
            "max_width": null,
            "min_height": null,
            "min_width": null,
            "object_fit": null,
            "object_position": null,
            "order": null,
            "overflow": null,
            "overflow_x": null,
            "overflow_y": null,
            "padding": null,
            "right": null,
            "top": null,
            "visibility": null,
            "width": null
          }
        },
        "6931674e150b400d905a86f2a2a915c7": {
          "model_module": "@jupyter-widgets/controls",
          "model_name": "DescriptionStyleModel",
          "model_module_version": "1.5.0",
          "state": {
            "_model_module": "@jupyter-widgets/controls",
            "_model_module_version": "1.5.0",
            "_model_name": "DescriptionStyleModel",
            "_view_count": null,
            "_view_module": "@jupyter-widgets/base",
            "_view_module_version": "1.2.0",
            "_view_name": "StyleView",
            "description_width": ""
          }
        }
      }
    }
  },
  "cells": [
    {
      "cell_type": "markdown",
      "metadata": {
        "id": "view-in-github",
        "colab_type": "text"
      },
      "source": [
        "<a href=\"https://colab.research.google.com/github/pearl-yu/twitch_project/blob/main/test_wav2vec_video_captions.ipynb\" target=\"_parent\"><img src=\"https://colab.research.google.com/assets/colab-badge.svg\" alt=\"Open In Colab\"/></a>"
      ]
    },
    {
      "cell_type": "markdown",
      "metadata": {
        "id": "9ObvuKqFqvpE"
      },
      "source": [
        "[![Open In Colab](https://colab.research.google.com/assets/colab-badge.svg)](https://colab.research.google.com/github/Muennighoff/ytclipcc/blob/main/wav2vec_youtube_captions.ipynb)\n",
        "[GitHub](https://github.com/Muennighoff/ytclipcc/blob/main/wav2vec_youtube_captions.ipynb)\n",
        "# Creating YouTube Captions with Wav2Vec\n",
        "\n",
        "---"
      ]
    },
    {
      "cell_type": "markdown",
      "metadata": {
        "id": "lNvEmcfKrQH4"
      },
      "source": [
        "The Wav2Vec model was introduced by Facebook [here](https://arxiv.org/abs/2006.11477). Thanks to 🤗 Transformers, we can load it in seconds and build cool applications on top of it!\n",
        "\n",
        "This notebooks aim is to serve as an inspiration for just that. We will build a simple script to create captions for YouTube videos! The notebook can be run on CPU. If you have any questions feel free to raise an issue at the GitHub link above."
      ]
    },
    {
      "cell_type": "markdown",
      "metadata": {
        "id": "nG3sw6CGrN-6"
      },
      "source": [
        "## Setup\n",
        "\n",
        "---"
      ]
    },
    {
      "cell_type": "code",
      "metadata": {
        "id": "nctvDSx9pQ28",
        "colab": {
          "base_uri": "https://localhost:8080/"
        },
        "outputId": "bebc3c85-8277-46aa-c234-5a9a9ee7e3d2"
      },
      "source": [
        "!pip -q install transformers\n",
        "!pip -q install youtube_dl\n",
        "!pip install moviepy\n",
        "!pip3 install imageio==2.4.1"
      ],
      "execution_count": 1,
      "outputs": [
        {
          "output_type": "stream",
          "name": "stdout",
          "text": [
            "\u001b[K     |████████████████████████████████| 5.3 MB 4.8 MB/s \n",
            "\u001b[K     |████████████████████████████████| 7.6 MB 17.7 MB/s \n",
            "\u001b[K     |████████████████████████████████| 163 kB 49.8 MB/s \n",
            "\u001b[K     |████████████████████████████████| 1.9 MB 5.0 MB/s \n",
            "\u001b[?25hLooking in indexes: https://pypi.org/simple, https://us-python.pkg.dev/colab-wheels/public/simple/\n",
            "Requirement already satisfied: moviepy in /usr/local/lib/python3.7/dist-packages (0.2.3.5)\n",
            "Requirement already satisfied: tqdm<5.0,>=4.11.2 in /usr/local/lib/python3.7/dist-packages (from moviepy) (4.64.1)\n",
            "Requirement already satisfied: numpy in /usr/local/lib/python3.7/dist-packages (from moviepy) (1.21.6)\n",
            "Requirement already satisfied: decorator<5.0,>=4.0.2 in /usr/local/lib/python3.7/dist-packages (from moviepy) (4.4.2)\n",
            "Requirement already satisfied: imageio<3.0,>=2.1.2 in /usr/local/lib/python3.7/dist-packages (from moviepy) (2.9.0)\n",
            "Requirement already satisfied: pillow in /usr/local/lib/python3.7/dist-packages (from imageio<3.0,>=2.1.2->moviepy) (7.1.2)\n",
            "Looking in indexes: https://pypi.org/simple, https://us-python.pkg.dev/colab-wheels/public/simple/\n",
            "Collecting imageio==2.4.1\n",
            "  Downloading imageio-2.4.1.tar.gz (3.3 MB)\n",
            "\u001b[K     |████████████████████████████████| 3.3 MB 5.2 MB/s \n",
            "\u001b[?25hRequirement already satisfied: numpy in /usr/local/lib/python3.7/dist-packages (from imageio==2.4.1) (1.21.6)\n",
            "Requirement already satisfied: pillow in /usr/local/lib/python3.7/dist-packages (from imageio==2.4.1) (7.1.2)\n",
            "Building wheels for collected packages: imageio\n",
            "  Building wheel for imageio (setup.py) ... \u001b[?25l\u001b[?25hdone\n",
            "  Created wheel for imageio: filename=imageio-2.4.1-py3-none-any.whl size=3303885 sha256=7a127d7a44274056d8e68c331d1f086c3442732037bf263f1db5e60fd6f180c9\n",
            "  Stored in directory: /root/.cache/pip/wheels/46/20/07/7bb9c8c44e6ec2efa60fd0e6280094f53f65f41767ef69a5ee\n",
            "Successfully built imageio\n",
            "Installing collected packages: imageio\n",
            "  Attempting uninstall: imageio\n",
            "    Found existing installation: imageio 2.9.0\n",
            "    Uninstalling imageio-2.9.0:\n",
            "      Successfully uninstalled imageio-2.9.0\n",
            "Successfully installed imageio-2.4.1\n"
          ]
        }
      ]
    },
    {
      "cell_type": "code",
      "metadata": {
        "colab": {
          "base_uri": "https://localhost:8080/"
        },
        "id": "m6HYcU4Vr7HD",
        "outputId": "e4cb7e08-64d9-4809-a46a-5f58f41d6f76"
      },
      "source": [
        "from transformers import Wav2Vec2Tokenizer, Wav2Vec2ForCTC\n",
        "from IPython.display import Audio\n",
        "\n",
        "import moviepy.editor as mp\n",
        "import torch\n",
        "import librosa\n",
        "import os"
      ],
      "execution_count": 2,
      "outputs": [
        {
          "output_type": "stream",
          "name": "stdout",
          "text": [
            "Imageio: 'ffmpeg-linux64-v3.3.1' was not found on your computer; downloading it now.\n",
            "Try 1. Download from https://github.com/imageio/imageio-binaries/raw/master/ffmpeg/ffmpeg-linux64-v3.3.1 (43.8 MB)\n",
            "Downloading: 8192/45929032 bytes (0.0%)\b\b\b\b\b\b\b\b\b\b\b\b\b\b\b\b\b\b\b\b\b\b\b\b\b\b1499136/45929032 bytes (3.3%)\b\b\b\b\b\b\b\b\b\b\b\b\b\b\b\b\b\b\b\b\b\b\b\b\b\b\b\b\b3457024/45929032 bytes (7.5%)\b\b\b\b\b\b\b\b\b\b\b\b\b\b\b\b\b\b\b\b\b\b\b\b\b\b\b\b\b6414336/45929032 bytes (14.0%)\b\b\b\b\b\b\b\b\b\b\b\b\b\b\b\b\b\b\b\b\b\b\b\b\b\b\b\b\b\b9183232/45929032 bytes (20.0%)\b\b\b\b\b\b\b\b\b\b\b\b\b\b\b\b\b\b\b\b\b\b\b\b\b\b\b\b\b\b12148736/45929032 bytes (26.5%)\b\b\b\b\b\b\b\b\b\b\b\b\b\b\b\b\b\b\b\b\b\b\b\b\b\b\b\b\b\b\b15220736/45929032 bytes (33.1%)\b\b\b\b\b\b\b\b\b\b\b\b\b\b\b\b\b\b\b\b\b\b\b\b\b\b\b\b\b\b\b17432576/45929032 bytes (38.0%)\b\b\b\b\b\b\b\b\b\b\b\b\b\b\b\b\b\b\b\b\b\b\b\b\b\b\b\b\b\b\b19783680/45929032 bytes (43.1%)\b\b\b\b\b\b\b\b\b\b\b\b\b\b\b\b\b\b\b\b\b\b\b\b\b\b\b\b\b\b\b22159360/45929032 bytes (48.2%)\b\b\b\b\b\b\b\b\b\b\b\b\b\b\b\b\b\b\b\b\b\b\b\b\b\b\b\b\b\b\b24117248/45929032 bytes (52.5%)\b\b\b\b\b\b\b\b\b\b\b\b\b\b\b\b\b\b\b\b\b\b\b\b\b\b\b\b\b\b\b26148864/45929032 bytes (56.9%)\b\b\b\b\b\b\b\b\b\b\b\b\b\b\b\b\b\b\b\b\b\b\b\b\b\b\b\b\b\b\b28663808/45929032 bytes (62.4%)\b\b\b\b\b\b\b\b\b\b\b\b\b\b\b\b\b\b\b\b\b\b\b\b\b\b\b\b\b\b\b31285248/45929032 bytes (68.1%)\b\b\b\b\b\b\b\b\b\b\b\b\b\b\b\b\b\b\b\b\b\b\b\b\b\b\b\b\b\b\b33800192/45929032 bytes (73.6%)\b\b\b\b\b\b\b\b\b\b\b\b\b\b\b\b\b\b\b\b\b\b\b\b\b\b\b\b\b\b\b36749312/45929032 bytes (80.0%)\b\b\b\b\b\b\b\b\b\b\b\b\b\b\b\b\b\b\b\b\b\b\b\b\b\b\b\b\b\b\b39731200/45929032 bytes (86.5%)\b\b\b\b\b\b\b\b\b\b\b\b\b\b\b\b\b\b\b\b\b\b\b\b\b\b\b\b\b\b\b41992192/45929032 bytes (91.4%)\b\b\b\b\b\b\b\b\b\b\b\b\b\b\b\b\b\b\b\b\b\b\b\b\b\b\b\b\b\b\b44490752/45929032 bytes (96.9%)\b\b\b\b\b\b\b\b\b\b\b\b\b\b\b\b\b\b\b\b\b\b\b\b\b\b\b\b\b\b\b45929032/45929032 bytes (100.0%)\n",
            "  Done\n",
            "File saved as /root/.imageio/ffmpeg/ffmpeg-linux64-v3.3.1.\n"
          ]
        }
      ]
    },
    {
      "cell_type": "markdown",
      "metadata": {
        "id": "Npi9t6uCr6jN"
      },
      "source": [
        "## Get Clip\n",
        "\n",
        "---"
      ]
    },
    {
      "cell_type": "markdown",
      "metadata": {
        "id": "gzSbcjaysn6R"
      },
      "source": [
        "Choose your favorite clip from YouTube & paste in the YouTube link. Ideally make it a short clip, as it will take some time to download. Choose the start & end seconds for the sequence whose caption you'd like to create. You can also give it a run with the default first 😊"
      ]
    },
    {
      "cell_type": "code",
      "metadata": {
        "id": "cAyYM9XPs05q"
      },
      "source": [
        "# Substitute below YT link\n",
        "clip = \"https://www.twitch.tv/videos/1573420701\"\n",
        "\n",
        "# Substitue below for start/end seconds\n",
        "start = 1\n",
        "end = 60"
      ],
      "execution_count": 17,
      "outputs": []
    },
    {
      "cell_type": "code",
      "metadata": {
        "colab": {
          "base_uri": "https://localhost:8080/"
        },
        "id": "JRK1o1DitfTM",
        "outputId": "709464ff-f5a6-4d87-9406-5b00a9c93cc0"
      },
      "source": [
        "# Download the clip as mp4 & rename it for usability\n",
        "os.system('youtube-dl {} --recode-video mp4'.format(clip))\n",
        "os.system('mv *.mp4 clip.mp4')"
      ],
      "execution_count": 19,
      "outputs": [
        {
          "output_type": "execute_result",
          "data": {
            "text/plain": [
              "256"
            ]
          },
          "metadata": {},
          "execution_count": 19
        }
      ]
    },
    {
      "cell_type": "markdown",
      "metadata": {
        "id": "wNrrqoCZvVAs"
      },
      "source": [
        "## Model and tokenizer\n",
        "\n",
        "---"
      ]
    },
    {
      "cell_type": "markdown",
      "metadata": {
        "id": "URLRwAb_vYFx"
      },
      "source": [
        "Load the Wav2Vec model from 🤗 Transformers. See [here](https://huggingface.co/transformers/model_doc/wav2vec2.html) for the models documentation."
      ]
    },
    {
      "cell_type": "code",
      "metadata": {
        "colab": {
          "base_uri": "https://localhost:8080/",
          "height": 336,
          "referenced_widgets": [
            "14e62b7076c846d3b5caae6dcdb7aea9",
            "f9ac84ab47de4709b43039c639e58ea5",
            "33a17bb5ce4347148a8c9957ddfa0ddb",
            "a1b3e69c08b94ec8bc8d3e5b7bee36c5",
            "78be96c8b5ab4fed83db62cf6b2939e0",
            "970d984a34c44f4c90c46e45d636a65f",
            "a08c5d2312674da08951b6723c62e469",
            "bfb55f6c85584a8dab3de8dff9dd658c",
            "d107124774e94cbc83606a568f8c0ec7",
            "2a0a46776a5941ee8e409a6660e9189f",
            "cc7f77cdbf0a4a4bb3ddee35be91d427",
            "1bf2035da0ea46b0a0e0c0937f43b773",
            "0d43a6e3dcb74336a4c3ab8717cd68d4",
            "f31cc862b1514aa5b3fdbc6226b5e500",
            "538d0955f21e42eebe6e837a90233239",
            "d9c2669dc9c74dfe84af8c9d2de08fd5",
            "bcc35daa11d8421891318fd14713e1d5",
            "c02a2d034299438296769e68dd75dcc9",
            "4d832a6929d846e78a6957170ac7a8bc",
            "e3049013a1534dd9ba95aea9e0585093",
            "a4799492e7424e6382ba104ec9e95ff1",
            "9f023121b6744129bf5850d7dea8fe6c",
            "c5179ca947f74479b6507a0c3a9ad6c1",
            "5d0395e8a9754c5fa3ecb6eaf3ca6698",
            "15d4b375e0cf41e990a5822f23ad01d3",
            "6ecfae6552f94864832a5f040c09a3cc",
            "b25ca922134a4860ac2a09b036357bf1",
            "50cd67832492429180377118790266a2",
            "4029e8de8e7d4ff9b71c5f0d7d7688cf",
            "dc8af105dff246cd83bcef7943cd1236",
            "29be9018f34e4ebf9a9e5ef536f3e539",
            "e6ebe21989404f5e8dc88a1dbc0fa0ce",
            "f112e8a64f3949ae9a0694405caf0bb7",
            "3742dfecdab649b08c29e805eaced800",
            "8669859bcbdc49d5b35edd530fead54e",
            "e0b3613e53b247fda7c3ae73b3540abd",
            "ae763c0e2cb94a5ea5896312bc9455da",
            "4f67b6a2a96445ad9a78777a8a4e1cdc",
            "53efecd9a0ca4b93aa02724815f771b0",
            "cb593a6b91a8452086df294330a2bbb8",
            "5bd41625ea814c44a23ba407a4c4dcce",
            "11b624fad65240269c10b6a30b277d59",
            "86813b6a03bf4ff3967f808408c043b5",
            "6f2ffe36451849fc8086be4d3029bbea",
            "53047b75a51344839720aa4f18bb3d22",
            "a7ae80c025e94c6daebc3895b0eb3ee6",
            "3b078b58e27b42fc8f007bc6f4fe3f64",
            "e7ac0fcdbead4002ab1ebfe1eff1d48f",
            "d6ea0ba8b54044d68512d474edc54bcb",
            "d5d81e0d6c2348e48015d30e604c2c54",
            "63fe967f9d0948328299da7f8b6f0e74",
            "10babde8ec334292b5c1721dd904989f",
            "c1dfec5fae32410b81a90e897a8c68cd",
            "f8fcaceb3d8d4ea9a546f0b39080ad9c",
            "6931674e150b400d905a86f2a2a915c7"
          ]
        },
        "id": "NXZJng_hvV3H",
        "outputId": "c5c30321-6cb2-41e5-d7c2-93bd29c11c07"
      },
      "source": [
        "# Load Wav2Vec from huggingface\n",
        "tokenizer = Wav2Vec2Tokenizer.from_pretrained(\"facebook/wav2vec2-base-960h\")\n",
        "model = Wav2Vec2ForCTC.from_pretrained(\"facebook/wav2vec2-base-960h\")"
      ],
      "execution_count": 7,
      "outputs": [
        {
          "output_type": "display_data",
          "data": {
            "text/plain": [
              "Downloading:   0%|          | 0.00/291 [00:00<?, ?B/s]"
            ],
            "application/vnd.jupyter.widget-view+json": {
              "version_major": 2,
              "version_minor": 0,
              "model_id": "14e62b7076c846d3b5caae6dcdb7aea9"
            }
          },
          "metadata": {}
        },
        {
          "output_type": "display_data",
          "data": {
            "text/plain": [
              "Downloading:   0%|          | 0.00/163 [00:00<?, ?B/s]"
            ],
            "application/vnd.jupyter.widget-view+json": {
              "version_major": 2,
              "version_minor": 0,
              "model_id": "1bf2035da0ea46b0a0e0c0937f43b773"
            }
          },
          "metadata": {}
        },
        {
          "output_type": "display_data",
          "data": {
            "text/plain": [
              "Downloading:   0%|          | 0.00/85.0 [00:00<?, ?B/s]"
            ],
            "application/vnd.jupyter.widget-view+json": {
              "version_major": 2,
              "version_minor": 0,
              "model_id": "c5179ca947f74479b6507a0c3a9ad6c1"
            }
          },
          "metadata": {}
        },
        {
          "output_type": "display_data",
          "data": {
            "text/plain": [
              "Downloading:   0%|          | 0.00/1.60k [00:00<?, ?B/s]"
            ],
            "application/vnd.jupyter.widget-view+json": {
              "version_major": 2,
              "version_minor": 0,
              "model_id": "3742dfecdab649b08c29e805eaced800"
            }
          },
          "metadata": {}
        },
        {
          "output_type": "stream",
          "name": "stderr",
          "text": [
            "The tokenizer class you load from this checkpoint is not the same type as the class this function is called from. It may result in unexpected tokenization. \n",
            "The tokenizer class you load from this checkpoint is 'Wav2Vec2CTCTokenizer'. \n",
            "The class this function is called from is 'Wav2Vec2Tokenizer'.\n",
            "WARNING:py.warnings:/usr/local/lib/python3.7/dist-packages/transformers/models/wav2vec2/tokenization_wav2vec2.py:757: FutureWarning: The class `Wav2Vec2Tokenizer` is deprecated and will be removed in version 5 of Transformers. Please use `Wav2Vec2Processor` or `Wav2Vec2CTCTokenizer` instead.\n",
            "  FutureWarning,\n",
            "\n"
          ]
        },
        {
          "output_type": "display_data",
          "data": {
            "text/plain": [
              "Downloading:   0%|          | 0.00/378M [00:00<?, ?B/s]"
            ],
            "application/vnd.jupyter.widget-view+json": {
              "version_major": 2,
              "version_minor": 0,
              "model_id": "53047b75a51344839720aa4f18bb3d22"
            }
          },
          "metadata": {}
        },
        {
          "output_type": "stream",
          "name": "stderr",
          "text": [
            "Some weights of Wav2Vec2ForCTC were not initialized from the model checkpoint at facebook/wav2vec2-base-960h and are newly initialized: ['wav2vec2.masked_spec_embed']\n",
            "You should probably TRAIN this model on a down-stream task to be able to use it for predictions and inference.\n"
          ]
        }
      ]
    },
    {
      "cell_type": "markdown",
      "metadata": {
        "id": "P98J77f6tbD2"
      },
      "source": [
        "## Extract Audio\n",
        "\n",
        "---"
      ]
    },
    {
      "cell_type": "markdown",
      "metadata": {
        "id": "crEfXw7tvl35"
      },
      "source": [
        "First we'll extract the audio in mp3 format from the clip, as the Wav2Vec models expects audio input. We do this in subclips of 10 second length to save some memory lateron. "
      ]
    },
    {
      "cell_type": "code",
      "metadata": {
        "colab": {
          "base_uri": "https://localhost:8080/",
          "height": 397
        },
        "id": "a6Df9DuWvG57",
        "outputId": "8e50291b-4160-41e4-8e3a-5cbfad3621f2"
      },
      "source": [
        "clip = mp.VideoFileClip(\"clip.mp4\")\n",
        "end = min(clip.duration, end)\n",
        "\n",
        "# Save the paths for later\n",
        "clip_paths = []\n",
        "\n",
        "# Extract Audio-only from mp4\n",
        "for i in range(start, int(end), 10):\n",
        "  sub_end = min(i+10, end)\n",
        "  sub_clip = clip.subclip(i,sub_end)\n",
        "\n",
        "  sub_clip.audio.write_audiofile(\"audio_\" + str(i) + \".mp3\")\n",
        "  clip_paths.append(\"audio_\" + str(i) + \".mp3\")"
      ],
      "execution_count": 20,
      "outputs": [
        {
          "output_type": "error",
          "ename": "OSError",
          "evalue": "ignored",
          "traceback": [
            "\u001b[0;31m---------------------------------------------------------------------------\u001b[0m",
            "\u001b[0;31mOSError\u001b[0m                                   Traceback (most recent call last)",
            "\u001b[0;32m<ipython-input-20-ec7bf89f5469>\u001b[0m in \u001b[0;36m<module>\u001b[0;34m\u001b[0m\n\u001b[0;32m----> 1\u001b[0;31m \u001b[0mclip\u001b[0m \u001b[0;34m=\u001b[0m \u001b[0mmp\u001b[0m\u001b[0;34m.\u001b[0m\u001b[0mVideoFileClip\u001b[0m\u001b[0;34m(\u001b[0m\u001b[0;34m\"clip.mp4\"\u001b[0m\u001b[0;34m)\u001b[0m\u001b[0;34m\u001b[0m\u001b[0;34m\u001b[0m\u001b[0m\n\u001b[0m\u001b[1;32m      2\u001b[0m \u001b[0mend\u001b[0m \u001b[0;34m=\u001b[0m \u001b[0mmin\u001b[0m\u001b[0;34m(\u001b[0m\u001b[0mclip\u001b[0m\u001b[0;34m.\u001b[0m\u001b[0mduration\u001b[0m\u001b[0;34m,\u001b[0m \u001b[0mend\u001b[0m\u001b[0;34m)\u001b[0m\u001b[0;34m\u001b[0m\u001b[0;34m\u001b[0m\u001b[0m\n\u001b[1;32m      3\u001b[0m \u001b[0;34m\u001b[0m\u001b[0m\n\u001b[1;32m      4\u001b[0m \u001b[0;31m# Save the paths for later\u001b[0m\u001b[0;34m\u001b[0m\u001b[0;34m\u001b[0m\u001b[0;34m\u001b[0m\u001b[0m\n\u001b[1;32m      5\u001b[0m \u001b[0mclip_paths\u001b[0m \u001b[0;34m=\u001b[0m \u001b[0;34m[\u001b[0m\u001b[0;34m]\u001b[0m\u001b[0;34m\u001b[0m\u001b[0;34m\u001b[0m\u001b[0m\n",
            "\u001b[0;32m/usr/local/lib/python3.7/dist-packages/moviepy/video/io/VideoFileClip.py\u001b[0m in \u001b[0;36m__init__\u001b[0;34m(self, filename, has_mask, audio, audio_buffersize, target_resolution, resize_algorithm, audio_fps, audio_nbytes, verbose, fps_source)\u001b[0m\n\u001b[1;32m     89\u001b[0m                                          \u001b[0mtarget_resolution\u001b[0m\u001b[0;34m=\u001b[0m\u001b[0mtarget_resolution\u001b[0m\u001b[0;34m,\u001b[0m\u001b[0;34m\u001b[0m\u001b[0;34m\u001b[0m\u001b[0m\n\u001b[1;32m     90\u001b[0m                                          \u001b[0mresize_algo\u001b[0m\u001b[0;34m=\u001b[0m\u001b[0mresize_algorithm\u001b[0m\u001b[0;34m,\u001b[0m\u001b[0;34m\u001b[0m\u001b[0;34m\u001b[0m\u001b[0m\n\u001b[0;32m---> 91\u001b[0;31m                                          fps_source=fps_source)\n\u001b[0m\u001b[1;32m     92\u001b[0m \u001b[0;34m\u001b[0m\u001b[0m\n\u001b[1;32m     93\u001b[0m         \u001b[0;31m# Make some of the reader's attributes accessible from the clip\u001b[0m\u001b[0;34m\u001b[0m\u001b[0;34m\u001b[0m\u001b[0;34m\u001b[0m\u001b[0m\n",
            "\u001b[0;32m/usr/local/lib/python3.7/dist-packages/moviepy/video/io/ffmpeg_reader.py\u001b[0m in \u001b[0;36m__init__\u001b[0;34m(self, filename, print_infos, bufsize, pix_fmt, check_duration, target_resolution, resize_algo, fps_source)\u001b[0m\n\u001b[1;32m     31\u001b[0m         \u001b[0mself\u001b[0m\u001b[0;34m.\u001b[0m\u001b[0mproc\u001b[0m \u001b[0;34m=\u001b[0m \u001b[0;32mNone\u001b[0m\u001b[0;34m\u001b[0m\u001b[0;34m\u001b[0m\u001b[0m\n\u001b[1;32m     32\u001b[0m         infos = ffmpeg_parse_infos(filename, print_infos, check_duration,\n\u001b[0;32m---> 33\u001b[0;31m                                    fps_source)\n\u001b[0m\u001b[1;32m     34\u001b[0m         \u001b[0mself\u001b[0m\u001b[0;34m.\u001b[0m\u001b[0mfps\u001b[0m \u001b[0;34m=\u001b[0m \u001b[0minfos\u001b[0m\u001b[0;34m[\u001b[0m\u001b[0;34m'video_fps'\u001b[0m\u001b[0;34m]\u001b[0m\u001b[0;34m\u001b[0m\u001b[0;34m\u001b[0m\u001b[0m\n\u001b[1;32m     35\u001b[0m         \u001b[0mself\u001b[0m\u001b[0;34m.\u001b[0m\u001b[0msize\u001b[0m \u001b[0;34m=\u001b[0m \u001b[0minfos\u001b[0m\u001b[0;34m[\u001b[0m\u001b[0;34m'video_size'\u001b[0m\u001b[0;34m]\u001b[0m\u001b[0;34m\u001b[0m\u001b[0;34m\u001b[0m\u001b[0m\n",
            "\u001b[0;32m/usr/local/lib/python3.7/dist-packages/moviepy/video/io/ffmpeg_reader.py\u001b[0m in \u001b[0;36mffmpeg_parse_infos\u001b[0;34m(filename, print_infos, check_duration, fps_source)\u001b[0m\n\u001b[1;32m    270\u001b[0m         raise IOError((\"MoviePy error: the file %s could not be found!\\n\"\n\u001b[1;32m    271\u001b[0m                       \u001b[0;34m\"Please check that you entered the correct \"\u001b[0m\u001b[0;34m\u001b[0m\u001b[0;34m\u001b[0m\u001b[0m\n\u001b[0;32m--> 272\u001b[0;31m                       \"path.\")%filename)\n\u001b[0m\u001b[1;32m    273\u001b[0m \u001b[0;34m\u001b[0m\u001b[0m\n\u001b[1;32m    274\u001b[0m     \u001b[0mresult\u001b[0m \u001b[0;34m=\u001b[0m \u001b[0mdict\u001b[0m\u001b[0;34m(\u001b[0m\u001b[0;34m)\u001b[0m\u001b[0;34m\u001b[0m\u001b[0;34m\u001b[0m\u001b[0m\n",
            "\u001b[0;31mOSError\u001b[0m: MoviePy error: the file clip.mp4 could not be found!\nPlease check that you entered the correct path."
          ]
        }
      ]
    },
    {
      "cell_type": "code",
      "metadata": {
        "colab": {
          "base_uri": "https://localhost:8080/",
          "height": 75
        },
        "id": "eAUMoKrbzVWy",
        "outputId": "68e9a027-16a8-4a44-920f-d1f583e76796"
      },
      "source": [
        "# Play Audio \n",
        "Audio(clip_paths[0])"
      ],
      "execution_count": 14,
      "outputs": [
        {
          "output_type": "execute_result",
          "data": {
            "text/plain": [
              "<IPython.lib.display.Audio object>"
            ],
            "text/html": [
              "\n",
              "                <audio  controls=\"controls\" >\n",
              "                    <source src=\"data:audio/mpeg;base64,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\" type=\"audio/mpeg\" />\n",
              "                    Your browser does not support the audio element.\n",
              "                </audio>\n",
              "              "
            ]
          },
          "metadata": {},
          "execution_count": 14
        }
      ]
    },
    {
      "cell_type": "markdown",
      "metadata": {
        "id": "Fnr7uduAwMeT"
      },
      "source": [
        "## Transcribe Audio\n",
        "\n",
        "---"
      ]
    },
    {
      "cell_type": "markdown",
      "metadata": {
        "id": "iYwp2dJ9wP9E"
      },
      "source": [
        "The last step is turning the Audio into text! The Wav2Vec model does most of the job here for us. We do each 10-second clip one-by-one to save memory."
      ]
    },
    {
      "cell_type": "code",
      "metadata": {
        "id": "yRyfVsqeslc-",
        "outputId": "41fb01f0-cfe5-4576-e7b9-f97627b7170f",
        "colab": {
          "base_uri": "https://localhost:8080/"
        }
      },
      "source": [
        "cc = \"\"\n",
        "\n",
        "for path in clip_paths:\n",
        "    # Load the audio with the librosa library\n",
        "    input_audio, _ = librosa.load(path, \n",
        "                                sr=16000)\n",
        "\n",
        "    # Tokenize the audio\n",
        "    input_values = tokenizer(input_audio, return_tensors=\"pt\", padding=\"longest\").input_values\n",
        "\n",
        "    # Feed it through Wav2Vec & choose the most probable tokens\n",
        "    with torch.no_grad():\n",
        "      logits = model(input_values).logits\n",
        "      predicted_ids = torch.argmax(logits, dim=-1)\n",
        "\n",
        "    # Decode & add to our caption string\n",
        "    transcription = tokenizer.batch_decode(predicted_ids)[0]\n",
        "    cc += transcription + \" \""
      ],
      "execution_count": 15,
      "outputs": [
        {
          "output_type": "stream",
          "name": "stderr",
          "text": [
            "WARNING:py.warnings:/usr/local/lib/python3.7/dist-packages/librosa/core/audio.py:165: UserWarning: PySoundFile failed. Trying audioread instead.\n",
            "  warnings.warn(\"PySoundFile failed. Trying audioread instead.\")\n",
            "\n"
          ]
        }
      ]
    },
    {
      "cell_type": "code",
      "metadata": {
        "colab": {
          "base_uri": "https://localhost:8080/"
        },
        "id": "nzE6ZCHswxJZ",
        "outputId": "c41c37c7-78ee-432e-db97-daad5a1fe87f"
      },
      "source": [
        "# Here's your caption!\n",
        "# Note that there may be mistakes especially if the audio is noisy or there are uncommon words\n",
        "# If you picked the default video and change start to 0, you will see that the model gets confused by the word \"Anakin\"\n",
        "print(cc)"
      ],
      "execution_count": 16,
      "outputs": [
        {
          "output_type": "stream",
          "name": "stdout",
          "text": [
            "OHE QUE WORZON GET A LITTLE BUGGY IN WHY YOURE PLAT AH A \n"
          ]
        }
      ]
    },
    {
      "cell_type": "code",
      "source": [],
      "metadata": {
        "id": "0eFzqeAB2J2R"
      },
      "execution_count": null,
      "outputs": []
    }
  ]
}