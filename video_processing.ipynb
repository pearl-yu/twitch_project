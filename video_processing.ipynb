{
  "nbformat": 4,
  "nbformat_minor": 0,
  "metadata": {
    "colab": {
      "provenance": [],
      "mount_file_id": "1iaGHE18AYLOCBbETkYB7Dqv3fG1OBSPP",
      "authorship_tag": "ABX9TyPHbaiyyc59oGRPJ/sgS3h3",
      "include_colab_link": true
    },
    "kernelspec": {
      "name": "python3",
      "display_name": "Python 3"
    },
    "language_info": {
      "name": "python"
    }
  },
  "cells": [
    {
      "cell_type": "markdown",
      "metadata": {
        "id": "view-in-github",
        "colab_type": "text"
      },
      "source": [
        "<a href=\"https://colab.research.google.com/github/pearl-yu/twitch_project/blob/main/video_processing.ipynb\" target=\"_parent\"><img src=\"https://colab.research.google.com/assets/colab-badge.svg\" alt=\"Open In Colab\"/></a>"
      ]
    },
    {
      "cell_type": "code",
      "source": [
        "import pandas as pd\n",
        "import numpy as np"
      ],
      "metadata": {
        "id": "Ls691mFsGBYd"
      },
      "execution_count": 1,
      "outputs": []
    },
    {
      "cell_type": "code",
      "source": [
        "from google.colab import drive\n",
        "drive.mount('/content/drive')"
      ],
      "metadata": {
        "colab": {
          "base_uri": "https://localhost:8080/"
        },
        "id": "MTbd8VFiGESr",
        "outputId": "1535c9f4-aaab-4ca6-8a78-29e0f3580b1e"
      },
      "execution_count": 2,
      "outputs": [
        {
          "output_type": "stream",
          "name": "stdout",
          "text": [
            "Mounted at /content/drive\n"
          ]
        }
      ]
    },
    {
      "cell_type": "code",
      "source": [
        "%cd /content/drive/MyDrive/twitch_data"
      ],
      "metadata": {
        "colab": {
          "base_uri": "https://localhost:8080/"
        },
        "id": "CCXjOjDBGIol",
        "outputId": "46a1d9a1-eece-4234-a85a-30a2152a38c0"
      },
      "execution_count": 9,
      "outputs": [
        {
          "output_type": "stream",
          "name": "stdout",
          "text": [
            "/content/drive/MyDrive/twitch_data\n"
          ]
        }
      ]
    },
    {
      "cell_type": "code",
      "source": [
        "df = pd.read_csv('features_vid_df_lag_raid3.csv',lineterminator='\\n',index_col=0) \n",
        "df.columns"
      ],
      "metadata": {
        "colab": {
          "base_uri": "https://localhost:8080/"
        },
        "id": "cvtTB00OGOJY",
        "outputId": "ad55a1bb-eae3-47c3-822f-6ca9091ea043"
      },
      "execution_count": 4,
      "outputs": [
        {
          "output_type": "execute_result",
          "data": {
            "text/plain": [
              "Index(['user_id', 'video_id', 'video_url', 'num_messages', 'message_len',\n",
              "       'video_id.1', 'num_messages_per_min', 'user_id.1', 'user_name',\n",
              "       'duration_min', 'created_at', 'title', 'view_count', 'broadcaster_type',\n",
              "       'broadcast_description', 'broadcaster_created_at',\n",
              "       'avg_messages_per_min', 'video_url_lag', 'num_messages_lag',\n",
              "       'message_len_lag', 'video_id_lag', 'num_messages_per_min_lag',\n",
              "       'user_id_lag', 'user_name_lag', 'duration_min_lag', 'created_at_lag',\n",
              "       'title_lag', 'view_count_lag', 'broadcaster_type_lag',\n",
              "       'broadcast_description_lag', 'broadcaster_created_at_lag',\n",
              "       'avg_messages_per_min_lag', 'time_after_last_stream',\n",
              "       'time_after_last_stream_end', 'user_id_post', 'created_at_post',\n",
              "       'time_till_next_stream', 'time_till_last_stream_afterend', 'ended_at',\n",
              "       'num_raiders'],\n",
              "      dtype='object')"
            ]
          },
          "metadata": {},
          "execution_count": 4
        }
      ]
    },
    {
      "cell_type": "code",
      "execution_count": 5,
      "metadata": {
        "colab": {
          "base_uri": "https://localhost:8080/"
        },
        "id": "lCDZvbCpF-g8",
        "outputId": "0e096857-1808-4f9e-c0ec-62bd68acee65"
      },
      "outputs": [
        {
          "output_type": "execute_result",
          "data": {
            "text/plain": [
              "array(['https://www.twitch.tv/videos/1664180456',\n",
              "       'https://www.twitch.tv/videos/1664175477',\n",
              "       'https://www.twitch.tv/videos/1664160414', ...,\n",
              "       'https://www.twitch.tv/videos/971107742',\n",
              "       'https://www.twitch.tv/videos/971111307',\n",
              "       'https://www.twitch.tv/videos/971706892'], dtype=object)"
            ]
          },
          "metadata": {},
          "execution_count": 5
        }
      ],
      "source": [
        "df['video_url'].unique()"
      ]
    },
    {
      "cell_type": "code",
      "source": [
        "# The old column has incorrect values due to incorrect extration..\n",
        "df['video_id'] = df.video_url.str.extract('(\\d+)')"
      ],
      "metadata": {
        "id": "Zef7guoLOL9i"
      },
      "execution_count": 15,
      "outputs": []
    },
    {
      "cell_type": "code",
      "source": [
        "# https://github.com/ihabunek/twitch-dl \n",
        "!pip install twitch-dl"
      ],
      "metadata": {
        "id": "mmRwXJdKGh3T",
        "colab": {
          "base_uri": "https://localhost:8080/"
        },
        "outputId": "f65ffd84-ffbc-4f64-8148-509a9ee9cc27"
      },
      "execution_count": 6,
      "outputs": [
        {
          "output_type": "stream",
          "name": "stdout",
          "text": [
            "Looking in indexes: https://pypi.org/simple, https://us-python.pkg.dev/colab-wheels/public/simple/\n",
            "Collecting twitch-dl\n",
            "  Downloading twitch_dl-2.1.1-py3-none-any.whl (33 kB)\n",
            "Collecting m3u8<4.0.0,>=1.0.0\n",
            "  Downloading m3u8-3.3.0-py3-none-any.whl (24 kB)\n",
            "Collecting httpx<1.0.0,>=0.17.0\n",
            "  Downloading httpx-0.23.1-py3-none-any.whl (84 kB)\n",
            "\u001b[K     |████████████████████████████████| 84 kB 3.2 MB/s \n",
            "\u001b[?25hCollecting rfc3986[idna2008]<2,>=1.3\n",
            "  Downloading rfc3986-1.5.0-py2.py3-none-any.whl (31 kB)\n",
            "Collecting httpcore<0.17.0,>=0.15.0\n",
            "  Downloading httpcore-0.16.2-py3-none-any.whl (68 kB)\n",
            "\u001b[K     |████████████████████████████████| 68 kB 6.2 MB/s \n",
            "\u001b[?25hRequirement already satisfied: certifi in /usr/local/lib/python3.8/dist-packages (from httpx<1.0.0,>=0.17.0->twitch-dl) (2022.9.24)\n",
            "Collecting sniffio\n",
            "  Downloading sniffio-1.3.0-py3-none-any.whl (10 kB)\n",
            "Collecting h11<0.15,>=0.13\n",
            "  Downloading h11-0.14.0-py3-none-any.whl (58 kB)\n",
            "\u001b[K     |████████████████████████████████| 58 kB 5.5 MB/s \n",
            "\u001b[?25hCollecting anyio<5.0,>=3.0\n",
            "  Downloading anyio-3.6.2-py3-none-any.whl (80 kB)\n",
            "\u001b[K     |████████████████████████████████| 80 kB 8.0 MB/s \n",
            "\u001b[?25hRequirement already satisfied: idna>=2.8 in /usr/local/lib/python3.8/dist-packages (from anyio<5.0,>=3.0->httpcore<0.17.0,>=0.15.0->httpx<1.0.0,>=0.17.0->twitch-dl) (2.10)\n",
            "Collecting iso8601\n",
            "  Downloading iso8601-1.1.0-py3-none-any.whl (9.9 kB)\n",
            "Installing collected packages: sniffio, rfc3986, h11, anyio, iso8601, httpcore, m3u8, httpx, twitch-dl\n",
            "Successfully installed anyio-3.6.2 h11-0.14.0 httpcore-0.16.2 httpx-0.23.1 iso8601-1.1.0 m3u8-3.3.0 rfc3986-1.5.0 sniffio-1.3.0 twitch-dl-2.1.1\n"
          ]
        }
      ]
    },
    {
      "cell_type": "code",
      "source": [
        "%cd /content/drive/MyDrive/twitch_data/audios"
      ],
      "metadata": {
        "colab": {
          "base_uri": "https://localhost:8080/"
        },
        "id": "NdDnjqPDGGTT",
        "outputId": "57ae3ccd-483b-4911-bf5a-ffc82db7a628"
      },
      "execution_count": 9,
      "outputs": [
        {
          "output_type": "stream",
          "name": "stdout",
          "text": [
            "/content/drive/MyDrive/twitch_data/audios\n"
          ]
        }
      ]
    },
    {
      "cell_type": "code",
      "source": [
        "ids = df['video_id'].astype(int).values.tolist()\n",
        "print(len(ids))"
      ],
      "metadata": {
        "id": "9MQqlPb-OqZi"
      },
      "execution_count": null,
      "outputs": []
    },
    {
      "cell_type": "code",
      "source": [
        "# https://twitch-dl.bezdomni.net/commands/download.html\n",
        "!twitch-dl download  -q audio_only 1664142478 1664125952 1664118305 1664043740 1664026916 1664022551 1664012955 1663991154 1663984596"
      ],
      "metadata": {
        "id": "csQDO0iOH8xX"
      },
      "execution_count": null,
      "outputs": []
    },
    {
      "cell_type": "code",
      "source": [
        "# df['script'] = '!twitch-dl download  -q audio_only ' + df['video_id'].astype(str)"
      ],
      "metadata": {
        "id": "UOc9Qta0Wb2S"
      },
      "execution_count": 39,
      "outputs": []
    },
    {
      "cell_type": "code",
      "source": [
        "# df.to_csv(\"download_script.txt\", columns=[\"script\"], header=False, index=False)"
      ],
      "metadata": {
        "id": "iamDlQ2vXEVn"
      },
      "execution_count": 45,
      "outputs": []
    },
    {
      "cell_type": "code",
      "source": [
        "!twitch-dl download  -q audio_only 1663984596"
      ],
      "metadata": {
        "id": "rAQq33LeZuXK"
      },
      "execution_count": null,
      "outputs": []
    },
    {
      "cell_type": "code",
      "source": [
        "!twitch-dl download  -q audio_only 1663934832 1663909955 1663881774 1663866089 1663865647 1663865646 1663861914 1663861913 1663844209 1663843073"
      ],
      "metadata": {
        "id": "QGYD5ZYvZ_TV"
      },
      "execution_count": null,
      "outputs": []
    },
    {
      "cell_type": "code",
      "source": [
        "!twitch-dl download  -q audio_only 1663843060 1663804800 1663797183 1663778291 1663775178 1663774382 1663758571 1663746116 1663687262 1663663410\n"
      ],
      "metadata": {
        "id": "GB3EHFUVaGgs"
      },
      "execution_count": null,
      "outputs": []
    },
    {
      "cell_type": "code",
      "source": [
        "!twitch-dl download  -q audio_only 1663641432 1663637767 1663634646 1663625777 1663625007 1663621320 1663612027 1663598419 1663597294"
      ],
      "metadata": {
        "colab": {
          "base_uri": "https://localhost:8080/"
        },
        "id": "5ltelbfkaGeL",
        "outputId": "0ed8bd4c-a5e0-4b51-cf5c-1c3a60296852"
      },
      "execution_count": 16,
      "outputs": [
        {
          "output_type": "stream",
          "name": "stdout",
          "text": [
            "\u001b[2mLooking up video...\u001b[0m\n",
            "Found: \u001b[94mMarch to Asgard - God of War Ragnarök\u001b[0m by \u001b[93mGaLm\u001b[0m\n",
            "Output: \u001b[94m2022-11-27_1663641432_galm_march_to_asgard_god_of_war_ragnarök.mkv\u001b[0m\n",
            "\u001b[2mFetching access token...\u001b[0m\n",
            "\u001b[2mFetching playlists...\u001b[0m\n",
            "\u001b[2mFetching playlist...\u001b[0m\n",
            "\n",
            "Downloading 2907 VODs using 5 workers to /tmp/twitch-dl/ac42d9b84a789d2b94ee_galm_41544958379_1669507632/audio_only\n",
            "Downloaded 2865/2907 VODs \u001b[94m98%\u001b[0m of \u001b[94m~697.6MB\u001b[0m       \n",
            "\n",
            "Joining files...\n",
            "\u001b[2mffmpeg -i /tmp/twitch-dl/ac42d9b84a789d2b94ee_galm_41544958379_1669507632/audio_only/playlist_downloaded.m3u8 -c copy -metadata artist=GaLm -metadata title=March to Asgard - God of War Ragnarök -metadata encoded_by=twitch-dl -stats -loglevel warning file:2022-11-27_1663641432_galm_march_to_asgard_god_of_war_ragnarök.mkv\u001b[0m\n",
            "size=  579107kB time=08:04:21.93 bitrate= 163.2kbits/s speed=2.06e+03x    \n",
            "\n",
            "\u001b[2mDeleting temporary files...\u001b[0m\n",
            "\n",
            "Downloaded: \u001b[92m2022-11-27_1663641432_galm_march_to_asgard_god_of_war_ragnarök.mkv\u001b[0m\n",
            "\u001b[2mLooking up video...\u001b[0m\n",
            "Found: \u001b[94mAn Akatsuki Christmas! !J2Ruto\u001b[0m by \u001b[93mSmiteGame\u001b[0m\n",
            "Output: \u001b[94m2022-11-27_1663637767_smitegame_an_akatsuki_christmas_j2ruto.mkv\u001b[0m\n",
            "\u001b[2mFetching access token...\u001b[0m\n",
            "\u001b[2mFetching playlists...\u001b[0m\n",
            "\u001b[2mFetching playlist...\u001b[0m\n",
            "\n",
            "Downloading 1076 VODs using 5 workers to /tmp/twitch-dl/9dde51e4cc5159f5efae_smitegame_40546121193_1669507355/audio_only\n",
            "Downloaded 1073/1076 VODs \u001b[94m99%\u001b[0m of \u001b[94m~276.1MB\u001b[0m at \u001b[94m8.8MB/s\u001b[0m ETA \u001b[94m00:00\u001b[0m     \n",
            "\n",
            "Joining files...\n",
            "\u001b[2mffmpeg -i /tmp/twitch-dl/9dde51e4cc5159f5efae_smitegame_40546121193_1669507355/audio_only/playlist_downloaded.m3u8 -c copy -metadata artist=SmiteGame -metadata title=An Akatsuki Christmas! !J2Ruto -metadata encoded_by=twitch-dl -stats -loglevel warning file:2022-11-27_1663637767_smitegame_an_akatsuki_christmas_j2ruto.mkv\u001b[0m\n",
            "size=  214080kB time=02:59:17.35 bitrate= 163.0kbits/s speed=2.53e+03x    \n",
            "\n",
            "\u001b[2mDeleting temporary files...\u001b[0m\n",
            "\n",
            "Downloaded: \u001b[92m2022-11-27_1663637767_smitegame_an_akatsuki_christmas_j2ruto.mkv\u001b[0m\n",
            "\u001b[2mLooking up video...\u001b[0m\n",
            "Found: \u001b[94mSaturday Stweam! | !merch | !socials\u001b[0m by \u001b[93mamberwolf\u001b[0m\n",
            "Output: \u001b[94m2022-11-26_1663634646_amberwolf_saturday_stweam_merch_socials.mkv\u001b[0m\n",
            "\u001b[2mFetching access token...\u001b[0m\n",
            "\u001b[2mFetching playlists...\u001b[0m\n",
            "\u001b[2mFetching playlist...\u001b[0m\n",
            "\n",
            "Downloading 1537 VODs using 5 workers to /tmp/twitch-dl/8cf29e9753a9084ca323_amberwolf_41544930619_1669507161/audio_only\n",
            "Downloaded 1535/1537 VODs \u001b[94m99%\u001b[0m of \u001b[94m~320.1MB\u001b[0m at \u001b[94m2.2MB/s\u001b[0m ETA \u001b[94m00:00\u001b[0m     \n",
            "\n",
            "Joining files...\n",
            "\u001b[2mffmpeg -i /tmp/twitch-dl/8cf29e9753a9084ca323_amberwolf_41544930619_1669507161/audio_only/playlist_downloaded.m3u8 -c copy -metadata artist=amberwolf -metadata title=Saturday Stweam! | !merch | !socials -metadata encoded_by=twitch-dl -stats -loglevel warning file:2022-11-26_1663634646_amberwolf_saturday_stweam_merch_socials.mkv\u001b[0m\n",
            "size=  247438kB time=04:18:33.32 bitrate= 130.7kbits/s speed=2.45e+03x    \n",
            "\n",
            "\u001b[2mDeleting temporary files...\u001b[0m\n",
            "\n",
            "Downloaded: \u001b[92m2022-11-26_1663634646_amberwolf_saturday_stweam_merch_socials.mkv\u001b[0m\n",
            "\u001b[2mLooking up video...\u001b[0m\n",
            "Found: \u001b[94mNoPixel 3.0 - 451 Deputy Chief J. Bundy - Shift 456\u001b[0m by \u001b[93mOccamsSabre\u001b[0m\n",
            "Output: \u001b[94m2022-11-26_1663625777_occamssabre_nopixel_30_451_deputy_chief_j_bundy_shift_456.mkv\u001b[0m\n",
            "\u001b[2mFetching access token...\u001b[0m\n",
            "\u001b[2mFetching playlists...\u001b[0m\n",
            "\u001b[2mFetching playlist...\u001b[0m\n",
            "\n",
            "Downloading 2593 VODs using 5 workers to /tmp/twitch-dl/3c9011daebab275633f9_occamssabre_47532059501_1669506457/audio_only\n",
            "Downloaded 2591/2593 VODs \u001b[94m99%\u001b[0m of \u001b[94m~594.2MB\u001b[0m at \u001b[94m7.7MB/s\u001b[0m ETA \u001b[94m00:00\u001b[0m     \n",
            "\n",
            "Joining files...\n",
            "\u001b[2mffmpeg -i /tmp/twitch-dl/3c9011daebab275633f9_occamssabre_47532059501_1669506457/audio_only/playlist_downloaded.m3u8 -c copy -metadata artist=OccamsSabre -metadata title=NoPixel 3.0 - 451 Deputy Chief J. Bundy - Shift 456 -metadata encoded_by=twitch-dl -stats -loglevel warning file:2022-11-26_1663625777_occamssabre_nopixel_30_451_deputy_chief_j_bundy_shift_456.mkv\u001b[0m\n",
            "size=  412911kB time=07:12:10.02 bitrate= 130.4kbits/s speed=2.52e+03x    \n",
            "\n",
            "\u001b[2mDeleting temporary files...\u001b[0m\n",
            "\n",
            "Downloaded: \u001b[92m2022-11-26_1663625777_occamssabre_nopixel_30_451_deputy_chief_j_bundy_shift_456.mkv\u001b[0m\n",
            "\u001b[2mLooking up video...\u001b[0m\n",
            "Found: \u001b[94mANYONE HERE???\u001b[0m by \u001b[93mRememberTheBeat\u001b[0m\n",
            "Output: \u001b[94m2022-11-26_1663625007_rememberthebeat_anyone_here.mkv\u001b[0m\n",
            "\u001b[2mFetching access token...\u001b[0m\n",
            "\u001b[2mFetching playlists...\u001b[0m\n",
            "\u001b[2mFetching playlist...\u001b[0m\n",
            "\n",
            "Downloading 1142 VODs using 5 workers to /tmp/twitch-dl/7db35f7ae91f4d09ee36_rememberthebeat_41544891739_1669506391/audio_only\n",
            "Downloaded 1140/1142 VODs \u001b[94m99%\u001b[0m of \u001b[94m~187.1MB\u001b[0m at \u001b[94m1.6MB/s\u001b[0m ETA \u001b[94m00:00\u001b[0m     \n",
            "\n",
            "Joining files...\n",
            "\u001b[2mffmpeg -i /tmp/twitch-dl/7db35f7ae91f4d09ee36_rememberthebeat_41544891739_1669506391/audio_only/playlist_downloaded.m3u8 -c copy -metadata artist=RememberTheBeat -metadata title=ANYONE HERE??? -metadata encoded_by=twitch-dl -stats -loglevel warning file:2022-11-26_1663625007_rememberthebeat_anyone_here.mkv\u001b[0m\n",
            "size=   92934kB time=03:10:20.01 bitrate=  66.7kbits/s speed=3.04e+03x    \n",
            "\n",
            "\u001b[2mDeleting temporary files...\u001b[0m\n",
            "\n",
            "Downloaded: \u001b[92m2022-11-26_1663625007_rememberthebeat_anyone_here.mkv\u001b[0m\n",
            "\u001b[2mLooking up video...\u001b[0m\n",
            "Found: \u001b[94mGive Me God Of War Mode | Hardest Difficulty, Maximum RAGE!! | !clip\u001b[0m by \u001b[93mSWOL\u001b[0m\n",
            "Output: \u001b[94m2022-11-26_1663621320_swol_give_me_god_of_war_mode_hardest_difficulty_maximum_rage_clip.mkv\u001b[0m\n",
            "\u001b[2mFetching access token...\u001b[0m\n",
            "\u001b[2mFetching playlists...\u001b[0m\n",
            "\u001b[2mFetching playlist...\u001b[0m\n",
            "\n",
            "Downloading 3275 VODs using 5 workers to /tmp/twitch-dl/4a4befda72ddac56ed14_swol_40546002057_1669506076/audio_only\n",
            "Downloaded 3274/3275 VODs \u001b[94m100%\u001b[0m of \u001b[94m~677.1MB\u001b[0m at \u001b[94m6.8MB/s\u001b[0m ETA \u001b[94m00:00\u001b[0m     \n",
            "\n",
            "Joining files...\n",
            "\u001b[2mffmpeg -i /tmp/twitch-dl/4a4befda72ddac56ed14_swol_40546002057_1669506076/audio_only/playlist_downloaded.m3u8 -c copy -metadata artist=SWOL -metadata title=Give Me God Of War Mode | Hardest Difficulty, Maximum RAGE!! | !clip -metadata encoded_by=twitch-dl -stats -loglevel warning file:2022-11-26_1663621320_swol_give_me_god_of_war_mode_hardest_difficulty_maximum_rage_clip.mkv\u001b[0m\n",
            "size=  522365kB time=09:05:49.99 bitrate= 130.7kbits/s speed=1.56e+03x    \n",
            "\n",
            "\u001b[2mDeleting temporary files...\u001b[0m\n",
            "\n",
            "Downloaded: \u001b[92m2022-11-26_1663621320_swol_give_me_god_of_war_mode_hardest_difficulty_maximum_rage_clip.mkv\u001b[0m\n",
            "\u001b[2mLooking up video...\u001b[0m\n",
            "Found: \u001b[94mBack on the path with Reid! | NEW !Merch out now!! | 🟣  !Eye Tracker\u001b[0m by \u001b[93mWaterdance\u001b[0m\n",
            "Output: \u001b[94m2022-11-26_1663612027_waterdance_back_on_the_path_with_reid_new_merch_out_now_eye_tracker.mkv\u001b[0m\n",
            "\u001b[2mFetching access token...\u001b[0m\n",
            "\u001b[2mFetching playlists...\u001b[0m\n",
            "\u001b[2mFetching playlist...\u001b[0m\n",
            "\n",
            "Downloading 2889 VODs using 5 workers to /tmp/twitch-dl/9bbe7d4a4e8a18977821_waterdance_47531956525_1669505330/audio_only\n",
            "Downloaded 2888/2889 VODs \u001b[94m100%\u001b[0m of \u001b[94m~744.5MB\u001b[0m at \u001b[94m7.7MB/s\u001b[0m ETA \u001b[94m00:00\u001b[0m     \n",
            "\n",
            "Joining files...\n",
            "\u001b[2mffmpeg -i /tmp/twitch-dl/9bbe7d4a4e8a18977821_waterdance_47531956525_1669505330/audio_only/playlist_downloaded.m3u8 -c copy -metadata artist=Waterdance -metadata title=Back on the path with Reid! | NEW !Merch out now!! | 🟣  !Eye Tracker -metadata encoded_by=twitch-dl -stats -loglevel warning file:2022-11-26_1663612027_waterdance_back_on_the_path_with_reid_new_merch_out_now_eye_tracker.mkv\u001b[0m\n",
            "size=  576450kB time=08:02:41.96 bitrate= 163.1kbits/s speed=2.16e+03x    \n",
            "\n",
            "\u001b[2mDeleting temporary files...\u001b[0m\n",
            "\n",
            "Downloaded: \u001b[92m2022-11-26_1663612027_waterdance_back_on_the_path_with_reid_new_merch_out_now_eye_tracker.mkv\u001b[0m\n",
            "\u001b[2mLooking up video...\u001b[0m\n",
            "Found: \u001b[94m🔥ZOMBIES 🔥 CHILLIN 🔥GAMNG | !tiktok !yt !disc !Adv\u001b[0m by \u001b[93mSwixieThinks\u001b[0m\n",
            "Output: \u001b[94m2022-11-26_1663598419_swixiethinks_zombies_chillin_gamng_tiktok_yt_disc_adv.mkv\u001b[0m\n",
            "\u001b[2mFetching access token...\u001b[0m\n",
            "\u001b[2mFetching playlists...\u001b[0m\n",
            "\u001b[2mFetching playlist...\u001b[0m\n",
            "\n",
            "Downloading 1552 VODs using 5 workers to /tmp/twitch-dl/59e573b0a8c63072dcbd_swixiethinks_40545836281_1669504246/audio_only\n",
            "Downloaded 1550/1552 VODs \u001b[94m99%\u001b[0m of \u001b[94m~321.5MB\u001b[0m at \u001b[94m6.6MB/s\u001b[0m ETA \u001b[94m00:00\u001b[0m     \n",
            "\n",
            "Joining files...\n",
            "\u001b[2mffmpeg -i /tmp/twitch-dl/59e573b0a8c63072dcbd_swixiethinks_40545836281_1669504246/audio_only/playlist_downloaded.m3u8 -c copy -metadata artist=SwixieThinks -metadata title=🔥ZOMBIES 🔥 CHILLIN 🔥GAMNG | !tiktok !yt !disc !Adv -metadata encoded_by=twitch-dl -stats -loglevel warning file:2022-11-26_1663598419_swixiethinks_zombies_chillin_gamng_tiktok_yt_disc_adv.mkv\u001b[0m\n",
            "size=  247599kB time=04:18:43.39 bitrate= 130.7kbits/s speed=2.69e+03x    \n",
            "\n",
            "\u001b[2mDeleting temporary files...\u001b[0m\n",
            "\n",
            "Downloaded: \u001b[92m2022-11-26_1663598419_swixiethinks_zombies_chillin_gamng_tiktok_yt_disc_adv.mkv\u001b[0m\n",
            "\u001b[2mLooking up video...\u001b[0m\n",
            "Found: \u001b[94mDrunk High or Stupid Episode 11 || discord.gg/coomernation !12hour\u001b[0m by \u001b[93mYosoykush\u001b[0m\n",
            "Output: \u001b[94m2022-11-26_1663597294_yosoykush_drunk_high_or_stupid_episode_11_discordggcoomernation_12hour.mkv\u001b[0m\n",
            "\u001b[2mFetching access token...\u001b[0m\n",
            "\u001b[2mFetching playlists...\u001b[0m\n",
            "\u001b[2mFetching playlist...\u001b[0m\n",
            "\n",
            "Downloading 1558 VODs using 5 workers to /tmp/twitch-dl/8d2a0d12b1d09a00ca8f_yosoykush_40545828169_1669504157/audio_only\n",
            "Downloaded 1555/1558 VODs \u001b[94m99%\u001b[0m of \u001b[94m~668.3MB\u001b[0m at \u001b[94m14.1MB/s\u001b[0m ETA \u001b[94m00:00\u001b[0m     \n",
            "\n",
            "Joining files...\n",
            "\u001b[2mffmpeg -i /tmp/twitch-dl/8d2a0d12b1d09a00ca8f_yosoykush_40545828169_1669504157/audio_only/playlist_downloaded.m3u8 -c copy -metadata artist=Yosoykush -metadata title=Drunk High or Stupid Episode 11 || discord.gg/coomernation !12hour -metadata encoded_by=twitch-dl -stats -loglevel warning file:2022-11-26_1663597294_yosoykush_drunk_high_or_stupid_episode_11_discordggcoomernation_12hour.mkv\u001b[0m\n",
            "size=  583543kB time=04:19:37.62 bitrate= 306.9kbits/s speed=1.74e+03x    \n",
            "\n",
            "\u001b[2mDeleting temporary files...\u001b[0m\n",
            "\n",
            "Downloaded: \u001b[92m2022-11-26_1663597294_yosoykush_drunk_high_or_stupid_episode_11_discordggcoomernation_12hour.mkv\u001b[0m\n"
          ]
        }
      ]
    },
    {
      "cell_type": "code",
      "source": [
        "!twitch-dl download  -q audio_only 1663580258 1663571734 1663569269 1663540110 1663504191 1663493545 1663489897 1663460626 1663446516 1663437516"
      ],
      "metadata": {
        "colab": {
          "base_uri": "https://localhost:8080/"
        },
        "id": "B3gHI_ZFaGcC",
        "outputId": "8f1cc858-6710-42fd-b008-96265d97d0ee"
      },
      "execution_count": 19,
      "outputs": [
        {
          "output_type": "stream",
          "name": "stdout",
          "text": [
            "Found: \u001b[94mshowing the cod dads how its done // PC, M&K or controller? // !youtube\u001b[0m by \u001b[93mDrasseL\u001b[0m\n",
            "Output: \u001b[94m2022-11-26_1663571734_drassel_showing_the_cod_dads_how_its_done_pc_mk_or_controller_youtube.mkv\u001b[0m\n",
            "\u001b[2mFetching access token...\u001b[0m\n",
            "\u001b[2mFetching playlists...\u001b[0m\n",
            "\u001b[2mFetching playlist...\u001b[0m\n",
            "\n",
            "Downloading 2103 VODs using 5 workers to /tmp/twitch-dl/f7917f11503e8bce8fda_drassel_40545658073_1669502214/audio_only\n",
            "Downloaded 2102/2103 VODs \u001b[94m100%\u001b[0m of \u001b[94m~449.0MB\u001b[0m at \u001b[94m6.2MB/s\u001b[0m ETA \u001b[94m00:00\u001b[0m     \n",
            "\n",
            "Joining files...\n",
            "\u001b[2mffmpeg -i /tmp/twitch-dl/f7917f11503e8bce8fda_drassel_40545658073_1669502214/audio_only/playlist_downloaded.m3u8 -c copy -metadata artist=DrasseL -metadata title=showing the cod dads how its done // PC, M&K or controller? // !youtube -metadata encoded_by=twitch-dl -stats -loglevel warning file:2022-11-26_1663571734_drassel_showing_the_cod_dads_how_its_done_pc_mk_or_controller_youtube.mkv\u001b[0m\n",
            "size=  335429kB time=05:50:29.99 bitrate= 130.7kbits/s speed=2.07e+03x    \n",
            "\n",
            "\u001b[2mDeleting temporary files...\u001b[0m\n",
            "\n",
            "Downloaded: \u001b[92m2022-11-26_1663571734_drassel_showing_the_cod_dads_how_its_done_pc_mk_or_controller_youtube.mkv\u001b[0m\n",
            "\u001b[2mLooking up video...\u001b[0m\n",
            "Found: \u001b[94mWhy Lumber Is So Expensive.\u001b[0m by \u001b[93mbotimegaming\u001b[0m\n",
            "Output: \u001b[94m2022-11-26_1663569269_botimegaming_why_lumber_is_so_expensive.mkv\u001b[0m\n",
            "\u001b[2mFetching access token...\u001b[0m\n",
            "\u001b[2mFetching playlists...\u001b[0m\n",
            "\u001b[2mFetching playlist...\u001b[0m\n",
            "\n",
            "Downloading 1761 VODs using 5 workers to /tmp/twitch-dl/29bdfb9765a501b560e7_botimegaming_47531651773_1669502014/audio_only\n",
            "Downloaded 1757/1761 VODs \u001b[94m99%\u001b[0m of \u001b[94m~964.1MB\u001b[0m at \u001b[94m14.8MB/s\u001b[0m ETA \u001b[94m00:00\u001b[0m     \n",
            "\n",
            "Joining files...\n",
            "\u001b[2mffmpeg -i /tmp/twitch-dl/29bdfb9765a501b560e7_botimegaming_47531651773_1669502014/audio_only/playlist_downloaded.m3u8 -c copy -metadata artist=botimegaming -metadata title=Why Lumber Is So Expensive. -metadata encoded_by=twitch-dl -stats -loglevel warning file:2022-11-26_1663569269_botimegaming_why_lumber_is_so_expensive.mkv\u001b[0m\n",
            "size=  856860kB time=06:05:26.37 bitrate= 320.1kbits/s speed=1.58e+03x    \n",
            "\n",
            "\u001b[2mDeleting temporary files...\u001b[0m\n",
            "\n",
            "Downloaded: \u001b[92m2022-11-26_1663569269_botimegaming_why_lumber_is_so_expensive.mkv\u001b[0m\n",
            "\u001b[2mLooking up video...\u001b[0m\n",
            "Found: \u001b[94mnew merch at shroud.gg\u001b[0m by \u001b[93mshroud\u001b[0m\n",
            "Output: \u001b[94m2022-11-26_1663540110_shroud_new_merch_at_shroudgg.mkv\u001b[0m\n",
            "\u001b[2mFetching access token...\u001b[0m\n",
            "\u001b[2mFetching playlists...\u001b[0m\n",
            "\u001b[2mFetching playlist...\u001b[0m\n",
            "\n",
            "Downloading 1988 VODs using 5 workers to /tmp/twitch-dl/821fc31f0a1e73e2ece3_shroud_41544570667_1669499852/audio_only\n",
            "Downloaded 1987/1988 VODs \u001b[94m100%\u001b[0m of \u001b[94m~415.2MB\u001b[0m at \u001b[94m2.1MB/s\u001b[0m ETA \u001b[94m00:00\u001b[0m     \n",
            "\n",
            "Joining files...\n",
            "\u001b[2mffmpeg -i /tmp/twitch-dl/821fc31f0a1e73e2ece3_shroud_41544570667_1669499852/audio_only/playlist_downloaded.m3u8 -c copy -metadata artist=shroud -metadata title=new merch at shroud.gg -metadata encoded_by=twitch-dl -stats -loglevel warning file:2022-11-26_1663540110_shroud_new_merch_at_shroudgg.mkv\u001b[0m\n",
            "size=  317087kB time=05:31:20.00 bitrate= 130.7kbits/s speed=2.39e+03x    \n",
            "\n",
            "\u001b[2mDeleting temporary files...\u001b[0m\n",
            "\n",
            "Downloaded: \u001b[92m2022-11-26_1663540110_shroud_new_merch_at_shroudgg.mkv\u001b[0m\n",
            "\u001b[2mLooking up video...\u001b[0m\n",
            "Found: \u001b[94m🎬 STUFFED! | The Hollywood Bob Show | !skins | !giveaway | !factor #ad | !laptop | TTS 300 | !creator | !newvid | Season One\u001b[0m by \u001b[93mHollywoodBobLIVE\u001b[0m\n",
            "Output: \u001b[94m2022-11-26_1663504191_hollywoodboblive_stuffed_the_hollywood_bob_show_skins_giveaway_factor_ad_laptop_tts_300_creator_newvid_season_one.mkv\u001b[0m\n",
            "\u001b[2mFetching access token...\u001b[0m\n",
            "\u001b[2mFetching playlists...\u001b[0m\n",
            "\u001b[2mFetching playlist...\u001b[0m\n",
            "\n",
            "Downloading 2510 VODs using 5 workers to /tmp/twitch-dl/33dd6f8e3008247b4524_hollywoodboblive_47531247533_1669497235/audio_only\n",
            "Downloaded 2509/2510 VODs \u001b[94m99%\u001b[0m of \u001b[94m~646.1MB\u001b[0m at \u001b[94m8.4MB/s\u001b[0m ETA \u001b[94m00:00\u001b[0m     \n",
            "\n",
            "Joining files...\n",
            "\u001b[2mffmpeg -i /tmp/twitch-dl/33dd6f8e3008247b4524_hollywoodboblive_47531247533_1669497235/audio_only/playlist_downloaded.m3u8 -c copy -metadata artist=HollywoodBobLIVE -metadata title=🎬 STUFFED! | The Hollywood Bob Show | !skins | !giveaway | !factor #ad | !laptop | TTS 300 | !creator | !newvid | Season One -metadata encoded_by=twitch-dl -stats -loglevel warning file:2022-11-26_1663504191_hollywoodboblive_stuffed_the_hollywood_bob_show_skins_giveaway_factor_ad_laptop_tts_300_creator_newvid_season_one.mkv\u001b[0m\n",
            "size=  499528kB time=06:58:14.97 bitrate= 163.1kbits/s speed=2.22e+03x    \n",
            "\n",
            "\u001b[2mDeleting temporary files...\u001b[0m\n",
            "\n",
            "Downloaded: \u001b[92m2022-11-26_1663504191_hollywoodboblive_stuffed_the_hollywood_bob_show_skins_giveaway_factor_ad_laptop_tts_300_creator_newvid_season_one.mkv\u001b[0m\n",
            "\u001b[2mLooking up video...\u001b[0m\n",
            "Found: \u001b[94mS A T U R D A Y - NIGHT | !bacon\u001b[0m by \u001b[93mSmiteGame\u001b[0m\n",
            "Output: \u001b[94m2022-11-26_1663493545_smitegame_s_a_t_u_r_d_a_y_night_bacon.mkv\u001b[0m\n",
            "\u001b[2mFetching access token...\u001b[0m\n",
            "\u001b[2mFetching playlists...\u001b[0m\n",
            "\u001b[2mFetching playlist...\u001b[0m\n",
            "\n",
            "Downloading 1053 VODs using 5 workers to /tmp/twitch-dl/acde7cfb69d1ee8839be_smitegame_40545177049_1669496518/audio_only\n",
            "Downloaded 1052/1053 VODs \u001b[94m99%\u001b[0m of \u001b[94m~277.7MB\u001b[0m at \u001b[94m9.3MB/s\u001b[0m ETA \u001b[94m00:00\u001b[0m     \n",
            "\n",
            "Joining files...\n",
            "\u001b[2mffmpeg -i /tmp/twitch-dl/acde7cfb69d1ee8839be_smitegame_40545177049_1669496518/audio_only/playlist_downloaded.m3u8 -c copy -metadata artist=SmiteGame -metadata title=S A T U R D A Y - NIGHT | !bacon -metadata encoded_by=twitch-dl -stats -loglevel warning file:2022-11-26_1663493545_smitegame_s_a_t_u_r_d_a_y_night_bacon.mkv\u001b[0m\n",
            "size=  214623kB time=02:59:05.51 bitrate= 163.6kbits/s speed=2.31e+03x    \n",
            "\n",
            "\u001b[2mDeleting temporary files...\u001b[0m\n",
            "\n",
            "Downloaded: \u001b[92m2022-11-26_1663493545_smitegame_s_a_t_u_r_d_a_y_night_bacon.mkv\u001b[0m\n",
            "\u001b[2mLooking up video...\u001b[0m\n",
            "Found: \u001b[94mLIVE: Hokori v Infinity (Bo2) | BTS Pro Series 13 Americas: Phase 2 w/ rkryptic  & neph\u001b[0m by \u001b[93mBeyondTheSummit\u001b[0m\n",
            "Output: \u001b[94m2022-11-26_1663489897_beyondthesummit_live_hokori_v_infinity_bo2_bts_pro_series_13_americas_phase_2_w_rkryptic_neph.mkv\u001b[0m\n",
            "\u001b[2mFetching access token...\u001b[0m\n",
            "\u001b[2mFetching playlists...\u001b[0m\n",
            "\u001b[2mFetching playlist...\u001b[0m\n",
            "\n",
            "Downloading 2173 VODs using 5 workers to /tmp/twitch-dl/f01e128cb48a91a2ab68_beyondthesummit_41544407259_1669496303/audio_only\n",
            "Downloaded 2172/2173 VODs \u001b[94m100%\u001b[0m of \u001b[94m~549.2MB\u001b[0m at \u001b[94m2.5MB/s\u001b[0m ETA \u001b[94m00:00\u001b[0m     \n",
            "\n",
            "Joining files...\n",
            "\u001b[2mffmpeg -i /tmp/twitch-dl/f01e128cb48a91a2ab68_beyondthesummit_41544407259_1669496303/audio_only/playlist_downloaded.m3u8 -c copy -metadata artist=BeyondTheSummit -metadata title=LIVE: Hokori v Infinity (Bo2) | BTS Pro Series 13 Americas: Phase 2 w/ rkryptic  & neph -metadata encoded_by=twitch-dl -stats -loglevel warning file:2022-11-26_1663489897_beyondthesummit_live_hokori_v_infinity_bo2_bts_pro_series_13_americas_phase_2_w_rkryptic_neph.mkv\u001b[0m\n",
            "size=  419941kB time=06:02:07.91 bitrate= 158.3kbits/s speed=2.03e+03x    \n",
            "\n",
            "\u001b[2mDeleting temporary files...\u001b[0m\n",
            "\n",
            "Downloaded: \u001b[92m2022-11-26_1663489897_beyondthesummit_live_hokori_v_infinity_bo2_bts_pro_series_13_americas_phase_2_w_rkryptic_neph.mkv\u001b[0m\n",
            "\u001b[2mLooking up video...\u001b[0m\n",
            "Found: \u001b[94mCAN YOU BELIEVE ITS THE MF WEEKEND STILL // !outnow\u001b[0m by \u001b[93mJERICHO\u001b[0m\n",
            "Output: \u001b[94m2022-11-26_1663460626_jericho_can_you_believe_its_the_mf_weekend_still_outnow.mkv\u001b[0m\n",
            "\u001b[2mFetching access token...\u001b[0m\n",
            "\u001b[2mFetching playlists...\u001b[0m\n",
            "\u001b[2mFetching playlist...\u001b[0m\n",
            "\n",
            "Downloading 1231 VODs using 5 workers to /tmp/twitch-dl/cbcbbe55d2960ca2b80b_jericho_41544316235_1669493966/audio_only\n",
            "Downloaded 1228/1231 VODs \u001b[94m99%\u001b[0m of \u001b[94m~319.7MB\u001b[0m at \u001b[94m2.5MB/s\u001b[0m ETA \u001b[94m00:00\u001b[0m     \n",
            "\n",
            "Joining files...\n",
            "\u001b[2mffmpeg -i /tmp/twitch-dl/cbcbbe55d2960ca2b80b_jericho_41544316235_1669493966/audio_only/playlist_downloaded.m3u8 -c copy -metadata artist=JERICHO -metadata title=CAN YOU BELIEVE ITS THE MF WEEKEND STILL // !outnow -metadata encoded_by=twitch-dl -stats -loglevel warning file:2022-11-26_1663460626_jericho_can_you_believe_its_the_mf_weekend_still_outnow.mkv\u001b[0m\n",
            "size=  247319kB time=03:27:01.14 bitrate= 163.1kbits/s speed=2.22e+03x    \n",
            "\n",
            "\u001b[2mDeleting temporary files...\u001b[0m\n",
            "\n",
            "Downloaded: \u001b[92m2022-11-26_1663460626_jericho_can_you_believe_its_the_mf_weekend_still_outnow.mkv\u001b[0m\n",
            "\u001b[2mLooking up video...\u001b[0m\n",
            "Found: \u001b[94moverwatch | !sub !merch !xset !org\u001b[0m by \u001b[93mewokttv\u001b[0m\n",
            "Output: \u001b[94m2022-11-26_1663446516_ewokttv_overwatch_sub_merch_xset_org.mkv\u001b[0m\n",
            "\u001b[2mFetching access token...\u001b[0m\n",
            "\u001b[2mFetching playlists...\u001b[0m\n",
            "\u001b[2mFetching playlist...\u001b[0m\n",
            "\n",
            "Downloading 404 VODs using 5 workers to /tmp/twitch-dl/ffad3c057bb8276b6794_ewokttv_47530925181_1669492936/audio_only\n",
            "Downloaded 400/404 VODs \u001b[94m99%\u001b[0m of \u001b[94m~102.7MB\u001b[0m at \u001b[94m8.7MB/s\u001b[0m ETA \u001b[94m00:00\u001b[0m     \n",
            "\n",
            "Joining files...\n",
            "\u001b[2mffmpeg -i /tmp/twitch-dl/ffad3c057bb8276b6794_ewokttv_47530925181_1669492936/audio_only/playlist_downloaded.m3u8 -c copy -metadata artist=ewokttv -metadata title=overwatch | !sub !merch !xset !org -metadata encoded_by=twitch-dl -stats -loglevel warning file:2022-11-26_1663446516_ewokttv_overwatch_sub_merch_xset_org.mkv\u001b[0m\n",
            "size=   78589kB time=01:07:12.00 bitrate= 159.7kbits/s speed=2.32e+03x    \n",
            "\n",
            "\u001b[2mDeleting temporary files...\u001b[0m\n",
            "\n",
            "Downloaded: \u001b[92m2022-11-26_1663446516_ewokttv_overwatch_sub_merch_xset_org.mkv\u001b[0m\n",
            "\u001b[2mLooking up video...\u001b[0m\n",
            "Found: \u001b[94mWilson Hart NoPixel Wl | The Hidden | !youtube !discord !hidden | Twitter: TBNRKenWorth\u001b[0m by \u001b[93mTBNRKenWorth\u001b[0m\n",
            "Output: \u001b[94m2022-11-26_1663437516_tbnrkenworth_wilson_hart_nopixel_wl_the_hidden_youtube_discord_hidden_twitter_tbnrkenworth.mkv\u001b[0m\n",
            "\u001b[2mFetching access token...\u001b[0m\n",
            "\u001b[2mFetching playlists...\u001b[0m\n",
            "\u001b[2mFetching playlist...\u001b[0m\n",
            "\n",
            "Downloading 3065 VODs using 5 workers to /tmp/twitch-dl/c5f3ea450fab505d86f2_tbnrkenworth_47530879101_1669492362/audio_only\n",
            "Downloaded 3062/3065 VODs \u001b[94m99%\u001b[0m of \u001b[94m~674.2MB\u001b[0m at \u001b[94m7.3MB/s\u001b[0m ETA \u001b[94m00:00\u001b[0m     \n",
            "\n",
            "Joining files...\n",
            "\u001b[2mffmpeg -i /tmp/twitch-dl/c5f3ea450fab505d86f2_tbnrkenworth_47530879101_1669492362/audio_only/playlist_downloaded.m3u8 -c copy -metadata artist=TBNRKenWorth -metadata title=Wilson Hart NoPixel Wl | The Hidden | !youtube !discord !hidden | Twitter: TBNRKenWorth -metadata encoded_by=twitch-dl -stats -loglevel warning file:2022-11-26_1663437516_tbnrkenworth_wilson_hart_nopixel_wl_the_hidden_youtube_discord_hidden_twitter_tbnrkenworth.mkv\u001b[0m\n",
            "size=  518835kB time=09:02:08.68 bitrate= 130.7kbits/s speed=2.17e+03x    \n",
            "\n",
            "\u001b[2mDeleting temporary files...\u001b[0m\n",
            "\n",
            "Downloaded: \u001b[92m2022-11-26_1663437516_tbnrkenworth_wilson_hart_nopixel_wl_the_hidden_youtube_discord_hidden_twitter_tbnrkenworth.mkv\u001b[0m\n"
          ]
        }
      ]
    },
    {
      "cell_type": "code",
      "source": [
        "!twitch-dl download  -q audio_only 1663374744 1663356992 1663347173 1663344120 1663336600 1663328321 1663328182 1663317813 1663303599"
      ],
      "metadata": {
        "id": "e12Lx8vSaGYa"
      },
      "execution_count": null,
      "outputs": []
    },
    {
      "cell_type": "code",
      "source": [
        "!twitch-dl download  -q audio_only 1663257723 1663242061 1663226548 1663226212 1663222811 1663211354 1663206760 1663191849"
      ],
      "metadata": {
        "id": "Gr5snvzuaGWa"
      },
      "execution_count": null,
      "outputs": []
    },
    {
      "cell_type": "code",
      "source": [
        "!twitch-dl download  -q audio_only 1663191728 1663124699 1663101043 1663080184 1663063768 1663060791 1663005093 1662988459 1662988460 1662986926 "
      ],
      "metadata": {
        "id": "nVHe43YyaGUi"
      },
      "execution_count": null,
      "outputs": []
    },
    {
      "cell_type": "code",
      "source": [
        "!twitch-dl download  -q audio_only 1662986917 1662958338 1662832078 1662813140 1662810401 1662768610 1662768406 1662759419 1662748583 1662748052"
      ],
      "metadata": {
        "colab": {
          "base_uri": "https://localhost:8080/"
        },
        "id": "mEG7RTVKaGSU",
        "outputId": "f078b595-a5a7-44b5-cf54-e489faecf284"
      },
      "execution_count": null,
      "outputs": [
        {
          "output_type": "stream",
          "name": "stdout",
          "text": [
            "Downloaded 7372/7373 VODs \u001b[94m99%\u001b[0m of \u001b[94m~1.8GB\u001b[0m at \u001b[94m7.4MB/s\u001b[0m ETA \u001b[94m00:00\u001b[0m     \n",
            "\n",
            "Joining files...\n",
            "\u001b[2mffmpeg -i /tmp/twitch-dl/8e8a249ff893fcb159ad_clout_47527022093_1669423737/audio_only/playlist_downloaded.m3u8 -c copy -metadata artist=clout -metadata title=MELLY & JAX IN DISTRICT 10 | DISTRICT 10 AL/WL | D10 | DUNKIN' DONUTS OWNER | !d10 !sponsor -metadata encoded_by=twitch-dl -stats -loglevel warning file:2022-11-26_1662768406_clout_melly_jax_in_district_10_district_10_alwl_d10_dunkin_donuts_owner_d10_sponsor.mkv\u001b[0m\n"
          ]
        }
      ]
    },
    {
      "cell_type": "code",
      "source": [
        "!twitch-dl download  -q audio_only 1662746549 1662724049 1662720645 1662718957 1662710620 1662686753 1662684947 1662681573"
      ],
      "metadata": {
        "id": "b46AqbiqaGQQ"
      },
      "execution_count": null,
      "outputs": []
    },
    {
      "cell_type": "code",
      "source": [
        "ids[100:200].reshape(20,5)"
      ],
      "metadata": {
        "id": "7rveB56QJWEG"
      },
      "execution_count": null,
      "outputs": []
    },
    {
      "cell_type": "code",
      "source": [
        "!twitch-dl download  -q audio_only"
      ],
      "metadata": {
        "id": "EhjSiCTuaGOK"
      },
      "execution_count": null,
      "outputs": []
    },
    {
      "cell_type": "code",
      "source": [
        "!twitch-dl download  -q audio_only"
      ],
      "metadata": {
        "id": "SUp1srTXaGL4"
      },
      "execution_count": null,
      "outputs": []
    },
    {
      "cell_type": "code",
      "source": [
        "!twitch-dl download  -q audio_only"
      ],
      "metadata": {
        "id": "Ua_RSVOdaGIP"
      },
      "execution_count": null,
      "outputs": []
    },
    {
      "cell_type": "code",
      "source": [
        "!twitch-dl download  -q audio_only"
      ],
      "metadata": {
        "id": "C_s7uQ6PaF-3"
      },
      "execution_count": null,
      "outputs": []
    },
    {
      "cell_type": "code",
      "source": [
        "!twitch-dl download  -q audio_only"
      ],
      "metadata": {
        "id": "nA6s8u8icLj6"
      },
      "execution_count": null,
      "outputs": []
    },
    {
      "cell_type": "code",
      "source": [
        "!twitch-dl download  -q audio_only"
      ],
      "metadata": {
        "id": "EwC-v_z_cQn6"
      },
      "execution_count": null,
      "outputs": []
    },
    {
      "cell_type": "code",
      "source": [
        "!twitch-dl download  -q audio_only"
      ],
      "metadata": {
        "id": "KpIVej3rcQlh"
      },
      "execution_count": null,
      "outputs": []
    },
    {
      "cell_type": "code",
      "source": [
        "!twitch-dl download  -q audio_only"
      ],
      "metadata": {
        "id": "24v5Q9VlcQjQ"
      },
      "execution_count": null,
      "outputs": []
    },
    {
      "cell_type": "code",
      "source": [
        "!twitch-dl download  -q audio_only"
      ],
      "metadata": {
        "id": "rxkwPc-FcQhH"
      },
      "execution_count": null,
      "outputs": []
    },
    {
      "cell_type": "code",
      "source": [
        "!twitch-dl download  -q audio_only"
      ],
      "metadata": {
        "id": "MBpv9hPwcQeo"
      },
      "execution_count": null,
      "outputs": []
    },
    {
      "cell_type": "code",
      "source": [
        "!twitch-dl download  -q audio_only"
      ],
      "metadata": {
        "id": "V3MtDJYMcQTk"
      },
      "execution_count": null,
      "outputs": []
    },
    {
      "cell_type": "code",
      "source": [
        "!twitch-dl download  -q audio_only"
      ],
      "metadata": {
        "id": "l06svXNycQRj"
      },
      "execution_count": null,
      "outputs": []
    },
    {
      "cell_type": "code",
      "source": [
        "!twitch-dl download  -q audio_only"
      ],
      "metadata": {
        "id": "9yfSyxumcQPb"
      },
      "execution_count": null,
      "outputs": []
    },
    {
      "cell_type": "code",
      "source": [
        "!twitch-dl download  -q audio_only"
      ],
      "metadata": {
        "id": "-NAp9unvcQNb"
      },
      "execution_count": null,
      "outputs": []
    },
    {
      "cell_type": "code",
      "source": [
        "!twitch-dl download  -q audio_only"
      ],
      "metadata": {
        "id": "A3BsmciWcQLC"
      },
      "execution_count": null,
      "outputs": []
    },
    {
      "cell_type": "code",
      "source": [
        "!twitch-dl download  -q audio_only"
      ],
      "metadata": {
        "id": "5Qx-k5DecQIK"
      },
      "execution_count": null,
      "outputs": []
    },
    {
      "cell_type": "code",
      "source": [
        "!twitch-dl download  -q audio_only"
      ],
      "metadata": {
        "id": "jdt3qOs-cZ0i"
      },
      "execution_count": null,
      "outputs": []
    },
    {
      "cell_type": "code",
      "source": [
        "!twitch-dl download  -q audio_only"
      ],
      "metadata": {
        "id": "XLqz5hDIcZx2"
      },
      "execution_count": null,
      "outputs": []
    },
    {
      "cell_type": "code",
      "source": [
        "!twitch-dl download  -q audio_only"
      ],
      "metadata": {
        "id": "OcZRjjUzcZv9"
      },
      "execution_count": null,
      "outputs": []
    },
    {
      "cell_type": "code",
      "source": [
        "!twitch-dl download  -q audio_only"
      ],
      "metadata": {
        "id": "4FyDlLAgcZt8"
      },
      "execution_count": null,
      "outputs": []
    },
    {
      "cell_type": "code",
      "source": [
        "!twitch-dl download  -q audio_only"
      ],
      "metadata": {
        "id": "2f1kkogBcZr-"
      },
      "execution_count": null,
      "outputs": []
    },
    {
      "cell_type": "code",
      "source": [
        "!twitch-dl download  -q audio_only"
      ],
      "metadata": {
        "id": "t4R6XkLTcZp8"
      },
      "execution_count": null,
      "outputs": []
    },
    {
      "cell_type": "code",
      "source": [
        "!twitch-dl download  -q audio_only"
      ],
      "metadata": {
        "id": "Oa36Zt0mcZn8"
      },
      "execution_count": null,
      "outputs": []
    },
    {
      "cell_type": "code",
      "source": [
        "!twitch-dl download  -q audio_only"
      ],
      "metadata": {
        "id": "eJWNdc3LcZl-"
      },
      "execution_count": null,
      "outputs": []
    },
    {
      "cell_type": "code",
      "source": [
        "!twitch-dl download  -q audio_only"
      ],
      "metadata": {
        "id": "v_sGPD77cZj7"
      },
      "execution_count": null,
      "outputs": []
    },
    {
      "cell_type": "code",
      "source": [
        "!twitch-dl download  -q audio_only"
      ],
      "metadata": {
        "id": "K77sCLwQcZhq"
      },
      "execution_count": null,
      "outputs": []
    },
    {
      "cell_type": "code",
      "source": [
        "!twitch-dl download  -q audio_only"
      ],
      "metadata": {
        "id": "VfadXjFVcZfN"
      },
      "execution_count": null,
      "outputs": []
    },
    {
      "cell_type": "code",
      "source": [
        "!twitch-dl download  -q audio_only"
      ],
      "metadata": {
        "id": "n5f2ztwxcP3Q"
      },
      "execution_count": null,
      "outputs": []
    },
    {
      "cell_type": "code",
      "source": [
        "# df['video_id'].astype(int).values.reshape(-1,10)"
      ],
      "metadata": {
        "colab": {
          "base_uri": "https://localhost:8080/",
          "height": 168
        },
        "id": "h2oCv9bRWD5G",
        "outputId": "32b34dda-712e-421f-ba2f-14477ea4a6d0"
      },
      "execution_count": 44,
      "outputs": [
        {
          "output_type": "error",
          "ename": "ValueError",
          "evalue": "ignored",
          "traceback": [
            "\u001b[0;31m---------------------------------------------------------------------------\u001b[0m",
            "\u001b[0;31mValueError\u001b[0m                                Traceback (most recent call last)",
            "\u001b[0;32m<ipython-input-44-e8ca82eb8a0b>\u001b[0m in \u001b[0;36m<module>\u001b[0;34m\u001b[0m\n\u001b[0;32m----> 1\u001b[0;31m \u001b[0mdf\u001b[0m\u001b[0;34m[\u001b[0m\u001b[0;34m'video_id'\u001b[0m\u001b[0;34m]\u001b[0m\u001b[0;34m.\u001b[0m\u001b[0mastype\u001b[0m\u001b[0;34m(\u001b[0m\u001b[0mint\u001b[0m\u001b[0;34m)\u001b[0m\u001b[0;34m.\u001b[0m\u001b[0mvalues\u001b[0m\u001b[0;34m.\u001b[0m\u001b[0mreshape\u001b[0m\u001b[0;34m(\u001b[0m\u001b[0;34m-\u001b[0m\u001b[0;36m1\u001b[0m\u001b[0;34m,\u001b[0m\u001b[0;36m10\u001b[0m\u001b[0;34m)\u001b[0m\u001b[0;34m\u001b[0m\u001b[0;34m\u001b[0m\u001b[0m\n\u001b[0m",
            "\u001b[0;31mValueError\u001b[0m: cannot reshape array of size 1888 into shape (10)"
          ]
        }
      ]
    }
  ]
}