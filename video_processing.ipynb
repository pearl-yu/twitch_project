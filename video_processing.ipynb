{
  "nbformat": 4,
  "nbformat_minor": 0,
  "metadata": {
    "colab": {
      "provenance": [],
      "mount_file_id": "1iaGHE18AYLOCBbETkYB7Dqv3fG1OBSPP",
      "authorship_tag": "ABX9TyM5PV+JrnoqznSHTDcdYkp/",
      "include_colab_link": true
    },
    "kernelspec": {
      "name": "python3",
      "display_name": "Python 3"
    },
    "language_info": {
      "name": "python"
    }
  },
  "cells": [
    {
      "cell_type": "markdown",
      "metadata": {
        "id": "view-in-github",
        "colab_type": "text"
      },
      "source": [
        "<a href=\"https://colab.research.google.com/github/pearl-yu/twitch_project/blob/main/video_processing.ipynb\" target=\"_parent\"><img src=\"https://colab.research.google.com/assets/colab-badge.svg\" alt=\"Open In Colab\"/></a>"
      ]
    },
    {
      "cell_type": "code",
      "source": [
        "import pandas as pd\n",
        "import numpy as np"
      ],
      "metadata": {
        "id": "Ls691mFsGBYd"
      },
      "execution_count": 1,
      "outputs": []
    },
    {
      "cell_type": "code",
      "source": [
        "from google.colab import drive\n",
        "drive.mount('/content/drive')"
      ],
      "metadata": {
        "colab": {
          "base_uri": "https://localhost:8080/"
        },
        "id": "MTbd8VFiGESr",
        "outputId": "1535c9f4-aaab-4ca6-8a78-29e0f3580b1e"
      },
      "execution_count": 2,
      "outputs": [
        {
          "output_type": "stream",
          "name": "stdout",
          "text": [
            "Mounted at /content/drive\n"
          ]
        }
      ]
    },
    {
      "cell_type": "code",
      "source": [
        "%cd /content/drive/MyDrive/twitch_data"
      ],
      "metadata": {
        "colab": {
          "base_uri": "https://localhost:8080/"
        },
        "id": "CCXjOjDBGIol",
        "outputId": "46a1d9a1-eece-4234-a85a-30a2152a38c0"
      },
      "execution_count": 9,
      "outputs": [
        {
          "output_type": "stream",
          "name": "stdout",
          "text": [
            "/content/drive/MyDrive/twitch_data\n"
          ]
        }
      ]
    },
    {
      "cell_type": "code",
      "source": [
        "df = pd.read_csv('features_vid_df_lag_raid3.csv',lineterminator='\\n',index_col=0) \n",
        "df.columns"
      ],
      "metadata": {
        "colab": {
          "base_uri": "https://localhost:8080/"
        },
        "id": "cvtTB00OGOJY",
        "outputId": "ad55a1bb-eae3-47c3-822f-6ca9091ea043"
      },
      "execution_count": 4,
      "outputs": [
        {
          "output_type": "execute_result",
          "data": {
            "text/plain": [
              "Index(['user_id', 'video_id', 'video_url', 'num_messages', 'message_len',\n",
              "       'video_id.1', 'num_messages_per_min', 'user_id.1', 'user_name',\n",
              "       'duration_min', 'created_at', 'title', 'view_count', 'broadcaster_type',\n",
              "       'broadcast_description', 'broadcaster_created_at',\n",
              "       'avg_messages_per_min', 'video_url_lag', 'num_messages_lag',\n",
              "       'message_len_lag', 'video_id_lag', 'num_messages_per_min_lag',\n",
              "       'user_id_lag', 'user_name_lag', 'duration_min_lag', 'created_at_lag',\n",
              "       'title_lag', 'view_count_lag', 'broadcaster_type_lag',\n",
              "       'broadcast_description_lag', 'broadcaster_created_at_lag',\n",
              "       'avg_messages_per_min_lag', 'time_after_last_stream',\n",
              "       'time_after_last_stream_end', 'user_id_post', 'created_at_post',\n",
              "       'time_till_next_stream', 'time_till_last_stream_afterend', 'ended_at',\n",
              "       'num_raiders'],\n",
              "      dtype='object')"
            ]
          },
          "metadata": {},
          "execution_count": 4
        }
      ]
    },
    {
      "cell_type": "code",
      "execution_count": 5,
      "metadata": {
        "colab": {
          "base_uri": "https://localhost:8080/"
        },
        "id": "lCDZvbCpF-g8",
        "outputId": "0e096857-1808-4f9e-c0ec-62bd68acee65"
      },
      "outputs": [
        {
          "output_type": "execute_result",
          "data": {
            "text/plain": [
              "array(['https://www.twitch.tv/videos/1664180456',\n",
              "       'https://www.twitch.tv/videos/1664175477',\n",
              "       'https://www.twitch.tv/videos/1664160414', ...,\n",
              "       'https://www.twitch.tv/videos/971107742',\n",
              "       'https://www.twitch.tv/videos/971111307',\n",
              "       'https://www.twitch.tv/videos/971706892'], dtype=object)"
            ]
          },
          "metadata": {},
          "execution_count": 5
        }
      ],
      "source": [
        "df['video_url'].unique()"
      ]
    },
    {
      "cell_type": "code",
      "source": [
        "# The old column has incorrect values due to incorrect extration..\n",
        "df['video_id'] = df.video_url.str.extract('(\\d+)')"
      ],
      "metadata": {
        "id": "Zef7guoLOL9i"
      },
      "execution_count": 15,
      "outputs": []
    },
    {
      "cell_type": "code",
      "source": [
        "# https://github.com/ihabunek/twitch-dl \n",
        "!pip install twitch-dl"
      ],
      "metadata": {
        "id": "mmRwXJdKGh3T",
        "colab": {
          "base_uri": "https://localhost:8080/"
        },
        "outputId": "f65ffd84-ffbc-4f64-8148-509a9ee9cc27"
      },
      "execution_count": 6,
      "outputs": [
        {
          "output_type": "stream",
          "name": "stdout",
          "text": [
            "Looking in indexes: https://pypi.org/simple, https://us-python.pkg.dev/colab-wheels/public/simple/\n",
            "Collecting twitch-dl\n",
            "  Downloading twitch_dl-2.1.1-py3-none-any.whl (33 kB)\n",
            "Collecting m3u8<4.0.0,>=1.0.0\n",
            "  Downloading m3u8-3.3.0-py3-none-any.whl (24 kB)\n",
            "Collecting httpx<1.0.0,>=0.17.0\n",
            "  Downloading httpx-0.23.1-py3-none-any.whl (84 kB)\n",
            "\u001b[K     |████████████████████████████████| 84 kB 3.2 MB/s \n",
            "\u001b[?25hCollecting rfc3986[idna2008]<2,>=1.3\n",
            "  Downloading rfc3986-1.5.0-py2.py3-none-any.whl (31 kB)\n",
            "Collecting httpcore<0.17.0,>=0.15.0\n",
            "  Downloading httpcore-0.16.2-py3-none-any.whl (68 kB)\n",
            "\u001b[K     |████████████████████████████████| 68 kB 6.2 MB/s \n",
            "\u001b[?25hRequirement already satisfied: certifi in /usr/local/lib/python3.8/dist-packages (from httpx<1.0.0,>=0.17.0->twitch-dl) (2022.9.24)\n",
            "Collecting sniffio\n",
            "  Downloading sniffio-1.3.0-py3-none-any.whl (10 kB)\n",
            "Collecting h11<0.15,>=0.13\n",
            "  Downloading h11-0.14.0-py3-none-any.whl (58 kB)\n",
            "\u001b[K     |████████████████████████████████| 58 kB 5.5 MB/s \n",
            "\u001b[?25hCollecting anyio<5.0,>=3.0\n",
            "  Downloading anyio-3.6.2-py3-none-any.whl (80 kB)\n",
            "\u001b[K     |████████████████████████████████| 80 kB 8.0 MB/s \n",
            "\u001b[?25hRequirement already satisfied: idna>=2.8 in /usr/local/lib/python3.8/dist-packages (from anyio<5.0,>=3.0->httpcore<0.17.0,>=0.15.0->httpx<1.0.0,>=0.17.0->twitch-dl) (2.10)\n",
            "Collecting iso8601\n",
            "  Downloading iso8601-1.1.0-py3-none-any.whl (9.9 kB)\n",
            "Installing collected packages: sniffio, rfc3986, h11, anyio, iso8601, httpcore, m3u8, httpx, twitch-dl\n",
            "Successfully installed anyio-3.6.2 h11-0.14.0 httpcore-0.16.2 httpx-0.23.1 iso8601-1.1.0 m3u8-3.3.0 rfc3986-1.5.0 sniffio-1.3.0 twitch-dl-2.1.1\n"
          ]
        }
      ]
    },
    {
      "cell_type": "code",
      "source": [
        "%cd /content/drive/MyDrive/twitch_data/audios"
      ],
      "metadata": {
        "colab": {
          "base_uri": "https://localhost:8080/"
        },
        "id": "NdDnjqPDGGTT",
        "outputId": "57ae3ccd-483b-4911-bf5a-ffc82db7a628"
      },
      "execution_count": 9,
      "outputs": [
        {
          "output_type": "stream",
          "name": "stdout",
          "text": [
            "/content/drive/MyDrive/twitch_data/audios\n"
          ]
        }
      ]
    },
    {
      "cell_type": "code",
      "source": [
        "ids = df['video_id'].astype(int).values.tolist()\n",
        "print(len(ids))"
      ],
      "metadata": {
        "id": "9MQqlPb-OqZi"
      },
      "execution_count": null,
      "outputs": []
    },
    {
      "cell_type": "code",
      "source": [
        "# https://twitch-dl.bezdomni.net/commands/download.html\n",
        "!twitch-dl download  -q audio_only 1664142478 1664125952 1664118305 1664043740 1664026916 1664022551 1664012955 1663991154 1663984596"
      ],
      "metadata": {
        "id": "csQDO0iOH8xX"
      },
      "execution_count": null,
      "outputs": []
    },
    {
      "cell_type": "code",
      "source": [
        "# df['script'] = '!twitch-dl download  -q audio_only ' + df['video_id'].astype(str)"
      ],
      "metadata": {
        "id": "UOc9Qta0Wb2S"
      },
      "execution_count": 39,
      "outputs": []
    },
    {
      "cell_type": "code",
      "source": [
        "# df.to_csv(\"download_script.txt\", columns=[\"script\"], header=False, index=False)"
      ],
      "metadata": {
        "id": "iamDlQ2vXEVn"
      },
      "execution_count": 45,
      "outputs": []
    },
    {
      "cell_type": "code",
      "source": [
        "!twitch-dl download  -q audio_only 1663984596"
      ],
      "metadata": {
        "id": "rAQq33LeZuXK"
      },
      "execution_count": null,
      "outputs": []
    },
    {
      "cell_type": "code",
      "source": [
        "!twitch-dl download  -q audio_only 1663934832 1663909955 1663881774 1663866089 1663865647 1663865646 1663861914 1663861913 1663844209 1663843073"
      ],
      "metadata": {
        "id": "QGYD5ZYvZ_TV"
      },
      "execution_count": null,
      "outputs": []
    },
    {
      "cell_type": "code",
      "source": [
        "!twitch-dl download  -q audio_only 1663843060 1663804800 1663797183 1663778291 1663775178 1663774382 1663758571 1663746116 1663687262 1663663410\n"
      ],
      "metadata": {
        "id": "GB3EHFUVaGgs"
      },
      "execution_count": null,
      "outputs": []
    },
    {
      "cell_type": "code",
      "source": [
        "!twitch-dl download  -q audio_only 1663641432 1663637767 1663634646 1663625777 1663625007 1663621320 1663612027 1663598419 1663597294"
      ],
      "metadata": {
        "id": "5ltelbfkaGeL"
      },
      "execution_count": null,
      "outputs": []
    },
    {
      "cell_type": "code",
      "source": [
        "!twitch-dl download  -q audio_only 1663580258 1663571734 1663569269 1663540110 1663504191 1663493545 1663489897 1663460626 1663446516 1663437516"
      ],
      "metadata": {
        "id": "B3gHI_ZFaGcC"
      },
      "execution_count": null,
      "outputs": []
    },
    {
      "cell_type": "code",
      "source": [
        "!twitch-dl download  -q audio_only 1663356992 1663347173 1663344120 1663336600 1663328321 1663328182 1663317813 1663303599"
      ],
      "metadata": {
        "id": "e12Lx8vSaGYa"
      },
      "execution_count": null,
      "outputs": []
    },
    {
      "cell_type": "code",
      "source": [
        "!twitch-dl download  -q audio_only 1663222811 1663211354 1663206760 1663191849"
      ],
      "metadata": {
        "id": "Gr5snvzuaGWa"
      },
      "execution_count": null,
      "outputs": []
    },
    {
      "cell_type": "code",
      "source": [
        "!twitch-dl download  -q audio_only 1663191728 1663124699 1663101043 1663080184 1663063768 1663060791 1663005093 1662988459 1662988460 1662986926 "
      ],
      "metadata": {
        "id": "nVHe43YyaGUi"
      },
      "execution_count": null,
      "outputs": []
    },
    {
      "cell_type": "code",
      "source": [
        "!twitch-dl download  -q audio_only 1662986917 1662958338 1662832078 1662813140 1662810401 1662768610 1662768406 1662759419 1662748583 1662748052"
      ],
      "metadata": {
        "id": "mEG7RTVKaGSU"
      },
      "execution_count": null,
      "outputs": []
    },
    {
      "cell_type": "code",
      "source": [
        "!twitch-dl download  -q audio_only 1662720645 1662718957 1662710620 1662686753 1662684947 1662681573"
      ],
      "metadata": {
        "colab": {
          "base_uri": "https://localhost:8080/"
        },
        "id": "b46AqbiqaGQQ",
        "outputId": "38242b69-7530-47f0-c312-d57cc39db9c7"
      },
      "execution_count": 30,
      "outputs": [
        {
          "output_type": "stream",
          "name": "stdout",
          "text": [
            "\u001b[2mLooking up video...\u001b[0m\n",
            "Found: \u001b[94mNoPixel 3.0 - 451 Deputy Chief J. Bundy - Shift 455\u001b[0m by \u001b[93mOccamsSabre\u001b[0m\n",
            "Output: \u001b[94m2022-11-25_1662720645_occamssabre_nopixel_30_451_deputy_chief_j_bundy_shift_455.mkv\u001b[0m\n",
            "\u001b[2mFetching access token...\u001b[0m\n",
            "\u001b[2mFetching playlists...\u001b[0m\n",
            "\u001b[2mFetching playlist...\u001b[0m\n",
            "\n",
            "Downloading 3016 VODs using 5 workers to /tmp/twitch-dl/ced0a853bce010c8be10_occamssabre_47526559453_1669420073/audio_only\n",
            "Downloaded 3014/3016 VODs \u001b[94m99%\u001b[0m of \u001b[94m~692.8MB\u001b[0m at \u001b[94m7.9MB/s\u001b[0m ETA \u001b[94m00:00\u001b[0m     \n",
            "\n",
            "Joining files...\n",
            "\u001b[2mffmpeg -i /tmp/twitch-dl/ced0a853bce010c8be10_occamssabre_47526559453_1669420073/audio_only/playlist_downloaded.m3u8 -c copy -metadata artist=OccamsSabre -metadata title=NoPixel 3.0 - 451 Deputy Chief J. Bundy - Shift 455 -metadata encoded_by=twitch-dl -stats -loglevel warning file:2022-11-25_1662720645_occamssabre_nopixel_30_451_deputy_chief_j_bundy_shift_455.mkv\u001b[0m\n",
            "size=  480269kB time=08:22:40.00 bitrate= 130.4kbits/s speed=2.37e+03x    \n",
            "\n",
            "\u001b[2mDeleting temporary files...\u001b[0m\n",
            "\n",
            "Downloaded: \u001b[92m2022-11-25_1662720645_occamssabre_nopixel_30_451_deputy_chief_j_bundy_shift_455.mkv\u001b[0m\n",
            "\u001b[2mLooking up video...\u001b[0m\n",
            "Found: \u001b[94mHappy Fridayyy! | !merch | !socials\u001b[0m by \u001b[93mamberwolf\u001b[0m\n",
            "Output: \u001b[94m2022-11-25_1662718957_amberwolf_happy_fridayyy_merch_socials.mkv\u001b[0m\n",
            "\u001b[2mFetching access token...\u001b[0m\n",
            "\u001b[2mFetching playlists...\u001b[0m\n",
            "\u001b[2mFetching playlist...\u001b[0m\n",
            "\n",
            "Downloading 1595 VODs using 5 workers to /tmp/twitch-dl/b2e12ba1c3575f692216_amberwolf_41541157499_1669419929/audio_only\n",
            "Downloaded 1593/1595 VODs \u001b[94m99%\u001b[0m of \u001b[94m~416.0MB\u001b[0m at \u001b[94m2.5MB/s\u001b[0m ETA \u001b[94m00:00\u001b[0m     \n",
            "\n",
            "Joining files...\n",
            "\u001b[2mffmpeg -i /tmp/twitch-dl/b2e12ba1c3575f692216_amberwolf_41541157499_1669419929/audio_only/playlist_downloaded.m3u8 -c copy -metadata artist=amberwolf -metadata title=Happy Fridayyy! | !merch | !socials -metadata encoded_by=twitch-dl -stats -loglevel warning file:2022-11-25_1662718957_amberwolf_happy_fridayyy_merch_socials.mkv\u001b[0m\n",
            "size=  321457kB time=04:28:18.30 bitrate= 163.6kbits/s speed=2.44e+03x    \n",
            "\n",
            "\u001b[2mDeleting temporary files...\u001b[0m\n",
            "\n",
            "Downloaded: \u001b[92m2022-11-25_1662718957_amberwolf_happy_fridayyy_merch_socials.mkv\u001b[0m\n",
            "\u001b[2mLooking up video...\u001b[0m\n",
            "Found: \u001b[94mREADING YOUR LGBT REALIZATION STORIES !form\u001b[0m by \u001b[93mTaesungTao\u001b[0m\n",
            "Output: \u001b[94m2022-11-25_1662710620_taesungtao_reading_your_lgbt_realization_stories_form.mkv\u001b[0m\n",
            "\u001b[2mFetching access token...\u001b[0m\n",
            "\u001b[2mFetching playlists...\u001b[0m\n",
            "\u001b[2mFetching playlist...\u001b[0m\n",
            "\n",
            "Downloading 371 VODs using 5 workers to /tmp/twitch-dl/2561036351bcdee4522a_taesungtao_47526485565_1669419241/audio_only\n",
            "Downloaded 369/371 VODs \u001b[94m99%\u001b[0m of \u001b[94m~138.2MB\u001b[0m at \u001b[94m12.3MB/s\u001b[0m ETA \u001b[94m00:00\u001b[0m     \n",
            "\n",
            "Joining files...\n",
            "\u001b[2mffmpeg -i /tmp/twitch-dl/2561036351bcdee4522a_taesungtao_47526485565_1669419241/audio_only/playlist_downloaded.m3u8 -c copy -metadata artist=TaesungTao -metadata title=READING YOUR LGBT REALIZATION STORIES !form -metadata encoded_by=twitch-dl -stats -loglevel warning file:2022-11-25_1662710620_taesungtao_reading_your_lgbt_realization_stories_form.mkv\u001b[0m\n",
            "size=  118176kB time=01:01:44.81 bitrate= 261.3kbits/s speed=2.14e+03x    \n",
            "\n",
            "\u001b[2mDeleting temporary files...\u001b[0m\n",
            "\n",
            "Downloaded: \u001b[92m2022-11-25_1662710620_taesungtao_reading_your_lgbt_realization_stories_form.mkv\u001b[0m\n",
            "\u001b[2mLooking up video...\u001b[0m\n",
            "Found: \u001b[94mWilson Hart NoPixel Wl | The Hidden | !youtube !discord !hidden | Twitter: TBNRKenWorth\u001b[0m by \u001b[93mTBNRKenWorth\u001b[0m\n",
            "Output: \u001b[94m2022-11-25_1662686753_tbnrkenworth_wilson_hart_nopixel_wl_the_hidden_youtube_discord_hidden_twitter_tbnrkenworth.mkv\u001b[0m\n",
            "\u001b[2mFetching access token...\u001b[0m\n",
            "\u001b[2mFetching playlists...\u001b[0m\n",
            "\u001b[2mFetching playlist...\u001b[0m\n",
            "\n",
            "Downloading 1634 VODs using 5 workers to /tmp/twitch-dl/1f2e74cfc28c4691af03_tbnrkenworth_47526312029_1669417344/audio_only\n",
            "Downloaded 1633/1634 VODs \u001b[94m100%\u001b[0m of \u001b[94m~365.9MB\u001b[0m at \u001b[94m7.2MB/s\u001b[0m ETA \u001b[94m00:00\u001b[0m     \n",
            "\n",
            "Joining files...\n",
            "\u001b[2mffmpeg -i /tmp/twitch-dl/1f2e74cfc28c4691af03_tbnrkenworth_47526312029_1669417344/audio_only/playlist_downloaded.m3u8 -c copy -metadata artist=TBNRKenWorth -metadata title=Wilson Hart NoPixel Wl | The Hidden | !youtube !discord !hidden | Twitter: TBNRKenWorth -metadata encoded_by=twitch-dl -stats -loglevel warning file:2022-11-25_1662686753_tbnrkenworth_wilson_hart_nopixel_wl_the_hidden_youtube_discord_hidden_twitter_tbnrkenworth.mkv\u001b[0m\n",
            "size=  279994kB time=04:52:34.41 bitrate= 130.7kbits/s speed=2.37e+03x    \n",
            "\n",
            "\u001b[2mDeleting temporary files...\u001b[0m\n",
            "\n",
            "Downloaded: \u001b[92m2022-11-25_1662686753_tbnrkenworth_wilson_hart_nopixel_wl_the_hidden_youtube_discord_hidden_twitter_tbnrkenworth.mkv\u001b[0m\n",
            "\u001b[2mLooking up video...\u001b[0m\n",
            "Found: \u001b[94mLove You Matcha !Cosmic\u001b[0m by \u001b[93mSmiteGame\u001b[0m\n",
            "Output: \u001b[94m2022-11-25_1662684947_smitegame_love_you_matcha_cosmic.mkv\u001b[0m\n",
            "\u001b[2mFetching access token...\u001b[0m\n",
            "\u001b[2mFetching playlists...\u001b[0m\n",
            "\u001b[2mFetching playlist...\u001b[0m\n",
            "\n",
            "Downloading 1117 VODs using 5 workers to /tmp/twitch-dl/48a0172e0a294c6ece3b_smitegame_40541282873_1669417229/audio_only\n",
            "Downloaded 1115/1117 VODs \u001b[94m99%\u001b[0m of \u001b[94m~267.1MB\u001b[0m at \u001b[94m8.1MB/s\u001b[0m ETA \u001b[94m00:00\u001b[0m     \n",
            "\n",
            "Joining files...\n",
            "\u001b[2mffmpeg -i /tmp/twitch-dl/48a0172e0a294c6ece3b_smitegame_40541282873_1669417229/audio_only/playlist_downloaded.m3u8 -c copy -metadata artist=SmiteGame -metadata title=Love You Matcha !Cosmic -metadata encoded_by=twitch-dl -stats -loglevel warning file:2022-11-25_1662684947_smitegame_love_you_matcha_cosmic.mkv\u001b[0m\n",
            "size=  219925kB time=03:06:09.68 bitrate= 161.3kbits/s speed=2.52e+03x    \n",
            "\n",
            "\u001b[2mDeleting temporary files...\u001b[0m\n",
            "\n",
            "Downloaded: \u001b[92m2022-11-25_1662684947_smitegame_love_you_matcha_cosmic.mkv\u001b[0m\n",
            "\u001b[2mLooking up video...\u001b[0m\n",
            "Found: \u001b[94mask me to flex // M&K PC // no scheduled ads // !youtube\u001b[0m by \u001b[93mDrasseL\u001b[0m\n",
            "Output: \u001b[94m2022-11-25_1662681573_drassel_ask_me_to_flex_mk_pc_no_scheduled_ads_youtube.mkv\u001b[0m\n",
            "\u001b[2mFetching access token...\u001b[0m\n",
            "\u001b[2mFetching playlists...\u001b[0m\n",
            "\u001b[2mFetching playlist...\u001b[0m\n",
            "\n",
            "Downloading 2151 VODs using 5 workers to /tmp/twitch-dl/65ef3b3898b9a4e01096_drassel_40541258505_1669417000/audio_only\n",
            "Downloaded 2149/2151 VODs \u001b[94m99%\u001b[0m of \u001b[94m~451.7MB\u001b[0m at \u001b[94m7.1MB/s\u001b[0m ETA \u001b[94m00:00\u001b[0m     \n",
            "\n",
            "Joining files...\n",
            "\u001b[2mffmpeg -i /tmp/twitch-dl/65ef3b3898b9a4e01096_drassel_40541258505_1669417000/audio_only/playlist_downloaded.m3u8 -c copy -metadata artist=DrasseL -metadata title=ask me to flex // M&K PC // no scheduled ads // !youtube -metadata encoded_by=twitch-dl -stats -loglevel warning file:2022-11-25_1662681573_drassel_ask_me_to_flex_mk_pc_no_scheduled_ads_youtube.mkv\u001b[0m\n",
            "size=  343085kB time=05:58:29.99 bitrate= 130.7kbits/s speed=2.27e+03x    \n",
            "\n",
            "\u001b[2mDeleting temporary files...\u001b[0m\n",
            "\n",
            "Downloaded: \u001b[92m2022-11-25_1662681573_drassel_ask_me_to_flex_mk_pc_no_scheduled_ads_youtube.mkv\u001b[0m\n"
          ]
        }
      ]
    },
    {
      "cell_type": "code",
      "source": [
        "ids[100:200].reshape(20,5)"
      ],
      "metadata": {
        "id": "7rveB56QJWEG"
      },
      "execution_count": null,
      "outputs": []
    },
    {
      "cell_type": "code",
      "source": [
        "!twitch-dl download  -q audio_only"
      ],
      "metadata": {
        "id": "EhjSiCTuaGOK"
      },
      "execution_count": null,
      "outputs": []
    },
    {
      "cell_type": "code",
      "source": [
        "!twitch-dl download  -q audio_only"
      ],
      "metadata": {
        "id": "SUp1srTXaGL4"
      },
      "execution_count": null,
      "outputs": []
    },
    {
      "cell_type": "code",
      "source": [
        "!twitch-dl download  -q audio_only"
      ],
      "metadata": {
        "id": "Ua_RSVOdaGIP"
      },
      "execution_count": null,
      "outputs": []
    },
    {
      "cell_type": "code",
      "source": [
        "!twitch-dl download  -q audio_only"
      ],
      "metadata": {
        "id": "C_s7uQ6PaF-3"
      },
      "execution_count": null,
      "outputs": []
    },
    {
      "cell_type": "code",
      "source": [
        "!twitch-dl download  -q audio_only"
      ],
      "metadata": {
        "id": "nA6s8u8icLj6"
      },
      "execution_count": null,
      "outputs": []
    },
    {
      "cell_type": "code",
      "source": [
        "!twitch-dl download  -q audio_only"
      ],
      "metadata": {
        "id": "EwC-v_z_cQn6"
      },
      "execution_count": null,
      "outputs": []
    },
    {
      "cell_type": "code",
      "source": [
        "!twitch-dl download  -q audio_only"
      ],
      "metadata": {
        "id": "KpIVej3rcQlh"
      },
      "execution_count": null,
      "outputs": []
    },
    {
      "cell_type": "code",
      "source": [
        "!twitch-dl download  -q audio_only"
      ],
      "metadata": {
        "id": "24v5Q9VlcQjQ"
      },
      "execution_count": null,
      "outputs": []
    },
    {
      "cell_type": "code",
      "source": [
        "!twitch-dl download  -q audio_only"
      ],
      "metadata": {
        "id": "rxkwPc-FcQhH"
      },
      "execution_count": null,
      "outputs": []
    },
    {
      "cell_type": "code",
      "source": [
        "!twitch-dl download  -q audio_only"
      ],
      "metadata": {
        "id": "MBpv9hPwcQeo"
      },
      "execution_count": null,
      "outputs": []
    },
    {
      "cell_type": "code",
      "source": [
        "!twitch-dl download  -q audio_only"
      ],
      "metadata": {
        "id": "V3MtDJYMcQTk"
      },
      "execution_count": null,
      "outputs": []
    },
    {
      "cell_type": "code",
      "source": [
        "!twitch-dl download  -q audio_only"
      ],
      "metadata": {
        "id": "l06svXNycQRj"
      },
      "execution_count": null,
      "outputs": []
    },
    {
      "cell_type": "code",
      "source": [
        "!twitch-dl download  -q audio_only"
      ],
      "metadata": {
        "id": "9yfSyxumcQPb"
      },
      "execution_count": null,
      "outputs": []
    },
    {
      "cell_type": "code",
      "source": [
        "!twitch-dl download  -q audio_only"
      ],
      "metadata": {
        "id": "-NAp9unvcQNb"
      },
      "execution_count": null,
      "outputs": []
    },
    {
      "cell_type": "code",
      "source": [
        "!twitch-dl download  -q audio_only"
      ],
      "metadata": {
        "id": "A3BsmciWcQLC"
      },
      "execution_count": null,
      "outputs": []
    },
    {
      "cell_type": "code",
      "source": [
        "!twitch-dl download  -q audio_only"
      ],
      "metadata": {
        "id": "5Qx-k5DecQIK"
      },
      "execution_count": null,
      "outputs": []
    },
    {
      "cell_type": "code",
      "source": [
        "!twitch-dl download  -q audio_only"
      ],
      "metadata": {
        "id": "jdt3qOs-cZ0i"
      },
      "execution_count": null,
      "outputs": []
    },
    {
      "cell_type": "code",
      "source": [
        "!twitch-dl download  -q audio_only"
      ],
      "metadata": {
        "id": "XLqz5hDIcZx2"
      },
      "execution_count": null,
      "outputs": []
    },
    {
      "cell_type": "code",
      "source": [
        "!twitch-dl download  -q audio_only"
      ],
      "metadata": {
        "id": "OcZRjjUzcZv9"
      },
      "execution_count": null,
      "outputs": []
    },
    {
      "cell_type": "code",
      "source": [
        "!twitch-dl download  -q audio_only"
      ],
      "metadata": {
        "id": "4FyDlLAgcZt8"
      },
      "execution_count": null,
      "outputs": []
    },
    {
      "cell_type": "code",
      "source": [
        "!twitch-dl download  -q audio_only"
      ],
      "metadata": {
        "id": "2f1kkogBcZr-"
      },
      "execution_count": null,
      "outputs": []
    },
    {
      "cell_type": "code",
      "source": [
        "!twitch-dl download  -q audio_only"
      ],
      "metadata": {
        "id": "t4R6XkLTcZp8"
      },
      "execution_count": null,
      "outputs": []
    },
    {
      "cell_type": "code",
      "source": [
        "!twitch-dl download  -q audio_only"
      ],
      "metadata": {
        "id": "Oa36Zt0mcZn8"
      },
      "execution_count": null,
      "outputs": []
    },
    {
      "cell_type": "code",
      "source": [
        "!twitch-dl download  -q audio_only"
      ],
      "metadata": {
        "id": "eJWNdc3LcZl-"
      },
      "execution_count": null,
      "outputs": []
    },
    {
      "cell_type": "code",
      "source": [
        "!twitch-dl download  -q audio_only"
      ],
      "metadata": {
        "id": "v_sGPD77cZj7"
      },
      "execution_count": null,
      "outputs": []
    },
    {
      "cell_type": "code",
      "source": [
        "!twitch-dl download  -q audio_only"
      ],
      "metadata": {
        "id": "K77sCLwQcZhq"
      },
      "execution_count": null,
      "outputs": []
    },
    {
      "cell_type": "code",
      "source": [
        "!twitch-dl download  -q audio_only"
      ],
      "metadata": {
        "id": "VfadXjFVcZfN"
      },
      "execution_count": null,
      "outputs": []
    },
    {
      "cell_type": "code",
      "source": [
        "!twitch-dl download  -q audio_only"
      ],
      "metadata": {
        "id": "n5f2ztwxcP3Q"
      },
      "execution_count": null,
      "outputs": []
    },
    {
      "cell_type": "code",
      "source": [
        "# df['video_id'].astype(int).values.reshape(-1,10)"
      ],
      "metadata": {
        "colab": {
          "base_uri": "https://localhost:8080/",
          "height": 168
        },
        "id": "h2oCv9bRWD5G",
        "outputId": "32b34dda-712e-421f-ba2f-14477ea4a6d0"
      },
      "execution_count": 44,
      "outputs": [
        {
          "output_type": "error",
          "ename": "ValueError",
          "evalue": "ignored",
          "traceback": [
            "\u001b[0;31m---------------------------------------------------------------------------\u001b[0m",
            "\u001b[0;31mValueError\u001b[0m                                Traceback (most recent call last)",
            "\u001b[0;32m<ipython-input-44-e8ca82eb8a0b>\u001b[0m in \u001b[0;36m<module>\u001b[0;34m\u001b[0m\n\u001b[0;32m----> 1\u001b[0;31m \u001b[0mdf\u001b[0m\u001b[0;34m[\u001b[0m\u001b[0;34m'video_id'\u001b[0m\u001b[0;34m]\u001b[0m\u001b[0;34m.\u001b[0m\u001b[0mastype\u001b[0m\u001b[0;34m(\u001b[0m\u001b[0mint\u001b[0m\u001b[0;34m)\u001b[0m\u001b[0;34m.\u001b[0m\u001b[0mvalues\u001b[0m\u001b[0;34m.\u001b[0m\u001b[0mreshape\u001b[0m\u001b[0;34m(\u001b[0m\u001b[0;34m-\u001b[0m\u001b[0;36m1\u001b[0m\u001b[0;34m,\u001b[0m\u001b[0;36m10\u001b[0m\u001b[0;34m)\u001b[0m\u001b[0;34m\u001b[0m\u001b[0;34m\u001b[0m\u001b[0m\n\u001b[0m",
            "\u001b[0;31mValueError\u001b[0m: cannot reshape array of size 1888 into shape (10)"
          ]
        }
      ]
    }
  ]
}