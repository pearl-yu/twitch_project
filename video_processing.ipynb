{
  "nbformat": 4,
  "nbformat_minor": 0,
  "metadata": {
    "colab": {
      "provenance": [],
      "authorship_tag": "ABX9TyNzYm3CF208s7hgPrBAmlZ/",
      "include_colab_link": true
    },
    "kernelspec": {
      "name": "python3",
      "display_name": "Python 3"
    },
    "language_info": {
      "name": "python"
    }
  },
  "cells": [
    {
      "cell_type": "markdown",
      "metadata": {
        "id": "view-in-github",
        "colab_type": "text"
      },
      "source": [
        "<a href=\"https://colab.research.google.com/github/pearl-yu/twitch_project/blob/main/video_processing.ipynb\" target=\"_parent\"><img src=\"https://colab.research.google.com/assets/colab-badge.svg\" alt=\"Open In Colab\"/></a>"
      ]
    },
    {
      "cell_type": "code",
      "source": [
        "import pandas as pd\n",
        "import numpy as np"
      ],
      "metadata": {
        "id": "Ls691mFsGBYd"
      },
      "execution_count": 1,
      "outputs": []
    },
    {
      "cell_type": "code",
      "source": [
        "from google.colab import drive\n",
        "drive.mount('/content/drive')"
      ],
      "metadata": {
        "colab": {
          "base_uri": "https://localhost:8080/"
        },
        "id": "MTbd8VFiGESr",
        "outputId": "bba60e3b-0997-40fd-bf44-1a95018200dc"
      },
      "execution_count": 2,
      "outputs": [
        {
          "output_type": "stream",
          "name": "stdout",
          "text": [
            "Mounted at /content/drive\n"
          ]
        }
      ]
    },
    {
      "cell_type": "code",
      "source": [
        "%cd /content/drive/MyDrive/twitch_data"
      ],
      "metadata": {
        "colab": {
          "base_uri": "https://localhost:8080/"
        },
        "id": "CCXjOjDBGIol",
        "outputId": "1bf421fc-9207-4cef-c5a9-183bb9069099"
      },
      "execution_count": 3,
      "outputs": [
        {
          "output_type": "stream",
          "name": "stdout",
          "text": [
            "/content/drive/MyDrive/twitch_data\n"
          ]
        }
      ]
    },
    {
      "cell_type": "code",
      "source": [
        "df = pd.read_csv('features_vid_df_lag_raid3.csv',lineterminator='\\n',index_col=0) \n",
        "df.columns"
      ],
      "metadata": {
        "colab": {
          "base_uri": "https://localhost:8080/"
        },
        "id": "cvtTB00OGOJY",
        "outputId": "de54fd0a-98d2-4986-cf50-9f2aed62be42"
      },
      "execution_count": 4,
      "outputs": [
        {
          "output_type": "execute_result",
          "data": {
            "text/plain": [
              "Index(['user_id', 'video_id', 'video_url', 'num_messages', 'message_len',\n",
              "       'video_id.1', 'num_messages_per_min', 'user_id.1', 'user_name',\n",
              "       'duration_min', 'created_at', 'title', 'view_count', 'broadcaster_type',\n",
              "       'broadcast_description', 'broadcaster_created_at',\n",
              "       'avg_messages_per_min', 'video_url_lag', 'num_messages_lag',\n",
              "       'message_len_lag', 'video_id_lag', 'num_messages_per_min_lag',\n",
              "       'user_id_lag', 'user_name_lag', 'duration_min_lag', 'created_at_lag',\n",
              "       'title_lag', 'view_count_lag', 'broadcaster_type_lag',\n",
              "       'broadcast_description_lag', 'broadcaster_created_at_lag',\n",
              "       'avg_messages_per_min_lag', 'time_after_last_stream',\n",
              "       'time_after_last_stream_end', 'user_id_post', 'created_at_post',\n",
              "       'time_till_next_stream', 'time_till_last_stream_afterend', 'ended_at',\n",
              "       'num_raiders'],\n",
              "      dtype='object')"
            ]
          },
          "metadata": {},
          "execution_count": 4
        }
      ]
    },
    {
      "cell_type": "code",
      "execution_count": 6,
      "metadata": {
        "colab": {
          "base_uri": "https://localhost:8080/"
        },
        "id": "lCDZvbCpF-g8",
        "outputId": "4c8d3b08-ff8a-454a-9ff9-8be96c6ac064"
      },
      "outputs": [
        {
          "output_type": "execute_result",
          "data": {
            "text/plain": [
              "array(['1664180456', '1664175477', '1664160414', ..., '/971107742',\n",
              "       '/971111307', '/971706892'], dtype=object)"
            ]
          },
          "metadata": {},
          "execution_count": 6
        }
      ],
      "source": [
        "df['video_id'].unique()"
      ]
    },
    {
      "cell_type": "code",
      "source": [],
      "metadata": {
        "id": "mmRwXJdKGh3T"
      },
      "execution_count": null,
      "outputs": []
    }
  ]
}