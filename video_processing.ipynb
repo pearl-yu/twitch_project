{
  "nbformat": 4,
  "nbformat_minor": 0,
  "metadata": {
    "colab": {
      "provenance": [],
      "authorship_tag": "ABX9TyPOTOhbiWSl6qZ6mLaCvTZO",
      "include_colab_link": true
    },
    "kernelspec": {
      "name": "python3",
      "display_name": "Python 3"
    },
    "language_info": {
      "name": "python"
    }
  },
  "cells": [
    {
      "cell_type": "markdown",
      "metadata": {
        "id": "view-in-github",
        "colab_type": "text"
      },
      "source": [
        "<a href=\"https://colab.research.google.com/github/pearl-yu/twitch_project/blob/main/video_processing.ipynb\" target=\"_parent\"><img src=\"https://colab.research.google.com/assets/colab-badge.svg\" alt=\"Open In Colab\"/></a>"
      ]
    },
    {
      "cell_type": "code",
      "source": [
        "import pandas as pd\n",
        "import numpy as np"
      ],
      "metadata": {
        "id": "Ls691mFsGBYd"
      },
      "execution_count": 1,
      "outputs": []
    },
    {
      "cell_type": "code",
      "source": [
        "from google.colab import drive\n",
        "drive.mount('/content/drive')"
      ],
      "metadata": {
        "colab": {
          "base_uri": "https://localhost:8080/"
        },
        "id": "MTbd8VFiGESr",
        "outputId": "bba60e3b-0997-40fd-bf44-1a95018200dc"
      },
      "execution_count": 2,
      "outputs": [
        {
          "output_type": "stream",
          "name": "stdout",
          "text": [
            "Mounted at /content/drive\n"
          ]
        }
      ]
    },
    {
      "cell_type": "code",
      "source": [
        "%cd /content/drive/MyDrive/twitch_data"
      ],
      "metadata": {
        "colab": {
          "base_uri": "https://localhost:8080/"
        },
        "id": "CCXjOjDBGIol",
        "outputId": "1bf421fc-9207-4cef-c5a9-183bb9069099"
      },
      "execution_count": 3,
      "outputs": [
        {
          "output_type": "stream",
          "name": "stdout",
          "text": [
            "/content/drive/MyDrive/twitch_data\n"
          ]
        }
      ]
    },
    {
      "cell_type": "code",
      "source": [
        "df = pd.read_csv('features_vid_df_lag_raid3.csv',lineterminator='\\n',index_col=0) \n",
        "df.columns"
      ],
      "metadata": {
        "colab": {
          "base_uri": "https://localhost:8080/"
        },
        "id": "cvtTB00OGOJY",
        "outputId": "de54fd0a-98d2-4986-cf50-9f2aed62be42"
      },
      "execution_count": 4,
      "outputs": [
        {
          "output_type": "execute_result",
          "data": {
            "text/plain": [
              "Index(['user_id', 'video_id', 'video_url', 'num_messages', 'message_len',\n",
              "       'video_id.1', 'num_messages_per_min', 'user_id.1', 'user_name',\n",
              "       'duration_min', 'created_at', 'title', 'view_count', 'broadcaster_type',\n",
              "       'broadcast_description', 'broadcaster_created_at',\n",
              "       'avg_messages_per_min', 'video_url_lag', 'num_messages_lag',\n",
              "       'message_len_lag', 'video_id_lag', 'num_messages_per_min_lag',\n",
              "       'user_id_lag', 'user_name_lag', 'duration_min_lag', 'created_at_lag',\n",
              "       'title_lag', 'view_count_lag', 'broadcaster_type_lag',\n",
              "       'broadcast_description_lag', 'broadcaster_created_at_lag',\n",
              "       'avg_messages_per_min_lag', 'time_after_last_stream',\n",
              "       'time_after_last_stream_end', 'user_id_post', 'created_at_post',\n",
              "       'time_till_next_stream', 'time_till_last_stream_afterend', 'ended_at',\n",
              "       'num_raiders'],\n",
              "      dtype='object')"
            ]
          },
          "metadata": {},
          "execution_count": 4
        }
      ]
    },
    {
      "cell_type": "code",
      "execution_count": 9,
      "metadata": {
        "colab": {
          "base_uri": "https://localhost:8080/"
        },
        "id": "lCDZvbCpF-g8",
        "outputId": "167b6ca0-894c-42cb-ab70-0e4849d47b6c"
      },
      "outputs": [
        {
          "output_type": "execute_result",
          "data": {
            "text/plain": [
              "array(['https://www.twitch.tv/videos/1664180456',\n",
              "       'https://www.twitch.tv/videos/1664175477',\n",
              "       'https://www.twitch.tv/videos/1664160414', ...,\n",
              "       'https://www.twitch.tv/videos/971107742',\n",
              "       'https://www.twitch.tv/videos/971111307',\n",
              "       'https://www.twitch.tv/videos/971706892'], dtype=object)"
            ]
          },
          "metadata": {},
          "execution_count": 9
        }
      ],
      "source": [
        "df['video_url'].unique()"
      ]
    },
    {
      "cell_type": "code",
      "source": [
        "# https://github.com/ihabunek/twitch-dl \n",
        "!pip install twitch-dl"
      ],
      "metadata": {
        "id": "mmRwXJdKGh3T"
      },
      "execution_count": null,
      "outputs": []
    },
    {
      "cell_type": "code",
      "source": [
        "# https://twitch-dl.bezdomni.net/commands/download.html\n",
        "!twitch-dl download  -q audio_only 1664180456 "
      ],
      "metadata": {
        "colab": {
          "base_uri": "https://localhost:8080/"
        },
        "id": "csQDO0iOH8xX",
        "outputId": "66a4f7d1-adc8-40f3-a003-1de9efc1531e"
      },
      "execution_count": 8,
      "outputs": [
        {
          "output_type": "stream",
          "name": "stdout",
          "text": [
            "\u001b[2mLooking up video...\u001b[0m\n",
            "Found: \u001b[94mRERUN: Execration vs Army Geniuses Game 1 - BTS Pro Series 13 SEA: Groups w/ Ares & 343\u001b[0m by \u001b[93mBeyondTheSummit\u001b[0m\n",
            "Output: \u001b[94m2022-11-27_1664180456_beyondthesummit_rerun_execration_vs_army_geniuses_game_1_bts_pro_series_13_sea_groups_w_ares_343.mkv\u001b[0m\n",
            "\u001b[2mFetching access token...\u001b[0m\n",
            "\u001b[2mFetching playlists...\u001b[0m\n",
            "\n",
            "Available qualities:\n",
            "1) \u001b[1m1080p60\u001b[0m \u001b[2m(1920x1080)\u001b[0m\n",
            "2) \u001b[1m720p60\u001b[0m \u001b[2m(1280x720)\u001b[0m\n",
            "3) \u001b[1m720p\u001b[0m \u001b[2m(1280x720)\u001b[0m\n",
            "4) \u001b[1m480p\u001b[0m \u001b[2m(852x480)\u001b[0m\n",
            "5) \u001b[1m360p\u001b[0m \u001b[2m(640x360)\u001b[0m\n",
            "6) \u001b[1m160p\u001b[0m \u001b[2m(284x160)\u001b[0m\n",
            "7) \u001b[1maudio_only\u001b[0m\n",
            "Choose quality [default 1]: 1\n",
            "\u001b[2mFetching playlist...\u001b[0m\n",
            "\n",
            "Downloading 1664 VODs using 5 workers to /tmp/twitch-dl/447caa9f2905716c9e14_beyondthesummit_41547414651_1669565859/chunked\n",
            "Downloaded 90/1664 VODs \u001b[94m5%\u001b[0m of \u001b[94m~12.4GB\u001b[0m at \u001b[94m68.1MB/s\u001b[0m ETA \u001b[94m02:55\u001b[0m     unhandled exception during asyncio.run() shutdown\n",
            "task: <Task finished name='Task-1' coro=<download_all() done, defined at /usr/local/lib/python3.8/dist-packages/twitchdl/http.py:116> exception=RuntimeError('The connection pool was closed while 5 HTTP requests/responses were still in-flight.')>\n",
            "Traceback (most recent call last):\n",
            "  File \"/usr/lib/python3.8/asyncio/runners.py\", line 44, in run\n",
            "    return loop.run_until_complete(main)\n",
            "  File \"/usr/lib/python3.8/asyncio/base_events.py\", line 603, in run_until_complete\n",
            "    self.run_forever()\n",
            "  File \"/usr/lib/python3.8/asyncio/base_events.py\", line 570, in run_forever\n",
            "    self._run_once()\n",
            "  File \"/usr/lib/python3.8/asyncio/base_events.py\", line 1823, in _run_once\n",
            "    event_list = self._selector.select(timeout)\n",
            "  File \"/usr/lib/python3.8/selectors.py\", line 468, in select\n",
            "    fd_event_list = self._selector.poll(timeout, max_ev)\n",
            "KeyboardInterrupt\n",
            "\n",
            "During handling of the above exception, another exception occurred:\n",
            "\n",
            "Traceback (most recent call last):\n",
            "  File \"/usr/local/lib/python3.8/dist-packages/twitchdl/http.py\", line 129, in download_all\n",
            "    await asyncio.gather(*tasks)\n",
            "asyncio.exceptions.CancelledError\n",
            "\n",
            "During handling of the above exception, another exception occurred:\n",
            "\n",
            "Traceback (most recent call last):\n",
            "  File \"/usr/local/lib/python3.8/dist-packages/twitchdl/http.py\", line 129, in download_all\n",
            "    await asyncio.gather(*tasks)\n",
            "  File \"/usr/local/lib/python3.8/dist-packages/httpx/_client.py\", line 2003, in __aexit__\n",
            "    await self._transport.__aexit__(exc_type, exc_value, traceback)\n",
            "  File \"/usr/local/lib/python3.8/dist-packages/httpx/_transports/default.py\", line 332, in __aexit__\n",
            "    await self._pool.__aexit__(exc_type, exc_value, traceback)\n",
            "  File \"/usr/local/lib/python3.8/dist-packages/httpcore/_async/connection_pool.py\", line 326, in __aexit__\n",
            "    await self.aclose()\n",
            "  File \"/usr/local/lib/python3.8/dist-packages/httpcore/_async/connection_pool.py\", line 312, in aclose\n",
            "    raise RuntimeError(\n",
            "RuntimeError: The connection pool was closed while 5 HTTP requests/responses were still in-flight.\n",
            "\u001b[91m\n",
            "Operation canceled\u001b[0m\n"
          ]
        }
      ]
    },
    {
      "cell_type": "code",
      "source": [],
      "metadata": {
        "id": "7rveB56QJWEG"
      },
      "execution_count": null,
      "outputs": []
    }
  ]
}