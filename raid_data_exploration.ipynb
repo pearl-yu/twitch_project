{
  "nbformat": 4,
  "nbformat_minor": 0,
  "metadata": {
    "colab": {
      "provenance": [],
      "collapsed_sections": [],
      "authorship_tag": "ABX9TyP2zPnsQywuzagZBfCHmw12",
      "include_colab_link": true
    },
    "kernelspec": {
      "name": "python3",
      "display_name": "Python 3"
    },
    "language_info": {
      "name": "python"
    }
  },
  "cells": [
    {
      "cell_type": "markdown",
      "metadata": {
        "id": "view-in-github",
        "colab_type": "text"
      },
      "source": [
        "<a href=\"https://colab.research.google.com/github/pearl-yu/twitch_project/blob/main/raid_data_exploration.ipynb\" target=\"_parent\"><img src=\"https://colab.research.google.com/assets/colab-badge.svg\" alt=\"Open In Colab\"/></a>"
      ]
    },
    {
      "cell_type": "code",
      "execution_count": 1,
      "metadata": {
        "id": "9rI9mntpgl8w"
      },
      "outputs": [],
      "source": [
        "import pandas as pd\n",
        "import numpy as np"
      ]
    },
    {
      "cell_type": "code",
      "source": [
        "from google.colab import drive\n",
        "drive.mount('/content/drive')"
      ],
      "metadata": {
        "colab": {
          "base_uri": "https://localhost:8080/"
        },
        "id": "k6Y3hr7VT6fE",
        "outputId": "0c2e8670-8227-4137-c925-8b3ea11a6789"
      },
      "execution_count": 2,
      "outputs": [
        {
          "output_type": "stream",
          "name": "stdout",
          "text": [
            "Mounted at /content/drive\n"
          ]
        }
      ]
    },
    {
      "cell_type": "code",
      "source": [
        "%cd /content/drive/MyDrive/twitch_data"
      ],
      "metadata": {
        "colab": {
          "base_uri": "https://localhost:8080/"
        },
        "id": "kNv2cQxXUD2E",
        "outputId": "e64a07ce-7e6c-4526-daa3-31d9cd1428d9"
      },
      "execution_count": 3,
      "outputs": [
        {
          "output_type": "stream",
          "name": "stdout",
          "text": [
            "/content/drive/MyDrive/twitch_data\n"
          ]
        }
      ]
    },
    {
      "cell_type": "code",
      "source": [
        "%ls"
      ],
      "metadata": {
        "colab": {
          "base_uri": "https://localhost:8080/"
        },
        "id": "zOd7wIHgVnJl",
        "outputId": "3a939925-2076-44c0-a4c0-5826d60b4761"
      },
      "execution_count": 4,
      "outputs": [
        {
          "output_type": "stream",
          "name": "stdout",
          "text": [
            "1013713136.mp4                  \u001b[0m\u001b[01;34mraid\u001b[0m/        sentiments4\n",
            "chat_df.csv                     raid_df.csv  sentiments5\n",
            "chat_features_womeaningful.csv  sentiments   vid_df_wraid.csv\n",
            "data_vid_df_l.csv               sentiments1  video_df_merge.csv\n",
            "features_vid_df_lag.csv         sentiments2\n",
            "features_vid_df_lag_raid.csv    sentiments3\n"
          ]
        }
      ]
    },
    {
      "cell_type": "code",
      "source": [
        "# just want to take a look at the chats containing raid information\n",
        "chat_df = pd.read_csv('chat_df.csv',lineterminator='\\n',index_col=0) \n",
        "chat_df.head()\n",
        "\n",
        "temp_table = chat_df[chat_df['messages'].str.contains('raid',na=False)]\n",
        "temp_table"
      ],
      "metadata": {
        "colab": {
          "base_uri": "https://localhost:8080/",
          "height": 661
        },
        "id": "qtb0qicyCUbg",
        "outputId": "a8bd5669-7fd4-4d68-d08e-0b7ddaae3c79"
      },
      "execution_count": 5,
      "outputs": [
        {
          "output_type": "execute_result",
          "data": {
            "text/plain": [
              "                                      video_url         timestamp  \\\n",
              "666     https://www.twitch.tv/videos/1619944979  1665355121824000   \n",
              "3000    https://www.twitch.tv/videos/1619944979  1665357892701000   \n",
              "5745    https://www.twitch.tv/videos/1619944979  1665363838449000   \n",
              "6070    https://www.twitch.tv/videos/1619944979  1665364571655000   \n",
              "16565   https://www.twitch.tv/videos/1610408161  1665015072860000   \n",
              "...                                         ...               ...   \n",
              "225041  https://www.twitch.tv/videos/1591613035  1663259993856000   \n",
              "225063  https://www.twitch.tv/videos/1591613035  1663260144079000   \n",
              "225090  https://www.twitch.tv/videos/1591613035  1663260437669000   \n",
              "225210  https://www.twitch.tv/videos/1591613035  1663261861871000   \n",
              "225214  https://www.twitch.tv/videos/1591613035  1663261873013000   \n",
              "\n",
              "        time_in_seconds  author_id     author_name  \\\n",
              "666            1188.124  238777489     Michael7461   \n",
              "3000           3959.001   40139265     Itzmochi808   \n",
              "5745           9904.749  100135110  StreamElements   \n",
              "6070          10637.955  635793543       GrayJune7   \n",
              "16565          2107.160  447167204        rmaton89   \n",
              "...                 ...        ...             ...   \n",
              "225041         7586.156  424089063        alankbrr   \n",
              "225063         7736.379  142432529           iipan   \n",
              "225090         8029.969  733199350       kiboy1111   \n",
              "225210         9454.171  552536197        culprith   \n",
              "225214         9465.313  552536197        culprith   \n",
              "\n",
              "                                               author_bio  \\\n",
              "666                                                   NaN   \n",
              "3000    Howzit everyone!! I am a variety streamer! 18+...   \n",
              "5745    Elevate your content with www.StreamElements.c...   \n",
              "6070                                                  NaN   \n",
              "16565                                                 NaN   \n",
              "...                                                   ...   \n",
              "225041                                                NaN   \n",
              "225063                                                NaN   \n",
              "225090                                                NaN   \n",
              "225210                                                NaN   \n",
              "225214                                                NaN   \n",
              "\n",
              "                                                 messages  \n",
              "666                  @mayraidensenpai, who said that KEKW  \n",
              "3000                       we out here raiding twitch con  \n",
              "5745    craidfn - (1800 DPI) Apex: 1.1 / ADS 1.05 | Va...  \n",
              "6070         I'm afraid of that droplet on the top monkaW  \n",
              "16565   @dalordraiden it was a joke but clout is like ...  \n",
              "...                                                   ...  \n",
              "225041                                              !raid  \n",
              "225063                                              !raid  \n",
              "225090                                              !raid  \n",
              "225210                                              !raid  \n",
              "225214                       wah harini raid party ke vai  \n",
              "\n",
              "[252 rows x 7 columns]"
            ],
            "text/html": [
              "\n",
              "  <div id=\"df-3d405b23-c2e5-4ace-90f3-4ffa69d26d80\">\n",
              "    <div class=\"colab-df-container\">\n",
              "      <div>\n",
              "<style scoped>\n",
              "    .dataframe tbody tr th:only-of-type {\n",
              "        vertical-align: middle;\n",
              "    }\n",
              "\n",
              "    .dataframe tbody tr th {\n",
              "        vertical-align: top;\n",
              "    }\n",
              "\n",
              "    .dataframe thead th {\n",
              "        text-align: right;\n",
              "    }\n",
              "</style>\n",
              "<table border=\"1\" class=\"dataframe\">\n",
              "  <thead>\n",
              "    <tr style=\"text-align: right;\">\n",
              "      <th></th>\n",
              "      <th>video_url</th>\n",
              "      <th>timestamp</th>\n",
              "      <th>time_in_seconds</th>\n",
              "      <th>author_id</th>\n",
              "      <th>author_name</th>\n",
              "      <th>author_bio</th>\n",
              "      <th>messages</th>\n",
              "    </tr>\n",
              "  </thead>\n",
              "  <tbody>\n",
              "    <tr>\n",
              "      <th>666</th>\n",
              "      <td>https://www.twitch.tv/videos/1619944979</td>\n",
              "      <td>1665355121824000</td>\n",
              "      <td>1188.124</td>\n",
              "      <td>238777489</td>\n",
              "      <td>Michael7461</td>\n",
              "      <td>NaN</td>\n",
              "      <td>@mayraidensenpai, who said that KEKW</td>\n",
              "    </tr>\n",
              "    <tr>\n",
              "      <th>3000</th>\n",
              "      <td>https://www.twitch.tv/videos/1619944979</td>\n",
              "      <td>1665357892701000</td>\n",
              "      <td>3959.001</td>\n",
              "      <td>40139265</td>\n",
              "      <td>Itzmochi808</td>\n",
              "      <td>Howzit everyone!! I am a variety streamer! 18+...</td>\n",
              "      <td>we out here raiding twitch con</td>\n",
              "    </tr>\n",
              "    <tr>\n",
              "      <th>5745</th>\n",
              "      <td>https://www.twitch.tv/videos/1619944979</td>\n",
              "      <td>1665363838449000</td>\n",
              "      <td>9904.749</td>\n",
              "      <td>100135110</td>\n",
              "      <td>StreamElements</td>\n",
              "      <td>Elevate your content with www.StreamElements.c...</td>\n",
              "      <td>craidfn - (1800 DPI) Apex: 1.1 / ADS 1.05 | Va...</td>\n",
              "    </tr>\n",
              "    <tr>\n",
              "      <th>6070</th>\n",
              "      <td>https://www.twitch.tv/videos/1619944979</td>\n",
              "      <td>1665364571655000</td>\n",
              "      <td>10637.955</td>\n",
              "      <td>635793543</td>\n",
              "      <td>GrayJune7</td>\n",
              "      <td>NaN</td>\n",
              "      <td>I'm afraid of that droplet on the top monkaW</td>\n",
              "    </tr>\n",
              "    <tr>\n",
              "      <th>16565</th>\n",
              "      <td>https://www.twitch.tv/videos/1610408161</td>\n",
              "      <td>1665015072860000</td>\n",
              "      <td>2107.160</td>\n",
              "      <td>447167204</td>\n",
              "      <td>rmaton89</td>\n",
              "      <td>NaN</td>\n",
              "      <td>@dalordraiden it was a joke but clout is like ...</td>\n",
              "    </tr>\n",
              "    <tr>\n",
              "      <th>...</th>\n",
              "      <td>...</td>\n",
              "      <td>...</td>\n",
              "      <td>...</td>\n",
              "      <td>...</td>\n",
              "      <td>...</td>\n",
              "      <td>...</td>\n",
              "      <td>...</td>\n",
              "    </tr>\n",
              "    <tr>\n",
              "      <th>225041</th>\n",
              "      <td>https://www.twitch.tv/videos/1591613035</td>\n",
              "      <td>1663259993856000</td>\n",
              "      <td>7586.156</td>\n",
              "      <td>424089063</td>\n",
              "      <td>alankbrr</td>\n",
              "      <td>NaN</td>\n",
              "      <td>!raid</td>\n",
              "    </tr>\n",
              "    <tr>\n",
              "      <th>225063</th>\n",
              "      <td>https://www.twitch.tv/videos/1591613035</td>\n",
              "      <td>1663260144079000</td>\n",
              "      <td>7736.379</td>\n",
              "      <td>142432529</td>\n",
              "      <td>iipan</td>\n",
              "      <td>NaN</td>\n",
              "      <td>!raid</td>\n",
              "    </tr>\n",
              "    <tr>\n",
              "      <th>225090</th>\n",
              "      <td>https://www.twitch.tv/videos/1591613035</td>\n",
              "      <td>1663260437669000</td>\n",
              "      <td>8029.969</td>\n",
              "      <td>733199350</td>\n",
              "      <td>kiboy1111</td>\n",
              "      <td>NaN</td>\n",
              "      <td>!raid</td>\n",
              "    </tr>\n",
              "    <tr>\n",
              "      <th>225210</th>\n",
              "      <td>https://www.twitch.tv/videos/1591613035</td>\n",
              "      <td>1663261861871000</td>\n",
              "      <td>9454.171</td>\n",
              "      <td>552536197</td>\n",
              "      <td>culprith</td>\n",
              "      <td>NaN</td>\n",
              "      <td>!raid</td>\n",
              "    </tr>\n",
              "    <tr>\n",
              "      <th>225214</th>\n",
              "      <td>https://www.twitch.tv/videos/1591613035</td>\n",
              "      <td>1663261873013000</td>\n",
              "      <td>9465.313</td>\n",
              "      <td>552536197</td>\n",
              "      <td>culprith</td>\n",
              "      <td>NaN</td>\n",
              "      <td>wah harini raid party ke vai</td>\n",
              "    </tr>\n",
              "  </tbody>\n",
              "</table>\n",
              "<p>252 rows × 7 columns</p>\n",
              "</div>\n",
              "      <button class=\"colab-df-convert\" onclick=\"convertToInteractive('df-3d405b23-c2e5-4ace-90f3-4ffa69d26d80')\"\n",
              "              title=\"Convert this dataframe to an interactive table.\"\n",
              "              style=\"display:none;\">\n",
              "        \n",
              "  <svg xmlns=\"http://www.w3.org/2000/svg\" height=\"24px\"viewBox=\"0 0 24 24\"\n",
              "       width=\"24px\">\n",
              "    <path d=\"M0 0h24v24H0V0z\" fill=\"none\"/>\n",
              "    <path d=\"M18.56 5.44l.94 2.06.94-2.06 2.06-.94-2.06-.94-.94-2.06-.94 2.06-2.06.94zm-11 1L8.5 8.5l.94-2.06 2.06-.94-2.06-.94L8.5 2.5l-.94 2.06-2.06.94zm10 10l.94 2.06.94-2.06 2.06-.94-2.06-.94-.94-2.06-.94 2.06-2.06.94z\"/><path d=\"M17.41 7.96l-1.37-1.37c-.4-.4-.92-.59-1.43-.59-.52 0-1.04.2-1.43.59L10.3 9.45l-7.72 7.72c-.78.78-.78 2.05 0 2.83L4 21.41c.39.39.9.59 1.41.59.51 0 1.02-.2 1.41-.59l7.78-7.78 2.81-2.81c.8-.78.8-2.07 0-2.86zM5.41 20L4 18.59l7.72-7.72 1.47 1.35L5.41 20z\"/>\n",
              "  </svg>\n",
              "      </button>\n",
              "      \n",
              "  <style>\n",
              "    .colab-df-container {\n",
              "      display:flex;\n",
              "      flex-wrap:wrap;\n",
              "      gap: 12px;\n",
              "    }\n",
              "\n",
              "    .colab-df-convert {\n",
              "      background-color: #E8F0FE;\n",
              "      border: none;\n",
              "      border-radius: 50%;\n",
              "      cursor: pointer;\n",
              "      display: none;\n",
              "      fill: #1967D2;\n",
              "      height: 32px;\n",
              "      padding: 0 0 0 0;\n",
              "      width: 32px;\n",
              "    }\n",
              "\n",
              "    .colab-df-convert:hover {\n",
              "      background-color: #E2EBFA;\n",
              "      box-shadow: 0px 1px 2px rgba(60, 64, 67, 0.3), 0px 1px 3px 1px rgba(60, 64, 67, 0.15);\n",
              "      fill: #174EA6;\n",
              "    }\n",
              "\n",
              "    [theme=dark] .colab-df-convert {\n",
              "      background-color: #3B4455;\n",
              "      fill: #D2E3FC;\n",
              "    }\n",
              "\n",
              "    [theme=dark] .colab-df-convert:hover {\n",
              "      background-color: #434B5C;\n",
              "      box-shadow: 0px 1px 3px 1px rgba(0, 0, 0, 0.15);\n",
              "      filter: drop-shadow(0px 1px 2px rgba(0, 0, 0, 0.3));\n",
              "      fill: #FFFFFF;\n",
              "    }\n",
              "  </style>\n",
              "\n",
              "      <script>\n",
              "        const buttonEl =\n",
              "          document.querySelector('#df-3d405b23-c2e5-4ace-90f3-4ffa69d26d80 button.colab-df-convert');\n",
              "        buttonEl.style.display =\n",
              "          google.colab.kernel.accessAllowed ? 'block' : 'none';\n",
              "\n",
              "        async function convertToInteractive(key) {\n",
              "          const element = document.querySelector('#df-3d405b23-c2e5-4ace-90f3-4ffa69d26d80');\n",
              "          const dataTable =\n",
              "            await google.colab.kernel.invokeFunction('convertToInteractive',\n",
              "                                                     [key], {});\n",
              "          if (!dataTable) return;\n",
              "\n",
              "          const docLinkHtml = 'Like what you see? Visit the ' +\n",
              "            '<a target=\"_blank\" href=https://colab.research.google.com/notebooks/data_table.ipynb>data table notebook</a>'\n",
              "            + ' to learn more about interactive tables.';\n",
              "          element.innerHTML = '';\n",
              "          dataTable['output_type'] = 'display_data';\n",
              "          await google.colab.output.renderOutput(dataTable, element);\n",
              "          const docLink = document.createElement('div');\n",
              "          docLink.innerHTML = docLinkHtml;\n",
              "          element.appendChild(docLink);\n",
              "        }\n",
              "      </script>\n",
              "    </div>\n",
              "  </div>\n",
              "  "
            ]
          },
          "metadata": {},
          "execution_count": 5
        }
      ]
    },
    {
      "cell_type": "code",
      "source": [
        "# to get the list of streamers in sample, also will later merge raid data into this\n",
        "# from independent_variable_chat_exploration.ipynb output\n",
        "features_vid_df_lag = pd.read_csv('features_vid_df_lag.csv',lineterminator='\\n',index_col=0) \n",
        "features_vid_df_lag.columns"
      ],
      "metadata": {
        "colab": {
          "base_uri": "https://localhost:8080/"
        },
        "id": "tLu2vB5BjDYl",
        "outputId": "d073205f-d163-411e-cd29-b478f96d47c7"
      },
      "execution_count": 6,
      "outputs": [
        {
          "output_type": "execute_result",
          "data": {
            "text/plain": [
              "Index(['user_id', 'video_id', 'video_url', 'num_messages', 'message_len',\n",
              "       'video_id.1', 'num_messages_per_min', 'user_id.1', 'user_name',\n",
              "       'duration_min', 'created_at', 'title', 'view_count', 'broadcaster_type',\n",
              "       'broadcast_description', 'broadcaster_created_at',\n",
              "       'avg_messages_per_min', 'sentiment_positive_percent', 'sentiment_score',\n",
              "       'video_url_lag', 'num_messages_lag', 'message_len_lag', 'video_id_lag',\n",
              "       'num_messages_per_min_lag', 'user_id_lag', 'user_name_lag',\n",
              "       'duration_min_lag', 'created_at_lag', 'title_lag', 'view_count_lag',\n",
              "       'broadcaster_type_lag', 'broadcast_description_lag',\n",
              "       'broadcaster_created_at_lag', 'avg_messages_per_min_lag',\n",
              "       'sentiment_positive_percent_lag', 'sentiment_score_lag',\n",
              "       'time_after_last_stream', 'time_after_last_stream_end', 'user_id_post',\n",
              "       'created_at_post', 'time_till_next_stream',\n",
              "       'time_till_last_stream_afterend'],\n",
              "      dtype='object')"
            ]
          },
          "metadata": {},
          "execution_count": 6
        }
      ]
    },
    {
      "cell_type": "code",
      "source": [
        "print(features_vid_df_lag['video_url'].nunique())\n",
        "print(features_vid_df_lag['user_id'].nunique())"
      ],
      "metadata": {
        "colab": {
          "base_uri": "https://localhost:8080/"
        },
        "id": "UI0kjkZrsm9-",
        "outputId": "77190be2-de63-4de2-b9e0-e6fd0989eda7"
      },
      "execution_count": 7,
      "outputs": [
        {
          "output_type": "stream",
          "name": "stdout",
          "text": [
            "91\n",
            "12\n"
          ]
        }
      ]
    },
    {
      "cell_type": "code",
      "source": [
        "# video_df.user_name.unique()\n",
        "features_vid_df_lag.user_name.unique()"
      ],
      "metadata": {
        "id": "gvPINoIu4RXK",
        "outputId": "6af28924-0274-4e72-99cc-93f9bd608513",
        "colab": {
          "base_uri": "https://localhost:8080/"
        }
      },
      "execution_count": 8,
      "outputs": [
        {
          "output_type": "execute_result",
          "data": {
            "text/plain": [
              "array(['zackrawrr', 'Methodz', 'SypherPK', 'iiTzTimmy', 'AkzOnTop',\n",
              "       'VNCEOfficial', 'Rainbow6', 'moistcr1tikal', 'General_Mars',\n",
              "       'Murda10k', 'PatProzyy', 'prxd4v41'], dtype=object)"
            ]
          },
          "metadata": {},
          "execution_count": 8
        }
      ]
    },
    {
      "cell_type": "markdown",
      "source": [
        "## Parse raid data\n"
      ],
      "metadata": {
        "id": "cry8YW837oiv"
      }
    },
    {
      "cell_type": "code",
      "source": [
        "import requests # to fetch the raw HTML from our page\n",
        "import csv\n",
        "from bs4 import BeautifulSoup # to extract just the information we are looking for"
      ],
      "metadata": {
        "id": "YcAFtvIW7xkL"
      },
      "execution_count": 9,
      "outputs": []
    },
    {
      "cell_type": "code",
      "source": [
        "# reference 1: https://github.com/Vidito/webscraping_housing/blob/main/main.py\n",
        "def get_data(soup_object):\n",
        "    table = soup.find('table', class_=\"w-full rounded-lg bg-card\")\n",
        "\n",
        "    # scrapes the table head element\n",
        "    outputHead = []\n",
        "    for th in table.find_all('th'):  # find_all() function to find the elements we are looking for\n",
        "        outputHead.append(th.text)  #write to a output list\n",
        "\n",
        "    # traverses all the table rows\n",
        "    outputRows = []\n",
        "    for tr in table.find_all('tr'):\n",
        "        tableColumns = tr.find_all('td')\n",
        "        outputRow = []\n",
        "        for tc in tableColumns:\n",
        "            outputRow.append(tc.text.replace('\\n', ''))\n",
        "        outputRows.append(outputRow)\n",
        "\n",
        "    return outputHead, outputRows"
      ],
      "metadata": {
        "id": "hJKSY1qL8Qy5"
      },
      "execution_count": 10,
      "outputs": []
    },
    {
      "cell_type": "code",
      "source": [
        "# testing the code with one streamer\n",
        "#with open(\"raid_VNCEOfficial.html\") as fp:\n",
        "#    soup = BeautifulSoup(fp, 'html.parser')\n",
        "#\n",
        "#outputHead, outputRows = get_data(soup)\n",
        "#raid_df= pd.DataFrame(outputRows,columns=outputHead)[1:].set_index(outputHead[0])\n",
        "#\n",
        "#raid_df.head()"
      ],
      "metadata": {
        "id": "6KLJ5_UsD2sA"
      },
      "execution_count": 11,
      "outputs": []
    },
    {
      "cell_type": "code",
      "source": [
        "raid_file_list = ['raid_VNCEOfficial.html', 'raid_PatProzyy.html', 'raid_prxd4v41.html', 'raid_Methodz.html',\n",
        "        'raid_Rainbow6.html', 'raid_SypherPK.html', 'raid_iiTzTimmy.html',\n",
        "       'raid_moistcr1tikal.html', 'raid_zackrawrr.html']\n",
        "\n",
        "for i in range(len(raid_file_list)):\n",
        "  with open('raid/' + raid_file_list[i] ) as fp:\n",
        "    soup = BeautifulSoup(fp, 'html.parser')\n",
        "    outputHead, outputRows = get_data(soup)\n",
        "  print(i)\n",
        "  if i == 0:\n",
        "    raid_df= pd.DataFrame(outputRows,columns=outputHead)[1:].set_index(outputHead[0])\n",
        "    print(raid_df.Whom.unique(),len(raid_df))\n",
        "  else:\n",
        "    temp = pd.DataFrame(outputRows,columns=outputHead)[1:].set_index(outputHead[0])\n",
        "    raid_df = raid_df.append(temp)\n",
        "    print(temp.Whom.unique(),len(temp))"
      ],
      "metadata": {
        "colab": {
          "base_uri": "https://localhost:8080/"
        },
        "id": "vwgPmMjfAOde",
        "outputId": "6f48d1b4-1871-4ba6-896f-3d8cbfab8d6d"
      },
      "execution_count": 19,
      "outputs": [
        {
          "output_type": "stream",
          "name": "stdout",
          "text": [
            "0\n",
            "[' VNCEOfficial'] 230\n",
            "1\n",
            "[' PatProzyy'] 28\n",
            "2\n",
            "[' prxd4v41'] 83\n",
            "3\n",
            "[' Methodz'] 84\n",
            "4\n",
            "[' Rainbow6'] 139\n",
            "5\n",
            "[' SypherPK'] 105\n",
            "6\n",
            "[' iiTzTimmy'] 408\n",
            "7\n",
            "[' moistcr1tikal'] 952\n",
            "8\n",
            "[' zackrawrr'] 171\n"
          ]
        }
      ]
    },
    {
      "cell_type": "code",
      "source": [
        "# string to datetime format\n",
        "raid_df['timestamp'] = pd.to_datetime(raid_df['Date'].str.strip(), format='%b %d, %Y at %H:%M')\n",
        "raid_df['user_name'] = raid_df['Whom'].str.strip()\n",
        "raid_df['num_raiders'] = raid_df['Number of viewers'].str.extract('(\\d+)').astype(int)\n",
        "\n",
        "raid_df_clean = raid_df.drop(['Stream','Date','Whom','Number of viewers'], axis=1)"
      ],
      "metadata": {
        "id": "2j1_kmSb_bBZ"
      },
      "execution_count": 20,
      "outputs": []
    },
    {
      "cell_type": "code",
      "source": [
        "raid_df_clean.head()\n",
        "print(raid_df_clean.shape)"
      ],
      "metadata": {
        "colab": {
          "base_uri": "https://localhost:8080/"
        },
        "id": "KuSAjpHzJUoL",
        "outputId": "02df7503-be19-4450-e608-d6de6b8f9fd0"
      },
      "execution_count": 21,
      "outputs": [
        {
          "output_type": "stream",
          "name": "stdout",
          "text": [
            "(2200, 5)\n"
          ]
        }
      ]
    },
    {
      "cell_type": "code",
      "source": [
        "raid_df_clean.head()"
      ],
      "metadata": {
        "colab": {
          "base_uri": "https://localhost:8080/",
          "height": 220
        },
        "id": "5OwOIQmD_f8L",
        "outputId": "5970a8a5-6692-4915-bcc0-d1ffb09b2e42"
      },
      "execution_count": 22,
      "outputs": [
        {
          "output_type": "execute_result",
          "data": {
            "text/plain": [
              "                     Channel Raided/Hosted           timestamp     user_name  \\\n",
              "\\n\\n\\n                                                                         \n",
              "1                   SadlyNXT        raided 2022-11-03 18:59:00  VNCEOfficial   \n",
              "2         theholmanboy_games        raided 2022-11-03 18:57:00  VNCEOfficial   \n",
              "3                      DHME5        raided 2022-11-03 18:42:00  VNCEOfficial   \n",
              "4                  FezzSnezz        raided 2022-10-31 22:09:00  VNCEOfficial   \n",
              "5                  nocaseace        raided 2022-10-28 19:54:00  VNCEOfficial   \n",
              "\n",
              "         num_raiders  \n",
              "\\n\\n\\n                \n",
              "1                 51  \n",
              "2                  1  \n",
              "3                  4  \n",
              "4                  2  \n",
              "5                  2  "
            ],
            "text/html": [
              "\n",
              "  <div id=\"df-41dcb948-a7c3-42a7-94b9-d787f38ac348\">\n",
              "    <div class=\"colab-df-container\">\n",
              "      <div>\n",
              "<style scoped>\n",
              "    .dataframe tbody tr th:only-of-type {\n",
              "        vertical-align: middle;\n",
              "    }\n",
              "\n",
              "    .dataframe tbody tr th {\n",
              "        vertical-align: top;\n",
              "    }\n",
              "\n",
              "    .dataframe thead th {\n",
              "        text-align: right;\n",
              "    }\n",
              "</style>\n",
              "<table border=\"1\" class=\"dataframe\">\n",
              "  <thead>\n",
              "    <tr style=\"text-align: right;\">\n",
              "      <th></th>\n",
              "      <th>Channel</th>\n",
              "      <th>Raided/Hosted</th>\n",
              "      <th>timestamp</th>\n",
              "      <th>user_name</th>\n",
              "      <th>num_raiders</th>\n",
              "    </tr>\n",
              "    <tr>\n",
              "      <th></th>\n",
              "      <th></th>\n",
              "      <th></th>\n",
              "      <th></th>\n",
              "      <th></th>\n",
              "      <th></th>\n",
              "    </tr>\n",
              "  </thead>\n",
              "  <tbody>\n",
              "    <tr>\n",
              "      <th>1</th>\n",
              "      <td>SadlyNXT</td>\n",
              "      <td>raided</td>\n",
              "      <td>2022-11-03 18:59:00</td>\n",
              "      <td>VNCEOfficial</td>\n",
              "      <td>51</td>\n",
              "    </tr>\n",
              "    <tr>\n",
              "      <th>2</th>\n",
              "      <td>theholmanboy_games</td>\n",
              "      <td>raided</td>\n",
              "      <td>2022-11-03 18:57:00</td>\n",
              "      <td>VNCEOfficial</td>\n",
              "      <td>1</td>\n",
              "    </tr>\n",
              "    <tr>\n",
              "      <th>3</th>\n",
              "      <td>DHME5</td>\n",
              "      <td>raided</td>\n",
              "      <td>2022-11-03 18:42:00</td>\n",
              "      <td>VNCEOfficial</td>\n",
              "      <td>4</td>\n",
              "    </tr>\n",
              "    <tr>\n",
              "      <th>4</th>\n",
              "      <td>FezzSnezz</td>\n",
              "      <td>raided</td>\n",
              "      <td>2022-10-31 22:09:00</td>\n",
              "      <td>VNCEOfficial</td>\n",
              "      <td>2</td>\n",
              "    </tr>\n",
              "    <tr>\n",
              "      <th>5</th>\n",
              "      <td>nocaseace</td>\n",
              "      <td>raided</td>\n",
              "      <td>2022-10-28 19:54:00</td>\n",
              "      <td>VNCEOfficial</td>\n",
              "      <td>2</td>\n",
              "    </tr>\n",
              "  </tbody>\n",
              "</table>\n",
              "</div>\n",
              "      <button class=\"colab-df-convert\" onclick=\"convertToInteractive('df-41dcb948-a7c3-42a7-94b9-d787f38ac348')\"\n",
              "              title=\"Convert this dataframe to an interactive table.\"\n",
              "              style=\"display:none;\">\n",
              "        \n",
              "  <svg xmlns=\"http://www.w3.org/2000/svg\" height=\"24px\"viewBox=\"0 0 24 24\"\n",
              "       width=\"24px\">\n",
              "    <path d=\"M0 0h24v24H0V0z\" fill=\"none\"/>\n",
              "    <path d=\"M18.56 5.44l.94 2.06.94-2.06 2.06-.94-2.06-.94-.94-2.06-.94 2.06-2.06.94zm-11 1L8.5 8.5l.94-2.06 2.06-.94-2.06-.94L8.5 2.5l-.94 2.06-2.06.94zm10 10l.94 2.06.94-2.06 2.06-.94-2.06-.94-.94-2.06-.94 2.06-2.06.94z\"/><path d=\"M17.41 7.96l-1.37-1.37c-.4-.4-.92-.59-1.43-.59-.52 0-1.04.2-1.43.59L10.3 9.45l-7.72 7.72c-.78.78-.78 2.05 0 2.83L4 21.41c.39.39.9.59 1.41.59.51 0 1.02-.2 1.41-.59l7.78-7.78 2.81-2.81c.8-.78.8-2.07 0-2.86zM5.41 20L4 18.59l7.72-7.72 1.47 1.35L5.41 20z\"/>\n",
              "  </svg>\n",
              "      </button>\n",
              "      \n",
              "  <style>\n",
              "    .colab-df-container {\n",
              "      display:flex;\n",
              "      flex-wrap:wrap;\n",
              "      gap: 12px;\n",
              "    }\n",
              "\n",
              "    .colab-df-convert {\n",
              "      background-color: #E8F0FE;\n",
              "      border: none;\n",
              "      border-radius: 50%;\n",
              "      cursor: pointer;\n",
              "      display: none;\n",
              "      fill: #1967D2;\n",
              "      height: 32px;\n",
              "      padding: 0 0 0 0;\n",
              "      width: 32px;\n",
              "    }\n",
              "\n",
              "    .colab-df-convert:hover {\n",
              "      background-color: #E2EBFA;\n",
              "      box-shadow: 0px 1px 2px rgba(60, 64, 67, 0.3), 0px 1px 3px 1px rgba(60, 64, 67, 0.15);\n",
              "      fill: #174EA6;\n",
              "    }\n",
              "\n",
              "    [theme=dark] .colab-df-convert {\n",
              "      background-color: #3B4455;\n",
              "      fill: #D2E3FC;\n",
              "    }\n",
              "\n",
              "    [theme=dark] .colab-df-convert:hover {\n",
              "      background-color: #434B5C;\n",
              "      box-shadow: 0px 1px 3px 1px rgba(0, 0, 0, 0.15);\n",
              "      filter: drop-shadow(0px 1px 2px rgba(0, 0, 0, 0.3));\n",
              "      fill: #FFFFFF;\n",
              "    }\n",
              "  </style>\n",
              "\n",
              "      <script>\n",
              "        const buttonEl =\n",
              "          document.querySelector('#df-41dcb948-a7c3-42a7-94b9-d787f38ac348 button.colab-df-convert');\n",
              "        buttonEl.style.display =\n",
              "          google.colab.kernel.accessAllowed ? 'block' : 'none';\n",
              "\n",
              "        async function convertToInteractive(key) {\n",
              "          const element = document.querySelector('#df-41dcb948-a7c3-42a7-94b9-d787f38ac348');\n",
              "          const dataTable =\n",
              "            await google.colab.kernel.invokeFunction('convertToInteractive',\n",
              "                                                     [key], {});\n",
              "          if (!dataTable) return;\n",
              "\n",
              "          const docLinkHtml = 'Like what you see? Visit the ' +\n",
              "            '<a target=\"_blank\" href=https://colab.research.google.com/notebooks/data_table.ipynb>data table notebook</a>'\n",
              "            + ' to learn more about interactive tables.';\n",
              "          element.innerHTML = '';\n",
              "          dataTable['output_type'] = 'display_data';\n",
              "          await google.colab.output.renderOutput(dataTable, element);\n",
              "          const docLink = document.createElement('div');\n",
              "          docLink.innerHTML = docLinkHtml;\n",
              "          element.appendChild(docLink);\n",
              "        }\n",
              "      </script>\n",
              "    </div>\n",
              "  </div>\n",
              "  "
            ]
          },
          "metadata": {},
          "execution_count": 22
        }
      ]
    },
    {
      "cell_type": "code",
      "source": [
        "import matplotlib.pyplot as plt\n",
        "\n",
        "plt.rcParams['figure.figsize'] = [16, 4]\n",
        "plt.subplot(1,3,1)\n",
        "raid_df_clean.num_raiders.plot.hist()\n",
        "plt.subplot(1,3,2)\n",
        "raid_df_clean[raid_df_clean.num_raiders <100].num_raiders.plot.hist()\n",
        "plt.subplot(1,3,3)\n",
        "raid_df_clean[raid_df_clean.num_raiders <25].num_raiders.plot.hist()"
      ],
      "metadata": {
        "colab": {
          "base_uri": "https://localhost:8080/",
          "height": 283
        },
        "id": "YIQWtTisCoeA",
        "outputId": "0324c1b7-e412-4f15-c2fe-3002a5b1b4f0"
      },
      "execution_count": 46,
      "outputs": [
        {
          "output_type": "execute_result",
          "data": {
            "text/plain": [
              "<matplotlib.axes._subplots.AxesSubplot at 0x7f00d23d50d0>"
            ]
          },
          "metadata": {},
          "execution_count": 46
        },
        {
          "output_type": "display_data",
          "data": {
            "text/plain": [
              "<Figure size 1152x288 with 3 Axes>"
            ],
            "image/png": "[encoded data removed]"
          },
          "metadata": {
            "needs_background": "light"
          }
        }
      ]
    },
    {
      "cell_type": "code",
      "source": [
        "plt.rcParams['figure.figsize'] = [8, 4]\n",
        "raid_df_clean[raid_df_clean.num_raiders >100].num_raiders.plot.hist()"
      ],
      "metadata": {
        "colab": {
          "base_uri": "https://localhost:8080/",
          "height": 283
        },
        "id": "E0D2WvggDjhu",
        "outputId": "b22f5c84-023e-4f2d-ae6f-8142eed42a86"
      },
      "execution_count": 49,
      "outputs": [
        {
          "output_type": "execute_result",
          "data": {
            "text/plain": [
              "<matplotlib.axes._subplots.AxesSubplot at 0x7f00d23d31d0>"
            ]
          },
          "metadata": {},
          "execution_count": 49
        },
        {
          "output_type": "display_data",
          "data": {
            "text/plain": [
              "<Figure size 576x288 with 1 Axes>"
            ],
            "image/png": "[encoded data removed]"
          },
          "metadata": {
            "needs_background": "light"
          }
        }
      ]
    },
    {
      "cell_type": "code",
      "source": [
        "# This saves to google drive directly\n",
        "raid_df_clean.to_csv('raid_df.csv')"
      ],
      "metadata": {
        "id": "cBCLBQ1fJRuN"
      },
      "execution_count": 24,
      "outputs": []
    },
    {
      "cell_type": "markdown",
      "source": [
        "## Towards identification\n",
        "\n",
        "If incoming raids leads to exogenous change in viewership and chat intensity?\n",
        "\n",
        "First let's take a look at the video level numbers. \n",
        "- Find the raids that happened during the video time range. \n",
        "- Then aggregate, Number of raids, total number of viewers raided. "
      ],
      "metadata": {
        "id": "HR5n5rpDJxNU"
      }
    },
    {
      "cell_type": "code",
      "source": [
        "features_vid_df_lag['created_at'] = pd.to_datetime(features_vid_df_lag['created_at']).dt.tz_localize(None)\n",
        "features_vid_df_lag['ended_at'] = features_vid_df_lag['created_at'] + pd.to_timedelta(features_vid_df_lag['duration_min'], unit='m') "
      ],
      "metadata": {
        "id": "go-NDkoQIZ88"
      },
      "execution_count": 25,
      "outputs": []
    },
    {
      "cell_type": "code",
      "source": [
        "#features_vid_df_lag.user_name\n",
        "#raid_df.Whom.unique()"
      ],
      "metadata": {
        "id": "pVsVWY40Qi5I"
      },
      "execution_count": 26,
      "outputs": []
    },
    {
      "cell_type": "code",
      "source": [
        "#for i in range(2):\n",
        "for i in range(len(features_vid_df_lag.user_name.unique())):\n",
        "  streamer = features_vid_df_lag.user_name.unique()[i]\n",
        "  temp_vid_table = features_vid_df_lag[features_vid_df_lag.user_name == streamer][['user_name','video_id','created_at','ended_at']]\n",
        "  temp_raid_table = raid_df_clean[raid_df_clean['user_name'] == streamer]\n",
        "  temp_raid_table = temp_raid_table.loc[(temp_raid_table['timestamp'] >= temp_vid_table['created_at'].min()) & (temp_raid_table['timestamp']<= temp_vid_table['created_at'].max())]\n",
        "  print(temp_vid_table['user_name'].unique(),temp_raid_table.user_name.unique())\n",
        "  \n",
        "  temp = pd.merge(temp_vid_table, temp_raid_table,  how='left', left_on=['user_name'], right_on = ['user_name'])\n",
        "  temp = temp[(temp['timestamp'] >= temp['created_at']) & (temp['timestamp'] <= temp['ended_at'])]\n",
        "\n",
        "  if i ==0:\n",
        "    vid_df_wraid = temp\n",
        "    print(len(temp),len(vid_df_wraid))\n",
        "  else: \n",
        "    vid_df_wraid = vid_df_wraid.append(temp)\n",
        "    print(len(temp),len(vid_df_wraid))\n",
        "\n",
        "vid_df_wraid = vid_df_wraid.reset_index(drop=True)"
      ],
      "metadata": {
        "colab": {
          "base_uri": "https://localhost:8080/"
        },
        "id": "3mE-FmvvJhUN",
        "outputId": "7f597884-3790-4524-9cf7-d31932f7f00f"
      },
      "execution_count": 27,
      "outputs": [
        {
          "output_type": "stream",
          "name": "stdout",
          "text": [
            "['zackrawrr'] ['zackrawrr']\n",
            "4 4\n",
            "['Methodz'] ['Methodz']\n",
            "2 6\n",
            "['SypherPK'] ['SypherPK']\n",
            "0 6\n",
            "['iiTzTimmy'] ['iiTzTimmy']\n",
            "0 6\n",
            "['AkzOnTop'] []\n",
            "0 6\n",
            "['VNCEOfficial'] ['VNCEOfficial']\n",
            "2 8\n",
            "['Rainbow6'] ['Rainbow6']\n",
            "2 10\n",
            "['moistcr1tikal'] ['moistcr1tikal']\n",
            "11 21\n",
            "['General_Mars'] []\n",
            "0 21\n",
            "['Murda10k'] []\n",
            "0 21\n",
            "['PatProzyy'] ['PatProzyy']\n",
            "0 21\n",
            "['prxd4v41'] ['prxd4v41']\n",
            "12 33\n"
          ]
        }
      ]
    },
    {
      "cell_type": "code",
      "source": [
        "vid_df_wraid.to_csv('vid_df_wraid.csv')"
      ],
      "metadata": {
        "id": "XkHutvbuJWzi"
      },
      "execution_count": 29,
      "outputs": []
    },
    {
      "cell_type": "code",
      "source": [
        "vid_df_wraid.head()"
      ],
      "metadata": {
        "colab": {
          "base_uri": "https://localhost:8080/",
          "height": 250
        },
        "id": "6S0afI3OXsv1",
        "outputId": "442ea82f-686e-42fb-ec28-3ccf92f10618"
      },
      "execution_count": 28,
      "outputs": [
        {
          "output_type": "execute_result",
          "data": {
            "text/plain": [
              "   user_name    video_id          created_at                      ended_at  \\\n",
              "0  zackrawrr  1610656682 2022-10-06 05:28:07 2022-10-06 09:26:50.999999980   \n",
              "1  zackrawrr  1610656682 2022-10-06 05:28:07 2022-10-06 09:26:50.999999980   \n",
              "2  zackrawrr  1610656682 2022-10-06 05:28:07 2022-10-06 09:26:50.999999980   \n",
              "3  zackrawrr  1610656682 2022-10-06 05:28:07 2022-10-06 09:26:50.999999980   \n",
              "4    Methodz  1605572910 2022-09-30 18:40:36 2022-09-30 22:17:30.000000000   \n",
              "\n",
              "        Channel Raided/Hosted           timestamp  num_raiders  \n",
              "0       ArcAngL        raided 2022-10-06 09:01:00          4.0  \n",
              "1    MeatCuddle        raided 2022-10-06 08:00:00          5.0  \n",
              "2   EternalNess        raided 2022-10-06 07:32:00          1.0  \n",
              "3    emialbasta        raided 2022-10-06 07:29:00          4.0  \n",
              "4   Hitchariide        raided 2022-09-30 21:25:00        534.0  "
            ],
            "text/html": [
              "\n",
              "  <div id=\"df-144cb4ec-119d-4caf-a3b3-a3ece57f954b\">\n",
              "    <div class=\"colab-df-container\">\n",
              "      <div>\n",
              "<style scoped>\n",
              "    .dataframe tbody tr th:only-of-type {\n",
              "        vertical-align: middle;\n",
              "    }\n",
              "\n",
              "    .dataframe tbody tr th {\n",
              "        vertical-align: top;\n",
              "    }\n",
              "\n",
              "    .dataframe thead th {\n",
              "        text-align: right;\n",
              "    }\n",
              "</style>\n",
              "<table border=\"1\" class=\"dataframe\">\n",
              "  <thead>\n",
              "    <tr style=\"text-align: right;\">\n",
              "      <th></th>\n",
              "      <th>user_name</th>\n",
              "      <th>video_id</th>\n",
              "      <th>created_at</th>\n",
              "      <th>ended_at</th>\n",
              "      <th>Channel</th>\n",
              "      <th>Raided/Hosted</th>\n",
              "      <th>timestamp</th>\n",
              "      <th>num_raiders</th>\n",
              "    </tr>\n",
              "  </thead>\n",
              "  <tbody>\n",
              "    <tr>\n",
              "      <th>0</th>\n",
              "      <td>zackrawrr</td>\n",
              "      <td>1610656682</td>\n",
              "      <td>2022-10-06 05:28:07</td>\n",
              "      <td>2022-10-06 09:26:50.999999980</td>\n",
              "      <td>ArcAngL</td>\n",
              "      <td>raided</td>\n",
              "      <td>2022-10-06 09:01:00</td>\n",
              "      <td>4.0</td>\n",
              "    </tr>\n",
              "    <tr>\n",
              "      <th>1</th>\n",
              "      <td>zackrawrr</td>\n",
              "      <td>1610656682</td>\n",
              "      <td>2022-10-06 05:28:07</td>\n",
              "      <td>2022-10-06 09:26:50.999999980</td>\n",
              "      <td>MeatCuddle</td>\n",
              "      <td>raided</td>\n",
              "      <td>2022-10-06 08:00:00</td>\n",
              "      <td>5.0</td>\n",
              "    </tr>\n",
              "    <tr>\n",
              "      <th>2</th>\n",
              "      <td>zackrawrr</td>\n",
              "      <td>1610656682</td>\n",
              "      <td>2022-10-06 05:28:07</td>\n",
              "      <td>2022-10-06 09:26:50.999999980</td>\n",
              "      <td>EternalNess</td>\n",
              "      <td>raided</td>\n",
              "      <td>2022-10-06 07:32:00</td>\n",
              "      <td>1.0</td>\n",
              "    </tr>\n",
              "    <tr>\n",
              "      <th>3</th>\n",
              "      <td>zackrawrr</td>\n",
              "      <td>1610656682</td>\n",
              "      <td>2022-10-06 05:28:07</td>\n",
              "      <td>2022-10-06 09:26:50.999999980</td>\n",
              "      <td>emialbasta</td>\n",
              "      <td>raided</td>\n",
              "      <td>2022-10-06 07:29:00</td>\n",
              "      <td>4.0</td>\n",
              "    </tr>\n",
              "    <tr>\n",
              "      <th>4</th>\n",
              "      <td>Methodz</td>\n",
              "      <td>1605572910</td>\n",
              "      <td>2022-09-30 18:40:36</td>\n",
              "      <td>2022-09-30 22:17:30.000000000</td>\n",
              "      <td>Hitchariide</td>\n",
              "      <td>raided</td>\n",
              "      <td>2022-09-30 21:25:00</td>\n",
              "      <td>534.0</td>\n",
              "    </tr>\n",
              "  </tbody>\n",
              "</table>\n",
              "</div>\n",
              "      <button class=\"colab-df-convert\" onclick=\"convertToInteractive('df-144cb4ec-119d-4caf-a3b3-a3ece57f954b')\"\n",
              "              title=\"Convert this dataframe to an interactive table.\"\n",
              "              style=\"display:none;\">\n",
              "        \n",
              "  <svg xmlns=\"http://www.w3.org/2000/svg\" height=\"24px\"viewBox=\"0 0 24 24\"\n",
              "       width=\"24px\">\n",
              "    <path d=\"M0 0h24v24H0V0z\" fill=\"none\"/>\n",
              "    <path d=\"M18.56 5.44l.94 2.06.94-2.06 2.06-.94-2.06-.94-.94-2.06-.94 2.06-2.06.94zm-11 1L8.5 8.5l.94-2.06 2.06-.94-2.06-.94L8.5 2.5l-.94 2.06-2.06.94zm10 10l.94 2.06.94-2.06 2.06-.94-2.06-.94-.94-2.06-.94 2.06-2.06.94z\"/><path d=\"M17.41 7.96l-1.37-1.37c-.4-.4-.92-.59-1.43-.59-.52 0-1.04.2-1.43.59L10.3 9.45l-7.72 7.72c-.78.78-.78 2.05 0 2.83L4 21.41c.39.39.9.59 1.41.59.51 0 1.02-.2 1.41-.59l7.78-7.78 2.81-2.81c.8-.78.8-2.07 0-2.86zM5.41 20L4 18.59l7.72-7.72 1.47 1.35L5.41 20z\"/>\n",
              "  </svg>\n",
              "      </button>\n",
              "      \n",
              "  <style>\n",
              "    .colab-df-container {\n",
              "      display:flex;\n",
              "      flex-wrap:wrap;\n",
              "      gap: 12px;\n",
              "    }\n",
              "\n",
              "    .colab-df-convert {\n",
              "      background-color: #E8F0FE;\n",
              "      border: none;\n",
              "      border-radius: 50%;\n",
              "      cursor: pointer;\n",
              "      display: none;\n",
              "      fill: #1967D2;\n",
              "      height: 32px;\n",
              "      padding: 0 0 0 0;\n",
              "      width: 32px;\n",
              "    }\n",
              "\n",
              "    .colab-df-convert:hover {\n",
              "      background-color: #E2EBFA;\n",
              "      box-shadow: 0px 1px 2px rgba(60, 64, 67, 0.3), 0px 1px 3px 1px rgba(60, 64, 67, 0.15);\n",
              "      fill: #174EA6;\n",
              "    }\n",
              "\n",
              "    [theme=dark] .colab-df-convert {\n",
              "      background-color: #3B4455;\n",
              "      fill: #D2E3FC;\n",
              "    }\n",
              "\n",
              "    [theme=dark] .colab-df-convert:hover {\n",
              "      background-color: #434B5C;\n",
              "      box-shadow: 0px 1px 3px 1px rgba(0, 0, 0, 0.15);\n",
              "      filter: drop-shadow(0px 1px 2px rgba(0, 0, 0, 0.3));\n",
              "      fill: #FFFFFF;\n",
              "    }\n",
              "  </style>\n",
              "\n",
              "      <script>\n",
              "        const buttonEl =\n",
              "          document.querySelector('#df-144cb4ec-119d-4caf-a3b3-a3ece57f954b button.colab-df-convert');\n",
              "        buttonEl.style.display =\n",
              "          google.colab.kernel.accessAllowed ? 'block' : 'none';\n",
              "\n",
              "        async function convertToInteractive(key) {\n",
              "          const element = document.querySelector('#df-144cb4ec-119d-4caf-a3b3-a3ece57f954b');\n",
              "          const dataTable =\n",
              "            await google.colab.kernel.invokeFunction('convertToInteractive',\n",
              "                                                     [key], {});\n",
              "          if (!dataTable) return;\n",
              "\n",
              "          const docLinkHtml = 'Like what you see? Visit the ' +\n",
              "            '<a target=\"_blank\" href=https://colab.research.google.com/notebooks/data_table.ipynb>data table notebook</a>'\n",
              "            + ' to learn more about interactive tables.';\n",
              "          element.innerHTML = '';\n",
              "          dataTable['output_type'] = 'display_data';\n",
              "          await google.colab.output.renderOutput(dataTable, element);\n",
              "          const docLink = document.createElement('div');\n",
              "          docLink.innerHTML = docLinkHtml;\n",
              "          element.appendChild(docLink);\n",
              "        }\n",
              "      </script>\n",
              "    </div>\n",
              "  </div>\n",
              "  "
            ]
          },
          "metadata": {},
          "execution_count": 28
        }
      ]
    },
    {
      "cell_type": "code",
      "source": [
        "raid_sum_df = vid_df_wraid.groupby('video_id')['num_raiders'].sum().reset_index()\n",
        "features_vid_df_lag_raid = pd.merge(features_vid_df_lag, raid_sum_df,  how='left', left_on=['video_id'], right_on = ['video_id'])"
      ],
      "metadata": {
        "id": "V6BEBPx3aPoX"
      },
      "execution_count": 55,
      "outputs": []
    },
    {
      "cell_type": "code",
      "source": [
        "features_vid_df_lag_raid['num_raiders'].fillna(0,inplace=True)\n",
        "features_vid_df_lag_raid['num_raiders'] = features_vid_df_lag_raid['num_raiders']"
      ],
      "metadata": {
        "id": "oUvn26okeOIG"
      },
      "execution_count": 56,
      "outputs": []
    },
    {
      "cell_type": "code",
      "source": [
        "raid_sum_df"
      ],
      "metadata": {
        "colab": {
          "base_uri": "https://localhost:8080/",
          "height": 394
        },
        "id": "r1NBw1SIb4ui",
        "outputId": "e8a16dcf-4d74-48ab-aca8-5ffb1ad4230c"
      },
      "execution_count": 57,
      "outputs": [
        {
          "output_type": "execute_result",
          "data": {
            "text/plain": [
              "      video_id  num_raiders\n",
              "0   1591613035         10.0\n",
              "1   1592319276         19.0\n",
              "2   1595352118          6.0\n",
              "3   1598015150        115.0\n",
              "4   1605572910       1434.0\n",
              "5   1606861627          5.0\n",
              "6   1606964718        844.0\n",
              "7   1607634101          5.0\n",
              "8   1610256098         27.0\n",
              "9   1610306079          1.0\n",
              "10  1610656682         14.0"
            ],
            "text/html": [
              "\n",
              "  <div id=\"df-6f5c23cf-5d0e-42f0-8aac-c923f73dd14d\">\n",
              "    <div class=\"colab-df-container\">\n",
              "      <div>\n",
              "<style scoped>\n",
              "    .dataframe tbody tr th:only-of-type {\n",
              "        vertical-align: middle;\n",
              "    }\n",
              "\n",
              "    .dataframe tbody tr th {\n",
              "        vertical-align: top;\n",
              "    }\n",
              "\n",
              "    .dataframe thead th {\n",
              "        text-align: right;\n",
              "    }\n",
              "</style>\n",
              "<table border=\"1\" class=\"dataframe\">\n",
              "  <thead>\n",
              "    <tr style=\"text-align: right;\">\n",
              "      <th></th>\n",
              "      <th>video_id</th>\n",
              "      <th>num_raiders</th>\n",
              "    </tr>\n",
              "  </thead>\n",
              "  <tbody>\n",
              "    <tr>\n",
              "      <th>0</th>\n",
              "      <td>1591613035</td>\n",
              "      <td>10.0</td>\n",
              "    </tr>\n",
              "    <tr>\n",
              "      <th>1</th>\n",
              "      <td>1592319276</td>\n",
              "      <td>19.0</td>\n",
              "    </tr>\n",
              "    <tr>\n",
              "      <th>2</th>\n",
              "      <td>1595352118</td>\n",
              "      <td>6.0</td>\n",
              "    </tr>\n",
              "    <tr>\n",
              "      <th>3</th>\n",
              "      <td>1598015150</td>\n",
              "      <td>115.0</td>\n",
              "    </tr>\n",
              "    <tr>\n",
              "      <th>4</th>\n",
              "      <td>1605572910</td>\n",
              "      <td>1434.0</td>\n",
              "    </tr>\n",
              "    <tr>\n",
              "      <th>5</th>\n",
              "      <td>1606861627</td>\n",
              "      <td>5.0</td>\n",
              "    </tr>\n",
              "    <tr>\n",
              "      <th>6</th>\n",
              "      <td>1606964718</td>\n",
              "      <td>844.0</td>\n",
              "    </tr>\n",
              "    <tr>\n",
              "      <th>7</th>\n",
              "      <td>1607634101</td>\n",
              "      <td>5.0</td>\n",
              "    </tr>\n",
              "    <tr>\n",
              "      <th>8</th>\n",
              "      <td>1610256098</td>\n",
              "      <td>27.0</td>\n",
              "    </tr>\n",
              "    <tr>\n",
              "      <th>9</th>\n",
              "      <td>1610306079</td>\n",
              "      <td>1.0</td>\n",
              "    </tr>\n",
              "    <tr>\n",
              "      <th>10</th>\n",
              "      <td>1610656682</td>\n",
              "      <td>14.0</td>\n",
              "    </tr>\n",
              "  </tbody>\n",
              "</table>\n",
              "</div>\n",
              "      <button class=\"colab-df-convert\" onclick=\"convertToInteractive('df-6f5c23cf-5d0e-42f0-8aac-c923f73dd14d')\"\n",
              "              title=\"Convert this dataframe to an interactive table.\"\n",
              "              style=\"display:none;\">\n",
              "        \n",
              "  <svg xmlns=\"http://www.w3.org/2000/svg\" height=\"24px\"viewBox=\"0 0 24 24\"\n",
              "       width=\"24px\">\n",
              "    <path d=\"M0 0h24v24H0V0z\" fill=\"none\"/>\n",
              "    <path d=\"M18.56 5.44l.94 2.06.94-2.06 2.06-.94-2.06-.94-.94-2.06-.94 2.06-2.06.94zm-11 1L8.5 8.5l.94-2.06 2.06-.94-2.06-.94L8.5 2.5l-.94 2.06-2.06.94zm10 10l.94 2.06.94-2.06 2.06-.94-2.06-.94-.94-2.06-.94 2.06-2.06.94z\"/><path d=\"M17.41 7.96l-1.37-1.37c-.4-.4-.92-.59-1.43-.59-.52 0-1.04.2-1.43.59L10.3 9.45l-7.72 7.72c-.78.78-.78 2.05 0 2.83L4 21.41c.39.39.9.59 1.41.59.51 0 1.02-.2 1.41-.59l7.78-7.78 2.81-2.81c.8-.78.8-2.07 0-2.86zM5.41 20L4 18.59l7.72-7.72 1.47 1.35L5.41 20z\"/>\n",
              "  </svg>\n",
              "      </button>\n",
              "      \n",
              "  <style>\n",
              "    .colab-df-container {\n",
              "      display:flex;\n",
              "      flex-wrap:wrap;\n",
              "      gap: 12px;\n",
              "    }\n",
              "\n",
              "    .colab-df-convert {\n",
              "      background-color: #E8F0FE;\n",
              "      border: none;\n",
              "      border-radius: 50%;\n",
              "      cursor: pointer;\n",
              "      display: none;\n",
              "      fill: #1967D2;\n",
              "      height: 32px;\n",
              "      padding: 0 0 0 0;\n",
              "      width: 32px;\n",
              "    }\n",
              "\n",
              "    .colab-df-convert:hover {\n",
              "      background-color: #E2EBFA;\n",
              "      box-shadow: 0px 1px 2px rgba(60, 64, 67, 0.3), 0px 1px 3px 1px rgba(60, 64, 67, 0.15);\n",
              "      fill: #174EA6;\n",
              "    }\n",
              "\n",
              "    [theme=dark] .colab-df-convert {\n",
              "      background-color: #3B4455;\n",
              "      fill: #D2E3FC;\n",
              "    }\n",
              "\n",
              "    [theme=dark] .colab-df-convert:hover {\n",
              "      background-color: #434B5C;\n",
              "      box-shadow: 0px 1px 3px 1px rgba(0, 0, 0, 0.15);\n",
              "      filter: drop-shadow(0px 1px 2px rgba(0, 0, 0, 0.3));\n",
              "      fill: #FFFFFF;\n",
              "    }\n",
              "  </style>\n",
              "\n",
              "      <script>\n",
              "        const buttonEl =\n",
              "          document.querySelector('#df-6f5c23cf-5d0e-42f0-8aac-c923f73dd14d button.colab-df-convert');\n",
              "        buttonEl.style.display =\n",
              "          google.colab.kernel.accessAllowed ? 'block' : 'none';\n",
              "\n",
              "        async function convertToInteractive(key) {\n",
              "          const element = document.querySelector('#df-6f5c23cf-5d0e-42f0-8aac-c923f73dd14d');\n",
              "          const dataTable =\n",
              "            await google.colab.kernel.invokeFunction('convertToInteractive',\n",
              "                                                     [key], {});\n",
              "          if (!dataTable) return;\n",
              "\n",
              "          const docLinkHtml = 'Like what you see? Visit the ' +\n",
              "            '<a target=\"_blank\" href=https://colab.research.google.com/notebooks/data_table.ipynb>data table notebook</a>'\n",
              "            + ' to learn more about interactive tables.';\n",
              "          element.innerHTML = '';\n",
              "          dataTable['output_type'] = 'display_data';\n",
              "          await google.colab.output.renderOutput(dataTable, element);\n",
              "          const docLink = document.createElement('div');\n",
              "          docLink.innerHTML = docLinkHtml;\n",
              "          element.appendChild(docLink);\n",
              "        }\n",
              "      </script>\n",
              "    </div>\n",
              "  </div>\n",
              "  "
            ]
          },
          "metadata": {},
          "execution_count": 57
        }
      ]
    },
    {
      "cell_type": "code",
      "source": [
        "import matplotlib.pyplot as plt\n",
        "\n",
        "plt.rcParams['figure.figsize'] = [16, 4]\n",
        "plt.subplot(1,3,1)\n",
        "raid_sum_df.num_raiders.plot.hist()\n",
        "plt.subplot(1,3,2)\n",
        "raid_sum_df[raid_sum_df.num_raiders <200].num_raiders.plot.hist()\n",
        "plt.subplot(1,3,3)\n",
        "raid_sum_df[raid_sum_df.num_raiders <20].num_raiders.plot.hist()"
      ],
      "metadata": {
        "colab": {
          "base_uri": "https://localhost:8080/",
          "height": 283
        },
        "id": "imWNOhbrEqpq",
        "outputId": "e55c786f-4a8b-4122-f71a-fbbe447823af"
      },
      "execution_count": 58,
      "outputs": [
        {
          "output_type": "execute_result",
          "data": {
            "text/plain": [
              "<matplotlib.axes._subplots.AxesSubplot at 0x7f00d1e0b750>"
            ]
          },
          "metadata": {},
          "execution_count": 58
        },
        {
          "output_type": "display_data",
          "data": {
            "text/plain": [
              "<Figure size 1152x288 with 3 Axes>"
            ],
            "image/png": "[encoded data removed]"
          },
          "metadata": {
            "needs_background": "light"
          }
        }
      ]
    },
    {
      "cell_type": "code",
      "source": [
        "# print(len(features_vid_df_lag),len(features_vid_df_lag_raid))"
      ],
      "metadata": {
        "id": "WMRE3tvibdJH"
      },
      "execution_count": 59,
      "outputs": []
    },
    {
      "cell_type": "code",
      "source": [
        "features_vid_df_lag_raid.isnull().sum()"
      ],
      "metadata": {
        "colab": {
          "base_uri": "https://localhost:8080/"
        },
        "id": "Q7hTb0sEbq66",
        "outputId": "18932449-9bac-42ec-866e-74bb035fae7b"
      },
      "execution_count": 60,
      "outputs": [
        {
          "output_type": "execute_result",
          "data": {
            "text/plain": [
              "user_id                            0\n",
              "video_id                           0\n",
              "video_url                          0\n",
              "num_messages                       0\n",
              "message_len                        0\n",
              "video_id.1                         0\n",
              "num_messages_per_min               0\n",
              "user_id.1                          0\n",
              "user_name                          0\n",
              "duration_min                       0\n",
              "created_at                         0\n",
              "title                              0\n",
              "view_count                         0\n",
              "broadcaster_type                   2\n",
              "broadcast_description              0\n",
              "broadcaster_created_at             0\n",
              "avg_messages_per_min               0\n",
              "sentiment_positive_percent         0\n",
              "sentiment_score                    0\n",
              "video_url_lag                     12\n",
              "num_messages_lag                  12\n",
              "message_len_lag                   12\n",
              "video_id_lag                      12\n",
              "num_messages_per_min_lag          12\n",
              "user_id_lag                       12\n",
              "user_name_lag                     12\n",
              "duration_min_lag                  12\n",
              "created_at_lag                    12\n",
              "title_lag                         12\n",
              "view_count_lag                    12\n",
              "broadcaster_type_lag              13\n",
              "broadcast_description_lag         12\n",
              "broadcaster_created_at_lag        12\n",
              "avg_messages_per_min_lag          12\n",
              "sentiment_positive_percent_lag    12\n",
              "sentiment_score_lag               12\n",
              "time_after_last_stream            12\n",
              "time_after_last_stream_end        12\n",
              "user_id_post                      12\n",
              "created_at_post                   12\n",
              "time_till_next_stream             12\n",
              "time_till_last_stream_afterend    12\n",
              "ended_at                           0\n",
              "num_raiders                        0\n",
              "dtype: int64"
            ]
          },
          "metadata": {},
          "execution_count": 60
        }
      ]
    },
    {
      "cell_type": "code",
      "source": [
        "features_vid_df_lag_raid.to_csv('features_vid_df_lag_raid.csv')"
      ],
      "metadata": {
        "id": "ZwUoT2TecH95"
      },
      "execution_count": 61,
      "outputs": []
    },
    {
      "cell_type": "code",
      "source": [
        "features_vid_df_lag_raid[['num_raiders','num_messages_per_min','num_messages','message_len','duration_min']].corr()"
      ],
      "metadata": {
        "colab": {
          "base_uri": "https://localhost:8080/",
          "height": 206
        },
        "id": "blU1NdLTe-rw",
        "outputId": "1131b208-bcc1-4082-e931-8f8648447e68"
      },
      "execution_count": 62,
      "outputs": [
        {
          "output_type": "execute_result",
          "data": {
            "text/plain": [
              "                      num_raiders  num_messages_per_min  num_messages  \\\n",
              "num_raiders              1.000000              0.233323      0.303520   \n",
              "num_messages_per_min     0.233323              1.000000      0.801703   \n",
              "num_messages             0.303520              0.801703      1.000000   \n",
              "message_len             -0.035968             -0.232958     -0.129868   \n",
              "duration_min             0.177713             -0.022404      0.409100   \n",
              "\n",
              "                      message_len  duration_min  \n",
              "num_raiders             -0.035968      0.177713  \n",
              "num_messages_per_min    -0.232958     -0.022404  \n",
              "num_messages            -0.129868      0.409100  \n",
              "message_len              1.000000      0.049782  \n",
              "duration_min             0.049782      1.000000  "
            ],
            "text/html": [
              "\n",
              "  <div id=\"df-a1ee2206-0356-4202-bc37-c39be024c7be\">\n",
              "    <div class=\"colab-df-container\">\n",
              "      <div>\n",
              "<style scoped>\n",
              "    .dataframe tbody tr th:only-of-type {\n",
              "        vertical-align: middle;\n",
              "    }\n",
              "\n",
              "    .dataframe tbody tr th {\n",
              "        vertical-align: top;\n",
              "    }\n",
              "\n",
              "    .dataframe thead th {\n",
              "        text-align: right;\n",
              "    }\n",
              "</style>\n",
              "<table border=\"1\" class=\"dataframe\">\n",
              "  <thead>\n",
              "    <tr style=\"text-align: right;\">\n",
              "      <th></th>\n",
              "      <th>num_raiders</th>\n",
              "      <th>num_messages_per_min</th>\n",
              "      <th>num_messages</th>\n",
              "      <th>message_len</th>\n",
              "      <th>duration_min</th>\n",
              "    </tr>\n",
              "  </thead>\n",
              "  <tbody>\n",
              "    <tr>\n",
              "      <th>num_raiders</th>\n",
              "      <td>1.000000</td>\n",
              "      <td>0.233323</td>\n",
              "      <td>0.303520</td>\n",
              "      <td>-0.035968</td>\n",
              "      <td>0.177713</td>\n",
              "    </tr>\n",
              "    <tr>\n",
              "      <th>num_messages_per_min</th>\n",
              "      <td>0.233323</td>\n",
              "      <td>1.000000</td>\n",
              "      <td>0.801703</td>\n",
              "      <td>-0.232958</td>\n",
              "      <td>-0.022404</td>\n",
              "    </tr>\n",
              "    <tr>\n",
              "      <th>num_messages</th>\n",
              "      <td>0.303520</td>\n",
              "      <td>0.801703</td>\n",
              "      <td>1.000000</td>\n",
              "      <td>-0.129868</td>\n",
              "      <td>0.409100</td>\n",
              "    </tr>\n",
              "    <tr>\n",
              "      <th>message_len</th>\n",
              "      <td>-0.035968</td>\n",
              "      <td>-0.232958</td>\n",
              "      <td>-0.129868</td>\n",
              "      <td>1.000000</td>\n",
              "      <td>0.049782</td>\n",
              "    </tr>\n",
              "    <tr>\n",
              "      <th>duration_min</th>\n",
              "      <td>0.177713</td>\n",
              "      <td>-0.022404</td>\n",
              "      <td>0.409100</td>\n",
              "      <td>0.049782</td>\n",
              "      <td>1.000000</td>\n",
              "    </tr>\n",
              "  </tbody>\n",
              "</table>\n",
              "</div>\n",
              "      <button class=\"colab-df-convert\" onclick=\"convertToInteractive('df-a1ee2206-0356-4202-bc37-c39be024c7be')\"\n",
              "              title=\"Convert this dataframe to an interactive table.\"\n",
              "              style=\"display:none;\">\n",
              "        \n",
              "  <svg xmlns=\"http://www.w3.org/2000/svg\" height=\"24px\"viewBox=\"0 0 24 24\"\n",
              "       width=\"24px\">\n",
              "    <path d=\"M0 0h24v24H0V0z\" fill=\"none\"/>\n",
              "    <path d=\"M18.56 5.44l.94 2.06.94-2.06 2.06-.94-2.06-.94-.94-2.06-.94 2.06-2.06.94zm-11 1L8.5 8.5l.94-2.06 2.06-.94-2.06-.94L8.5 2.5l-.94 2.06-2.06.94zm10 10l.94 2.06.94-2.06 2.06-.94-2.06-.94-.94-2.06-.94 2.06-2.06.94z\"/><path d=\"M17.41 7.96l-1.37-1.37c-.4-.4-.92-.59-1.43-.59-.52 0-1.04.2-1.43.59L10.3 9.45l-7.72 7.72c-.78.78-.78 2.05 0 2.83L4 21.41c.39.39.9.59 1.41.59.51 0 1.02-.2 1.41-.59l7.78-7.78 2.81-2.81c.8-.78.8-2.07 0-2.86zM5.41 20L4 18.59l7.72-7.72 1.47 1.35L5.41 20z\"/>\n",
              "  </svg>\n",
              "      </button>\n",
              "      \n",
              "  <style>\n",
              "    .colab-df-container {\n",
              "      display:flex;\n",
              "      flex-wrap:wrap;\n",
              "      gap: 12px;\n",
              "    }\n",
              "\n",
              "    .colab-df-convert {\n",
              "      background-color: #E8F0FE;\n",
              "      border: none;\n",
              "      border-radius: 50%;\n",
              "      cursor: pointer;\n",
              "      display: none;\n",
              "      fill: #1967D2;\n",
              "      height: 32px;\n",
              "      padding: 0 0 0 0;\n",
              "      width: 32px;\n",
              "    }\n",
              "\n",
              "    .colab-df-convert:hover {\n",
              "      background-color: #E2EBFA;\n",
              "      box-shadow: 0px 1px 2px rgba(60, 64, 67, 0.3), 0px 1px 3px 1px rgba(60, 64, 67, 0.15);\n",
              "      fill: #174EA6;\n",
              "    }\n",
              "\n",
              "    [theme=dark] .colab-df-convert {\n",
              "      background-color: #3B4455;\n",
              "      fill: #D2E3FC;\n",
              "    }\n",
              "\n",
              "    [theme=dark] .colab-df-convert:hover {\n",
              "      background-color: #434B5C;\n",
              "      box-shadow: 0px 1px 3px 1px rgba(0, 0, 0, 0.15);\n",
              "      filter: drop-shadow(0px 1px 2px rgba(0, 0, 0, 0.3));\n",
              "      fill: #FFFFFF;\n",
              "    }\n",
              "  </style>\n",
              "\n",
              "      <script>\n",
              "        const buttonEl =\n",
              "          document.querySelector('#df-a1ee2206-0356-4202-bc37-c39be024c7be button.colab-df-convert');\n",
              "        buttonEl.style.display =\n",
              "          google.colab.kernel.accessAllowed ? 'block' : 'none';\n",
              "\n",
              "        async function convertToInteractive(key) {\n",
              "          const element = document.querySelector('#df-a1ee2206-0356-4202-bc37-c39be024c7be');\n",
              "          const dataTable =\n",
              "            await google.colab.kernel.invokeFunction('convertToInteractive',\n",
              "                                                     [key], {});\n",
              "          if (!dataTable) return;\n",
              "\n",
              "          const docLinkHtml = 'Like what you see? Visit the ' +\n",
              "            '<a target=\"_blank\" href=https://colab.research.google.com/notebooks/data_table.ipynb>data table notebook</a>'\n",
              "            + ' to learn more about interactive tables.';\n",
              "          element.innerHTML = '';\n",
              "          dataTable['output_type'] = 'display_data';\n",
              "          await google.colab.output.renderOutput(dataTable, element);\n",
              "          const docLink = document.createElement('div');\n",
              "          docLink.innerHTML = docLinkHtml;\n",
              "          element.appendChild(docLink);\n",
              "        }\n",
              "      </script>\n",
              "    </div>\n",
              "  </div>\n",
              "  "
            ]
          },
          "metadata": {},
          "execution_count": 62
        }
      ]
    },
    {
      "cell_type": "code",
      "source": [
        "#temp = features_vid_df_lag_raid.drop(features_vid_df_lag_raid['num_raiders'].idxmax())\n",
        "temp = features_vid_df_lag_raid[features_vid_df_lag_raid.num_raiders < features_vid_df_lag_raid.num_raiders.quantile(.99)]\n",
        "temp[['num_raiders','view_count','num_messages_per_min','num_messages','message_len','duration_min']].corr()"
      ],
      "metadata": {
        "colab": {
          "base_uri": "https://localhost:8080/",
          "height": 237
        },
        "id": "s-G1dpftdSUV",
        "outputId": "691e3505-4058-4692-fd49-47c5fc7fb34b"
      },
      "execution_count": 63,
      "outputs": [
        {
          "output_type": "execute_result",
          "data": {
            "text/plain": [
              "                      num_raiders  view_count  num_messages_per_min  \\\n",
              "num_raiders              1.000000    0.222943              0.434658   \n",
              "view_count               0.222943    1.000000              0.573630   \n",
              "num_messages_per_min     0.434658    0.573630              1.000000   \n",
              "num_messages             0.415060    0.767048              0.805091   \n",
              "message_len             -0.047835   -0.091009             -0.232835   \n",
              "duration_min             0.089246    0.377927             -0.024558   \n",
              "\n",
              "                      num_messages  message_len  duration_min  \n",
              "num_raiders               0.415060    -0.047835      0.089246  \n",
              "view_count                0.767048    -0.091009      0.377927  \n",
              "num_messages_per_min      0.805091    -0.232835     -0.024558  \n",
              "num_messages              1.000000    -0.129196      0.399648  \n",
              "message_len              -0.129196     1.000000      0.052470  \n",
              "duration_min              0.399648     0.052470      1.000000  "
            ],
            "text/html": [
              "\n",
              "  <div id=\"df-ccb417b1-68d9-4194-b9ed-a1cafd38bc29\">\n",
              "    <div class=\"colab-df-container\">\n",
              "      <div>\n",
              "<style scoped>\n",
              "    .dataframe tbody tr th:only-of-type {\n",
              "        vertical-align: middle;\n",
              "    }\n",
              "\n",
              "    .dataframe tbody tr th {\n",
              "        vertical-align: top;\n",
              "    }\n",
              "\n",
              "    .dataframe thead th {\n",
              "        text-align: right;\n",
              "    }\n",
              "</style>\n",
              "<table border=\"1\" class=\"dataframe\">\n",
              "  <thead>\n",
              "    <tr style=\"text-align: right;\">\n",
              "      <th></th>\n",
              "      <th>num_raiders</th>\n",
              "      <th>view_count</th>\n",
              "      <th>num_messages_per_min</th>\n",
              "      <th>num_messages</th>\n",
              "      <th>message_len</th>\n",
              "      <th>duration_min</th>\n",
              "    </tr>\n",
              "  </thead>\n",
              "  <tbody>\n",
              "    <tr>\n",
              "      <th>num_raiders</th>\n",
              "      <td>1.000000</td>\n",
              "      <td>0.222943</td>\n",
              "      <td>0.434658</td>\n",
              "      <td>0.415060</td>\n",
              "      <td>-0.047835</td>\n",
              "      <td>0.089246</td>\n",
              "    </tr>\n",
              "    <tr>\n",
              "      <th>view_count</th>\n",
              "      <td>0.222943</td>\n",
              "      <td>1.000000</td>\n",
              "      <td>0.573630</td>\n",
              "      <td>0.767048</td>\n",
              "      <td>-0.091009</td>\n",
              "      <td>0.377927</td>\n",
              "    </tr>\n",
              "    <tr>\n",
              "      <th>num_messages_per_min</th>\n",
              "      <td>0.434658</td>\n",
              "      <td>0.573630</td>\n",
              "      <td>1.000000</td>\n",
              "      <td>0.805091</td>\n",
              "      <td>-0.232835</td>\n",
              "      <td>-0.024558</td>\n",
              "    </tr>\n",
              "    <tr>\n",
              "      <th>num_messages</th>\n",
              "      <td>0.415060</td>\n",
              "      <td>0.767048</td>\n",
              "      <td>0.805091</td>\n",
              "      <td>1.000000</td>\n",
              "      <td>-0.129196</td>\n",
              "      <td>0.399648</td>\n",
              "    </tr>\n",
              "    <tr>\n",
              "      <th>message_len</th>\n",
              "      <td>-0.047835</td>\n",
              "      <td>-0.091009</td>\n",
              "      <td>-0.232835</td>\n",
              "      <td>-0.129196</td>\n",
              "      <td>1.000000</td>\n",
              "      <td>0.052470</td>\n",
              "    </tr>\n",
              "    <tr>\n",
              "      <th>duration_min</th>\n",
              "      <td>0.089246</td>\n",
              "      <td>0.377927</td>\n",
              "      <td>-0.024558</td>\n",
              "      <td>0.399648</td>\n",
              "      <td>0.052470</td>\n",
              "      <td>1.000000</td>\n",
              "    </tr>\n",
              "  </tbody>\n",
              "</table>\n",
              "</div>\n",
              "      <button class=\"colab-df-convert\" onclick=\"convertToInteractive('df-ccb417b1-68d9-4194-b9ed-a1cafd38bc29')\"\n",
              "              title=\"Convert this dataframe to an interactive table.\"\n",
              "              style=\"display:none;\">\n",
              "        \n",
              "  <svg xmlns=\"http://www.w3.org/2000/svg\" height=\"24px\"viewBox=\"0 0 24 24\"\n",
              "       width=\"24px\">\n",
              "    <path d=\"M0 0h24v24H0V0z\" fill=\"none\"/>\n",
              "    <path d=\"M18.56 5.44l.94 2.06.94-2.06 2.06-.94-2.06-.94-.94-2.06-.94 2.06-2.06.94zm-11 1L8.5 8.5l.94-2.06 2.06-.94-2.06-.94L8.5 2.5l-.94 2.06-2.06.94zm10 10l.94 2.06.94-2.06 2.06-.94-2.06-.94-.94-2.06-.94 2.06-2.06.94z\"/><path d=\"M17.41 7.96l-1.37-1.37c-.4-.4-.92-.59-1.43-.59-.52 0-1.04.2-1.43.59L10.3 9.45l-7.72 7.72c-.78.78-.78 2.05 0 2.83L4 21.41c.39.39.9.59 1.41.59.51 0 1.02-.2 1.41-.59l7.78-7.78 2.81-2.81c.8-.78.8-2.07 0-2.86zM5.41 20L4 18.59l7.72-7.72 1.47 1.35L5.41 20z\"/>\n",
              "  </svg>\n",
              "      </button>\n",
              "      \n",
              "  <style>\n",
              "    .colab-df-container {\n",
              "      display:flex;\n",
              "      flex-wrap:wrap;\n",
              "      gap: 12px;\n",
              "    }\n",
              "\n",
              "    .colab-df-convert {\n",
              "      background-color: #E8F0FE;\n",
              "      border: none;\n",
              "      border-radius: 50%;\n",
              "      cursor: pointer;\n",
              "      display: none;\n",
              "      fill: #1967D2;\n",
              "      height: 32px;\n",
              "      padding: 0 0 0 0;\n",
              "      width: 32px;\n",
              "    }\n",
              "\n",
              "    .colab-df-convert:hover {\n",
              "      background-color: #E2EBFA;\n",
              "      box-shadow: 0px 1px 2px rgba(60, 64, 67, 0.3), 0px 1px 3px 1px rgba(60, 64, 67, 0.15);\n",
              "      fill: #174EA6;\n",
              "    }\n",
              "\n",
              "    [theme=dark] .colab-df-convert {\n",
              "      background-color: #3B4455;\n",
              "      fill: #D2E3FC;\n",
              "    }\n",
              "\n",
              "    [theme=dark] .colab-df-convert:hover {\n",
              "      background-color: #434B5C;\n",
              "      box-shadow: 0px 1px 3px 1px rgba(0, 0, 0, 0.15);\n",
              "      filter: drop-shadow(0px 1px 2px rgba(0, 0, 0, 0.3));\n",
              "      fill: #FFFFFF;\n",
              "    }\n",
              "  </style>\n",
              "\n",
              "      <script>\n",
              "        const buttonEl =\n",
              "          document.querySelector('#df-ccb417b1-68d9-4194-b9ed-a1cafd38bc29 button.colab-df-convert');\n",
              "        buttonEl.style.display =\n",
              "          google.colab.kernel.accessAllowed ? 'block' : 'none';\n",
              "\n",
              "        async function convertToInteractive(key) {\n",
              "          const element = document.querySelector('#df-ccb417b1-68d9-4194-b9ed-a1cafd38bc29');\n",
              "          const dataTable =\n",
              "            await google.colab.kernel.invokeFunction('convertToInteractive',\n",
              "                                                     [key], {});\n",
              "          if (!dataTable) return;\n",
              "\n",
              "          const docLinkHtml = 'Like what you see? Visit the ' +\n",
              "            '<a target=\"_blank\" href=https://colab.research.google.com/notebooks/data_table.ipynb>data table notebook</a>'\n",
              "            + ' to learn more about interactive tables.';\n",
              "          element.innerHTML = '';\n",
              "          dataTable['output_type'] = 'display_data';\n",
              "          await google.colab.output.renderOutput(dataTable, element);\n",
              "          const docLink = document.createElement('div');\n",
              "          docLink.innerHTML = docLinkHtml;\n",
              "          element.appendChild(docLink);\n",
              "        }\n",
              "      </script>\n",
              "    </div>\n",
              "  </div>\n",
              "  "
            ]
          },
          "metadata": {},
          "execution_count": 63
        }
      ]
    },
    {
      "cell_type": "code",
      "source": [
        "temp.plot.scatter(x = 'num_raiders', y = 'num_messages_per_min', s = 10);"
      ],
      "metadata": {
        "colab": {
          "base_uri": "https://localhost:8080/",
          "height": 280
        },
        "id": "4Tn6qKtdfT8d",
        "outputId": "8f2c614f-8bbd-430c-d2be-5b10b167563c"
      },
      "execution_count": 64,
      "outputs": [
        {
          "output_type": "display_data",
          "data": {
            "text/plain": [
              "<Figure size 1152x288 with 1 Axes>"
            ],
            "image/png": "[encoded data removed]"
          },
          "metadata": {
            "needs_background": "light"
          }
        }
      ]
    },
    {
      "cell_type": "code",
      "source": [
        "#temp = features_vid_df_lag_raid.drop(features_vid_df_lag_raid['num_raiders'].idxmax())\n",
        "temp = features_vid_df_lag_raid[features_vid_df_lag_raid.num_raiders < features_vid_df_lag_raid.num_raiders.quantile(.95)]\n",
        "temp = temp[temp['num_raiders'] != 0 ]\n",
        "temp[['num_raiders','view_count','num_messages_per_min','num_messages','message_len','duration_min']].corr()"
      ],
      "metadata": {
        "colab": {
          "base_uri": "https://localhost:8080/",
          "height": 237
        },
        "id": "tQgSFEevgfGs",
        "outputId": "b7860d6e-d2e9-47a7-dca9-430e30e71475"
      },
      "execution_count": 65,
      "outputs": [
        {
          "output_type": "execute_result",
          "data": {
            "text/plain": [
              "                      num_raiders  view_count  num_messages_per_min  \\\n",
              "num_raiders              1.000000    0.568126             -0.011940   \n",
              "view_count               0.568126    1.000000              0.762578   \n",
              "num_messages_per_min    -0.011940    0.762578              1.000000   \n",
              "num_messages             0.307020    0.945996              0.925392   \n",
              "message_len             -0.840062   -0.611010             -0.221251   \n",
              "duration_min             0.825538    0.207940             -0.299998   \n",
              "\n",
              "                      num_messages  message_len  duration_min  \n",
              "num_raiders               0.307020    -0.840062      0.825538  \n",
              "view_count                0.945996    -0.611010      0.207940  \n",
              "num_messages_per_min      0.925392    -0.221251     -0.299998  \n",
              "num_messages              1.000000    -0.412072     -0.020504  \n",
              "message_len              -0.412072     1.000000     -0.547965  \n",
              "duration_min             -0.020504    -0.547965      1.000000  "
            ],
            "text/html": [
              "\n",
              "  <div id=\"df-a3e014bf-bd49-4fc3-9435-0d2e9dccc475\">\n",
              "    <div class=\"colab-df-container\">\n",
              "      <div>\n",
              "<style scoped>\n",
              "    .dataframe tbody tr th:only-of-type {\n",
              "        vertical-align: middle;\n",
              "    }\n",
              "\n",
              "    .dataframe tbody tr th {\n",
              "        vertical-align: top;\n",
              "    }\n",
              "\n",
              "    .dataframe thead th {\n",
              "        text-align: right;\n",
              "    }\n",
              "</style>\n",
              "<table border=\"1\" class=\"dataframe\">\n",
              "  <thead>\n",
              "    <tr style=\"text-align: right;\">\n",
              "      <th></th>\n",
              "      <th>num_raiders</th>\n",
              "      <th>view_count</th>\n",
              "      <th>num_messages_per_min</th>\n",
              "      <th>num_messages</th>\n",
              "      <th>message_len</th>\n",
              "      <th>duration_min</th>\n",
              "    </tr>\n",
              "  </thead>\n",
              "  <tbody>\n",
              "    <tr>\n",
              "      <th>num_raiders</th>\n",
              "      <td>1.000000</td>\n",
              "      <td>0.568126</td>\n",
              "      <td>-0.011940</td>\n",
              "      <td>0.307020</td>\n",
              "      <td>-0.840062</td>\n",
              "      <td>0.825538</td>\n",
              "    </tr>\n",
              "    <tr>\n",
              "      <th>view_count</th>\n",
              "      <td>0.568126</td>\n",
              "      <td>1.000000</td>\n",
              "      <td>0.762578</td>\n",
              "      <td>0.945996</td>\n",
              "      <td>-0.611010</td>\n",
              "      <td>0.207940</td>\n",
              "    </tr>\n",
              "    <tr>\n",
              "      <th>num_messages_per_min</th>\n",
              "      <td>-0.011940</td>\n",
              "      <td>0.762578</td>\n",
              "      <td>1.000000</td>\n",
              "      <td>0.925392</td>\n",
              "      <td>-0.221251</td>\n",
              "      <td>-0.299998</td>\n",
              "    </tr>\n",
              "    <tr>\n",
              "      <th>num_messages</th>\n",
              "      <td>0.307020</td>\n",
              "      <td>0.945996</td>\n",
              "      <td>0.925392</td>\n",
              "      <td>1.000000</td>\n",
              "      <td>-0.412072</td>\n",
              "      <td>-0.020504</td>\n",
              "    </tr>\n",
              "    <tr>\n",
              "      <th>message_len</th>\n",
              "      <td>-0.840062</td>\n",
              "      <td>-0.611010</td>\n",
              "      <td>-0.221251</td>\n",
              "      <td>-0.412072</td>\n",
              "      <td>1.000000</td>\n",
              "      <td>-0.547965</td>\n",
              "    </tr>\n",
              "    <tr>\n",
              "      <th>duration_min</th>\n",
              "      <td>0.825538</td>\n",
              "      <td>0.207940</td>\n",
              "      <td>-0.299998</td>\n",
              "      <td>-0.020504</td>\n",
              "      <td>-0.547965</td>\n",
              "      <td>1.000000</td>\n",
              "    </tr>\n",
              "  </tbody>\n",
              "</table>\n",
              "</div>\n",
              "      <button class=\"colab-df-convert\" onclick=\"convertToInteractive('df-a3e014bf-bd49-4fc3-9435-0d2e9dccc475')\"\n",
              "              title=\"Convert this dataframe to an interactive table.\"\n",
              "              style=\"display:none;\">\n",
              "        \n",
              "  <svg xmlns=\"http://www.w3.org/2000/svg\" height=\"24px\"viewBox=\"0 0 24 24\"\n",
              "       width=\"24px\">\n",
              "    <path d=\"M0 0h24v24H0V0z\" fill=\"none\"/>\n",
              "    <path d=\"M18.56 5.44l.94 2.06.94-2.06 2.06-.94-2.06-.94-.94-2.06-.94 2.06-2.06.94zm-11 1L8.5 8.5l.94-2.06 2.06-.94-2.06-.94L8.5 2.5l-.94 2.06-2.06.94zm10 10l.94 2.06.94-2.06 2.06-.94-2.06-.94-.94-2.06-.94 2.06-2.06.94z\"/><path d=\"M17.41 7.96l-1.37-1.37c-.4-.4-.92-.59-1.43-.59-.52 0-1.04.2-1.43.59L10.3 9.45l-7.72 7.72c-.78.78-.78 2.05 0 2.83L4 21.41c.39.39.9.59 1.41.59.51 0 1.02-.2 1.41-.59l7.78-7.78 2.81-2.81c.8-.78.8-2.07 0-2.86zM5.41 20L4 18.59l7.72-7.72 1.47 1.35L5.41 20z\"/>\n",
              "  </svg>\n",
              "      </button>\n",
              "      \n",
              "  <style>\n",
              "    .colab-df-container {\n",
              "      display:flex;\n",
              "      flex-wrap:wrap;\n",
              "      gap: 12px;\n",
              "    }\n",
              "\n",
              "    .colab-df-convert {\n",
              "      background-color: #E8F0FE;\n",
              "      border: none;\n",
              "      border-radius: 50%;\n",
              "      cursor: pointer;\n",
              "      display: none;\n",
              "      fill: #1967D2;\n",
              "      height: 32px;\n",
              "      padding: 0 0 0 0;\n",
              "      width: 32px;\n",
              "    }\n",
              "\n",
              "    .colab-df-convert:hover {\n",
              "      background-color: #E2EBFA;\n",
              "      box-shadow: 0px 1px 2px rgba(60, 64, 67, 0.3), 0px 1px 3px 1px rgba(60, 64, 67, 0.15);\n",
              "      fill: #174EA6;\n",
              "    }\n",
              "\n",
              "    [theme=dark] .colab-df-convert {\n",
              "      background-color: #3B4455;\n",
              "      fill: #D2E3FC;\n",
              "    }\n",
              "\n",
              "    [theme=dark] .colab-df-convert:hover {\n",
              "      background-color: #434B5C;\n",
              "      box-shadow: 0px 1px 3px 1px rgba(0, 0, 0, 0.15);\n",
              "      filter: drop-shadow(0px 1px 2px rgba(0, 0, 0, 0.3));\n",
              "      fill: #FFFFFF;\n",
              "    }\n",
              "  </style>\n",
              "\n",
              "      <script>\n",
              "        const buttonEl =\n",
              "          document.querySelector('#df-a3e014bf-bd49-4fc3-9435-0d2e9dccc475 button.colab-df-convert');\n",
              "        buttonEl.style.display =\n",
              "          google.colab.kernel.accessAllowed ? 'block' : 'none';\n",
              "\n",
              "        async function convertToInteractive(key) {\n",
              "          const element = document.querySelector('#df-a3e014bf-bd49-4fc3-9435-0d2e9dccc475');\n",
              "          const dataTable =\n",
              "            await google.colab.kernel.invokeFunction('convertToInteractive',\n",
              "                                                     [key], {});\n",
              "          if (!dataTable) return;\n",
              "\n",
              "          const docLinkHtml = 'Like what you see? Visit the ' +\n",
              "            '<a target=\"_blank\" href=https://colab.research.google.com/notebooks/data_table.ipynb>data table notebook</a>'\n",
              "            + ' to learn more about interactive tables.';\n",
              "          element.innerHTML = '';\n",
              "          dataTable['output_type'] = 'display_data';\n",
              "          await google.colab.output.renderOutput(dataTable, element);\n",
              "          const docLink = document.createElement('div');\n",
              "          docLink.innerHTML = docLinkHtml;\n",
              "          element.appendChild(docLink);\n",
              "        }\n",
              "      </script>\n",
              "    </div>\n",
              "  </div>\n",
              "  "
            ]
          },
          "metadata": {},
          "execution_count": 65
        }
      ]
    },
    {
      "cell_type": "code",
      "source": [
        "temp.plot.scatter(x = 'num_raiders', y = 'num_messages_per_min', s = 10);"
      ],
      "metadata": {
        "colab": {
          "base_uri": "https://localhost:8080/",
          "height": 280
        },
        "id": "dddOtBYHgnO9",
        "outputId": "195a3286-3dc9-4be1-f6c1-f323ba0c35d3"
      },
      "execution_count": 66,
      "outputs": [
        {
          "output_type": "display_data",
          "data": {
            "text/plain": [
              "<Figure size 1152x288 with 1 Axes>"
            ],
            "image/png": "[encoded data removed]"
          },
          "metadata": {
            "needs_background": "light"
          }
        }
      ]
    },
    {
      "cell_type": "code",
      "source": [
        "#!pip install linearmodels\n",
        "!pip install stargazer"
      ],
      "metadata": {
        "id": "Rmdc3Xt3HXyn"
      },
      "execution_count": null,
      "outputs": []
    },
    {
      "cell_type": "code",
      "source": [
        "# econometrics in python: https://medium.com/@vince.shields913/econometrics-with-python-pt-4-20b7842f01df\n",
        "import statsmodels.formula.api as smf\n",
        "from stargazer.stargazer import Stargazer\n",
        "from IPython.core.display import HTML\n",
        "\n",
        "est_df = features_vid_df_lag_raid\n",
        "\n",
        "fml = 'num_messages_per_min ~ num_raiders '\n",
        "reg1 = smf.ols(formula= fml, data=est_df).fit(cov_type = 'HC3')\n",
        "\n",
        "fml = 'num_messages_per_min ~ num_raiders + np.log(view_count+1)'\n",
        "reg2 = smf.ols(formula= fml, data=est_df).fit(cov_type = 'HC3')\n",
        "\n",
        "fml = 'num_messages_per_min ~ num_raiders + np.log(view_count+1) + sentiment_positive_percent +sentiment_score'\n",
        "reg3 = smf.ols(formula= fml, data=est_df).fit(cov_type = 'HC3')\n",
        "\n",
        "stargazer = Stargazer([reg1, reg2,reg3])\n",
        "HTML(stargazer.render_html())\n"
      ],
      "metadata": {
        "colab": {
          "base_uri": "https://localhost:8080/",
          "height": 451
        },
        "id": "45YiEPJRGL07",
        "outputId": "2560a8e8-a30d-4272-c360-bcce7b1b5b38"
      },
      "execution_count": 71,
      "outputs": [
        {
          "output_type": "execute_result",
          "data": {
            "text/plain": [
              "<IPython.core.display.HTML object>"
            ],
            "text/html": [
              "<table style=\"text-align:center\"><tr><td colspan=\"4\" style=\"border-bottom: 1px solid black\"></td></tr><tr><td style=\"text-align:left\"></td><td colspan=\"3\"><em>Dependent variable:num_messages_per_min</em></td></tr><tr><td style=\"text-align:left\"></td><tr><td style=\"text-align:left\"></td><td>(1)</td><td>(2)</td><td>(3)</td></tr><tr><td colspan=\"4\" style=\"border-bottom: 1px solid black\"></td></tr><tr><td style=\"text-align:left\">Intercept</td><td>26.629<sup>***</sup></td><td>-1.149<sup></sup></td><td>143.502<sup></sup></td></tr><tr><td style=\"text-align:left\"></td><td>(3.642)</td><td>(7.599)</td><td>(185.906)</td></tr><tr><td style=\"text-align:left\">np.log(view_count + 1)</td><td></td><td>4.499<sup>***</sup></td><td>4.479<sup>***</sup></td></tr><tr><td style=\"text-align:left\"></td><td></td><td>(1.495)</td><td>(1.598)</td></tr><tr><td style=\"text-align:left\">num_raiders</td><td>0.049<sup></sup></td><td>0.032<sup></sup></td><td>0.032<sup></sup></td></tr><tr><td style=\"text-align:left\"></td><td>(0.137)</td><td>(0.123)</td><td>(0.123)</td></tr><tr><td style=\"text-align:left\">sentiment_positive_percent</td><td></td><td></td><td>-3.487<sup></sup></td></tr><tr><td style=\"text-align:left\"></td><td></td><td></td><td>(29.866)</td></tr><tr><td style=\"text-align:left\">sentiment_score</td><td></td><td></td><td>-153.133<sup></sup></td></tr><tr><td style=\"text-align:left\"></td><td></td><td></td><td>(191.707)</td></tr><td colspan=\"4\" style=\"border-bottom: 1px solid black\"></td></tr><tr><td style=\"text-align: left\">Observations</td><td>91</td><td>91</td><td>91</td></tr><tr><td style=\"text-align: left\">R<sup>2</sup></td><td>0.054</td><td>0.201</td><td>0.206</td></tr><tr><td style=\"text-align: left\">Adjusted R<sup>2</sup></td><td>0.044</td><td>0.183</td><td>0.169</td></tr><tr><td style=\"text-align: left\">Residual Std. Error</td><td>35.742 (df=89)</td><td>33.048 (df=88)</td><td>33.327 (df=86)</td></tr><tr><td style=\"text-align: left\">F Statistic</td><td>0.128<sup></sup> (df=1; 89)</td><td>5.092<sup>***</sup> (df=2; 88)</td><td>4.632<sup>***</sup> (df=4; 86)</td></tr><tr><td colspan=\"4\" style=\"border-bottom: 1px solid black\"></td></tr><tr><td style=\"text-align: left\">Note:</td>\n",
              " <td colspan=\"3\" style=\"text-align: right\">\n",
              "  <sup>*</sup>p&lt;0.1;\n",
              "  <sup>**</sup>p&lt;0.05;\n",
              "  <sup>***</sup>p&lt;0.01\n",
              " </td></tr></table>"
            ]
          },
          "metadata": {},
          "execution_count": 71
        }
      ]
    },
    {
      "cell_type": "code",
      "source": [],
      "metadata": {
        "id": "8rZU9b5CGLoP"
      },
      "execution_count": null,
      "outputs": []
    },
    {
      "cell_type": "markdown",
      "source": [
        "## Ignore code down below"
      ],
      "metadata": {
        "id": "PdHsZUJFJtuz"
      }
    },
    {
      "cell_type": "code",
      "source": [
        "raid_df['Date'][4]"
      ],
      "metadata": {
        "colab": {
          "base_uri": "https://localhost:8080/",
          "height": 36
        },
        "id": "tMM4UrcQJtsm",
        "outputId": "0d9060d8-b058-4525-9e81-6f0375170027"
      },
      "execution_count": null,
      "outputs": [
        {
          "output_type": "execute_result",
          "data": {
            "text/plain": [
              "'Oct 28, 2022 at 19:54'"
            ],
            "application/vnd.google.colaboratory.intrinsic+json": {
              "type": "string"
            }
          },
          "metadata": {},
          "execution_count": 117
        }
      ]
    },
    {
      "cell_type": "code",
      "source": [],
      "metadata": {
        "id": "TM6wLouuJthj"
      },
      "execution_count": null,
      "outputs": []
    },
    {
      "cell_type": "code",
      "source": [
        "# makes a GET request to a URL and returns the text from that page.\n",
        "def get_page(url):\n",
        "    return requests.get(url).content"
      ],
      "metadata": {
        "id": "5miCEAak75rP"
      },
      "execution_count": null,
      "outputs": []
    },
    {
      "cell_type": "code",
      "source": [
        "page = get_page('https://streamscharts.com/tools/raid-finder/vnceofficial')\n",
        "page"
      ],
      "metadata": {
        "id": "rZZ9MA6C-AtS"
      },
      "execution_count": null,
      "outputs": []
    },
    {
      "cell_type": "code",
      "source": [
        "soup = BeautifulSoup(page, 'html.parser') # parses the document using a HTML parser"
      ],
      "metadata": {
        "id": "HX4Ksu9R-Fb4"
      },
      "execution_count": null,
      "outputs": []
    },
    {
      "cell_type": "code",
      "source": [
        "lists = soup.find_all('th')"
      ],
      "metadata": {
        "id": "B68cvgKr-LJ1"
      },
      "execution_count": null,
      "outputs": []
    },
    {
      "cell_type": "code",
      "source": [
        "lists"
      ],
      "metadata": {
        "id": "IJopv5Vh-Lpo"
      },
      "execution_count": null,
      "outputs": []
    },
    {
      "cell_type": "code",
      "source": [
        "import re"
      ],
      "metadata": {
        "id": "qnwMQdv3Brgf"
      },
      "execution_count": null,
      "outputs": []
    },
    {
      "cell_type": "code",
      "source": [
        "url = \"raid_VNCEOOfficial.html\"\n",
        "page = open(url)"
      ],
      "metadata": {
        "id": "yyMbgHqYEiJn"
      },
      "execution_count": null,
      "outputs": []
    },
    {
      "cell_type": "code",
      "source": [
        "page.text()"
      ],
      "metadata": {
        "colab": {
          "base_uri": "https://localhost:8080/",
          "height": 168
        },
        "id": "VJRdqpzR8KAi",
        "outputId": "0c183268-ad20-462b-e0ca-414257ecd42e"
      },
      "execution_count": null,
      "outputs": [
        {
          "output_type": "error",
          "ename": "AttributeError",
          "evalue": "ignored",
          "traceback": [
            "\u001b[0;31m---------------------------------------------------------------------------\u001b[0m",
            "\u001b[0;31mAttributeError\u001b[0m                            Traceback (most recent call last)",
            "\u001b[0;32m<ipython-input-32-73c1e8a32e57>\u001b[0m in \u001b[0;36m<module>\u001b[0;34m\u001b[0m\n\u001b[0;32m----> 1\u001b[0;31m \u001b[0mpage\u001b[0m\u001b[0;34m.\u001b[0m\u001b[0mtext\u001b[0m\u001b[0;34m(\u001b[0m\u001b[0;34m)\u001b[0m\u001b[0;34m\u001b[0m\u001b[0;34m\u001b[0m\u001b[0m\n\u001b[0m",
            "\u001b[0;31mAttributeError\u001b[0m: '_io.TextIOWrapper' object has no attribute 'text'"
          ]
        }
      ]
    },
    {
      "cell_type": "code",
      "source": [
        "soup = BeautifulSoup(page,'html.parser')"
      ],
      "metadata": {
        "id": "MMG-PBbTE2Je"
      },
      "execution_count": null,
      "outputs": []
    },
    {
      "cell_type": "code",
      "source": [
        "print(table)"
      ],
      "metadata": {
        "id": "JvCZA23n8E0o"
      },
      "execution_count": null,
      "outputs": []
    },
    {
      "cell_type": "code",
      "source": [
        "header = table.find_all('th')"
      ],
      "metadata": {
        "colab": {
          "base_uri": "https://localhost:8080/",
          "height": 168
        },
        "id": "YNWaxMgoGSlv",
        "outputId": "9a7095de-3a51-4741-89e0-6c2b890ae1c6"
      },
      "execution_count": null,
      "outputs": [
        {
          "output_type": "error",
          "ename": "AttributeError",
          "evalue": "ignored",
          "traceback": [
            "\u001b[0;31m---------------------------------------------------------------------------\u001b[0m",
            "\u001b[0;31mAttributeError\u001b[0m                            Traceback (most recent call last)",
            "\u001b[0;32m<ipython-input-95-1312e7855d35>\u001b[0m in \u001b[0;36m<module>\u001b[0;34m\u001b[0m\n\u001b[0;32m----> 1\u001b[0;31m \u001b[0mheader\u001b[0m \u001b[0;34m=\u001b[0m \u001b[0mtable\u001b[0m\u001b[0;34m.\u001b[0m\u001b[0mfind_all\u001b[0m\u001b[0;34m(\u001b[0m\u001b[0;34m'th'\u001b[0m\u001b[0;34m)\u001b[0m\u001b[0;34m\u001b[0m\u001b[0;34m\u001b[0m\u001b[0m\n\u001b[0m",
            "\u001b[0;31mAttributeError\u001b[0m: 'NoneType' object has no attribute 'find_all'"
          ]
        }
      ]
    },
    {
      "cell_type": "code",
      "source": [
        "print(table)"
      ],
      "metadata": {
        "colab": {
          "base_uri": "https://localhost:8080/"
        },
        "id": "koDC9sdGGTM2",
        "outputId": "b65cd1c7-f85e-4a92-8991-4f90c4ca3c29"
      },
      "execution_count": null,
      "outputs": [
        {
          "output_type": "stream",
          "name": "stdout",
          "text": [
            "None\n"
          ]
        }
      ]
    },
    {
      "cell_type": "code",
      "source": [
        "soup"
      ],
      "metadata": {
        "id": "0MZ4Lb1kI4lu"
      },
      "execution_count": null,
      "outputs": []
    },
    {
      "cell_type": "code",
      "source": [],
      "metadata": {
        "id": "0m7ZlSsdJZFB"
      },
      "execution_count": null,
      "outputs": []
    }
  ]
}