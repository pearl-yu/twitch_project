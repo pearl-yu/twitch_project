{
  "nbformat": 4,
  "nbformat_minor": 0,
  "metadata": {
    "colab": {
      "provenance": [],
      "collapsed_sections": [],
      "authorship_tag": "ABX9TyOFbLvB1m8kBs7bQWsV3YPI"
    },
    "kernelspec": {
      "name": "python3",
      "display_name": "Python 3"
    },
    "language_info": {
      "name": "python"
    }
  },
  "cells": [
    {
      "cell_type": "code",
      "execution_count": 2,
      "metadata": {
        "id": "9rI9mntpgl8w"
      },
      "outputs": [],
      "source": [
        "import pandas as pd\n",
        "import numpy as np"
      ]
    },
    {
      "cell_type": "code",
      "source": [
        "from google.colab import drive\n",
        "drive.mount('/content/drive')"
      ],
      "metadata": {
        "colab": {
          "base_uri": "https://localhost:8080/"
        },
        "id": "k6Y3hr7VT6fE",
        "outputId": "6bce245e-a1e0-4881-da4b-28a789863206"
      },
      "execution_count": 3,
      "outputs": [
        {
          "output_type": "stream",
          "name": "stdout",
          "text": [
            "Mounted at /content/drive\n"
          ]
        }
      ]
    },
    {
      "cell_type": "code",
      "source": [
        "%cd /content/drive/MyDrive/twitch_data"
      ],
      "metadata": {
        "colab": {
          "base_uri": "https://localhost:8080/"
        },
        "id": "kNv2cQxXUD2E",
        "outputId": "99f089cb-e37a-496a-faa7-427edc099ca6"
      },
      "execution_count": 4,
      "outputs": [
        {
          "output_type": "stream",
          "name": "stdout",
          "text": [
            "/content/drive/MyDrive/twitch_data\n"
          ]
        }
      ]
    },
    {
      "cell_type": "code",
      "source": [
        "%ls"
      ],
      "metadata": {
        "colab": {
          "base_uri": "https://localhost:8080/"
        },
        "id": "zOd7wIHgVnJl",
        "outputId": "2255a4c5-88d4-4716-97e0-fd745ef6a7d7"
      },
      "execution_count": 5,
      "outputs": [
        {
          "output_type": "stream",
          "name": "stdout",
          "text": [
            "1013713136.mp4                  sentiments   sentiments4\n",
            "chat_df.csv                     sentiments1  sentiments5\n",
            "chat_features_womeaningful.csv  sentiments2  video_df_merge.csv\n",
            "data_vid_df_l.csv               sentiments3\n"
          ]
        }
      ]
    },
    {
      "cell_type": "code",
      "source": [
        "chat_df = pd.read_csv('chat_df.csv',lineterminator='\\n') \n",
        "chat_df.columns"
      ],
      "metadata": {
        "colab": {
          "base_uri": "https://localhost:8080/"
        },
        "id": "tLu2vB5BjDYl",
        "outputId": "2a13e3c3-4b1c-4446-a4bc-397217e6de1d"
      },
      "execution_count": 17,
      "outputs": [
        {
          "output_type": "execute_result",
          "data": {
            "text/plain": [
              "Index(['Unnamed: 0', 'video_url', 'timestamp', 'time_in_seconds', 'author_id',\n",
              "       'author_name', 'author_bio', 'messages'],\n",
              "      dtype='object')"
            ]
          },
          "metadata": {},
          "execution_count": 17
        }
      ]
    },
    {
      "cell_type": "code",
      "source": [
        "#chat_df['video_id'] = chat_df['video_url'].str.strip().str[-10:]"
      ],
      "metadata": {
        "id": "bZwS6b4zsj8L"
      },
      "execution_count": 18,
      "outputs": []
    },
    {
      "cell_type": "code",
      "source": [
        "video_df = pd.read_csv('video_df_merge.csv',index_col= 0)\n",
        "print(video_df.columns)\n",
        "\n",
        "video_df.drop_duplicates(subset=['id'], keep='first',inplace=True)"
      ],
      "metadata": {
        "colab": {
          "base_uri": "https://localhost:8080/"
        },
        "id": "Wo0XWzyRqIw5",
        "outputId": "32d6be92-48d2-420b-fb1c-9a84c2f45fd1"
      },
      "execution_count": 19,
      "outputs": [
        {
          "output_type": "stream",
          "name": "stdout",
          "text": [
            "Index(['id', 'stream_id', 'user_id', 'user_login', 'user_name', 'title',\n",
            "       'description', 'created_at', 'published_at', 'url', 'thumbnail_url',\n",
            "       'viewable', 'view_count', 'language', 'type', 'duration',\n",
            "       'muted_segments', 'duration_min', 'broadcaster_type',\n",
            "       'broadcast_description', 'broadcaster_profile_image_url',\n",
            "       'broadcaster_offline_image_url', 'broadcaster_created_at'],\n",
            "      dtype='object')\n"
          ]
        }
      ]
    },
    {
      "cell_type": "markdown",
      "source": [
        "## Basic chat features"
      ],
      "metadata": {
        "id": "-eNlVa-uS2cU"
      }
    },
    {
      "cell_type": "markdown",
      "source": [
        "#### num_messages, message_len, messages_per_min   \n",
        "message_per_minute is a crude measure of 'roar of the corwd', when a bunch of messages appear like a waterfall. Because if there's no message in this minute, this minute is ignored when calculating this variable. "
      ],
      "metadata": {
        "id": "BvVTJqc6P5bx"
      }
    },
    {
      "cell_type": "code",
      "source": [
        "# basic chat features\n",
        "chat_features_df = chat_df.groupby('video_url').agg({'messages':'count', # number of messages\n",
        "                                                     }).reset_index()\n",
        "chat_features_df.rename(columns={'messages':'num_messages'},inplace=True)\n",
        "chat_features_df['video_id'] = chat_features_df['video_url'].str.strip().str[-10:]"
      ],
      "metadata": {
        "id": "WMGny9sQS2Pc"
      },
      "execution_count": 20,
      "outputs": []
    },
    {
      "cell_type": "code",
      "source": [
        "## basic chat feature: number of avg_messages_per_minute\n",
        "# merge in some video_level variables\n",
        "variables = ['id','user_id','user_name','duration_min','created_at','title','view_count','broadcaster_type','broadcast_description','broadcaster_created_at']\n",
        "chat_features_df = pd.merge(chat_features_df, video_df[variables], how=\"left\", left_on='video_id',right_on = 'id')\n",
        "chat_features_df.drop('id', axis=1, inplace=True)  "
      ],
      "metadata": {
        "id": "tkaScRE7qX5H"
      },
      "execution_count": 21,
      "outputs": []
    },
    {
      "cell_type": "code",
      "source": [
        "print(chat_features_df['video_url'].nunique())\n",
        "print(chat_features_df['user_id'].nunique())"
      ],
      "metadata": {
        "colab": {
          "base_uri": "https://localhost:8080/"
        },
        "id": "UI0kjkZrsm9-",
        "outputId": "f0db4b80-461d-4a67-f3c8-fd4120fe2424"
      },
      "execution_count": 22,
      "outputs": [
        {
          "output_type": "stream",
          "name": "stdout",
          "text": [
            "91\n",
            "12\n"
          ]
        }
      ]
    },
    {
      "cell_type": "code",
      "source": [
        "# video_df.user_name.unique()\n",
        "chat_features_df.user_name.unique()"
      ],
      "metadata": {
        "id": "gvPINoIu4RXK",
        "outputId": "bbeb362f-8cab-44a5-95d4-a37ecadcec0f",
        "colab": {
          "base_uri": "https://localhost:8080/"
        }
      },
      "execution_count": 23,
      "outputs": [
        {
          "output_type": "execute_result",
          "data": {
            "text/plain": [
              "array(['VNCEOfficial', 'AkzOnTop', 'PatProzyy', 'prxd4v41', 'Methodz',\n",
              "       'General_Mars', 'Rainbow6', 'SypherPK', 'iiTzTimmy',\n",
              "       'moistcr1tikal', 'Murda10k', 'zackrawrr'], dtype=object)"
            ]
          },
          "metadata": {},
          "execution_count": 23
        }
      ]
    },
    {
      "cell_type": "code",
      "source": [
        "chat_features_df['video_url'][25:30]"
      ],
      "metadata": {
        "colab": {
          "base_uri": "https://localhost:8080/"
        },
        "id": "Irymj408hkfj",
        "outputId": "ab0b4e82-4654-49e5-fff6-dd00d733a389"
      },
      "execution_count": 24,
      "outputs": [
        {
          "output_type": "execute_result",
          "data": {
            "text/plain": [
              "25    https://www.twitch.tv/videos/1604098127\n",
              "26    https://www.twitch.tv/videos/1604165847\n",
              "27    https://www.twitch.tv/videos/1604458780\n",
              "28    https://www.twitch.tv/videos/1604733184\n",
              "29    https://www.twitch.tv/videos/1604878671\n",
              "Name: video_url, dtype: object"
            ]
          },
          "metadata": {},
          "execution_count": 24
        }
      ]
    },
    {
      "cell_type": "markdown",
      "source": [
        "## Scrape raid data\n"
      ],
      "metadata": {
        "id": "cry8YW837oiv"
      }
    },
    {
      "cell_type": "code",
      "source": [
        "import requests # to fetch the raw HTML from our page\n",
        "import csv\n",
        "from bs4 import BeautifulSoup # to extract just the information we are looking for"
      ],
      "metadata": {
        "id": "YcAFtvIW7xkL"
      },
      "execution_count": 25,
      "outputs": []
    },
    {
      "cell_type": "code",
      "source": [
        "# makes a GET request to a URL and returns the text from that page.\n",
        "def get_page(url):\n",
        "    return requests.get(url).content"
      ],
      "metadata": {
        "id": "5miCEAak75rP"
      },
      "execution_count": 53,
      "outputs": []
    },
    {
      "cell_type": "code",
      "source": [
        "def get_data(html_page):\n",
        "    '''\n",
        "    html_page: the html page returned from the previous function get_page() \n",
        "    '''\n",
        "\n",
        "    soup = BeautifulSoup(html_page, 'html.parser') # parses the document using a HTML parser\n",
        "\n",
        "    # scrapes the table head element\n",
        "    outputHead = []\n",
        "    for th in soup.find_all('th'):  # find_all() function to find the elements we are looking for\n",
        "        outputHead.append(th.text)  #write to a output list\n",
        "\n",
        "    # traverses all the table rows\n",
        "    outputRows = []\n",
        "    for tr in soup.find_all('tr'):\n",
        "        tableColumns = tr.find_all('td')\n",
        "        outputRow = []\n",
        "        for tc in tableColumns:\n",
        "            outputRow.append(tc.text)\n",
        "        outputRows.append(outputRow)\n",
        "\n",
        "    outputRows.insert(0, outputHead)\n",
        "\n",
        "    return outputRows"
      ],
      "metadata": {
        "id": "hJKSY1qL8Qy5"
      },
      "execution_count": 54,
      "outputs": []
    },
    {
      "cell_type": "code",
      "source": [
        "page = get_page('https://streamscharts.com/tools/raid-finder/vnceofficial')\n",
        "page"
      ],
      "metadata": {
        "id": "rZZ9MA6C-AtS"
      },
      "execution_count": null,
      "outputs": []
    },
    {
      "cell_type": "code",
      "source": [
        "soup = BeautifulSoup(page, 'html.parser') # parses the document using a HTML parser"
      ],
      "metadata": {
        "id": "HX4Ksu9R-Fb4"
      },
      "execution_count": 57,
      "outputs": []
    },
    {
      "cell_type": "code",
      "source": [
        "with open(\"raid_VNCEOOfficial.html\") as fp:\n",
        "    soup = BeautifulSoup(fp, 'html.parser')"
      ],
      "metadata": {
        "id": "6KLJ5_UsD2sA"
      },
      "execution_count": 61,
      "outputs": []
    },
    {
      "cell_type": "code",
      "source": [
        "lists = soup.find_all('th')"
      ],
      "metadata": {
        "id": "B68cvgKr-LJ1"
      },
      "execution_count": 62,
      "outputs": []
    },
    {
      "cell_type": "code",
      "source": [
        "lists"
      ],
      "metadata": {
        "colab": {
          "base_uri": "https://localhost:8080/"
        },
        "id": "IJopv5Vh-Lpo",
        "outputId": "148af674-1e62-4d0f-a39c-b3aca668b16c"
      },
      "execution_count": 63,
      "outputs": [
        {
          "output_type": "execute_result",
          "data": {
            "text/plain": [
              "[]"
            ]
          },
          "metadata": {},
          "execution_count": 63
        }
      ]
    },
    {
      "cell_type": "code",
      "source": [
        "import re"
      ],
      "metadata": {
        "id": "qnwMQdv3Brgf"
      },
      "execution_count": 65,
      "outputs": []
    },
    {
      "cell_type": "code",
      "source": [
        "url = \"raid_VNCEOOfficial.html\"\n",
        "page = open(url)"
      ],
      "metadata": {
        "id": "yyMbgHqYEiJn"
      },
      "execution_count": 111,
      "outputs": []
    },
    {
      "cell_type": "code",
      "source": [
        "soup = BeautifulSoup(page,'html.parser')"
      ],
      "metadata": {
        "id": "MMG-PBbTE2Je"
      },
      "execution_count": 112,
      "outputs": []
    },
    {
      "cell_type": "code",
      "source": [
        "soup.body.p.b "
      ],
      "metadata": {
        "colab": {
          "base_uri": "https://localhost:8080/",
          "height": 168
        },
        "id": "Bh1uR0foPlut",
        "outputId": "82b0b2aa-5414-4e3e-814e-492f96c7ad80"
      },
      "execution_count": 115,
      "outputs": [
        {
          "output_type": "error",
          "ename": "AttributeError",
          "evalue": "ignored",
          "traceback": [
            "\u001b[0;31m---------------------------------------------------------------------------\u001b[0m",
            "\u001b[0;31mAttributeError\u001b[0m                            Traceback (most recent call last)",
            "\u001b[0;32m<ipython-input-115-e7e44bf7101c>\u001b[0m in \u001b[0;36m<module>\u001b[0;34m\u001b[0m\n\u001b[0;32m----> 1\u001b[0;31m \u001b[0msoup\u001b[0m\u001b[0;34m.\u001b[0m\u001b[0mbody\u001b[0m\u001b[0;34m.\u001b[0m\u001b[0mp\u001b[0m\u001b[0;34m.\u001b[0m\u001b[0mb\u001b[0m\u001b[0;34m\u001b[0m\u001b[0;34m\u001b[0m\u001b[0m\n\u001b[0m",
            "\u001b[0;31mAttributeError\u001b[0m: 'NoneType' object has no attribute 'b'"
          ]
        }
      ]
    },
    {
      "cell_type": "code",
      "source": [
        "table = soup.find(\"tablem\",{\"class\":\"w-full rounded-lg bg-card\"})"
      ],
      "metadata": {
        "id": "xk0wKtAbE_UK"
      },
      "execution_count": 109,
      "outputs": []
    },
    {
      "cell_type": "code",
      "source": [
        "header = table.find_all('th')"
      ],
      "metadata": {
        "colab": {
          "base_uri": "https://localhost:8080/",
          "height": 168
        },
        "id": "YNWaxMgoGSlv",
        "outputId": "9a7095de-3a51-4741-89e0-6c2b890ae1c6"
      },
      "execution_count": 95,
      "outputs": [
        {
          "output_type": "error",
          "ename": "AttributeError",
          "evalue": "ignored",
          "traceback": [
            "\u001b[0;31m---------------------------------------------------------------------------\u001b[0m",
            "\u001b[0;31mAttributeError\u001b[0m                            Traceback (most recent call last)",
            "\u001b[0;32m<ipython-input-95-1312e7855d35>\u001b[0m in \u001b[0;36m<module>\u001b[0;34m\u001b[0m\n\u001b[0;32m----> 1\u001b[0;31m \u001b[0mheader\u001b[0m \u001b[0;34m=\u001b[0m \u001b[0mtable\u001b[0m\u001b[0;34m.\u001b[0m\u001b[0mfind_all\u001b[0m\u001b[0;34m(\u001b[0m\u001b[0;34m'th'\u001b[0m\u001b[0;34m)\u001b[0m\u001b[0;34m\u001b[0m\u001b[0;34m\u001b[0m\u001b[0m\n\u001b[0m",
            "\u001b[0;31mAttributeError\u001b[0m: 'NoneType' object has no attribute 'find_all'"
          ]
        }
      ]
    },
    {
      "cell_type": "code",
      "source": [
        "print(table)"
      ],
      "metadata": {
        "colab": {
          "base_uri": "https://localhost:8080/"
        },
        "id": "koDC9sdGGTM2",
        "outputId": "b65cd1c7-f85e-4a92-8991-4f90c4ca3c29"
      },
      "execution_count": 110,
      "outputs": [
        {
          "output_type": "stream",
          "name": "stdout",
          "text": [
            "None\n"
          ]
        }
      ]
    },
    {
      "cell_type": "code",
      "source": [
        "soup"
      ],
      "metadata": {
        "id": "0MZ4Lb1kI4lu"
      },
      "execution_count": null,
      "outputs": []
    },
    {
      "cell_type": "code",
      "source": [],
      "metadata": {
        "id": "0m7ZlSsdJZFB"
      },
      "execution_count": null,
      "outputs": []
    }
  ]
}