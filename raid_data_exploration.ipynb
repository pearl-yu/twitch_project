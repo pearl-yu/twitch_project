{
  "nbformat": 4,
  "nbformat_minor": 0,
  "metadata": {
    "colab": {
      "provenance": [],
      "collapsed_sections": [],
      "authorship_tag": "ABX9TyNuKLjtsvvoI86GF3dSJeCK"
    },
    "kernelspec": {
      "name": "python3",
      "display_name": "Python 3"
    },
    "language_info": {
      "name": "python"
    }
  },
  "cells": [
    {
      "cell_type": "code",
      "execution_count": 1,
      "metadata": {
        "id": "9rI9mntpgl8w"
      },
      "outputs": [],
      "source": [
        "import pandas as pd\n",
        "import numpy as np"
      ]
    },
    {
      "cell_type": "code",
      "source": [
        "from google.colab import drive\n",
        "drive.mount('/content/drive')"
      ],
      "metadata": {
        "colab": {
          "base_uri": "https://localhost:8080/"
        },
        "id": "k6Y3hr7VT6fE",
        "outputId": "502c007a-8e52-4428-8203-4d291b47c7ec"
      },
      "execution_count": 3,
      "outputs": [
        {
          "output_type": "stream",
          "name": "stdout",
          "text": [
            "Mounted at /content/drive\n"
          ]
        }
      ]
    },
    {
      "cell_type": "code",
      "source": [
        "%cd /content/drive/MyDrive/twitch_data"
      ],
      "metadata": {
        "colab": {
          "base_uri": "https://localhost:8080/"
        },
        "id": "kNv2cQxXUD2E",
        "outputId": "bc5894de-526b-449b-9493-12747c233e65"
      },
      "execution_count": 4,
      "outputs": [
        {
          "output_type": "stream",
          "name": "stdout",
          "text": [
            "/content/drive/MyDrive/twitch_data\n"
          ]
        }
      ]
    },
    {
      "cell_type": "code",
      "source": [
        "%ls"
      ],
      "metadata": {
        "colab": {
          "base_uri": "https://localhost:8080/"
        },
        "id": "zOd7wIHgVnJl",
        "outputId": "8ccb32b0-960a-495f-e636-34ad6703c5a5"
      },
      "execution_count": 5,
      "outputs": [
        {
          "output_type": "stream",
          "name": "stdout",
          "text": [
            "1013713136.mp4                  raid_VNCEOOfficial.html  sentiments3\n",
            "chat_df.csv                     sentiments               sentiments4\n",
            "chat_features_womeaningful.csv  sentiments1              sentiments5\n",
            "data_vid_df_l.csv               sentiments2              video_df_merge.csv\n"
          ]
        }
      ]
    },
    {
      "cell_type": "code",
      "source": [
        "chat_df = pd.read_csv('chat_df.csv',lineterminator='\\n') \n",
        "chat_df.columns"
      ],
      "metadata": {
        "colab": {
          "base_uri": "https://localhost:8080/"
        },
        "id": "tLu2vB5BjDYl",
        "outputId": "cd0c3884-fcee-4382-8e7f-70e8dbf51a94"
      },
      "execution_count": 6,
      "outputs": [
        {
          "output_type": "execute_result",
          "data": {
            "text/plain": [
              "Index(['Unnamed: 0', 'video_url', 'timestamp', 'time_in_seconds', 'author_id',\n",
              "       'author_name', 'author_bio', 'messages'],\n",
              "      dtype='object')"
            ]
          },
          "metadata": {},
          "execution_count": 6
        }
      ]
    },
    {
      "cell_type": "code",
      "source": [
        "#chat_df['video_id'] = chat_df['video_url'].str.strip().str[-10:]"
      ],
      "metadata": {
        "id": "bZwS6b4zsj8L"
      },
      "execution_count": 7,
      "outputs": []
    },
    {
      "cell_type": "code",
      "source": [
        "video_df = pd.read_csv('video_df_merge.csv',index_col= 0)\n",
        "print(video_df.columns)\n",
        "\n",
        "video_df.drop_duplicates(subset=['id'], keep='first',inplace=True)"
      ],
      "metadata": {
        "colab": {
          "base_uri": "https://localhost:8080/"
        },
        "id": "Wo0XWzyRqIw5",
        "outputId": "ff04e256-7bed-43f4-ada4-771dc2565d78"
      },
      "execution_count": 8,
      "outputs": [
        {
          "output_type": "stream",
          "name": "stdout",
          "text": [
            "Index(['id', 'stream_id', 'user_id', 'user_login', 'user_name', 'title',\n",
            "       'description', 'created_at', 'published_at', 'url', 'thumbnail_url',\n",
            "       'viewable', 'view_count', 'language', 'type', 'duration',\n",
            "       'muted_segments', 'duration_min', 'broadcaster_type',\n",
            "       'broadcast_description', 'broadcaster_profile_image_url',\n",
            "       'broadcaster_offline_image_url', 'broadcaster_created_at'],\n",
            "      dtype='object')\n"
          ]
        }
      ]
    },
    {
      "cell_type": "markdown",
      "source": [
        "## Basic chat features"
      ],
      "metadata": {
        "id": "-eNlVa-uS2cU"
      }
    },
    {
      "cell_type": "markdown",
      "source": [
        "#### num_messages, message_len, messages_per_min   \n",
        "message_per_minute is a crude measure of 'roar of the corwd', when a bunch of messages appear like a waterfall. Because if there's no message in this minute, this minute is ignored when calculating this variable. "
      ],
      "metadata": {
        "id": "BvVTJqc6P5bx"
      }
    },
    {
      "cell_type": "code",
      "source": [
        "# basic chat features\n",
        "chat_features_df = chat_df.groupby('video_url').agg({'messages':'count', # number of messages\n",
        "                                                     }).reset_index()\n",
        "chat_features_df.rename(columns={'messages':'num_messages'},inplace=True)\n",
        "chat_features_df['video_id'] = chat_features_df['video_url'].str.strip().str[-10:]"
      ],
      "metadata": {
        "id": "WMGny9sQS2Pc"
      },
      "execution_count": 9,
      "outputs": []
    },
    {
      "cell_type": "code",
      "source": [
        "## basic chat feature: number of avg_messages_per_minute\n",
        "# merge in some video_level variables\n",
        "variables = ['id','user_id','user_name','duration_min','created_at','title','view_count','broadcaster_type','broadcast_description','broadcaster_created_at']\n",
        "chat_features_df = pd.merge(chat_features_df, video_df[variables], how=\"left\", left_on='video_id',right_on = 'id')\n",
        "chat_features_df.drop('id', axis=1, inplace=True)  "
      ],
      "metadata": {
        "id": "tkaScRE7qX5H"
      },
      "execution_count": 10,
      "outputs": []
    },
    {
      "cell_type": "code",
      "source": [
        "print(chat_features_df['video_url'].nunique())\n",
        "print(chat_features_df['user_id'].nunique())"
      ],
      "metadata": {
        "colab": {
          "base_uri": "https://localhost:8080/"
        },
        "id": "UI0kjkZrsm9-",
        "outputId": "dea6530a-ac77-45de-a750-cbd3161818a6"
      },
      "execution_count": 11,
      "outputs": [
        {
          "output_type": "stream",
          "name": "stdout",
          "text": [
            "91\n",
            "12\n"
          ]
        }
      ]
    },
    {
      "cell_type": "code",
      "source": [
        "# video_df.user_name.unique()\n",
        "chat_features_df.user_name.unique()"
      ],
      "metadata": {
        "id": "gvPINoIu4RXK",
        "outputId": "54eae7b6-80af-47cc-9d66-b4c490b6c99c",
        "colab": {
          "base_uri": "https://localhost:8080/"
        }
      },
      "execution_count": 12,
      "outputs": [
        {
          "output_type": "execute_result",
          "data": {
            "text/plain": [
              "array(['VNCEOfficial', 'AkzOnTop', 'PatProzyy', 'prxd4v41', 'Methodz',\n",
              "       'General_Mars', 'Rainbow6', 'SypherPK', 'iiTzTimmy',\n",
              "       'moistcr1tikal', 'Murda10k', 'zackrawrr'], dtype=object)"
            ]
          },
          "metadata": {},
          "execution_count": 12
        }
      ]
    },
    {
      "cell_type": "code",
      "source": [
        "chat_features_df['video_url'][25:30]"
      ],
      "metadata": {
        "colab": {
          "base_uri": "https://localhost:8080/"
        },
        "id": "Irymj408hkfj",
        "outputId": "266e6e1d-5f6a-4225-9add-2b776a362a63"
      },
      "execution_count": 13,
      "outputs": [
        {
          "output_type": "execute_result",
          "data": {
            "text/plain": [
              "25    https://www.twitch.tv/videos/1604098127\n",
              "26    https://www.twitch.tv/videos/1604165847\n",
              "27    https://www.twitch.tv/videos/1604458780\n",
              "28    https://www.twitch.tv/videos/1604733184\n",
              "29    https://www.twitch.tv/videos/1604878671\n",
              "Name: video_url, dtype: object"
            ]
          },
          "metadata": {},
          "execution_count": 13
        }
      ]
    },
    {
      "cell_type": "code",
      "source": [
        "temp_table = chat_df[chat_df['messages'].str.contains('raid',na=False)]"
      ],
      "metadata": {
        "id": "ipIfi9DjTgc0"
      },
      "execution_count": 14,
      "outputs": []
    },
    {
      "cell_type": "code",
      "source": [
        "temp_table"
      ],
      "metadata": {
        "id": "yhwWkmtHUkqf"
      },
      "execution_count": null,
      "outputs": []
    },
    {
      "cell_type": "markdown",
      "source": [
        "## Scrape raid data\n"
      ],
      "metadata": {
        "id": "cry8YW837oiv"
      }
    },
    {
      "cell_type": "code",
      "source": [
        "import requests # to fetch the raw HTML from our page\n",
        "import csv\n",
        "from bs4 import BeautifulSoup # to extract just the information we are looking for"
      ],
      "metadata": {
        "id": "YcAFtvIW7xkL"
      },
      "execution_count": 17,
      "outputs": []
    },
    {
      "cell_type": "code",
      "source": [
        "def get_data(soup_object):\n",
        "    table = soup.find('table', class_=\"w-full rounded-lg bg-card\")\n",
        "\n",
        "    # scrapes the table head element\n",
        "    outputHead = []\n",
        "    for th in table.find_all('th'):  # find_all() function to find the elements we are looking for\n",
        "        outputHead.append(th.text)  #write to a output list\n",
        "\n",
        "    # traverses all the table rows\n",
        "    outputRows = []\n",
        "    for tr in table.find_all('tr'):\n",
        "        tableColumns = tr.find_all('td')\n",
        "        outputRow = []\n",
        "        for tc in tableColumns:\n",
        "            outputRow.append(tc.text.replace('\\n', ''))\n",
        "        outputRows.append(outputRow)\n",
        "\n",
        "    return outputHead, outputRows"
      ],
      "metadata": {
        "id": "hJKSY1qL8Qy5"
      },
      "execution_count": 77,
      "outputs": []
    },
    {
      "cell_type": "code",
      "source": [
        "with open(\"raid_VNCEOOfficial.html\") as fp:\n",
        "    soup = BeautifulSoup(fp, 'html.parser')\n",
        "\n",
        "outputHead, outputRows = get_data(soup)\n",
        "raid_df= pd.DataFrame(outputRows,columns=outputHead)[1:].set_index(outputHead[0])\n",
        "\n",
        "raid_df.head()"
      ],
      "metadata": {
        "id": "6KLJ5_UsD2sA"
      },
      "execution_count": 85,
      "outputs": []
    },
    {
      "cell_type": "code",
      "source": [
        "raid_file_list = ['raid_VNCEOOfficial.html', 'raid_patprozyy.html', 'raid_prxd4v41.html', 'raid_Methodz.html',\n",
        "        'raid_Rainbow6.html', 'raid_SypherPK.html', 'raid_iiTzTimmy.html',\n",
        "       'raid_moistcr1tikal.html', 'raid_zackrawrr.html']\n",
        "\n",
        "for i in range(len(raid_file_list)):\n",
        "  with open('raid/' + raid_file_list[i] ) as fp:\n",
        "    soup = BeautifulSoup(fp, 'html.parser')\n",
        "  outputHead, outputRows = get_data(soup)\n",
        "\n",
        "  if i == 0:\n",
        "    raid_df= pd.DataFrame(outputRows,columns=outputHead)[1:].set_index(outputHead[0])\n",
        "  else:\n",
        "    temp = pd.DataFrame(outputRows,columns=outputHead)[1:].set_index(outputHead[0])\n",
        "    raid_df.append(temp)"
      ],
      "metadata": {
        "id": "vwgPmMjfAOde"
      },
      "execution_count": 93,
      "outputs": []
    },
    {
      "cell_type": "code",
      "source": [
        "# This saves to google drive directly\n",
        "raid_df.to_csv('raid_df.csv')"
      ],
      "metadata": {
        "id": "cBCLBQ1fJRuN"
      },
      "execution_count": 94,
      "outputs": []
    },
    {
      "cell_type": "code",
      "source": [
        "raid_df.head()\n",
        "print(raid_df.shape)"
      ],
      "metadata": {
        "colab": {
          "base_uri": "https://localhost:8080/"
        },
        "id": "KuSAjpHzJUoL",
        "outputId": "6983582e-2b32-4ff2-afd8-c457676953d9"
      },
      "execution_count": 96,
      "outputs": [
        {
          "output_type": "stream",
          "name": "stdout",
          "text": [
            "(230, 6)\n"
          ]
        }
      ]
    },
    {
      "cell_type": "markdown",
      "source": [
        "Now we're gonna pre-process these raid data."
      ],
      "metadata": {
        "id": "HR5n5rpDJxNU"
      }
    },
    {
      "cell_type": "markdown",
      "source": [
        "## Ignore code down below"
      ],
      "metadata": {
        "id": "PdHsZUJFJtuz"
      }
    },
    {
      "cell_type": "code",
      "source": [],
      "metadata": {
        "id": "tMM4UrcQJtsm"
      },
      "execution_count": null,
      "outputs": []
    },
    {
      "cell_type": "code",
      "source": [],
      "metadata": {
        "id": "nyUsOQWRJtpq"
      },
      "execution_count": null,
      "outputs": []
    },
    {
      "cell_type": "code",
      "source": [],
      "metadata": {
        "id": "TM6wLouuJthj"
      },
      "execution_count": null,
      "outputs": []
    },
    {
      "cell_type": "code",
      "source": [
        "# makes a GET request to a URL and returns the text from that page.\n",
        "def get_page(url):\n",
        "    return requests.get(url).content"
      ],
      "metadata": {
        "id": "5miCEAak75rP"
      },
      "execution_count": null,
      "outputs": []
    },
    {
      "cell_type": "code",
      "source": [
        "page = get_page('https://streamscharts.com/tools/raid-finder/vnceofficial')\n",
        "page"
      ],
      "metadata": {
        "id": "rZZ9MA6C-AtS"
      },
      "execution_count": null,
      "outputs": []
    },
    {
      "cell_type": "code",
      "source": [
        "soup = BeautifulSoup(page, 'html.parser') # parses the document using a HTML parser"
      ],
      "metadata": {
        "id": "HX4Ksu9R-Fb4"
      },
      "execution_count": null,
      "outputs": []
    },
    {
      "cell_type": "code",
      "source": [
        "lists = soup.find_all('th')"
      ],
      "metadata": {
        "id": "B68cvgKr-LJ1"
      },
      "execution_count": 34,
      "outputs": []
    },
    {
      "cell_type": "code",
      "source": [
        "lists"
      ],
      "metadata": {
        "id": "IJopv5Vh-Lpo"
      },
      "execution_count": null,
      "outputs": []
    },
    {
      "cell_type": "code",
      "source": [
        "import re"
      ],
      "metadata": {
        "id": "qnwMQdv3Brgf"
      },
      "execution_count": null,
      "outputs": []
    },
    {
      "cell_type": "code",
      "source": [
        "url = \"raid_VNCEOOfficial.html\"\n",
        "page = open(url)"
      ],
      "metadata": {
        "id": "yyMbgHqYEiJn"
      },
      "execution_count": 30,
      "outputs": []
    },
    {
      "cell_type": "code",
      "source": [
        "page.text()"
      ],
      "metadata": {
        "colab": {
          "base_uri": "https://localhost:8080/",
          "height": 168
        },
        "id": "VJRdqpzR8KAi",
        "outputId": "0c183268-ad20-462b-e0ca-414257ecd42e"
      },
      "execution_count": 32,
      "outputs": [
        {
          "output_type": "error",
          "ename": "AttributeError",
          "evalue": "ignored",
          "traceback": [
            "\u001b[0;31m---------------------------------------------------------------------------\u001b[0m",
            "\u001b[0;31mAttributeError\u001b[0m                            Traceback (most recent call last)",
            "\u001b[0;32m<ipython-input-32-73c1e8a32e57>\u001b[0m in \u001b[0;36m<module>\u001b[0;34m\u001b[0m\n\u001b[0;32m----> 1\u001b[0;31m \u001b[0mpage\u001b[0m\u001b[0;34m.\u001b[0m\u001b[0mtext\u001b[0m\u001b[0;34m(\u001b[0m\u001b[0;34m)\u001b[0m\u001b[0;34m\u001b[0m\u001b[0;34m\u001b[0m\u001b[0m\n\u001b[0m",
            "\u001b[0;31mAttributeError\u001b[0m: '_io.TextIOWrapper' object has no attribute 'text'"
          ]
        }
      ]
    },
    {
      "cell_type": "code",
      "source": [
        "soup = BeautifulSoup(page,'html.parser')"
      ],
      "metadata": {
        "id": "MMG-PBbTE2Je"
      },
      "execution_count": 19,
      "outputs": []
    },
    {
      "cell_type": "code",
      "source": [
        "print(table)"
      ],
      "metadata": {
        "id": "JvCZA23n8E0o"
      },
      "execution_count": null,
      "outputs": []
    },
    {
      "cell_type": "code",
      "source": [
        "header = table.find_all('th')"
      ],
      "metadata": {
        "colab": {
          "base_uri": "https://localhost:8080/",
          "height": 168
        },
        "id": "YNWaxMgoGSlv",
        "outputId": "9a7095de-3a51-4741-89e0-6c2b890ae1c6"
      },
      "execution_count": null,
      "outputs": [
        {
          "output_type": "error",
          "ename": "AttributeError",
          "evalue": "ignored",
          "traceback": [
            "\u001b[0;31m---------------------------------------------------------------------------\u001b[0m",
            "\u001b[0;31mAttributeError\u001b[0m                            Traceback (most recent call last)",
            "\u001b[0;32m<ipython-input-95-1312e7855d35>\u001b[0m in \u001b[0;36m<module>\u001b[0;34m\u001b[0m\n\u001b[0;32m----> 1\u001b[0;31m \u001b[0mheader\u001b[0m \u001b[0;34m=\u001b[0m \u001b[0mtable\u001b[0m\u001b[0;34m.\u001b[0m\u001b[0mfind_all\u001b[0m\u001b[0;34m(\u001b[0m\u001b[0;34m'th'\u001b[0m\u001b[0;34m)\u001b[0m\u001b[0;34m\u001b[0m\u001b[0;34m\u001b[0m\u001b[0m\n\u001b[0m",
            "\u001b[0;31mAttributeError\u001b[0m: 'NoneType' object has no attribute 'find_all'"
          ]
        }
      ]
    },
    {
      "cell_type": "code",
      "source": [
        "print(table)"
      ],
      "metadata": {
        "colab": {
          "base_uri": "https://localhost:8080/"
        },
        "id": "koDC9sdGGTM2",
        "outputId": "b65cd1c7-f85e-4a92-8991-4f90c4ca3c29"
      },
      "execution_count": null,
      "outputs": [
        {
          "output_type": "stream",
          "name": "stdout",
          "text": [
            "None\n"
          ]
        }
      ]
    },
    {
      "cell_type": "code",
      "source": [
        "soup"
      ],
      "metadata": {
        "id": "0MZ4Lb1kI4lu"
      },
      "execution_count": null,
      "outputs": []
    },
    {
      "cell_type": "code",
      "source": [],
      "metadata": {
        "id": "0m7ZlSsdJZFB"
      },
      "execution_count": null,
      "outputs": []
    }
  ]
}