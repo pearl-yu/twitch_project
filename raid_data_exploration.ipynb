{
  "nbformat": 4,
  "nbformat_minor": 0,
  "metadata": {
    "colab": {
      "provenance": [],
      "collapsed_sections": [],
      "authorship_tag": "ABX9TyPrl75XWKD6vGlcUdASUp2o",
      "include_colab_link": true
    },
    "kernelspec": {
      "name": "python3",
      "display_name": "Python 3"
    },
    "language_info": {
      "name": "python"
    }
  },
  "cells": [
    {
      "cell_type": "markdown",
      "metadata": {
        "id": "view-in-github",
        "colab_type": "text"
      },
      "source": [
        "<a href=\"https://colab.research.google.com/github/pearl-yu/twitch_project/blob/main/raid_data_exploration.ipynb\" target=\"_parent\"><img src=\"https://colab.research.google.com/assets/colab-badge.svg\" alt=\"Open In Colab\"/></a>"
      ]
    },
    {
      "cell_type": "code",
      "execution_count": 1,
      "metadata": {
        "id": "9rI9mntpgl8w"
      },
      "outputs": [],
      "source": [
        "import pandas as pd\n",
        "import numpy as np"
      ]
    },
    {
      "cell_type": "code",
      "source": [
        "from google.colab import drive\n",
        "drive.mount('/content/drive')"
      ],
      "metadata": {
        "colab": {
          "base_uri": "https://localhost:8080/"
        },
        "id": "k6Y3hr7VT6fE",
        "outputId": "502c007a-8e52-4428-8203-4d291b47c7ec"
      },
      "execution_count": 3,
      "outputs": [
        {
          "output_type": "stream",
          "name": "stdout",
          "text": [
            "Mounted at /content/drive\n"
          ]
        }
      ]
    },
    {
      "cell_type": "code",
      "source": [
        "%cd /content/drive/MyDrive/twitch_data"
      ],
      "metadata": {
        "colab": {
          "base_uri": "https://localhost:8080/"
        },
        "id": "kNv2cQxXUD2E",
        "outputId": "bc5894de-526b-449b-9493-12747c233e65"
      },
      "execution_count": 4,
      "outputs": [
        {
          "output_type": "stream",
          "name": "stdout",
          "text": [
            "/content/drive/MyDrive/twitch_data\n"
          ]
        }
      ]
    },
    {
      "cell_type": "code",
      "source": [
        "%ls"
      ],
      "metadata": {
        "colab": {
          "base_uri": "https://localhost:8080/"
        },
        "id": "zOd7wIHgVnJl",
        "outputId": "8ccb32b0-960a-495f-e636-34ad6703c5a5"
      },
      "execution_count": 5,
      "outputs": [
        {
          "output_type": "stream",
          "name": "stdout",
          "text": [
            "1013713136.mp4                  raid_VNCEOOfficial.html  sentiments3\n",
            "chat_df.csv                     sentiments               sentiments4\n",
            "chat_features_womeaningful.csv  sentiments1              sentiments5\n",
            "data_vid_df_l.csv               sentiments2              video_df_merge.csv\n"
          ]
        }
      ]
    },
    {
      "cell_type": "code",
      "source": [
        "# just want to take a look at the chats containing raid information\n",
        "chat_df = pd.read_csv('chat_df.csv',lineterminator='\\n',index_col=0) \n",
        "chat_df.head()\n",
        "\n",
        "temp_table = chat_df[chat_df['messages'].str.contains('raid',na=False)]\n",
        "temp_table"
      ],
      "metadata": {
        "colab": {
          "base_uri": "https://localhost:8080/",
          "height": 302
        },
        "id": "qtb0qicyCUbg",
        "outputId": "a54d200f-c199-4577-f052-eb256f82cc63"
      },
      "execution_count": 103,
      "outputs": [
        {
          "output_type": "execute_result",
          "data": {
            "text/plain": [
              "                                 video_url         timestamp  time_in_seconds  \\\n",
              "0  https://www.twitch.tv/videos/1619944979  1665353968134000           34.434   \n",
              "1  https://www.twitch.tv/videos/1619944979  1665353970195000           36.495   \n",
              "2  https://www.twitch.tv/videos/1619944979  1665353976374000           42.674   \n",
              "3  https://www.twitch.tv/videos/1619944979  1665353978426000           44.726   \n",
              "4  https://www.twitch.tv/videos/1619944979  1665353978792000           45.092   \n",
              "\n",
              "   author_id      author_name  \\\n",
              "0  536714910          Mar0n1_   \n",
              "1   39378978            Azkii   \n",
              "2  821199354   itzBaMofficial   \n",
              "3  519136869  youngmoneybandz   \n",
              "4  477382692        shanenobi   \n",
              "\n",
              "                                          author_bio          messages  \n",
              "0                                                NaN          yo first  \n",
              "1  Hello, I am Azkii. Proud member of the Toad Sq...  Have good steam!  \n",
              "2                      I play Valorant at the moment                hi  \n",
              "3                                          hey nerd              yoooo  \n",
              "4                                                NaN        !crosshair  "
            ],
            "text/html": [
              "\n",
              "  <div id=\"df-6fbf3d24-6226-42bd-bf29-7ead96030637\">\n",
              "    <div class=\"colab-df-container\">\n",
              "      <div>\n",
              "<style scoped>\n",
              "    .dataframe tbody tr th:only-of-type {\n",
              "        vertical-align: middle;\n",
              "    }\n",
              "\n",
              "    .dataframe tbody tr th {\n",
              "        vertical-align: top;\n",
              "    }\n",
              "\n",
              "    .dataframe thead th {\n",
              "        text-align: right;\n",
              "    }\n",
              "</style>\n",
              "<table border=\"1\" class=\"dataframe\">\n",
              "  <thead>\n",
              "    <tr style=\"text-align: right;\">\n",
              "      <th></th>\n",
              "      <th>video_url</th>\n",
              "      <th>timestamp</th>\n",
              "      <th>time_in_seconds</th>\n",
              "      <th>author_id</th>\n",
              "      <th>author_name</th>\n",
              "      <th>author_bio</th>\n",
              "      <th>messages</th>\n",
              "    </tr>\n",
              "  </thead>\n",
              "  <tbody>\n",
              "    <tr>\n",
              "      <th>0</th>\n",
              "      <td>https://www.twitch.tv/videos/1619944979</td>\n",
              "      <td>1665353968134000</td>\n",
              "      <td>34.434</td>\n",
              "      <td>536714910</td>\n",
              "      <td>Mar0n1_</td>\n",
              "      <td>NaN</td>\n",
              "      <td>yo first</td>\n",
              "    </tr>\n",
              "    <tr>\n",
              "      <th>1</th>\n",
              "      <td>https://www.twitch.tv/videos/1619944979</td>\n",
              "      <td>1665353970195000</td>\n",
              "      <td>36.495</td>\n",
              "      <td>39378978</td>\n",
              "      <td>Azkii</td>\n",
              "      <td>Hello, I am Azkii. Proud member of the Toad Sq...</td>\n",
              "      <td>Have good steam!</td>\n",
              "    </tr>\n",
              "    <tr>\n",
              "      <th>2</th>\n",
              "      <td>https://www.twitch.tv/videos/1619944979</td>\n",
              "      <td>1665353976374000</td>\n",
              "      <td>42.674</td>\n",
              "      <td>821199354</td>\n",
              "      <td>itzBaMofficial</td>\n",
              "      <td>I play Valorant at the moment</td>\n",
              "      <td>hi</td>\n",
              "    </tr>\n",
              "    <tr>\n",
              "      <th>3</th>\n",
              "      <td>https://www.twitch.tv/videos/1619944979</td>\n",
              "      <td>1665353978426000</td>\n",
              "      <td>44.726</td>\n",
              "      <td>519136869</td>\n",
              "      <td>youngmoneybandz</td>\n",
              "      <td>hey nerd</td>\n",
              "      <td>yoooo</td>\n",
              "    </tr>\n",
              "    <tr>\n",
              "      <th>4</th>\n",
              "      <td>https://www.twitch.tv/videos/1619944979</td>\n",
              "      <td>1665353978792000</td>\n",
              "      <td>45.092</td>\n",
              "      <td>477382692</td>\n",
              "      <td>shanenobi</td>\n",
              "      <td>NaN</td>\n",
              "      <td>!crosshair</td>\n",
              "    </tr>\n",
              "  </tbody>\n",
              "</table>\n",
              "</div>\n",
              "      <button class=\"colab-df-convert\" onclick=\"convertToInteractive('df-6fbf3d24-6226-42bd-bf29-7ead96030637')\"\n",
              "              title=\"Convert this dataframe to an interactive table.\"\n",
              "              style=\"display:none;\">\n",
              "        \n",
              "  <svg xmlns=\"http://www.w3.org/2000/svg\" height=\"24px\"viewBox=\"0 0 24 24\"\n",
              "       width=\"24px\">\n",
              "    <path d=\"M0 0h24v24H0V0z\" fill=\"none\"/>\n",
              "    <path d=\"M18.56 5.44l.94 2.06.94-2.06 2.06-.94-2.06-.94-.94-2.06-.94 2.06-2.06.94zm-11 1L8.5 8.5l.94-2.06 2.06-.94-2.06-.94L8.5 2.5l-.94 2.06-2.06.94zm10 10l.94 2.06.94-2.06 2.06-.94-2.06-.94-.94-2.06-.94 2.06-2.06.94z\"/><path d=\"M17.41 7.96l-1.37-1.37c-.4-.4-.92-.59-1.43-.59-.52 0-1.04.2-1.43.59L10.3 9.45l-7.72 7.72c-.78.78-.78 2.05 0 2.83L4 21.41c.39.39.9.59 1.41.59.51 0 1.02-.2 1.41-.59l7.78-7.78 2.81-2.81c.8-.78.8-2.07 0-2.86zM5.41 20L4 18.59l7.72-7.72 1.47 1.35L5.41 20z\"/>\n",
              "  </svg>\n",
              "      </button>\n",
              "      \n",
              "  <style>\n",
              "    .colab-df-container {\n",
              "      display:flex;\n",
              "      flex-wrap:wrap;\n",
              "      gap: 12px;\n",
              "    }\n",
              "\n",
              "    .colab-df-convert {\n",
              "      background-color: #E8F0FE;\n",
              "      border: none;\n",
              "      border-radius: 50%;\n",
              "      cursor: pointer;\n",
              "      display: none;\n",
              "      fill: #1967D2;\n",
              "      height: 32px;\n",
              "      padding: 0 0 0 0;\n",
              "      width: 32px;\n",
              "    }\n",
              "\n",
              "    .colab-df-convert:hover {\n",
              "      background-color: #E2EBFA;\n",
              "      box-shadow: 0px 1px 2px rgba(60, 64, 67, 0.3), 0px 1px 3px 1px rgba(60, 64, 67, 0.15);\n",
              "      fill: #174EA6;\n",
              "    }\n",
              "\n",
              "    [theme=dark] .colab-df-convert {\n",
              "      background-color: #3B4455;\n",
              "      fill: #D2E3FC;\n",
              "    }\n",
              "\n",
              "    [theme=dark] .colab-df-convert:hover {\n",
              "      background-color: #434B5C;\n",
              "      box-shadow: 0px 1px 3px 1px rgba(0, 0, 0, 0.15);\n",
              "      filter: drop-shadow(0px 1px 2px rgba(0, 0, 0, 0.3));\n",
              "      fill: #FFFFFF;\n",
              "    }\n",
              "  </style>\n",
              "\n",
              "      <script>\n",
              "        const buttonEl =\n",
              "          document.querySelector('#df-6fbf3d24-6226-42bd-bf29-7ead96030637 button.colab-df-convert');\n",
              "        buttonEl.style.display =\n",
              "          google.colab.kernel.accessAllowed ? 'block' : 'none';\n",
              "\n",
              "        async function convertToInteractive(key) {\n",
              "          const element = document.querySelector('#df-6fbf3d24-6226-42bd-bf29-7ead96030637');\n",
              "          const dataTable =\n",
              "            await google.colab.kernel.invokeFunction('convertToInteractive',\n",
              "                                                     [key], {});\n",
              "          if (!dataTable) return;\n",
              "\n",
              "          const docLinkHtml = 'Like what you see? Visit the ' +\n",
              "            '<a target=\"_blank\" href=https://colab.research.google.com/notebooks/data_table.ipynb>data table notebook</a>'\n",
              "            + ' to learn more about interactive tables.';\n",
              "          element.innerHTML = '';\n",
              "          dataTable['output_type'] = 'display_data';\n",
              "          await google.colab.output.renderOutput(dataTable, element);\n",
              "          const docLink = document.createElement('div');\n",
              "          docLink.innerHTML = docLinkHtml;\n",
              "          element.appendChild(docLink);\n",
              "        }\n",
              "      </script>\n",
              "    </div>\n",
              "  </div>\n",
              "  "
            ]
          },
          "metadata": {},
          "execution_count": 103
        }
      ]
    },
    {
      "cell_type": "code",
      "source": [
        "# to get the list of streamers in sample, also will later merge raid data into this\n",
        "# from independent_variable_chat_exploration.ipynb output\n",
        "features_vid_df_lag = pd.read_csv('features_vid_df_lag.csv',lineterminator='\\n',index_col=0) \n",
        "features_vid_df_lag.columns"
      ],
      "metadata": {
        "colab": {
          "base_uri": "https://localhost:8080/"
        },
        "id": "tLu2vB5BjDYl",
        "outputId": "7f38948e-f4f0-4e9d-95b4-dec1b7a8ad69"
      },
      "execution_count": 127,
      "outputs": [
        {
          "output_type": "execute_result",
          "data": {
            "text/plain": [
              "Index(['user_id', 'video_id', 'video_url', 'num_messages', 'message_len',\n",
              "       'video_id.1', 'num_messages_per_min', 'user_id.1', 'user_name',\n",
              "       'duration_min', 'created_at', 'title', 'view_count', 'broadcaster_type',\n",
              "       'broadcast_description', 'broadcaster_created_at',\n",
              "       'avg_messages_per_min', 'sentiment_positive_percent', 'sentiment_score',\n",
              "       'video_url_lag', 'num_messages_lag', 'message_len_lag', 'video_id_lag',\n",
              "       'num_messages_per_min_lag', 'user_id_lag', 'user_name_lag',\n",
              "       'duration_min_lag', 'created_at_lag', 'title_lag', 'view_count_lag',\n",
              "       'broadcaster_type_lag', 'broadcast_description_lag',\n",
              "       'broadcaster_created_at_lag', 'avg_messages_per_min_lag',\n",
              "       'sentiment_positive_percent_lag', 'sentiment_score_lag',\n",
              "       'time_after_last_stream', 'time_after_last_stream_end', 'user_id_post',\n",
              "       'created_at_post', 'time_till_next_stream',\n",
              "       'time_till_last_stream_afterend'],\n",
              "      dtype='object')"
            ]
          },
          "metadata": {},
          "execution_count": 127
        }
      ]
    },
    {
      "cell_type": "code",
      "source": [
        "print(features_vid_df_lag['video_url'].nunique())\n",
        "print(features_vid_df_lag['user_id'].nunique())"
      ],
      "metadata": {
        "colab": {
          "base_uri": "https://localhost:8080/"
        },
        "id": "UI0kjkZrsm9-",
        "outputId": "d60b5fd7-e4d2-4e2a-c54a-e95aacfaa2d0"
      },
      "execution_count": 128,
      "outputs": [
        {
          "output_type": "stream",
          "name": "stdout",
          "text": [
            "91\n",
            "12\n"
          ]
        }
      ]
    },
    {
      "cell_type": "code",
      "source": [
        "# video_df.user_name.unique()\n",
        "features_vid_df_lag.user_name.unique()"
      ],
      "metadata": {
        "id": "gvPINoIu4RXK",
        "outputId": "c6737df6-23cd-48e2-c6b7-5b09753b91f0",
        "colab": {
          "base_uri": "https://localhost:8080/"
        }
      },
      "execution_count": 129,
      "outputs": [
        {
          "output_type": "execute_result",
          "data": {
            "text/plain": [
              "array(['zackrawrr', 'Methodz', 'SypherPK', 'iiTzTimmy', 'AkzOnTop',\n",
              "       'VNCEOfficial', 'Rainbow6', 'moistcr1tikal', 'General_Mars',\n",
              "       'Murda10k', 'PatProzyy', 'prxd4v41'], dtype=object)"
            ]
          },
          "metadata": {},
          "execution_count": 129
        }
      ]
    },
    {
      "cell_type": "markdown",
      "source": [
        "## Parse raid data\n"
      ],
      "metadata": {
        "id": "cry8YW837oiv"
      }
    },
    {
      "cell_type": "code",
      "source": [
        "import requests # to fetch the raw HTML from our page\n",
        "import csv\n",
        "from bs4 import BeautifulSoup # to extract just the information we are looking for"
      ],
      "metadata": {
        "id": "YcAFtvIW7xkL"
      },
      "execution_count": 17,
      "outputs": []
    },
    {
      "cell_type": "code",
      "source": [
        "# reference 1: https://github.com/Vidito/webscraping_housing/blob/main/main.py\n",
        "def get_data(soup_object):\n",
        "    table = soup.find('table', class_=\"w-full rounded-lg bg-card\")\n",
        "\n",
        "    # scrapes the table head element\n",
        "    outputHead = []\n",
        "    for th in table.find_all('th'):  # find_all() function to find the elements we are looking for\n",
        "        outputHead.append(th.text)  #write to a output list\n",
        "\n",
        "    # traverses all the table rows\n",
        "    outputRows = []\n",
        "    for tr in table.find_all('tr'):\n",
        "        tableColumns = tr.find_all('td')\n",
        "        outputRow = []\n",
        "        for tc in tableColumns:\n",
        "            outputRow.append(tc.text.replace('\\n', ''))\n",
        "        outputRows.append(outputRow)\n",
        "\n",
        "    return outputHead, outputRows"
      ],
      "metadata": {
        "id": "hJKSY1qL8Qy5"
      },
      "execution_count": 77,
      "outputs": []
    },
    {
      "cell_type": "code",
      "source": [
        "# testing the code with one streamer\n",
        "#with open(\"raid_VNCEOfficial.html\") as fp:\n",
        "#    soup = BeautifulSoup(fp, 'html.parser')\n",
        "#\n",
        "#outputHead, outputRows = get_data(soup)\n",
        "#raid_df= pd.DataFrame(outputRows,columns=outputHead)[1:].set_index(outputHead[0])\n",
        "#\n",
        "#raid_df.head()"
      ],
      "metadata": {
        "id": "6KLJ5_UsD2sA"
      },
      "execution_count": 85,
      "outputs": []
    },
    {
      "cell_type": "code",
      "source": [
        "raid_file_list = ['raid_VNCEOfficial.html', 'raid_PatProzyy.html', 'raid_prxd4v41.html', 'raid_Methodz.html',\n",
        "        'raid_Rainbow6.html', 'raid_SypherPK.html', 'raid_iiTzTimmy.html',\n",
        "       'raid_moistcr1tikal.html', 'raid_zackrawrr.html']\n",
        "\n",
        "for i in range(len(raid_file_list)):\n",
        "  with open('raid/' + raid_file_list[i] ) as fp:\n",
        "    soup = BeautifulSoup(fp, 'html.parser')\n",
        "    outputHead, outputRows = get_data(soup)\n",
        "  print(i)\n",
        "  if i == 0:\n",
        "    raid_df= pd.DataFrame(outputRows,columns=outputHead)[1:].set_index(outputHead[0])\n",
        "    print(raid_df.Whom.unique(),len(raid_df))\n",
        "  else:\n",
        "    temp = pd.DataFrame(outputRows,columns=outputHead)[1:].set_index(outputHead[0])\n",
        "    raid_df = raid_df.append(temp)\n",
        "    print(temp.Whom.unique(),len(temp))"
      ],
      "metadata": {
        "colab": {
          "base_uri": "https://localhost:8080/"
        },
        "id": "vwgPmMjfAOde",
        "outputId": "59f5ff48-c443-49d2-bdcd-9446e03b62f5"
      },
      "execution_count": 243,
      "outputs": [
        {
          "output_type": "stream",
          "name": "stdout",
          "text": [
            "0\n",
            "[' VNCEOfficial'] 230\n",
            "1\n",
            "[' PatProzyy'] 28\n",
            "2\n",
            "[' prxd4v41'] 83\n",
            "3\n",
            "[' Methodz'] 84\n",
            "4\n",
            "[' Rainbow6'] 139\n",
            "5\n",
            "[' SypherPK'] 105\n",
            "6\n",
            "[' iiTzTimmy'] 408\n",
            "7\n",
            "[' moistcr1tikal'] 952\n",
            "8\n",
            "[' zackrawrr'] 171\n"
          ]
        }
      ]
    },
    {
      "cell_type": "code",
      "source": [
        "# string to datetime format\n",
        "raid_df['timestamp'] = pd.to_datetime(raid_df['Date'].str.strip(), format='%b %d, %Y at %H:%M')\n",
        "raid_df['user_name'] = raid_df['Whom'].str.strip()\n",
        "raid_df['num_raiders'] = raid_df['Number of viewers'].str.extract('(\\d+)')\n",
        "\n",
        "raid_df_clean = raid_df.drop(['Stream','Date','Whom','Number of viewers'], axis=1)"
      ],
      "metadata": {
        "id": "2j1_kmSb_bBZ"
      },
      "execution_count": 244,
      "outputs": []
    },
    {
      "cell_type": "code",
      "source": [
        "raid_df_clean.head()\n",
        "print(raid_df_clean.shape)"
      ],
      "metadata": {
        "colab": {
          "base_uri": "https://localhost:8080/"
        },
        "id": "KuSAjpHzJUoL",
        "outputId": "b168c52b-bcf0-4895-abac-6aeac6e53ffe"
      },
      "execution_count": 245,
      "outputs": [
        {
          "output_type": "stream",
          "name": "stdout",
          "text": [
            "(2200, 5)\n"
          ]
        }
      ]
    },
    {
      "cell_type": "code",
      "source": [
        "raid_df_clean.head()"
      ],
      "metadata": {
        "colab": {
          "base_uri": "https://localhost:8080/",
          "height": 220
        },
        "id": "5OwOIQmD_f8L",
        "outputId": "3d7c2962-8a30-4d6c-f4b5-fad9c2106c86"
      },
      "execution_count": 246,
      "outputs": [
        {
          "output_type": "execute_result",
          "data": {
            "text/plain": [
              "                     Channel Raided/Hosted           timestamp     user_name  \\\n",
              "\\n\\n\\n                                                                         \n",
              "1                   SadlyNXT        raided 2022-11-03 18:59:00  VNCEOfficial   \n",
              "2         theholmanboy_games        raided 2022-11-03 18:57:00  VNCEOfficial   \n",
              "3                      DHME5        raided 2022-11-03 18:42:00  VNCEOfficial   \n",
              "4                  FezzSnezz        raided 2022-10-31 22:09:00  VNCEOfficial   \n",
              "5                  nocaseace        raided 2022-10-28 19:54:00  VNCEOfficial   \n",
              "\n",
              "        num_raiders  \n",
              "\\n\\n\\n               \n",
              "1                51  \n",
              "2                 1  \n",
              "3                 4  \n",
              "4                 2  \n",
              "5                 2  "
            ],
            "text/html": [
              "\n",
              "  <div id=\"df-95c9ed29-a5fa-4929-9b46-bb3d839d601c\">\n",
              "    <div class=\"colab-df-container\">\n",
              "      <div>\n",
              "<style scoped>\n",
              "    .dataframe tbody tr th:only-of-type {\n",
              "        vertical-align: middle;\n",
              "    }\n",
              "\n",
              "    .dataframe tbody tr th {\n",
              "        vertical-align: top;\n",
              "    }\n",
              "\n",
              "    .dataframe thead th {\n",
              "        text-align: right;\n",
              "    }\n",
              "</style>\n",
              "<table border=\"1\" class=\"dataframe\">\n",
              "  <thead>\n",
              "    <tr style=\"text-align: right;\">\n",
              "      <th></th>\n",
              "      <th>Channel</th>\n",
              "      <th>Raided/Hosted</th>\n",
              "      <th>timestamp</th>\n",
              "      <th>user_name</th>\n",
              "      <th>num_raiders</th>\n",
              "    </tr>\n",
              "    <tr>\n",
              "      <th></th>\n",
              "      <th></th>\n",
              "      <th></th>\n",
              "      <th></th>\n",
              "      <th></th>\n",
              "      <th></th>\n",
              "    </tr>\n",
              "  </thead>\n",
              "  <tbody>\n",
              "    <tr>\n",
              "      <th>1</th>\n",
              "      <td>SadlyNXT</td>\n",
              "      <td>raided</td>\n",
              "      <td>2022-11-03 18:59:00</td>\n",
              "      <td>VNCEOfficial</td>\n",
              "      <td>51</td>\n",
              "    </tr>\n",
              "    <tr>\n",
              "      <th>2</th>\n",
              "      <td>theholmanboy_games</td>\n",
              "      <td>raided</td>\n",
              "      <td>2022-11-03 18:57:00</td>\n",
              "      <td>VNCEOfficial</td>\n",
              "      <td>1</td>\n",
              "    </tr>\n",
              "    <tr>\n",
              "      <th>3</th>\n",
              "      <td>DHME5</td>\n",
              "      <td>raided</td>\n",
              "      <td>2022-11-03 18:42:00</td>\n",
              "      <td>VNCEOfficial</td>\n",
              "      <td>4</td>\n",
              "    </tr>\n",
              "    <tr>\n",
              "      <th>4</th>\n",
              "      <td>FezzSnezz</td>\n",
              "      <td>raided</td>\n",
              "      <td>2022-10-31 22:09:00</td>\n",
              "      <td>VNCEOfficial</td>\n",
              "      <td>2</td>\n",
              "    </tr>\n",
              "    <tr>\n",
              "      <th>5</th>\n",
              "      <td>nocaseace</td>\n",
              "      <td>raided</td>\n",
              "      <td>2022-10-28 19:54:00</td>\n",
              "      <td>VNCEOfficial</td>\n",
              "      <td>2</td>\n",
              "    </tr>\n",
              "  </tbody>\n",
              "</table>\n",
              "</div>\n",
              "      <button class=\"colab-df-convert\" onclick=\"convertToInteractive('df-95c9ed29-a5fa-4929-9b46-bb3d839d601c')\"\n",
              "              title=\"Convert this dataframe to an interactive table.\"\n",
              "              style=\"display:none;\">\n",
              "        \n",
              "  <svg xmlns=\"http://www.w3.org/2000/svg\" height=\"24px\"viewBox=\"0 0 24 24\"\n",
              "       width=\"24px\">\n",
              "    <path d=\"M0 0h24v24H0V0z\" fill=\"none\"/>\n",
              "    <path d=\"M18.56 5.44l.94 2.06.94-2.06 2.06-.94-2.06-.94-.94-2.06-.94 2.06-2.06.94zm-11 1L8.5 8.5l.94-2.06 2.06-.94-2.06-.94L8.5 2.5l-.94 2.06-2.06.94zm10 10l.94 2.06.94-2.06 2.06-.94-2.06-.94-.94-2.06-.94 2.06-2.06.94z\"/><path d=\"M17.41 7.96l-1.37-1.37c-.4-.4-.92-.59-1.43-.59-.52 0-1.04.2-1.43.59L10.3 9.45l-7.72 7.72c-.78.78-.78 2.05 0 2.83L4 21.41c.39.39.9.59 1.41.59.51 0 1.02-.2 1.41-.59l7.78-7.78 2.81-2.81c.8-.78.8-2.07 0-2.86zM5.41 20L4 18.59l7.72-7.72 1.47 1.35L5.41 20z\"/>\n",
              "  </svg>\n",
              "      </button>\n",
              "      \n",
              "  <style>\n",
              "    .colab-df-container {\n",
              "      display:flex;\n",
              "      flex-wrap:wrap;\n",
              "      gap: 12px;\n",
              "    }\n",
              "\n",
              "    .colab-df-convert {\n",
              "      background-color: #E8F0FE;\n",
              "      border: none;\n",
              "      border-radius: 50%;\n",
              "      cursor: pointer;\n",
              "      display: none;\n",
              "      fill: #1967D2;\n",
              "      height: 32px;\n",
              "      padding: 0 0 0 0;\n",
              "      width: 32px;\n",
              "    }\n",
              "\n",
              "    .colab-df-convert:hover {\n",
              "      background-color: #E2EBFA;\n",
              "      box-shadow: 0px 1px 2px rgba(60, 64, 67, 0.3), 0px 1px 3px 1px rgba(60, 64, 67, 0.15);\n",
              "      fill: #174EA6;\n",
              "    }\n",
              "\n",
              "    [theme=dark] .colab-df-convert {\n",
              "      background-color: #3B4455;\n",
              "      fill: #D2E3FC;\n",
              "    }\n",
              "\n",
              "    [theme=dark] .colab-df-convert:hover {\n",
              "      background-color: #434B5C;\n",
              "      box-shadow: 0px 1px 3px 1px rgba(0, 0, 0, 0.15);\n",
              "      filter: drop-shadow(0px 1px 2px rgba(0, 0, 0, 0.3));\n",
              "      fill: #FFFFFF;\n",
              "    }\n",
              "  </style>\n",
              "\n",
              "      <script>\n",
              "        const buttonEl =\n",
              "          document.querySelector('#df-95c9ed29-a5fa-4929-9b46-bb3d839d601c button.colab-df-convert');\n",
              "        buttonEl.style.display =\n",
              "          google.colab.kernel.accessAllowed ? 'block' : 'none';\n",
              "\n",
              "        async function convertToInteractive(key) {\n",
              "          const element = document.querySelector('#df-95c9ed29-a5fa-4929-9b46-bb3d839d601c');\n",
              "          const dataTable =\n",
              "            await google.colab.kernel.invokeFunction('convertToInteractive',\n",
              "                                                     [key], {});\n",
              "          if (!dataTable) return;\n",
              "\n",
              "          const docLinkHtml = 'Like what you see? Visit the ' +\n",
              "            '<a target=\"_blank\" href=https://colab.research.google.com/notebooks/data_table.ipynb>data table notebook</a>'\n",
              "            + ' to learn more about interactive tables.';\n",
              "          element.innerHTML = '';\n",
              "          dataTable['output_type'] = 'display_data';\n",
              "          await google.colab.output.renderOutput(dataTable, element);\n",
              "          const docLink = document.createElement('div');\n",
              "          docLink.innerHTML = docLinkHtml;\n",
              "          element.appendChild(docLink);\n",
              "        }\n",
              "      </script>\n",
              "    </div>\n",
              "  </div>\n",
              "  "
            ]
          },
          "metadata": {},
          "execution_count": 246
        }
      ]
    },
    {
      "cell_type": "code",
      "source": [
        "# This saves to google drive directly\n",
        "raid_df_clean.to_csv('raid_df.csv')"
      ],
      "metadata": {
        "id": "cBCLBQ1fJRuN"
      },
      "execution_count": 247,
      "outputs": []
    },
    {
      "cell_type": "markdown",
      "source": [
        "## Towards identification\n",
        "\n",
        "If incoming raids leads to exogenous change in viewership and chat intensity?\n",
        "\n",
        "First let's take a look at the video level numbers. \n",
        "- Find the raids that happened during the video time range. \n",
        "- Then aggregate, Number of raids, total number of viewers raided. "
      ],
      "metadata": {
        "id": "HR5n5rpDJxNU"
      }
    },
    {
      "cell_type": "code",
      "source": [
        "features_vid_df_lag['created_at'] = pd.to_datetime(features_vid_df_lag['created_at']).dt.tz_localize(None)\n",
        "features_vid_df_lag['ended_at'] = features_vid_df_lag['created_at'] + pd.to_timedelta(features_vid_df_lag['duration_min'], unit='m') "
      ],
      "metadata": {
        "id": "go-NDkoQIZ88"
      },
      "execution_count": 201,
      "outputs": []
    },
    {
      "cell_type": "code",
      "source": [
        "#features_vid_df_lag.user_name\n",
        "#raid_df.Whom.unique()"
      ],
      "metadata": {
        "id": "pVsVWY40Qi5I"
      },
      "execution_count": 165,
      "outputs": []
    },
    {
      "cell_type": "code",
      "source": [
        "#for i in range(2):\n",
        "for i in range(len(features_vid_df_lag.user_name.unique())):\n",
        "  streamer = features_vid_df_lag.user_name.unique()[i]\n",
        "  temp_vid_table = features_vid_df_lag[features_vid_df_lag.user_name == streamer][['user_name','video_id','created_at','ended_at']]\n",
        "  temp_raid_table = raid_df_clean[raid_df_clean['user_name'] == streamer]\n",
        "  temp_raid_table = temp_raid_table.loc[(temp_raid_table['timestamp'] >= temp_vid_table['created_at'].min()) & (temp_raid_table['timestamp']<= temp_vid_table['created_at'].max())]\n",
        "  print(temp_vid_table['user_name'].unique(),temp_raid_table.user_name.unique())\n",
        "  \n",
        "  temp = pd.merge(temp_vid_table, temp_raid_table,  how='left', left_on=['user_name'], right_on = ['user_name'])\n",
        "  temp = temp[(temp['timestamp'] >= temp['created_at']) & (temp['timestamp'] <= temp['ended_at'])]\n",
        "\n",
        "  if i ==0:\n",
        "    vid_df_wraid = temp\n",
        "    print(len(temp),len(vid_df_wraid))\n",
        "  else: \n",
        "    vid_df_wraid = vid_df_wraid.append(temp)\n",
        "    print(len(temp),len(vid_df_wraid))\n",
        "\n",
        "vid_df_wraid = vid_df_wraid.reset_index(drop=True)"
      ],
      "metadata": {
        "colab": {
          "base_uri": "https://localhost:8080/"
        },
        "id": "3mE-FmvvJhUN",
        "outputId": "7c77f00a-47ba-46ea-961e-bba81a4867b0"
      },
      "execution_count": 248,
      "outputs": [
        {
          "output_type": "stream",
          "name": "stdout",
          "text": [
            "['zackrawrr'] ['zackrawrr']\n",
            "4 4\n",
            "['Methodz'] ['Methodz']\n",
            "2 6\n",
            "['SypherPK'] ['SypherPK']\n",
            "0 6\n",
            "['iiTzTimmy'] ['iiTzTimmy']\n",
            "0 6\n",
            "['AkzOnTop'] []\n",
            "0 6\n",
            "['VNCEOfficial'] ['VNCEOfficial']\n",
            "2 8\n",
            "['Rainbow6'] ['Rainbow6']\n",
            "2 10\n",
            "['moistcr1tikal'] ['moistcr1tikal']\n",
            "11 21\n",
            "['General_Mars'] []\n",
            "0 21\n",
            "['Murda10k'] []\n",
            "0 21\n",
            "['PatProzyy'] ['PatProzyy']\n",
            "0 21\n",
            "['prxd4v41'] ['prxd4v41']\n",
            "12 33\n"
          ]
        }
      ]
    },
    {
      "cell_type": "code",
      "source": [
        "vid_df_wraid.to_csv('vid_df_wraid.csv')"
      ],
      "metadata": {
        "id": "XkHutvbuJWzi"
      },
      "execution_count": 249,
      "outputs": []
    },
    {
      "cell_type": "code",
      "source": [
        "vid_df_wraid.head()"
      ],
      "metadata": {
        "colab": {
          "base_uri": "https://localhost:8080/",
          "height": 250
        },
        "id": "6S0afI3OXsv1",
        "outputId": "0ccac205-7a17-42c0-8f89-70cb69705fa2"
      },
      "execution_count": 253,
      "outputs": [
        {
          "output_type": "execute_result",
          "data": {
            "text/plain": [
              "   user_name    video_id          created_at                      ended_at  \\\n",
              "0  zackrawrr  1610656682 2022-10-06 05:28:07 2022-10-06 09:26:50.999999980   \n",
              "1  zackrawrr  1610656682 2022-10-06 05:28:07 2022-10-06 09:26:50.999999980   \n",
              "2  zackrawrr  1610656682 2022-10-06 05:28:07 2022-10-06 09:26:50.999999980   \n",
              "3  zackrawrr  1610656682 2022-10-06 05:28:07 2022-10-06 09:26:50.999999980   \n",
              "4    Methodz  1605572910 2022-09-30 18:40:36 2022-09-30 22:17:30.000000000   \n",
              "\n",
              "        Channel Raided/Hosted           timestamp num_raiders  \n",
              "0       ArcAngL        raided 2022-10-06 09:01:00           4  \n",
              "1    MeatCuddle        raided 2022-10-06 08:00:00           5  \n",
              "2   EternalNess        raided 2022-10-06 07:32:00           1  \n",
              "3    emialbasta        raided 2022-10-06 07:29:00           4  \n",
              "4   Hitchariide        raided 2022-09-30 21:25:00         534  "
            ],
            "text/html": [
              "\n",
              "  <div id=\"df-c67257dc-f24f-42f7-8ca7-ae6fdce2d56e\">\n",
              "    <div class=\"colab-df-container\">\n",
              "      <div>\n",
              "<style scoped>\n",
              "    .dataframe tbody tr th:only-of-type {\n",
              "        vertical-align: middle;\n",
              "    }\n",
              "\n",
              "    .dataframe tbody tr th {\n",
              "        vertical-align: top;\n",
              "    }\n",
              "\n",
              "    .dataframe thead th {\n",
              "        text-align: right;\n",
              "    }\n",
              "</style>\n",
              "<table border=\"1\" class=\"dataframe\">\n",
              "  <thead>\n",
              "    <tr style=\"text-align: right;\">\n",
              "      <th></th>\n",
              "      <th>user_name</th>\n",
              "      <th>video_id</th>\n",
              "      <th>created_at</th>\n",
              "      <th>ended_at</th>\n",
              "      <th>Channel</th>\n",
              "      <th>Raided/Hosted</th>\n",
              "      <th>timestamp</th>\n",
              "      <th>num_raiders</th>\n",
              "    </tr>\n",
              "  </thead>\n",
              "  <tbody>\n",
              "    <tr>\n",
              "      <th>0</th>\n",
              "      <td>zackrawrr</td>\n",
              "      <td>1610656682</td>\n",
              "      <td>2022-10-06 05:28:07</td>\n",
              "      <td>2022-10-06 09:26:50.999999980</td>\n",
              "      <td>ArcAngL</td>\n",
              "      <td>raided</td>\n",
              "      <td>2022-10-06 09:01:00</td>\n",
              "      <td>4</td>\n",
              "    </tr>\n",
              "    <tr>\n",
              "      <th>1</th>\n",
              "      <td>zackrawrr</td>\n",
              "      <td>1610656682</td>\n",
              "      <td>2022-10-06 05:28:07</td>\n",
              "      <td>2022-10-06 09:26:50.999999980</td>\n",
              "      <td>MeatCuddle</td>\n",
              "      <td>raided</td>\n",
              "      <td>2022-10-06 08:00:00</td>\n",
              "      <td>5</td>\n",
              "    </tr>\n",
              "    <tr>\n",
              "      <th>2</th>\n",
              "      <td>zackrawrr</td>\n",
              "      <td>1610656682</td>\n",
              "      <td>2022-10-06 05:28:07</td>\n",
              "      <td>2022-10-06 09:26:50.999999980</td>\n",
              "      <td>EternalNess</td>\n",
              "      <td>raided</td>\n",
              "      <td>2022-10-06 07:32:00</td>\n",
              "      <td>1</td>\n",
              "    </tr>\n",
              "    <tr>\n",
              "      <th>3</th>\n",
              "      <td>zackrawrr</td>\n",
              "      <td>1610656682</td>\n",
              "      <td>2022-10-06 05:28:07</td>\n",
              "      <td>2022-10-06 09:26:50.999999980</td>\n",
              "      <td>emialbasta</td>\n",
              "      <td>raided</td>\n",
              "      <td>2022-10-06 07:29:00</td>\n",
              "      <td>4</td>\n",
              "    </tr>\n",
              "    <tr>\n",
              "      <th>4</th>\n",
              "      <td>Methodz</td>\n",
              "      <td>1605572910</td>\n",
              "      <td>2022-09-30 18:40:36</td>\n",
              "      <td>2022-09-30 22:17:30.000000000</td>\n",
              "      <td>Hitchariide</td>\n",
              "      <td>raided</td>\n",
              "      <td>2022-09-30 21:25:00</td>\n",
              "      <td>534</td>\n",
              "    </tr>\n",
              "  </tbody>\n",
              "</table>\n",
              "</div>\n",
              "      <button class=\"colab-df-convert\" onclick=\"convertToInteractive('df-c67257dc-f24f-42f7-8ca7-ae6fdce2d56e')\"\n",
              "              title=\"Convert this dataframe to an interactive table.\"\n",
              "              style=\"display:none;\">\n",
              "        \n",
              "  <svg xmlns=\"http://www.w3.org/2000/svg\" height=\"24px\"viewBox=\"0 0 24 24\"\n",
              "       width=\"24px\">\n",
              "    <path d=\"M0 0h24v24H0V0z\" fill=\"none\"/>\n",
              "    <path d=\"M18.56 5.44l.94 2.06.94-2.06 2.06-.94-2.06-.94-.94-2.06-.94 2.06-2.06.94zm-11 1L8.5 8.5l.94-2.06 2.06-.94-2.06-.94L8.5 2.5l-.94 2.06-2.06.94zm10 10l.94 2.06.94-2.06 2.06-.94-2.06-.94-.94-2.06-.94 2.06-2.06.94z\"/><path d=\"M17.41 7.96l-1.37-1.37c-.4-.4-.92-.59-1.43-.59-.52 0-1.04.2-1.43.59L10.3 9.45l-7.72 7.72c-.78.78-.78 2.05 0 2.83L4 21.41c.39.39.9.59 1.41.59.51 0 1.02-.2 1.41-.59l7.78-7.78 2.81-2.81c.8-.78.8-2.07 0-2.86zM5.41 20L4 18.59l7.72-7.72 1.47 1.35L5.41 20z\"/>\n",
              "  </svg>\n",
              "      </button>\n",
              "      \n",
              "  <style>\n",
              "    .colab-df-container {\n",
              "      display:flex;\n",
              "      flex-wrap:wrap;\n",
              "      gap: 12px;\n",
              "    }\n",
              "\n",
              "    .colab-df-convert {\n",
              "      background-color: #E8F0FE;\n",
              "      border: none;\n",
              "      border-radius: 50%;\n",
              "      cursor: pointer;\n",
              "      display: none;\n",
              "      fill: #1967D2;\n",
              "      height: 32px;\n",
              "      padding: 0 0 0 0;\n",
              "      width: 32px;\n",
              "    }\n",
              "\n",
              "    .colab-df-convert:hover {\n",
              "      background-color: #E2EBFA;\n",
              "      box-shadow: 0px 1px 2px rgba(60, 64, 67, 0.3), 0px 1px 3px 1px rgba(60, 64, 67, 0.15);\n",
              "      fill: #174EA6;\n",
              "    }\n",
              "\n",
              "    [theme=dark] .colab-df-convert {\n",
              "      background-color: #3B4455;\n",
              "      fill: #D2E3FC;\n",
              "    }\n",
              "\n",
              "    [theme=dark] .colab-df-convert:hover {\n",
              "      background-color: #434B5C;\n",
              "      box-shadow: 0px 1px 3px 1px rgba(0, 0, 0, 0.15);\n",
              "      filter: drop-shadow(0px 1px 2px rgba(0, 0, 0, 0.3));\n",
              "      fill: #FFFFFF;\n",
              "    }\n",
              "  </style>\n",
              "\n",
              "      <script>\n",
              "        const buttonEl =\n",
              "          document.querySelector('#df-c67257dc-f24f-42f7-8ca7-ae6fdce2d56e button.colab-df-convert');\n",
              "        buttonEl.style.display =\n",
              "          google.colab.kernel.accessAllowed ? 'block' : 'none';\n",
              "\n",
              "        async function convertToInteractive(key) {\n",
              "          const element = document.querySelector('#df-c67257dc-f24f-42f7-8ca7-ae6fdce2d56e');\n",
              "          const dataTable =\n",
              "            await google.colab.kernel.invokeFunction('convertToInteractive',\n",
              "                                                     [key], {});\n",
              "          if (!dataTable) return;\n",
              "\n",
              "          const docLinkHtml = 'Like what you see? Visit the ' +\n",
              "            '<a target=\"_blank\" href=https://colab.research.google.com/notebooks/data_table.ipynb>data table notebook</a>'\n",
              "            + ' to learn more about interactive tables.';\n",
              "          element.innerHTML = '';\n",
              "          dataTable['output_type'] = 'display_data';\n",
              "          await google.colab.output.renderOutput(dataTable, element);\n",
              "          const docLink = document.createElement('div');\n",
              "          docLink.innerHTML = docLinkHtml;\n",
              "          element.appendChild(docLink);\n",
              "        }\n",
              "      </script>\n",
              "    </div>\n",
              "  </div>\n",
              "  "
            ]
          },
          "metadata": {},
          "execution_count": 253
        }
      ]
    },
    {
      "cell_type": "code",
      "source": [
        "raid_sum_df = vid_df_wraid.groupby('video_id')['num_raiders'].sum().reset_index()\n",
        "features_vid_df_lag_raid = pd.merge(features_vid_df_lag, raid_sum_df,  how='outer', left_on=['video_id'], right_on = ['video_id'])"
      ],
      "metadata": {
        "id": "V6BEBPx3aPoX"
      },
      "execution_count": 267,
      "outputs": []
    },
    {
      "cell_type": "code",
      "source": [
        "features_vid_df_lag_raid['num_raiders'].fillna(0,inplace=True)\n",
        "features_vid_df_lag_raid['num_raiders'] = features_vid_df_lag_raid['num_raiders'].astype(int)"
      ],
      "metadata": {
        "id": "oUvn26okeOIG"
      },
      "execution_count": 279,
      "outputs": []
    },
    {
      "cell_type": "code",
      "source": [
        "raid_sum_df"
      ],
      "metadata": {
        "colab": {
          "base_uri": "https://localhost:8080/",
          "height": 394
        },
        "id": "r1NBw1SIb4ui",
        "outputId": "45513c1b-a9a4-4116-901a-5128f273995c"
      },
      "execution_count": 280,
      "outputs": [
        {
          "output_type": "execute_result",
          "data": {
            "text/plain": [
              "      video_id    num_raiders\n",
              "0   1591613035         221122\n",
              "1   1592319276            910\n",
              "2   1595352118             33\n",
              "3   1598015150           7540\n",
              "4   1605572910         534900\n",
              "5   1606861627              5\n",
              "6   1606964718  4115731679917\n",
              "7   1607634101             14\n",
              "8   1610256098             27\n",
              "9   1610306079              1\n",
              "10  1610656682           4514"
            ],
            "text/html": [
              "\n",
              "  <div id=\"df-d9e228e0-a33d-4b51-9802-2fa111092f70\">\n",
              "    <div class=\"colab-df-container\">\n",
              "      <div>\n",
              "<style scoped>\n",
              "    .dataframe tbody tr th:only-of-type {\n",
              "        vertical-align: middle;\n",
              "    }\n",
              "\n",
              "    .dataframe tbody tr th {\n",
              "        vertical-align: top;\n",
              "    }\n",
              "\n",
              "    .dataframe thead th {\n",
              "        text-align: right;\n",
              "    }\n",
              "</style>\n",
              "<table border=\"1\" class=\"dataframe\">\n",
              "  <thead>\n",
              "    <tr style=\"text-align: right;\">\n",
              "      <th></th>\n",
              "      <th>video_id</th>\n",
              "      <th>num_raiders</th>\n",
              "    </tr>\n",
              "  </thead>\n",
              "  <tbody>\n",
              "    <tr>\n",
              "      <th>0</th>\n",
              "      <td>1591613035</td>\n",
              "      <td>221122</td>\n",
              "    </tr>\n",
              "    <tr>\n",
              "      <th>1</th>\n",
              "      <td>1592319276</td>\n",
              "      <td>910</td>\n",
              "    </tr>\n",
              "    <tr>\n",
              "      <th>2</th>\n",
              "      <td>1595352118</td>\n",
              "      <td>33</td>\n",
              "    </tr>\n",
              "    <tr>\n",
              "      <th>3</th>\n",
              "      <td>1598015150</td>\n",
              "      <td>7540</td>\n",
              "    </tr>\n",
              "    <tr>\n",
              "      <th>4</th>\n",
              "      <td>1605572910</td>\n",
              "      <td>534900</td>\n",
              "    </tr>\n",
              "    <tr>\n",
              "      <th>5</th>\n",
              "      <td>1606861627</td>\n",
              "      <td>5</td>\n",
              "    </tr>\n",
              "    <tr>\n",
              "      <th>6</th>\n",
              "      <td>1606964718</td>\n",
              "      <td>4115731679917</td>\n",
              "    </tr>\n",
              "    <tr>\n",
              "      <th>7</th>\n",
              "      <td>1607634101</td>\n",
              "      <td>14</td>\n",
              "    </tr>\n",
              "    <tr>\n",
              "      <th>8</th>\n",
              "      <td>1610256098</td>\n",
              "      <td>27</td>\n",
              "    </tr>\n",
              "    <tr>\n",
              "      <th>9</th>\n",
              "      <td>1610306079</td>\n",
              "      <td>1</td>\n",
              "    </tr>\n",
              "    <tr>\n",
              "      <th>10</th>\n",
              "      <td>1610656682</td>\n",
              "      <td>4514</td>\n",
              "    </tr>\n",
              "  </tbody>\n",
              "</table>\n",
              "</div>\n",
              "      <button class=\"colab-df-convert\" onclick=\"convertToInteractive('df-d9e228e0-a33d-4b51-9802-2fa111092f70')\"\n",
              "              title=\"Convert this dataframe to an interactive table.\"\n",
              "              style=\"display:none;\">\n",
              "        \n",
              "  <svg xmlns=\"http://www.w3.org/2000/svg\" height=\"24px\"viewBox=\"0 0 24 24\"\n",
              "       width=\"24px\">\n",
              "    <path d=\"M0 0h24v24H0V0z\" fill=\"none\"/>\n",
              "    <path d=\"M18.56 5.44l.94 2.06.94-2.06 2.06-.94-2.06-.94-.94-2.06-.94 2.06-2.06.94zm-11 1L8.5 8.5l.94-2.06 2.06-.94-2.06-.94L8.5 2.5l-.94 2.06-2.06.94zm10 10l.94 2.06.94-2.06 2.06-.94-2.06-.94-.94-2.06-.94 2.06-2.06.94z\"/><path d=\"M17.41 7.96l-1.37-1.37c-.4-.4-.92-.59-1.43-.59-.52 0-1.04.2-1.43.59L10.3 9.45l-7.72 7.72c-.78.78-.78 2.05 0 2.83L4 21.41c.39.39.9.59 1.41.59.51 0 1.02-.2 1.41-.59l7.78-7.78 2.81-2.81c.8-.78.8-2.07 0-2.86zM5.41 20L4 18.59l7.72-7.72 1.47 1.35L5.41 20z\"/>\n",
              "  </svg>\n",
              "      </button>\n",
              "      \n",
              "  <style>\n",
              "    .colab-df-container {\n",
              "      display:flex;\n",
              "      flex-wrap:wrap;\n",
              "      gap: 12px;\n",
              "    }\n",
              "\n",
              "    .colab-df-convert {\n",
              "      background-color: #E8F0FE;\n",
              "      border: none;\n",
              "      border-radius: 50%;\n",
              "      cursor: pointer;\n",
              "      display: none;\n",
              "      fill: #1967D2;\n",
              "      height: 32px;\n",
              "      padding: 0 0 0 0;\n",
              "      width: 32px;\n",
              "    }\n",
              "\n",
              "    .colab-df-convert:hover {\n",
              "      background-color: #E2EBFA;\n",
              "      box-shadow: 0px 1px 2px rgba(60, 64, 67, 0.3), 0px 1px 3px 1px rgba(60, 64, 67, 0.15);\n",
              "      fill: #174EA6;\n",
              "    }\n",
              "\n",
              "    [theme=dark] .colab-df-convert {\n",
              "      background-color: #3B4455;\n",
              "      fill: #D2E3FC;\n",
              "    }\n",
              "\n",
              "    [theme=dark] .colab-df-convert:hover {\n",
              "      background-color: #434B5C;\n",
              "      box-shadow: 0px 1px 3px 1px rgba(0, 0, 0, 0.15);\n",
              "      filter: drop-shadow(0px 1px 2px rgba(0, 0, 0, 0.3));\n",
              "      fill: #FFFFFF;\n",
              "    }\n",
              "  </style>\n",
              "\n",
              "      <script>\n",
              "        const buttonEl =\n",
              "          document.querySelector('#df-d9e228e0-a33d-4b51-9802-2fa111092f70 button.colab-df-convert');\n",
              "        buttonEl.style.display =\n",
              "          google.colab.kernel.accessAllowed ? 'block' : 'none';\n",
              "\n",
              "        async function convertToInteractive(key) {\n",
              "          const element = document.querySelector('#df-d9e228e0-a33d-4b51-9802-2fa111092f70');\n",
              "          const dataTable =\n",
              "            await google.colab.kernel.invokeFunction('convertToInteractive',\n",
              "                                                     [key], {});\n",
              "          if (!dataTable) return;\n",
              "\n",
              "          const docLinkHtml = 'Like what you see? Visit the ' +\n",
              "            '<a target=\"_blank\" href=https://colab.research.google.com/notebooks/data_table.ipynb>data table notebook</a>'\n",
              "            + ' to learn more about interactive tables.';\n",
              "          element.innerHTML = '';\n",
              "          dataTable['output_type'] = 'display_data';\n",
              "          await google.colab.output.renderOutput(dataTable, element);\n",
              "          const docLink = document.createElement('div');\n",
              "          docLink.innerHTML = docLinkHtml;\n",
              "          element.appendChild(docLink);\n",
              "        }\n",
              "      </script>\n",
              "    </div>\n",
              "  </div>\n",
              "  "
            ]
          },
          "metadata": {},
          "execution_count": 280
        }
      ]
    },
    {
      "cell_type": "code",
      "source": [
        "# print(len(features_vid_df_lag),len(features_vid_df_lag_raid))"
      ],
      "metadata": {
        "id": "WMRE3tvibdJH"
      },
      "execution_count": 269,
      "outputs": []
    },
    {
      "cell_type": "code",
      "source": [
        "features_vid_df_lag_raid.isnull().sum()"
      ],
      "metadata": {
        "colab": {
          "base_uri": "https://localhost:8080/"
        },
        "id": "Q7hTb0sEbq66",
        "outputId": "816370d7-db26-4634-a5d5-c938758723b3"
      },
      "execution_count": 281,
      "outputs": [
        {
          "output_type": "execute_result",
          "data": {
            "text/plain": [
              "user_id                            0\n",
              "video_id                           0\n",
              "video_url                          0\n",
              "num_messages                       0\n",
              "message_len                        0\n",
              "video_id.1                         0\n",
              "num_messages_per_min               0\n",
              "user_id.1                          0\n",
              "user_name                          0\n",
              "duration_min                       0\n",
              "created_at                         0\n",
              "title                              0\n",
              "view_count                         0\n",
              "broadcaster_type                   2\n",
              "broadcast_description              0\n",
              "broadcaster_created_at             0\n",
              "avg_messages_per_min               0\n",
              "sentiment_positive_percent         0\n",
              "sentiment_score                    0\n",
              "video_url_lag                     12\n",
              "num_messages_lag                  12\n",
              "message_len_lag                   12\n",
              "video_id_lag                      12\n",
              "num_messages_per_min_lag          12\n",
              "user_id_lag                       12\n",
              "user_name_lag                     12\n",
              "duration_min_lag                  12\n",
              "created_at_lag                    12\n",
              "title_lag                         12\n",
              "view_count_lag                    12\n",
              "broadcaster_type_lag              13\n",
              "broadcast_description_lag         12\n",
              "broadcaster_created_at_lag        12\n",
              "avg_messages_per_min_lag          12\n",
              "sentiment_positive_percent_lag    12\n",
              "sentiment_score_lag               12\n",
              "time_after_last_stream            12\n",
              "time_after_last_stream_end        12\n",
              "user_id_post                      12\n",
              "created_at_post                   12\n",
              "time_till_next_stream             12\n",
              "time_till_last_stream_afterend    12\n",
              "ended_at                           0\n",
              "num_raiders                        0\n",
              "dtype: int64"
            ]
          },
          "metadata": {},
          "execution_count": 281
        }
      ]
    },
    {
      "cell_type": "code",
      "source": [
        "features_vid_df_lag_raid.to_csv('features_vid_df_lag_raid.csv')"
      ],
      "metadata": {
        "id": "ZwUoT2TecH95"
      },
      "execution_count": 282,
      "outputs": []
    },
    {
      "cell_type": "code",
      "source": [
        "features_vid_df_lag_raid[['num_raiders','num_messages_per_min','num_messages','message_len','duration_min']].corr()"
      ],
      "metadata": {
        "colab": {
          "base_uri": "https://localhost:8080/",
          "height": 206
        },
        "id": "s-G1dpftdSUV",
        "outputId": "34ca0b48-f464-4137-c82b-9ce37c4ba810"
      },
      "execution_count": 283,
      "outputs": [
        {
          "output_type": "execute_result",
          "data": {
            "text/plain": [
              "                      num_raiders  num_messages_per_min  num_messages  \\\n",
              "num_raiders              1.000000              0.446141      0.414717   \n",
              "num_messages_per_min     0.446141              1.000000      0.801703   \n",
              "num_messages             0.414717              0.801703      1.000000   \n",
              "message_len             -0.044104             -0.232958     -0.129868   \n",
              "duration_min             0.067284             -0.022404      0.409100   \n",
              "\n",
              "                      message_len  duration_min  \n",
              "num_raiders             -0.044104      0.067284  \n",
              "num_messages_per_min    -0.232958     -0.022404  \n",
              "num_messages            -0.129868      0.409100  \n",
              "message_len              1.000000      0.049782  \n",
              "duration_min             0.049782      1.000000  "
            ],
            "text/html": [
              "\n",
              "  <div id=\"df-cc23e85e-2b71-46e9-85bf-19ded0261b60\">\n",
              "    <div class=\"colab-df-container\">\n",
              "      <div>\n",
              "<style scoped>\n",
              "    .dataframe tbody tr th:only-of-type {\n",
              "        vertical-align: middle;\n",
              "    }\n",
              "\n",
              "    .dataframe tbody tr th {\n",
              "        vertical-align: top;\n",
              "    }\n",
              "\n",
              "    .dataframe thead th {\n",
              "        text-align: right;\n",
              "    }\n",
              "</style>\n",
              "<table border=\"1\" class=\"dataframe\">\n",
              "  <thead>\n",
              "    <tr style=\"text-align: right;\">\n",
              "      <th></th>\n",
              "      <th>num_raiders</th>\n",
              "      <th>num_messages_per_min</th>\n",
              "      <th>num_messages</th>\n",
              "      <th>message_len</th>\n",
              "      <th>duration_min</th>\n",
              "    </tr>\n",
              "  </thead>\n",
              "  <tbody>\n",
              "    <tr>\n",
              "      <th>num_raiders</th>\n",
              "      <td>1.000000</td>\n",
              "      <td>0.446141</td>\n",
              "      <td>0.414717</td>\n",
              "      <td>-0.044104</td>\n",
              "      <td>0.067284</td>\n",
              "    </tr>\n",
              "    <tr>\n",
              "      <th>num_messages_per_min</th>\n",
              "      <td>0.446141</td>\n",
              "      <td>1.000000</td>\n",
              "      <td>0.801703</td>\n",
              "      <td>-0.232958</td>\n",
              "      <td>-0.022404</td>\n",
              "    </tr>\n",
              "    <tr>\n",
              "      <th>num_messages</th>\n",
              "      <td>0.414717</td>\n",
              "      <td>0.801703</td>\n",
              "      <td>1.000000</td>\n",
              "      <td>-0.129868</td>\n",
              "      <td>0.409100</td>\n",
              "    </tr>\n",
              "    <tr>\n",
              "      <th>message_len</th>\n",
              "      <td>-0.044104</td>\n",
              "      <td>-0.232958</td>\n",
              "      <td>-0.129868</td>\n",
              "      <td>1.000000</td>\n",
              "      <td>0.049782</td>\n",
              "    </tr>\n",
              "    <tr>\n",
              "      <th>duration_min</th>\n",
              "      <td>0.067284</td>\n",
              "      <td>-0.022404</td>\n",
              "      <td>0.409100</td>\n",
              "      <td>0.049782</td>\n",
              "      <td>1.000000</td>\n",
              "    </tr>\n",
              "  </tbody>\n",
              "</table>\n",
              "</div>\n",
              "      <button class=\"colab-df-convert\" onclick=\"convertToInteractive('df-cc23e85e-2b71-46e9-85bf-19ded0261b60')\"\n",
              "              title=\"Convert this dataframe to an interactive table.\"\n",
              "              style=\"display:none;\">\n",
              "        \n",
              "  <svg xmlns=\"http://www.w3.org/2000/svg\" height=\"24px\"viewBox=\"0 0 24 24\"\n",
              "       width=\"24px\">\n",
              "    <path d=\"M0 0h24v24H0V0z\" fill=\"none\"/>\n",
              "    <path d=\"M18.56 5.44l.94 2.06.94-2.06 2.06-.94-2.06-.94-.94-2.06-.94 2.06-2.06.94zm-11 1L8.5 8.5l.94-2.06 2.06-.94-2.06-.94L8.5 2.5l-.94 2.06-2.06.94zm10 10l.94 2.06.94-2.06 2.06-.94-2.06-.94-.94-2.06-.94 2.06-2.06.94z\"/><path d=\"M17.41 7.96l-1.37-1.37c-.4-.4-.92-.59-1.43-.59-.52 0-1.04.2-1.43.59L10.3 9.45l-7.72 7.72c-.78.78-.78 2.05 0 2.83L4 21.41c.39.39.9.59 1.41.59.51 0 1.02-.2 1.41-.59l7.78-7.78 2.81-2.81c.8-.78.8-2.07 0-2.86zM5.41 20L4 18.59l7.72-7.72 1.47 1.35L5.41 20z\"/>\n",
              "  </svg>\n",
              "      </button>\n",
              "      \n",
              "  <style>\n",
              "    .colab-df-container {\n",
              "      display:flex;\n",
              "      flex-wrap:wrap;\n",
              "      gap: 12px;\n",
              "    }\n",
              "\n",
              "    .colab-df-convert {\n",
              "      background-color: #E8F0FE;\n",
              "      border: none;\n",
              "      border-radius: 50%;\n",
              "      cursor: pointer;\n",
              "      display: none;\n",
              "      fill: #1967D2;\n",
              "      height: 32px;\n",
              "      padding: 0 0 0 0;\n",
              "      width: 32px;\n",
              "    }\n",
              "\n",
              "    .colab-df-convert:hover {\n",
              "      background-color: #E2EBFA;\n",
              "      box-shadow: 0px 1px 2px rgba(60, 64, 67, 0.3), 0px 1px 3px 1px rgba(60, 64, 67, 0.15);\n",
              "      fill: #174EA6;\n",
              "    }\n",
              "\n",
              "    [theme=dark] .colab-df-convert {\n",
              "      background-color: #3B4455;\n",
              "      fill: #D2E3FC;\n",
              "    }\n",
              "\n",
              "    [theme=dark] .colab-df-convert:hover {\n",
              "      background-color: #434B5C;\n",
              "      box-shadow: 0px 1px 3px 1px rgba(0, 0, 0, 0.15);\n",
              "      filter: drop-shadow(0px 1px 2px rgba(0, 0, 0, 0.3));\n",
              "      fill: #FFFFFF;\n",
              "    }\n",
              "  </style>\n",
              "\n",
              "      <script>\n",
              "        const buttonEl =\n",
              "          document.querySelector('#df-cc23e85e-2b71-46e9-85bf-19ded0261b60 button.colab-df-convert');\n",
              "        buttonEl.style.display =\n",
              "          google.colab.kernel.accessAllowed ? 'block' : 'none';\n",
              "\n",
              "        async function convertToInteractive(key) {\n",
              "          const element = document.querySelector('#df-cc23e85e-2b71-46e9-85bf-19ded0261b60');\n",
              "          const dataTable =\n",
              "            await google.colab.kernel.invokeFunction('convertToInteractive',\n",
              "                                                     [key], {});\n",
              "          if (!dataTable) return;\n",
              "\n",
              "          const docLinkHtml = 'Like what you see? Visit the ' +\n",
              "            '<a target=\"_blank\" href=https://colab.research.google.com/notebooks/data_table.ipynb>data table notebook</a>'\n",
              "            + ' to learn more about interactive tables.';\n",
              "          element.innerHTML = '';\n",
              "          dataTable['output_type'] = 'display_data';\n",
              "          await google.colab.output.renderOutput(dataTable, element);\n",
              "          const docLink = document.createElement('div');\n",
              "          docLink.innerHTML = docLinkHtml;\n",
              "          element.appendChild(docLink);\n",
              "        }\n",
              "      </script>\n",
              "    </div>\n",
              "  </div>\n",
              "  "
            ]
          },
          "metadata": {},
          "execution_count": 283
        }
      ]
    },
    {
      "cell_type": "markdown",
      "source": [
        "## Ignore code down below"
      ],
      "metadata": {
        "id": "PdHsZUJFJtuz"
      }
    },
    {
      "cell_type": "code",
      "source": [
        "raid_df['Date'][4]"
      ],
      "metadata": {
        "colab": {
          "base_uri": "https://localhost:8080/",
          "height": 36
        },
        "id": "tMM4UrcQJtsm",
        "outputId": "0d9060d8-b058-4525-9e81-6f0375170027"
      },
      "execution_count": 117,
      "outputs": [
        {
          "output_type": "execute_result",
          "data": {
            "text/plain": [
              "'Oct 28, 2022 at 19:54'"
            ],
            "application/vnd.google.colaboratory.intrinsic+json": {
              "type": "string"
            }
          },
          "metadata": {},
          "execution_count": 117
        }
      ]
    },
    {
      "cell_type": "code",
      "source": [],
      "metadata": {
        "id": "TM6wLouuJthj"
      },
      "execution_count": null,
      "outputs": []
    },
    {
      "cell_type": "code",
      "source": [
        "# makes a GET request to a URL and returns the text from that page.\n",
        "def get_page(url):\n",
        "    return requests.get(url).content"
      ],
      "metadata": {
        "id": "5miCEAak75rP"
      },
      "execution_count": null,
      "outputs": []
    },
    {
      "cell_type": "code",
      "source": [
        "page = get_page('https://streamscharts.com/tools/raid-finder/vnceofficial')\n",
        "page"
      ],
      "metadata": {
        "id": "rZZ9MA6C-AtS"
      },
      "execution_count": null,
      "outputs": []
    },
    {
      "cell_type": "code",
      "source": [
        "soup = BeautifulSoup(page, 'html.parser') # parses the document using a HTML parser"
      ],
      "metadata": {
        "id": "HX4Ksu9R-Fb4"
      },
      "execution_count": null,
      "outputs": []
    },
    {
      "cell_type": "code",
      "source": [
        "lists = soup.find_all('th')"
      ],
      "metadata": {
        "id": "B68cvgKr-LJ1"
      },
      "execution_count": 34,
      "outputs": []
    },
    {
      "cell_type": "code",
      "source": [
        "lists"
      ],
      "metadata": {
        "id": "IJopv5Vh-Lpo"
      },
      "execution_count": null,
      "outputs": []
    },
    {
      "cell_type": "code",
      "source": [
        "import re"
      ],
      "metadata": {
        "id": "qnwMQdv3Brgf"
      },
      "execution_count": null,
      "outputs": []
    },
    {
      "cell_type": "code",
      "source": [
        "url = \"raid_VNCEOOfficial.html\"\n",
        "page = open(url)"
      ],
      "metadata": {
        "id": "yyMbgHqYEiJn"
      },
      "execution_count": 30,
      "outputs": []
    },
    {
      "cell_type": "code",
      "source": [
        "page.text()"
      ],
      "metadata": {
        "colab": {
          "base_uri": "https://localhost:8080/",
          "height": 168
        },
        "id": "VJRdqpzR8KAi",
        "outputId": "0c183268-ad20-462b-e0ca-414257ecd42e"
      },
      "execution_count": 32,
      "outputs": [
        {
          "output_type": "error",
          "ename": "AttributeError",
          "evalue": "ignored",
          "traceback": [
            "\u001b[0;31m---------------------------------------------------------------------------\u001b[0m",
            "\u001b[0;31mAttributeError\u001b[0m                            Traceback (most recent call last)",
            "\u001b[0;32m<ipython-input-32-73c1e8a32e57>\u001b[0m in \u001b[0;36m<module>\u001b[0;34m\u001b[0m\n\u001b[0;32m----> 1\u001b[0;31m \u001b[0mpage\u001b[0m\u001b[0;34m.\u001b[0m\u001b[0mtext\u001b[0m\u001b[0;34m(\u001b[0m\u001b[0;34m)\u001b[0m\u001b[0;34m\u001b[0m\u001b[0;34m\u001b[0m\u001b[0m\n\u001b[0m",
            "\u001b[0;31mAttributeError\u001b[0m: '_io.TextIOWrapper' object has no attribute 'text'"
          ]
        }
      ]
    },
    {
      "cell_type": "code",
      "source": [
        "soup = BeautifulSoup(page,'html.parser')"
      ],
      "metadata": {
        "id": "MMG-PBbTE2Je"
      },
      "execution_count": 19,
      "outputs": []
    },
    {
      "cell_type": "code",
      "source": [
        "print(table)"
      ],
      "metadata": {
        "id": "JvCZA23n8E0o"
      },
      "execution_count": null,
      "outputs": []
    },
    {
      "cell_type": "code",
      "source": [
        "header = table.find_all('th')"
      ],
      "metadata": {
        "colab": {
          "base_uri": "https://localhost:8080/",
          "height": 168
        },
        "id": "YNWaxMgoGSlv",
        "outputId": "9a7095de-3a51-4741-89e0-6c2b890ae1c6"
      },
      "execution_count": null,
      "outputs": [
        {
          "output_type": "error",
          "ename": "AttributeError",
          "evalue": "ignored",
          "traceback": [
            "\u001b[0;31m---------------------------------------------------------------------------\u001b[0m",
            "\u001b[0;31mAttributeError\u001b[0m                            Traceback (most recent call last)",
            "\u001b[0;32m<ipython-input-95-1312e7855d35>\u001b[0m in \u001b[0;36m<module>\u001b[0;34m\u001b[0m\n\u001b[0;32m----> 1\u001b[0;31m \u001b[0mheader\u001b[0m \u001b[0;34m=\u001b[0m \u001b[0mtable\u001b[0m\u001b[0;34m.\u001b[0m\u001b[0mfind_all\u001b[0m\u001b[0;34m(\u001b[0m\u001b[0;34m'th'\u001b[0m\u001b[0;34m)\u001b[0m\u001b[0;34m\u001b[0m\u001b[0;34m\u001b[0m\u001b[0m\n\u001b[0m",
            "\u001b[0;31mAttributeError\u001b[0m: 'NoneType' object has no attribute 'find_all'"
          ]
        }
      ]
    },
    {
      "cell_type": "code",
      "source": [
        "print(table)"
      ],
      "metadata": {
        "colab": {
          "base_uri": "https://localhost:8080/"
        },
        "id": "koDC9sdGGTM2",
        "outputId": "b65cd1c7-f85e-4a92-8991-4f90c4ca3c29"
      },
      "execution_count": null,
      "outputs": [
        {
          "output_type": "stream",
          "name": "stdout",
          "text": [
            "None\n"
          ]
        }
      ]
    },
    {
      "cell_type": "code",
      "source": [
        "soup"
      ],
      "metadata": {
        "id": "0MZ4Lb1kI4lu"
      },
      "execution_count": null,
      "outputs": []
    },
    {
      "cell_type": "code",
      "source": [],
      "metadata": {
        "id": "0m7ZlSsdJZFB"
      },
      "execution_count": null,
      "outputs": []
    }
  ]
}