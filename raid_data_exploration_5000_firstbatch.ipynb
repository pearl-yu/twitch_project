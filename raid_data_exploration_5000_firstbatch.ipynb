{
  "nbformat": 4,
  "nbformat_minor": 0,
  "metadata": {
    "colab": {
      "provenance": [],
      "authorship_tag": "ABX9TyP8Md5MY5G724S20Srn9IbM",
      "include_colab_link": true
    },
    "kernelspec": {
      "name": "python3",
      "display_name": "Python 3"
    },
    "language_info": {
      "name": "python"
    }
  },
  "cells": [
    {
      "cell_type": "markdown",
      "metadata": {
        "id": "view-in-github",
        "colab_type": "text"
      },
      "source": [
        "<a href=\"https://colab.research.google.com/github/pearl-yu/twitch_project/blob/main/raid_data_exploration_5000_firstbatch.ipynb\" target=\"_parent\"><img src=\"https://colab.research.google.com/assets/colab-badge.svg\" alt=\"Open In Colab\"/></a>"
      ]
    },
    {
      "cell_type": "code",
      "execution_count": 7,
      "metadata": {
        "id": "9rI9mntpgl8w"
      },
      "outputs": [],
      "source": [
        "import pandas as pd\n",
        "import numpy as np"
      ]
    },
    {
      "cell_type": "code",
      "source": [
        "from google.colab import drive\n",
        "drive.mount('/content/drive')"
      ],
      "metadata": {
        "colab": {
          "base_uri": "https://localhost:8080/"
        },
        "id": "k6Y3hr7VT6fE",
        "outputId": "cab477ff-5764-48c9-d774-f0185228a058"
      },
      "execution_count": 8,
      "outputs": [
        {
          "output_type": "stream",
          "name": "stdout",
          "text": [
            "Drive already mounted at /content/drive; to attempt to forcibly remount, call drive.mount(\"/content/drive\", force_remount=True).\n"
          ]
        }
      ]
    },
    {
      "cell_type": "code",
      "source": [
        "%cd /content/drive/MyDrive/twitch_data"
      ],
      "metadata": {
        "colab": {
          "base_uri": "https://localhost:8080/"
        },
        "id": "kNv2cQxXUD2E",
        "outputId": "e2203add-37ca-47d9-c451-8938a4616c7f"
      },
      "execution_count": 9,
      "outputs": [
        {
          "output_type": "stream",
          "name": "stdout",
          "text": [
            "/content/drive/MyDrive/twitch_data\n"
          ]
        }
      ]
    },
    {
      "cell_type": "code",
      "source": [
        "%ls"
      ],
      "metadata": {
        "colab": {
          "base_uri": "https://localhost:8080/"
        },
        "id": "zOd7wIHgVnJl",
        "outputId": "d6103739-5548-4df5-924d-78c6d5cb2e0e"
      },
      "execution_count": 10,
      "outputs": [
        {
          "output_type": "stream",
          "name": "stdout",
          "text": [
            "1013713136.mp4                  \u001b[0m\u001b[01;34msample_streamer\u001b[0m/\n",
            "chat_df0.csv                    sentiments\n",
            "chat_df.csv                     sentiments1\n",
            "chat_features_womeaningful.csv  sentiments2\n",
            "\u001b[01;34mchats\u001b[0m/                          sentiments3\n",
            "data_vid_df_l.csv               sentiments4\n",
            "features_vid_df_lag3.csv        sentiments5\n",
            "features_vid_df_lag.csv         vid_df_wraid.csv\n",
            "features_vid_df_lag_raid.csv    video_df_merge2.csv\n",
            "\u001b[01;34mraid\u001b[0m/                           video_df_merge3.csv\n",
            "\u001b[01;34mraid_5000\u001b[0m/                      video_df_merge3.gsheet\n",
            "raid_df.csv                     video_df_merge.csv\n"
          ]
        }
      ]
    },
    {
      "cell_type": "code",
      "source": [
        "# just want to take a look at the chats containing raid information\n",
        "chat_df = pd.read_csv('chat_df0.csv',lineterminator='\\n',index_col=0) \n",
        "chat_df.head()\n",
        "\n",
        "temp_table = chat_df[chat_df['messages'].str.contains('raid',na=False)]\n",
        "temp_table"
      ],
      "metadata": {
        "colab": {
          "base_uri": "https://localhost:8080/",
          "height": 424
        },
        "id": "qtb0qicyCUbg",
        "outputId": "cf9fd71c-7e9f-4997-9a79-7806b222a7f0"
      },
      "execution_count": null,
      "outputs": [
        {
          "output_type": "execute_result",
          "data": {
            "text/plain": [
              "                                      video_url         timestamp  \\\n",
              "666     https://www.twitch.tv/videos/1619944979  1665355121824000   \n",
              "3000    https://www.twitch.tv/videos/1619944979  1665357892701000   \n",
              "5745    https://www.twitch.tv/videos/1619944979  1665363838449000   \n",
              "6070    https://www.twitch.tv/videos/1619944979  1665364571655000   \n",
              "16565   https://www.twitch.tv/videos/1610408161  1665015072860000   \n",
              "...                                         ...               ...   \n",
              "225041  https://www.twitch.tv/videos/1591613035  1663259993856000   \n",
              "225063  https://www.twitch.tv/videos/1591613035  1663260144079000   \n",
              "225090  https://www.twitch.tv/videos/1591613035  1663260437669000   \n",
              "225210  https://www.twitch.tv/videos/1591613035  1663261861871000   \n",
              "225214  https://www.twitch.tv/videos/1591613035  1663261873013000   \n",
              "\n",
              "        time_in_seconds  author_id     author_name  \\\n",
              "666            1188.124  238777489     Michael7461   \n",
              "3000           3959.001   40139265     Itzmochi808   \n",
              "5745           9904.749  100135110  StreamElements   \n",
              "6070          10637.955  635793543       GrayJune7   \n",
              "16565          2107.160  447167204        rmaton89   \n",
              "...                 ...        ...             ...   \n",
              "225041         7586.156  424089063        alankbrr   \n",
              "225063         7736.379  142432529           iipan   \n",
              "225090         8029.969  733199350       kiboy1111   \n",
              "225210         9454.171  552536197        culprith   \n",
              "225214         9465.313  552536197        culprith   \n",
              "\n",
              "                                               author_bio  \\\n",
              "666                                                   NaN   \n",
              "3000    Howzit everyone!! I am a variety streamer! 18+...   \n",
              "5745    Elevate your content with www.StreamElements.c...   \n",
              "6070                                                  NaN   \n",
              "16565                                                 NaN   \n",
              "...                                                   ...   \n",
              "225041                                                NaN   \n",
              "225063                                                NaN   \n",
              "225090                                                NaN   \n",
              "225210                                                NaN   \n",
              "225214                                                NaN   \n",
              "\n",
              "                                                 messages  \n",
              "666                  @mayraidensenpai, who said that KEKW  \n",
              "3000                       we out here raiding twitch con  \n",
              "5745    craidfn - (1800 DPI) Apex: 1.1 / ADS 1.05 | Va...  \n",
              "6070         I'm afraid of that droplet on the top monkaW  \n",
              "16565   @dalordraiden it was a joke but clout is like ...  \n",
              "...                                                   ...  \n",
              "225041                                              !raid  \n",
              "225063                                              !raid  \n",
              "225090                                              !raid  \n",
              "225210                                              !raid  \n",
              "225214                       wah harini raid party ke vai  \n",
              "\n",
              "[252 rows x 7 columns]"
            ],
            "text/html": [
              "\n",
              "  <div id=\"df-149090b6-6ffe-4f69-b9e5-85d88d65c910\">\n",
              "    <div class=\"colab-df-container\">\n",
              "      <div>\n",
              "<style scoped>\n",
              "    .dataframe tbody tr th:only-of-type {\n",
              "        vertical-align: middle;\n",
              "    }\n",
              "\n",
              "    .dataframe tbody tr th {\n",
              "        vertical-align: top;\n",
              "    }\n",
              "\n",
              "    .dataframe thead th {\n",
              "        text-align: right;\n",
              "    }\n",
              "</style>\n",
              "<table border=\"1\" class=\"dataframe\">\n",
              "  <thead>\n",
              "    <tr style=\"text-align: right;\">\n",
              "      <th></th>\n",
              "      <th>video_url</th>\n",
              "      <th>timestamp</th>\n",
              "      <th>time_in_seconds</th>\n",
              "      <th>author_id</th>\n",
              "      <th>author_name</th>\n",
              "      <th>author_bio</th>\n",
              "      <th>messages</th>\n",
              "    </tr>\n",
              "  </thead>\n",
              "  <tbody>\n",
              "    <tr>\n",
              "      <th>666</th>\n",
              "      <td>https://www.twitch.tv/videos/1619944979</td>\n",
              "      <td>1665355121824000</td>\n",
              "      <td>1188.124</td>\n",
              "      <td>238777489</td>\n",
              "      <td>Michael7461</td>\n",
              "      <td>NaN</td>\n",
              "      <td>@mayraidensenpai, who said that KEKW</td>\n",
              "    </tr>\n",
              "    <tr>\n",
              "      <th>3000</th>\n",
              "      <td>https://www.twitch.tv/videos/1619944979</td>\n",
              "      <td>1665357892701000</td>\n",
              "      <td>3959.001</td>\n",
              "      <td>40139265</td>\n",
              "      <td>Itzmochi808</td>\n",
              "      <td>Howzit everyone!! I am a variety streamer! 18+...</td>\n",
              "      <td>we out here raiding twitch con</td>\n",
              "    </tr>\n",
              "    <tr>\n",
              "      <th>5745</th>\n",
              "      <td>https://www.twitch.tv/videos/1619944979</td>\n",
              "      <td>1665363838449000</td>\n",
              "      <td>9904.749</td>\n",
              "      <td>100135110</td>\n",
              "      <td>StreamElements</td>\n",
              "      <td>Elevate your content with www.StreamElements.c...</td>\n",
              "      <td>craidfn - (1800 DPI) Apex: 1.1 / ADS 1.05 | Va...</td>\n",
              "    </tr>\n",
              "    <tr>\n",
              "      <th>6070</th>\n",
              "      <td>https://www.twitch.tv/videos/1619944979</td>\n",
              "      <td>1665364571655000</td>\n",
              "      <td>10637.955</td>\n",
              "      <td>635793543</td>\n",
              "      <td>GrayJune7</td>\n",
              "      <td>NaN</td>\n",
              "      <td>I'm afraid of that droplet on the top monkaW</td>\n",
              "    </tr>\n",
              "    <tr>\n",
              "      <th>16565</th>\n",
              "      <td>https://www.twitch.tv/videos/1610408161</td>\n",
              "      <td>1665015072860000</td>\n",
              "      <td>2107.160</td>\n",
              "      <td>447167204</td>\n",
              "      <td>rmaton89</td>\n",
              "      <td>NaN</td>\n",
              "      <td>@dalordraiden it was a joke but clout is like ...</td>\n",
              "    </tr>\n",
              "    <tr>\n",
              "      <th>...</th>\n",
              "      <td>...</td>\n",
              "      <td>...</td>\n",
              "      <td>...</td>\n",
              "      <td>...</td>\n",
              "      <td>...</td>\n",
              "      <td>...</td>\n",
              "      <td>...</td>\n",
              "    </tr>\n",
              "    <tr>\n",
              "      <th>225041</th>\n",
              "      <td>https://www.twitch.tv/videos/1591613035</td>\n",
              "      <td>1663259993856000</td>\n",
              "      <td>7586.156</td>\n",
              "      <td>424089063</td>\n",
              "      <td>alankbrr</td>\n",
              "      <td>NaN</td>\n",
              "      <td>!raid</td>\n",
              "    </tr>\n",
              "    <tr>\n",
              "      <th>225063</th>\n",
              "      <td>https://www.twitch.tv/videos/1591613035</td>\n",
              "      <td>1663260144079000</td>\n",
              "      <td>7736.379</td>\n",
              "      <td>142432529</td>\n",
              "      <td>iipan</td>\n",
              "      <td>NaN</td>\n",
              "      <td>!raid</td>\n",
              "    </tr>\n",
              "    <tr>\n",
              "      <th>225090</th>\n",
              "      <td>https://www.twitch.tv/videos/1591613035</td>\n",
              "      <td>1663260437669000</td>\n",
              "      <td>8029.969</td>\n",
              "      <td>733199350</td>\n",
              "      <td>kiboy1111</td>\n",
              "      <td>NaN</td>\n",
              "      <td>!raid</td>\n",
              "    </tr>\n",
              "    <tr>\n",
              "      <th>225210</th>\n",
              "      <td>https://www.twitch.tv/videos/1591613035</td>\n",
              "      <td>1663261861871000</td>\n",
              "      <td>9454.171</td>\n",
              "      <td>552536197</td>\n",
              "      <td>culprith</td>\n",
              "      <td>NaN</td>\n",
              "      <td>!raid</td>\n",
              "    </tr>\n",
              "    <tr>\n",
              "      <th>225214</th>\n",
              "      <td>https://www.twitch.tv/videos/1591613035</td>\n",
              "      <td>1663261873013000</td>\n",
              "      <td>9465.313</td>\n",
              "      <td>552536197</td>\n",
              "      <td>culprith</td>\n",
              "      <td>NaN</td>\n",
              "      <td>wah harini raid party ke vai</td>\n",
              "    </tr>\n",
              "  </tbody>\n",
              "</table>\n",
              "<p>252 rows × 7 columns</p>\n",
              "</div>\n",
              "      <button class=\"colab-df-convert\" onclick=\"convertToInteractive('df-149090b6-6ffe-4f69-b9e5-85d88d65c910')\"\n",
              "              title=\"Convert this dataframe to an interactive table.\"\n",
              "              style=\"display:none;\">\n",
              "        \n",
              "  <svg xmlns=\"http://www.w3.org/2000/svg\" height=\"24px\"viewBox=\"0 0 24 24\"\n",
              "       width=\"24px\">\n",
              "    <path d=\"M0 0h24v24H0V0z\" fill=\"none\"/>\n",
              "    <path d=\"M18.56 5.44l.94 2.06.94-2.06 2.06-.94-2.06-.94-.94-2.06-.94 2.06-2.06.94zm-11 1L8.5 8.5l.94-2.06 2.06-.94-2.06-.94L8.5 2.5l-.94 2.06-2.06.94zm10 10l.94 2.06.94-2.06 2.06-.94-2.06-.94-.94-2.06-.94 2.06-2.06.94z\"/><path d=\"M17.41 7.96l-1.37-1.37c-.4-.4-.92-.59-1.43-.59-.52 0-1.04.2-1.43.59L10.3 9.45l-7.72 7.72c-.78.78-.78 2.05 0 2.83L4 21.41c.39.39.9.59 1.41.59.51 0 1.02-.2 1.41-.59l7.78-7.78 2.81-2.81c.8-.78.8-2.07 0-2.86zM5.41 20L4 18.59l7.72-7.72 1.47 1.35L5.41 20z\"/>\n",
              "  </svg>\n",
              "      </button>\n",
              "      \n",
              "  <style>\n",
              "    .colab-df-container {\n",
              "      display:flex;\n",
              "      flex-wrap:wrap;\n",
              "      gap: 12px;\n",
              "    }\n",
              "\n",
              "    .colab-df-convert {\n",
              "      background-color: #E8F0FE;\n",
              "      border: none;\n",
              "      border-radius: 50%;\n",
              "      cursor: pointer;\n",
              "      display: none;\n",
              "      fill: #1967D2;\n",
              "      height: 32px;\n",
              "      padding: 0 0 0 0;\n",
              "      width: 32px;\n",
              "    }\n",
              "\n",
              "    .colab-df-convert:hover {\n",
              "      background-color: #E2EBFA;\n",
              "      box-shadow: 0px 1px 2px rgba(60, 64, 67, 0.3), 0px 1px 3px 1px rgba(60, 64, 67, 0.15);\n",
              "      fill: #174EA6;\n",
              "    }\n",
              "\n",
              "    [theme=dark] .colab-df-convert {\n",
              "      background-color: #3B4455;\n",
              "      fill: #D2E3FC;\n",
              "    }\n",
              "\n",
              "    [theme=dark] .colab-df-convert:hover {\n",
              "      background-color: #434B5C;\n",
              "      box-shadow: 0px 1px 3px 1px rgba(0, 0, 0, 0.15);\n",
              "      filter: drop-shadow(0px 1px 2px rgba(0, 0, 0, 0.3));\n",
              "      fill: #FFFFFF;\n",
              "    }\n",
              "  </style>\n",
              "\n",
              "      <script>\n",
              "        const buttonEl =\n",
              "          document.querySelector('#df-149090b6-6ffe-4f69-b9e5-85d88d65c910 button.colab-df-convert');\n",
              "        buttonEl.style.display =\n",
              "          google.colab.kernel.accessAllowed ? 'block' : 'none';\n",
              "\n",
              "        async function convertToInteractive(key) {\n",
              "          const element = document.querySelector('#df-149090b6-6ffe-4f69-b9e5-85d88d65c910');\n",
              "          const dataTable =\n",
              "            await google.colab.kernel.invokeFunction('convertToInteractive',\n",
              "                                                     [key], {});\n",
              "          if (!dataTable) return;\n",
              "\n",
              "          const docLinkHtml = 'Like what you see? Visit the ' +\n",
              "            '<a target=\"_blank\" href=https://colab.research.google.com/notebooks/data_table.ipynb>data table notebook</a>'\n",
              "            + ' to learn more about interactive tables.';\n",
              "          element.innerHTML = '';\n",
              "          dataTable['output_type'] = 'display_data';\n",
              "          await google.colab.output.renderOutput(dataTable, element);\n",
              "          const docLink = document.createElement('div');\n",
              "          docLink.innerHTML = docLinkHtml;\n",
              "          element.appendChild(docLink);\n",
              "        }\n",
              "      </script>\n",
              "    </div>\n",
              "  </div>\n",
              "  "
            ]
          },
          "metadata": {},
          "execution_count": 5
        }
      ]
    },
    {
      "cell_type": "code",
      "source": [
        "# to get the list of streamers in sample, also will later merge raid data into this\n",
        "# from independent_variable_chat_exploration.ipynb output\n",
        "features_vid_df_lag = pd.read_csv('features_vid_df_lag3.csv',lineterminator='\\n',index_col=0) \n",
        "features_vid_df_lag.columns"
      ],
      "metadata": {
        "colab": {
          "base_uri": "https://localhost:8080/"
        },
        "id": "99BGYSbM2t69",
        "outputId": "e0550da9-0ac0-451a-bb0b-b4f51d89976d"
      },
      "execution_count": 11,
      "outputs": [
        {
          "output_type": "execute_result",
          "data": {
            "text/plain": [
              "Index(['user_id', 'video_id', 'video_url', 'num_messages', 'message_len',\n",
              "       'video_id.1', 'num_messages_per_min', 'user_id.1', 'user_name',\n",
              "       'duration_min', 'created_at', 'title', 'view_count', 'broadcaster_type',\n",
              "       'broadcast_description', 'broadcaster_created_at',\n",
              "       'avg_messages_per_min', 'video_url_lag', 'num_messages_lag',\n",
              "       'message_len_lag', 'video_id_lag', 'num_messages_per_min_lag',\n",
              "       'user_id_lag', 'user_name_lag', 'duration_min_lag', 'created_at_lag',\n",
              "       'title_lag', 'view_count_lag', 'broadcaster_type_lag',\n",
              "       'broadcast_description_lag', 'broadcaster_created_at_lag',\n",
              "       'avg_messages_per_min_lag', 'time_after_last_stream',\n",
              "       'time_after_last_stream_end', 'user_id_post', 'created_at_post',\n",
              "       'time_till_next_stream', 'time_till_last_stream_afterend'],\n",
              "      dtype='object')"
            ]
          },
          "metadata": {},
          "execution_count": 11
        }
      ]
    },
    {
      "cell_type": "code",
      "source": [
        "print(features_vid_df_lag['video_url'].nunique())\n",
        "print(features_vid_df_lag['user_id'].nunique())"
      ],
      "metadata": {
        "colab": {
          "base_uri": "https://localhost:8080/"
        },
        "id": "UI0kjkZrsm9-",
        "outputId": "9f9f5547-8a7c-470a-aacd-7c94d2b048cf"
      },
      "execution_count": 12,
      "outputs": [
        {
          "output_type": "stream",
          "name": "stdout",
          "text": [
            "1888\n",
            "113\n"
          ]
        }
      ]
    },
    {
      "cell_type": "code",
      "source": [
        "features_vid_df_lag.user_name.unique()"
      ],
      "metadata": {
        "id": "z7s9XElD4Hsr",
        "outputId": "190a1b6c-6ede-4c5d-a81b-03e5c5afa436",
        "colab": {
          "base_uri": "https://localhost:8080/"
        }
      },
      "execution_count": 13,
      "outputs": [
        {
          "output_type": "execute_result",
          "data": {
            "text/plain": [
              "array(['BeyondTheSummit', 'EleeMoon', 'Spifeyy', 'JaiEazy', 'SmiteGame',\n",
              "       'Nmplol', 'TaliaMar', 'teamfortresstv', 'Ziqoftw', 'J4CKIECHAN',\n",
              "       'spoonkid', 'Phos', 'supertf', 'ElLeon', 'Aplfisher', 'Jack',\n",
              "       'curvyllama', 'robeytech', 'kurtjmac', 'GaLm', 'amberwolf',\n",
              "       'OccamsSabre', 'RememberTheBeat', 'SWOL', 'Waterdance',\n",
              "       'SwixieThinks', 'Yosoykush', 'nosyy', 'DrasseL', 'botimegaming',\n",
              "       'shroud', 'HollywoodBobLIVE', 'JERICHO', 'ewokttv', 'TBNRKenWorth',\n",
              "       'Bricky', 'sheepsticked', 'CantaPerMe', 'BriggsADA', 'TeamVASH',\n",
              "       'zoey', 'jdotb', 'Karna', 'PixelbyPixelStudios', 'deme',\n",
              "       'AsmodaiTV', 'clout', 'DataDave', 'TaesungTao', 'BreakinSkullz',\n",
              "       'LazyR1co', 'ZombieCleo', 'VERTiiGOGAMING', 'Benex', 'Evanit0',\n",
              "       'Fuzzyness', 'JeffHoogland', 'littlebunny_x', 'AsianGuyStream',\n",
              "       'kyootboss', 'Jaayy', 'glermz', 'okharry', 'VansamaOfficial',\n",
              "       'Amplified', 'DoctorBenjy', 'Onisuna', 'tcTekk', 'bractionfps',\n",
              "       'BOOSFER', 'Kaytinez', 'Saqil', 'FhaeLin', 'rurusama9',\n",
              "       'fancontrolledsports', 'Lingualizer', 'Gone', 'CaliSCG', 'Gmart',\n",
              "       'julien', 'daltoosh', 'Miku', 'lystens', 'BruceGreene',\n",
              "       'Specularpotato', 'kyreewalker1', 'Mocha', 'BadNewsBaron',\n",
              "       'TheCompletionist', 'Vinc3ntvega', 'fruity', 'DKane',\n",
              "       'CrankGameplays', 'BandaiNamcoUS', 'Verloren', 'HyperRPG',\n",
              "       'PerfectLegend', 'Pieman', 'meLanji', 'Shake', 'ezzi', 'gutsluvr',\n",
              "       'Arcitys', 'ESL_CSGOd', 'DEFINE', 'BlizzardID', 'babynez',\n",
              "       'St1mpee', 'chaoxshan', 'Five0AnthO', 'FEDMYSTER2',\n",
              "       'TeamfightTactics', 'Kobi', nan], dtype=object)"
            ]
          },
          "metadata": {},
          "execution_count": 13
        }
      ]
    },
    {
      "cell_type": "markdown",
      "source": [
        "## Parse raid data\n"
      ],
      "metadata": {
        "id": "cry8YW837oiv"
      }
    },
    {
      "cell_type": "code",
      "source": [
        "import requests # to fetch the raw HTML from our page\n",
        "import csv\n",
        "from bs4 import BeautifulSoup # to extract just the information we are looking for"
      ],
      "metadata": {
        "id": "YcAFtvIW7xkL"
      },
      "execution_count": 14,
      "outputs": []
    },
    {
      "cell_type": "code",
      "source": [
        "# reference 1: https://github.com/Vidito/webscraping_housing/blob/main/main.py\n",
        "def get_data(soup_object):\n",
        "    table = soup.find('table', class_=\"w-full rounded-lg bg-card\")\n",
        "\n",
        "    # scrapes the table head element\n",
        "    outputHead = []\n",
        "    for th in table.find_all('th'):  # find_all() function to find the elements we are looking for\n",
        "        outputHead.append(th.text)  #write to a output list\n",
        "\n",
        "    # traverses all the table rows\n",
        "    outputRows = []\n",
        "    for tr in table.find_all('tr'):\n",
        "        tableColumns = tr.find_all('td')\n",
        "        outputRow = []\n",
        "        for tc in tableColumns:\n",
        "            outputRow.append(tc.text.replace('\\n', ''))\n",
        "        outputRows.append(outputRow)\n",
        "\n",
        "    return outputHead, outputRows"
      ],
      "metadata": {
        "id": "hJKSY1qL8Qy5"
      },
      "execution_count": 15,
      "outputs": []
    },
    {
      "cell_type": "code",
      "source": [
        "# testing the code with one streamer\n",
        "#with open(\"raid_VNCEOfficial.html\") as fp:\n",
        "#    soup = BeautifulSoup(fp, 'html.parser')\n",
        "#\n",
        "#outputHead, outputRows = get_data(soup)\n",
        "#raid_df= pd.DataFrame(outputRows,columns=outputHead)[1:].set_index(outputHead[0])\n",
        "#\n",
        "#raid_df.head()"
      ],
      "metadata": {
        "id": "6KLJ5_UsD2sA"
      },
      "execution_count": null,
      "outputs": []
    },
    {
      "cell_type": "markdown",
      "source": [
        "# I'm here!"
      ],
      "metadata": {
        "id": "zj-qXTV33Smk"
      }
    },
    {
      "cell_type": "code",
      "source": [
        "%cd .."
      ],
      "metadata": {
        "colab": {
          "base_uri": "https://localhost:8080/"
        },
        "id": "xkcPhaV3J_-X",
        "outputId": "390c85c3-4ea7-4e23-de8b-9fa93a557290"
      },
      "execution_count": 22,
      "outputs": [
        {
          "output_type": "stream",
          "name": "stdout",
          "text": [
            "/content/drive/MyDrive/twitch_data\n"
          ]
        }
      ]
    },
    {
      "cell_type": "code",
      "source": [
        "import os"
      ],
      "metadata": {
        "id": "fogTTY8IKJJe"
      },
      "execution_count": 21,
      "outputs": []
    },
    {
      "cell_type": "code",
      "source": [
        "raid_file_list = []\n",
        "dir_path = 'raid_5000'\n",
        "\n",
        "# Iterate directory\n",
        "for path in os.listdir(dir_path):\n",
        "    # check if current path is a file\n",
        "    if os.path.isfile(os.path.join(dir_path, path)):\n",
        "        raid_file_list.append(path)"
      ],
      "metadata": {
        "id": "F4ea18MLKa89"
      },
      "execution_count": 26,
      "outputs": []
    },
    {
      "cell_type": "code",
      "source": [
        "for i in range(len(raid_file_list)):\n",
        "  try:\n",
        "    with open('raid_5000/' + raid_file_list[i] ) as fp:\n",
        "      soup = BeautifulSoup(fp, 'html.parser')\n",
        "      outputHead, outputRows = get_data(soup)\n",
        "    print(i)\n",
        "    if i == 0:\n",
        "      raid_df= pd.DataFrame(outputRows,columns=outputHead)[1:].set_index(outputHead[0])\n",
        "      print(raid_df.Whom.unique(),len(raid_df))\n",
        "    else:\n",
        "      temp = pd.DataFrame(outputRows,columns=outputHead)[1:].set_index(outputHead[0])\n",
        "      raid_df = raid_df.append(temp)\n",
        "      print(temp.Whom.unique(),len(temp))\n",
        "  except:\n",
        "    pass"
      ],
      "metadata": {
        "id": "vwgPmMjfAOde"
      },
      "execution_count": null,
      "outputs": []
    },
    {
      "cell_type": "code",
      "source": [
        "# string to datetime format\n",
        "raid_df['timestamp'] = pd.to_datetime(raid_df['Date'].str.strip(), format='%b %d, %Y at %H:%M')\n",
        "raid_df['user_name'] = raid_df['Whom'].str.strip()\n",
        "raid_df['num_raiders'] = raid_df['Number of viewers'].str.extract('(\\d+)').astype(int)\n",
        "\n",
        "raid_df_clean = raid_df.drop(['Stream','Date','Whom','Number of viewers'], axis=1)"
      ],
      "metadata": {
        "id": "2j1_kmSb_bBZ"
      },
      "execution_count": 29,
      "outputs": []
    },
    {
      "cell_type": "code",
      "source": [
        "raid_df_clean.head()\n",
        "print(raid_df_clean.shape)"
      ],
      "metadata": {
        "colab": {
          "base_uri": "https://localhost:8080/"
        },
        "id": "KuSAjpHzJUoL",
        "outputId": "20ea1180-349a-4670-b73c-151cbc4e3427"
      },
      "execution_count": 30,
      "outputs": [
        {
          "output_type": "stream",
          "name": "stdout",
          "text": [
            "(14323, 5)\n"
          ]
        }
      ]
    },
    {
      "cell_type": "code",
      "source": [
        "raid_df_clean.head()"
      ],
      "metadata": {
        "colab": {
          "base_uri": "https://localhost:8080/",
          "height": 220
        },
        "id": "5OwOIQmD_f8L",
        "outputId": "d7854eee-a43a-4d0a-e973-00fab704524d"
      },
      "execution_count": 31,
      "outputs": [
        {
          "output_type": "execute_result",
          "data": {
            "text/plain": [
              "                    Channel Raided/Hosted           timestamp     user_name  \\\n",
              "\\n\\n\\n                                                                        \n",
              "1                  Smashley        raided 2022-11-27 18:34:00  BadNewsBaron   \n",
              "2              DeejayKnight        raided 2022-10-14 19:09:00  BadNewsBaron   \n",
              "3                  Smashley        raided 2022-10-14 19:09:00  BadNewsBaron   \n",
              "4                  Javihara        raided 2022-09-17 23:49:00  BadNewsBaron   \n",
              "5         TutorialSnakeLIVE        raided 2022-09-17 23:26:00  BadNewsBaron   \n",
              "\n",
              "         num_raiders  \n",
              "\\n\\n\\n                \n",
              "1                 15  \n",
              "2                 76  \n",
              "3                 90  \n",
              "4                  3  \n",
              "5                  7  "
            ],
            "text/html": [
              "\n",
              "  <div id=\"df-e812aa2d-f62f-46f9-b8d6-2e67bc3f989f\">\n",
              "    <div class=\"colab-df-container\">\n",
              "      <div>\n",
              "<style scoped>\n",
              "    .dataframe tbody tr th:only-of-type {\n",
              "        vertical-align: middle;\n",
              "    }\n",
              "\n",
              "    .dataframe tbody tr th {\n",
              "        vertical-align: top;\n",
              "    }\n",
              "\n",
              "    .dataframe thead th {\n",
              "        text-align: right;\n",
              "    }\n",
              "</style>\n",
              "<table border=\"1\" class=\"dataframe\">\n",
              "  <thead>\n",
              "    <tr style=\"text-align: right;\">\n",
              "      <th></th>\n",
              "      <th>Channel</th>\n",
              "      <th>Raided/Hosted</th>\n",
              "      <th>timestamp</th>\n",
              "      <th>user_name</th>\n",
              "      <th>num_raiders</th>\n",
              "    </tr>\n",
              "    <tr>\n",
              "      <th></th>\n",
              "      <th></th>\n",
              "      <th></th>\n",
              "      <th></th>\n",
              "      <th></th>\n",
              "      <th></th>\n",
              "    </tr>\n",
              "  </thead>\n",
              "  <tbody>\n",
              "    <tr>\n",
              "      <th>1</th>\n",
              "      <td>Smashley</td>\n",
              "      <td>raided</td>\n",
              "      <td>2022-11-27 18:34:00</td>\n",
              "      <td>BadNewsBaron</td>\n",
              "      <td>15</td>\n",
              "    </tr>\n",
              "    <tr>\n",
              "      <th>2</th>\n",
              "      <td>DeejayKnight</td>\n",
              "      <td>raided</td>\n",
              "      <td>2022-10-14 19:09:00</td>\n",
              "      <td>BadNewsBaron</td>\n",
              "      <td>76</td>\n",
              "    </tr>\n",
              "    <tr>\n",
              "      <th>3</th>\n",
              "      <td>Smashley</td>\n",
              "      <td>raided</td>\n",
              "      <td>2022-10-14 19:09:00</td>\n",
              "      <td>BadNewsBaron</td>\n",
              "      <td>90</td>\n",
              "    </tr>\n",
              "    <tr>\n",
              "      <th>4</th>\n",
              "      <td>Javihara</td>\n",
              "      <td>raided</td>\n",
              "      <td>2022-09-17 23:49:00</td>\n",
              "      <td>BadNewsBaron</td>\n",
              "      <td>3</td>\n",
              "    </tr>\n",
              "    <tr>\n",
              "      <th>5</th>\n",
              "      <td>TutorialSnakeLIVE</td>\n",
              "      <td>raided</td>\n",
              "      <td>2022-09-17 23:26:00</td>\n",
              "      <td>BadNewsBaron</td>\n",
              "      <td>7</td>\n",
              "    </tr>\n",
              "  </tbody>\n",
              "</table>\n",
              "</div>\n",
              "      <button class=\"colab-df-convert\" onclick=\"convertToInteractive('df-e812aa2d-f62f-46f9-b8d6-2e67bc3f989f')\"\n",
              "              title=\"Convert this dataframe to an interactive table.\"\n",
              "              style=\"display:none;\">\n",
              "        \n",
              "  <svg xmlns=\"http://www.w3.org/2000/svg\" height=\"24px\"viewBox=\"0 0 24 24\"\n",
              "       width=\"24px\">\n",
              "    <path d=\"M0 0h24v24H0V0z\" fill=\"none\"/>\n",
              "    <path d=\"M18.56 5.44l.94 2.06.94-2.06 2.06-.94-2.06-.94-.94-2.06-.94 2.06-2.06.94zm-11 1L8.5 8.5l.94-2.06 2.06-.94-2.06-.94L8.5 2.5l-.94 2.06-2.06.94zm10 10l.94 2.06.94-2.06 2.06-.94-2.06-.94-.94-2.06-.94 2.06-2.06.94z\"/><path d=\"M17.41 7.96l-1.37-1.37c-.4-.4-.92-.59-1.43-.59-.52 0-1.04.2-1.43.59L10.3 9.45l-7.72 7.72c-.78.78-.78 2.05 0 2.83L4 21.41c.39.39.9.59 1.41.59.51 0 1.02-.2 1.41-.59l7.78-7.78 2.81-2.81c.8-.78.8-2.07 0-2.86zM5.41 20L4 18.59l7.72-7.72 1.47 1.35L5.41 20z\"/>\n",
              "  </svg>\n",
              "      </button>\n",
              "      \n",
              "  <style>\n",
              "    .colab-df-container {\n",
              "      display:flex;\n",
              "      flex-wrap:wrap;\n",
              "      gap: 12px;\n",
              "    }\n",
              "\n",
              "    .colab-df-convert {\n",
              "      background-color: #E8F0FE;\n",
              "      border: none;\n",
              "      border-radius: 50%;\n",
              "      cursor: pointer;\n",
              "      display: none;\n",
              "      fill: #1967D2;\n",
              "      height: 32px;\n",
              "      padding: 0 0 0 0;\n",
              "      width: 32px;\n",
              "    }\n",
              "\n",
              "    .colab-df-convert:hover {\n",
              "      background-color: #E2EBFA;\n",
              "      box-shadow: 0px 1px 2px rgba(60, 64, 67, 0.3), 0px 1px 3px 1px rgba(60, 64, 67, 0.15);\n",
              "      fill: #174EA6;\n",
              "    }\n",
              "\n",
              "    [theme=dark] .colab-df-convert {\n",
              "      background-color: #3B4455;\n",
              "      fill: #D2E3FC;\n",
              "    }\n",
              "\n",
              "    [theme=dark] .colab-df-convert:hover {\n",
              "      background-color: #434B5C;\n",
              "      box-shadow: 0px 1px 3px 1px rgba(0, 0, 0, 0.15);\n",
              "      filter: drop-shadow(0px 1px 2px rgba(0, 0, 0, 0.3));\n",
              "      fill: #FFFFFF;\n",
              "    }\n",
              "  </style>\n",
              "\n",
              "      <script>\n",
              "        const buttonEl =\n",
              "          document.querySelector('#df-e812aa2d-f62f-46f9-b8d6-2e67bc3f989f button.colab-df-convert');\n",
              "        buttonEl.style.display =\n",
              "          google.colab.kernel.accessAllowed ? 'block' : 'none';\n",
              "\n",
              "        async function convertToInteractive(key) {\n",
              "          const element = document.querySelector('#df-e812aa2d-f62f-46f9-b8d6-2e67bc3f989f');\n",
              "          const dataTable =\n",
              "            await google.colab.kernel.invokeFunction('convertToInteractive',\n",
              "                                                     [key], {});\n",
              "          if (!dataTable) return;\n",
              "\n",
              "          const docLinkHtml = 'Like what you see? Visit the ' +\n",
              "            '<a target=\"_blank\" href=https://colab.research.google.com/notebooks/data_table.ipynb>data table notebook</a>'\n",
              "            + ' to learn more about interactive tables.';\n",
              "          element.innerHTML = '';\n",
              "          dataTable['output_type'] = 'display_data';\n",
              "          await google.colab.output.renderOutput(dataTable, element);\n",
              "          const docLink = document.createElement('div');\n",
              "          docLink.innerHTML = docLinkHtml;\n",
              "          element.appendChild(docLink);\n",
              "        }\n",
              "      </script>\n",
              "    </div>\n",
              "  </div>\n",
              "  "
            ]
          },
          "metadata": {},
          "execution_count": 31
        }
      ]
    },
    {
      "cell_type": "code",
      "source": [
        "import matplotlib.pyplot as plt\n",
        "\n",
        "plt.rcParams['figure.figsize'] = [16, 4]\n",
        "plt.subplot(1,3,1)\n",
        "raid_df_clean.num_raiders.plot.hist()\n",
        "plt.subplot(1,3,2)\n",
        "raid_df_clean[raid_df_clean.num_raiders <100].num_raiders.plot.hist()\n",
        "plt.subplot(1,3,3)\n",
        "raid_df_clean[raid_df_clean.num_raiders <25].num_raiders.plot.hist()"
      ],
      "metadata": {
        "colab": {
          "base_uri": "https://localhost:8080/",
          "height": 283
        },
        "id": "YIQWtTisCoeA",
        "outputId": "9d969f9a-6b89-493e-b8e5-26233bbc8e32"
      },
      "execution_count": 32,
      "outputs": [
        {
          "output_type": "execute_result",
          "data": {
            "text/plain": [
              "<matplotlib.axes._subplots.AxesSubplot at 0x7febc335af90>"
            ]
          },
          "metadata": {},
          "execution_count": 32
        },
        {
          "output_type": "display_data",
          "data": {
            "text/plain": [
              "<Figure size 1152x288 with 3 Axes>"
            ],
            "image/png": "[encoded data removed]"
          },
          "metadata": {
            "needs_background": "light"
          }
        }
      ]
    },
    {
      "cell_type": "code",
      "source": [
        "plt.rcParams['figure.figsize'] = [8, 4]\n",
        "raid_df_clean[raid_df_clean.num_raiders >100].num_raiders.plot.hist()"
      ],
      "metadata": {
        "colab": {
          "base_uri": "https://localhost:8080/",
          "height": 283
        },
        "id": "E0D2WvggDjhu",
        "outputId": "24df7b3b-5760-44ac-d02f-0bd1ff82c099"
      },
      "execution_count": 33,
      "outputs": [
        {
          "output_type": "execute_result",
          "data": {
            "text/plain": [
              "<matplotlib.axes._subplots.AxesSubplot at 0x7febca3688d0>"
            ]
          },
          "metadata": {},
          "execution_count": 33
        },
        {
          "output_type": "display_data",
          "data": {
            "text/plain": [
              "<Figure size 576x288 with 1 Axes>"
            ],
            "image/png": "[encoded data removed]"
          },
          "metadata": {
            "needs_background": "light"
          }
        }
      ]
    },
    {
      "cell_type": "code",
      "source": [
        "# This saves to google drive directly\n",
        "raid_df_clean.to_csv('raid_df3.csv')"
      ],
      "metadata": {
        "id": "cBCLBQ1fJRuN"
      },
      "execution_count": 34,
      "outputs": []
    },
    {
      "cell_type": "markdown",
      "source": [
        "## Towards identification\n",
        "\n",
        "If incoming raids leads to exogenous change in viewership and chat intensity?\n",
        "\n",
        "First let's take a look at the video level numbers. \n",
        "- Find the raids that happened during the video time range. \n",
        "- Then aggregate, Number of raids, total number of viewers raided. "
      ],
      "metadata": {
        "id": "HR5n5rpDJxNU"
      }
    },
    {
      "cell_type": "code",
      "source": [
        "features_vid_df_lag['created_at'] = pd.to_datetime(features_vid_df_lag['created_at']).dt.tz_localize(None)\n",
        "features_vid_df_lag['ended_at'] = features_vid_df_lag['created_at'] + pd.to_timedelta(features_vid_df_lag['duration_min'], unit='m') "
      ],
      "metadata": {
        "id": "go-NDkoQIZ88"
      },
      "execution_count": 35,
      "outputs": []
    },
    {
      "cell_type": "code",
      "source": [
        "#features_vid_df_lag.user_name\n",
        "#raid_df.Whom.unique()"
      ],
      "metadata": {
        "id": "pVsVWY40Qi5I"
      },
      "execution_count": null,
      "outputs": []
    },
    {
      "cell_type": "code",
      "source": [
        "#for i in range(2):\n",
        "for i in range(len(features_vid_df_lag.user_name.unique())):\n",
        "  streamer = features_vid_df_lag.user_name.unique()[i]\n",
        "  temp_vid_table = features_vid_df_lag[features_vid_df_lag.user_name == streamer][['user_name','video_id','created_at','ended_at']]\n",
        "  temp_raid_table = raid_df_clean[raid_df_clean['user_name'] == streamer]\n",
        "  temp_raid_table = temp_raid_table.loc[(temp_raid_table['timestamp'] >= temp_vid_table['created_at'].min()) & (temp_raid_table['timestamp']<= temp_vid_table['created_at'].max())]\n",
        "  print(temp_vid_table['user_name'].unique(),temp_raid_table.user_name.unique())\n",
        "  \n",
        "  temp = pd.merge(temp_vid_table, temp_raid_table,  how='left', left_on=['user_name'], right_on = ['user_name'])\n",
        "  temp = temp[(temp['timestamp'] >= temp['created_at']) & (temp['timestamp'] <= temp['ended_at'])]\n",
        "\n",
        "  if i ==0:\n",
        "    vid_df_wraid = temp\n",
        "    print(len(temp),len(vid_df_wraid))\n",
        "  else: \n",
        "    vid_df_wraid = vid_df_wraid.append(temp)\n",
        "    print(len(temp),len(vid_df_wraid))\n",
        "\n",
        "vid_df_wraid = vid_df_wraid.reset_index(drop=True)"
      ],
      "metadata": {
        "id": "3mE-FmvvJhUN"
      },
      "execution_count": null,
      "outputs": []
    },
    {
      "cell_type": "code",
      "source": [
        "vid_df_wraid.to_csv('vid_df_wraid3.csv')"
      ],
      "metadata": {
        "id": "XkHutvbuJWzi"
      },
      "execution_count": 37,
      "outputs": []
    },
    {
      "cell_type": "code",
      "source": [
        "vid_df_wraid.head()"
      ],
      "metadata": {
        "colab": {
          "base_uri": "https://localhost:8080/",
          "height": 337
        },
        "id": "6S0afI3OXsv1",
        "outputId": "e307d02c-5fc0-4fa6-e95c-119f079116cd"
      },
      "execution_count": 38,
      "outputs": [
        {
          "output_type": "execute_result",
          "data": {
            "text/plain": [
              "    user_name    video_id          created_at                      ended_at  \\\n",
              "0    EleeMoon  1658366035 2022-11-20 19:41:38 2022-11-21 01:53:39.000000020   \n",
              "1    EleeMoon  1652838106 2022-11-14 21:33:23 2022-11-14 23:13:23.000000000   \n",
              "2  J4CKIECHAN  1660565824 2022-11-23 09:00:44 2022-11-23 15:52:03.999999980   \n",
              "3  J4CKIECHAN  1659707718 2022-11-22 09:00:43 2022-11-22 16:33:13.000000000   \n",
              "4  J4CKIECHAN  1659707718 2022-11-22 09:00:43 2022-11-22 16:33:13.000000000   \n",
              "\n",
              "            Channel Raided/Hosted           timestamp  num_raiders  \n",
              "0            teahmo        raided 2022-11-20 21:20:00          1.0  \n",
              "1            Beddle        raided 2022-11-14 22:30:00        273.0  \n",
              "2   omegaredsailor2        raided 2022-11-23 09:48:00          3.0  \n",
              "3           babofat        raided 2022-11-22 15:26:00         24.0  \n",
              "4      dariusviperx        raided 2022-11-22 14:22:00          2.0  "
            ],
            "text/html": [
              "\n",
              "  <div id=\"df-a229ec9f-a9a1-4e58-a2cb-94c155084318\">\n",
              "    <div class=\"colab-df-container\">\n",
              "      <div>\n",
              "<style scoped>\n",
              "    .dataframe tbody tr th:only-of-type {\n",
              "        vertical-align: middle;\n",
              "    }\n",
              "\n",
              "    .dataframe tbody tr th {\n",
              "        vertical-align: top;\n",
              "    }\n",
              "\n",
              "    .dataframe thead th {\n",
              "        text-align: right;\n",
              "    }\n",
              "</style>\n",
              "<table border=\"1\" class=\"dataframe\">\n",
              "  <thead>\n",
              "    <tr style=\"text-align: right;\">\n",
              "      <th></th>\n",
              "      <th>user_name</th>\n",
              "      <th>video_id</th>\n",
              "      <th>created_at</th>\n",
              "      <th>ended_at</th>\n",
              "      <th>Channel</th>\n",
              "      <th>Raided/Hosted</th>\n",
              "      <th>timestamp</th>\n",
              "      <th>num_raiders</th>\n",
              "    </tr>\n",
              "  </thead>\n",
              "  <tbody>\n",
              "    <tr>\n",
              "      <th>0</th>\n",
              "      <td>EleeMoon</td>\n",
              "      <td>1658366035</td>\n",
              "      <td>2022-11-20 19:41:38</td>\n",
              "      <td>2022-11-21 01:53:39.000000020</td>\n",
              "      <td>teahmo</td>\n",
              "      <td>raided</td>\n",
              "      <td>2022-11-20 21:20:00</td>\n",
              "      <td>1.0</td>\n",
              "    </tr>\n",
              "    <tr>\n",
              "      <th>1</th>\n",
              "      <td>EleeMoon</td>\n",
              "      <td>1652838106</td>\n",
              "      <td>2022-11-14 21:33:23</td>\n",
              "      <td>2022-11-14 23:13:23.000000000</td>\n",
              "      <td>Beddle</td>\n",
              "      <td>raided</td>\n",
              "      <td>2022-11-14 22:30:00</td>\n",
              "      <td>273.0</td>\n",
              "    </tr>\n",
              "    <tr>\n",
              "      <th>2</th>\n",
              "      <td>J4CKIECHAN</td>\n",
              "      <td>1660565824</td>\n",
              "      <td>2022-11-23 09:00:44</td>\n",
              "      <td>2022-11-23 15:52:03.999999980</td>\n",
              "      <td>omegaredsailor2</td>\n",
              "      <td>raided</td>\n",
              "      <td>2022-11-23 09:48:00</td>\n",
              "      <td>3.0</td>\n",
              "    </tr>\n",
              "    <tr>\n",
              "      <th>3</th>\n",
              "      <td>J4CKIECHAN</td>\n",
              "      <td>1659707718</td>\n",
              "      <td>2022-11-22 09:00:43</td>\n",
              "      <td>2022-11-22 16:33:13.000000000</td>\n",
              "      <td>babofat</td>\n",
              "      <td>raided</td>\n",
              "      <td>2022-11-22 15:26:00</td>\n",
              "      <td>24.0</td>\n",
              "    </tr>\n",
              "    <tr>\n",
              "      <th>4</th>\n",
              "      <td>J4CKIECHAN</td>\n",
              "      <td>1659707718</td>\n",
              "      <td>2022-11-22 09:00:43</td>\n",
              "      <td>2022-11-22 16:33:13.000000000</td>\n",
              "      <td>dariusviperx</td>\n",
              "      <td>raided</td>\n",
              "      <td>2022-11-22 14:22:00</td>\n",
              "      <td>2.0</td>\n",
              "    </tr>\n",
              "  </tbody>\n",
              "</table>\n",
              "</div>\n",
              "      <button class=\"colab-df-convert\" onclick=\"convertToInteractive('df-a229ec9f-a9a1-4e58-a2cb-94c155084318')\"\n",
              "              title=\"Convert this dataframe to an interactive table.\"\n",
              "              style=\"display:none;\">\n",
              "        \n",
              "  <svg xmlns=\"http://www.w3.org/2000/svg\" height=\"24px\"viewBox=\"0 0 24 24\"\n",
              "       width=\"24px\">\n",
              "    <path d=\"M0 0h24v24H0V0z\" fill=\"none\"/>\n",
              "    <path d=\"M18.56 5.44l.94 2.06.94-2.06 2.06-.94-2.06-.94-.94-2.06-.94 2.06-2.06.94zm-11 1L8.5 8.5l.94-2.06 2.06-.94-2.06-.94L8.5 2.5l-.94 2.06-2.06.94zm10 10l.94 2.06.94-2.06 2.06-.94-2.06-.94-.94-2.06-.94 2.06-2.06.94z\"/><path d=\"M17.41 7.96l-1.37-1.37c-.4-.4-.92-.59-1.43-.59-.52 0-1.04.2-1.43.59L10.3 9.45l-7.72 7.72c-.78.78-.78 2.05 0 2.83L4 21.41c.39.39.9.59 1.41.59.51 0 1.02-.2 1.41-.59l7.78-7.78 2.81-2.81c.8-.78.8-2.07 0-2.86zM5.41 20L4 18.59l7.72-7.72 1.47 1.35L5.41 20z\"/>\n",
              "  </svg>\n",
              "      </button>\n",
              "      \n",
              "  <style>\n",
              "    .colab-df-container {\n",
              "      display:flex;\n",
              "      flex-wrap:wrap;\n",
              "      gap: 12px;\n",
              "    }\n",
              "\n",
              "    .colab-df-convert {\n",
              "      background-color: #E8F0FE;\n",
              "      border: none;\n",
              "      border-radius: 50%;\n",
              "      cursor: pointer;\n",
              "      display: none;\n",
              "      fill: #1967D2;\n",
              "      height: 32px;\n",
              "      padding: 0 0 0 0;\n",
              "      width: 32px;\n",
              "    }\n",
              "\n",
              "    .colab-df-convert:hover {\n",
              "      background-color: #E2EBFA;\n",
              "      box-shadow: 0px 1px 2px rgba(60, 64, 67, 0.3), 0px 1px 3px 1px rgba(60, 64, 67, 0.15);\n",
              "      fill: #174EA6;\n",
              "    }\n",
              "\n",
              "    [theme=dark] .colab-df-convert {\n",
              "      background-color: #3B4455;\n",
              "      fill: #D2E3FC;\n",
              "    }\n",
              "\n",
              "    [theme=dark] .colab-df-convert:hover {\n",
              "      background-color: #434B5C;\n",
              "      box-shadow: 0px 1px 3px 1px rgba(0, 0, 0, 0.15);\n",
              "      filter: drop-shadow(0px 1px 2px rgba(0, 0, 0, 0.3));\n",
              "      fill: #FFFFFF;\n",
              "    }\n",
              "  </style>\n",
              "\n",
              "      <script>\n",
              "        const buttonEl =\n",
              "          document.querySelector('#df-a229ec9f-a9a1-4e58-a2cb-94c155084318 button.colab-df-convert');\n",
              "        buttonEl.style.display =\n",
              "          google.colab.kernel.accessAllowed ? 'block' : 'none';\n",
              "\n",
              "        async function convertToInteractive(key) {\n",
              "          const element = document.querySelector('#df-a229ec9f-a9a1-4e58-a2cb-94c155084318');\n",
              "          const dataTable =\n",
              "            await google.colab.kernel.invokeFunction('convertToInteractive',\n",
              "                                                     [key], {});\n",
              "          if (!dataTable) return;\n",
              "\n",
              "          const docLinkHtml = 'Like what you see? Visit the ' +\n",
              "            '<a target=\"_blank\" href=https://colab.research.google.com/notebooks/data_table.ipynb>data table notebook</a>'\n",
              "            + ' to learn more about interactive tables.';\n",
              "          element.innerHTML = '';\n",
              "          dataTable['output_type'] = 'display_data';\n",
              "          await google.colab.output.renderOutput(dataTable, element);\n",
              "          const docLink = document.createElement('div');\n",
              "          docLink.innerHTML = docLinkHtml;\n",
              "          element.appendChild(docLink);\n",
              "        }\n",
              "      </script>\n",
              "    </div>\n",
              "  </div>\n",
              "  "
            ]
          },
          "metadata": {},
          "execution_count": 38
        }
      ]
    },
    {
      "cell_type": "code",
      "source": [
        "raid_sum_df = vid_df_wraid.groupby('video_id')['num_raiders'].sum().reset_index()\n",
        "features_vid_df_lag_raid = pd.merge(features_vid_df_lag, raid_sum_df,  how='left', left_on=['video_id'], right_on = ['video_id'])"
      ],
      "metadata": {
        "id": "V6BEBPx3aPoX"
      },
      "execution_count": 39,
      "outputs": []
    },
    {
      "cell_type": "code",
      "source": [
        "features_vid_df_lag_raid['num_raiders'].fillna(0,inplace=True)\n",
        "features_vid_df_lag_raid['num_raiders'] = features_vid_df_lag_raid['num_raiders']"
      ],
      "metadata": {
        "id": "oUvn26okeOIG"
      },
      "execution_count": 40,
      "outputs": []
    },
    {
      "cell_type": "code",
      "source": [
        "raid_sum_df"
      ],
      "metadata": {
        "colab": {
          "base_uri": "https://localhost:8080/",
          "height": 424
        },
        "id": "r1NBw1SIb4ui",
        "outputId": "fba23414-5b7b-47f7-9867-80b9f6a15aa2"
      },
      "execution_count": 41,
      "outputs": [
        {
          "output_type": "execute_result",
          "data": {
            "text/plain": [
              "       video_id  num_raiders\n",
              "0    1605204445          7.0\n",
              "1    1605730052         31.0\n",
              "2    1605934225        443.0\n",
              "3    1606636135        191.0\n",
              "4    1607191709         10.0\n",
              "..          ...          ...\n",
              "348  1662718957         14.0\n",
              "349  1662759419         85.0\n",
              "350  1662810401        889.0\n",
              "351  1662813140        491.0\n",
              "352  1663374744         40.0\n",
              "\n",
              "[353 rows x 2 columns]"
            ],
            "text/html": [
              "\n",
              "  <div id=\"df-7b325ddc-0cb5-4588-8ae2-ceb2b0c56333\">\n",
              "    <div class=\"colab-df-container\">\n",
              "      <div>\n",
              "<style scoped>\n",
              "    .dataframe tbody tr th:only-of-type {\n",
              "        vertical-align: middle;\n",
              "    }\n",
              "\n",
              "    .dataframe tbody tr th {\n",
              "        vertical-align: top;\n",
              "    }\n",
              "\n",
              "    .dataframe thead th {\n",
              "        text-align: right;\n",
              "    }\n",
              "</style>\n",
              "<table border=\"1\" class=\"dataframe\">\n",
              "  <thead>\n",
              "    <tr style=\"text-align: right;\">\n",
              "      <th></th>\n",
              "      <th>video_id</th>\n",
              "      <th>num_raiders</th>\n",
              "    </tr>\n",
              "  </thead>\n",
              "  <tbody>\n",
              "    <tr>\n",
              "      <th>0</th>\n",
              "      <td>1605204445</td>\n",
              "      <td>7.0</td>\n",
              "    </tr>\n",
              "    <tr>\n",
              "      <th>1</th>\n",
              "      <td>1605730052</td>\n",
              "      <td>31.0</td>\n",
              "    </tr>\n",
              "    <tr>\n",
              "      <th>2</th>\n",
              "      <td>1605934225</td>\n",
              "      <td>443.0</td>\n",
              "    </tr>\n",
              "    <tr>\n",
              "      <th>3</th>\n",
              "      <td>1606636135</td>\n",
              "      <td>191.0</td>\n",
              "    </tr>\n",
              "    <tr>\n",
              "      <th>4</th>\n",
              "      <td>1607191709</td>\n",
              "      <td>10.0</td>\n",
              "    </tr>\n",
              "    <tr>\n",
              "      <th>...</th>\n",
              "      <td>...</td>\n",
              "      <td>...</td>\n",
              "    </tr>\n",
              "    <tr>\n",
              "      <th>348</th>\n",
              "      <td>1662718957</td>\n",
              "      <td>14.0</td>\n",
              "    </tr>\n",
              "    <tr>\n",
              "      <th>349</th>\n",
              "      <td>1662759419</td>\n",
              "      <td>85.0</td>\n",
              "    </tr>\n",
              "    <tr>\n",
              "      <th>350</th>\n",
              "      <td>1662810401</td>\n",
              "      <td>889.0</td>\n",
              "    </tr>\n",
              "    <tr>\n",
              "      <th>351</th>\n",
              "      <td>1662813140</td>\n",
              "      <td>491.0</td>\n",
              "    </tr>\n",
              "    <tr>\n",
              "      <th>352</th>\n",
              "      <td>1663374744</td>\n",
              "      <td>40.0</td>\n",
              "    </tr>\n",
              "  </tbody>\n",
              "</table>\n",
              "<p>353 rows × 2 columns</p>\n",
              "</div>\n",
              "      <button class=\"colab-df-convert\" onclick=\"convertToInteractive('df-7b325ddc-0cb5-4588-8ae2-ceb2b0c56333')\"\n",
              "              title=\"Convert this dataframe to an interactive table.\"\n",
              "              style=\"display:none;\">\n",
              "        \n",
              "  <svg xmlns=\"http://www.w3.org/2000/svg\" height=\"24px\"viewBox=\"0 0 24 24\"\n",
              "       width=\"24px\">\n",
              "    <path d=\"M0 0h24v24H0V0z\" fill=\"none\"/>\n",
              "    <path d=\"M18.56 5.44l.94 2.06.94-2.06 2.06-.94-2.06-.94-.94-2.06-.94 2.06-2.06.94zm-11 1L8.5 8.5l.94-2.06 2.06-.94-2.06-.94L8.5 2.5l-.94 2.06-2.06.94zm10 10l.94 2.06.94-2.06 2.06-.94-2.06-.94-.94-2.06-.94 2.06-2.06.94z\"/><path d=\"M17.41 7.96l-1.37-1.37c-.4-.4-.92-.59-1.43-.59-.52 0-1.04.2-1.43.59L10.3 9.45l-7.72 7.72c-.78.78-.78 2.05 0 2.83L4 21.41c.39.39.9.59 1.41.59.51 0 1.02-.2 1.41-.59l7.78-7.78 2.81-2.81c.8-.78.8-2.07 0-2.86zM5.41 20L4 18.59l7.72-7.72 1.47 1.35L5.41 20z\"/>\n",
              "  </svg>\n",
              "      </button>\n",
              "      \n",
              "  <style>\n",
              "    .colab-df-container {\n",
              "      display:flex;\n",
              "      flex-wrap:wrap;\n",
              "      gap: 12px;\n",
              "    }\n",
              "\n",
              "    .colab-df-convert {\n",
              "      background-color: #E8F0FE;\n",
              "      border: none;\n",
              "      border-radius: 50%;\n",
              "      cursor: pointer;\n",
              "      display: none;\n",
              "      fill: #1967D2;\n",
              "      height: 32px;\n",
              "      padding: 0 0 0 0;\n",
              "      width: 32px;\n",
              "    }\n",
              "\n",
              "    .colab-df-convert:hover {\n",
              "      background-color: #E2EBFA;\n",
              "      box-shadow: 0px 1px 2px rgba(60, 64, 67, 0.3), 0px 1px 3px 1px rgba(60, 64, 67, 0.15);\n",
              "      fill: #174EA6;\n",
              "    }\n",
              "\n",
              "    [theme=dark] .colab-df-convert {\n",
              "      background-color: #3B4455;\n",
              "      fill: #D2E3FC;\n",
              "    }\n",
              "\n",
              "    [theme=dark] .colab-df-convert:hover {\n",
              "      background-color: #434B5C;\n",
              "      box-shadow: 0px 1px 3px 1px rgba(0, 0, 0, 0.15);\n",
              "      filter: drop-shadow(0px 1px 2px rgba(0, 0, 0, 0.3));\n",
              "      fill: #FFFFFF;\n",
              "    }\n",
              "  </style>\n",
              "\n",
              "      <script>\n",
              "        const buttonEl =\n",
              "          document.querySelector('#df-7b325ddc-0cb5-4588-8ae2-ceb2b0c56333 button.colab-df-convert');\n",
              "        buttonEl.style.display =\n",
              "          google.colab.kernel.accessAllowed ? 'block' : 'none';\n",
              "\n",
              "        async function convertToInteractive(key) {\n",
              "          const element = document.querySelector('#df-7b325ddc-0cb5-4588-8ae2-ceb2b0c56333');\n",
              "          const dataTable =\n",
              "            await google.colab.kernel.invokeFunction('convertToInteractive',\n",
              "                                                     [key], {});\n",
              "          if (!dataTable) return;\n",
              "\n",
              "          const docLinkHtml = 'Like what you see? Visit the ' +\n",
              "            '<a target=\"_blank\" href=https://colab.research.google.com/notebooks/data_table.ipynb>data table notebook</a>'\n",
              "            + ' to learn more about interactive tables.';\n",
              "          element.innerHTML = '';\n",
              "          dataTable['output_type'] = 'display_data';\n",
              "          await google.colab.output.renderOutput(dataTable, element);\n",
              "          const docLink = document.createElement('div');\n",
              "          docLink.innerHTML = docLinkHtml;\n",
              "          element.appendChild(docLink);\n",
              "        }\n",
              "      </script>\n",
              "    </div>\n",
              "  </div>\n",
              "  "
            ]
          },
          "metadata": {},
          "execution_count": 41
        }
      ]
    },
    {
      "cell_type": "code",
      "source": [
        "import matplotlib.pyplot as plt\n",
        "\n",
        "plt.rcParams['figure.figsize'] = [16, 4]\n",
        "plt.subplot(1,3,1)\n",
        "raid_sum_df.num_raiders.plot.hist()\n",
        "plt.subplot(1,3,2)\n",
        "raid_sum_df[raid_sum_df.num_raiders <200].num_raiders.plot.hist()\n",
        "plt.subplot(1,3,3)\n",
        "raid_sum_df[raid_sum_df.num_raiders <20].num_raiders.plot.hist()"
      ],
      "metadata": {
        "colab": {
          "base_uri": "https://localhost:8080/",
          "height": 283
        },
        "id": "imWNOhbrEqpq",
        "outputId": "7d395e17-558f-442d-f002-4c9e1061185a"
      },
      "execution_count": 42,
      "outputs": [
        {
          "output_type": "execute_result",
          "data": {
            "text/plain": [
              "<matplotlib.axes._subplots.AxesSubplot at 0x7febc9cb9850>"
            ]
          },
          "metadata": {},
          "execution_count": 42
        },
        {
          "output_type": "display_data",
          "data": {
            "text/plain": [
              "<Figure size 1152x288 with 3 Axes>"
            ],
            "image/png": "[encoded data removed]"
          },
          "metadata": {
            "needs_background": "light"
          }
        }
      ]
    },
    {
      "cell_type": "code",
      "source": [
        "# print(len(features_vid_df_lag),len(features_vid_df_lag_raid))"
      ],
      "metadata": {
        "id": "WMRE3tvibdJH"
      },
      "execution_count": null,
      "outputs": []
    },
    {
      "cell_type": "code",
      "source": [
        "features_vid_df_lag_raid.isnull().sum()"
      ],
      "metadata": {
        "colab": {
          "base_uri": "https://localhost:8080/"
        },
        "id": "Q7hTb0sEbq66",
        "outputId": "8fd2601c-8c6c-475a-d9c4-21e31f292edc"
      },
      "execution_count": 43,
      "outputs": [
        {
          "output_type": "execute_result",
          "data": {
            "text/plain": [
              "user_id                            63\n",
              "video_id                            0\n",
              "video_url                           0\n",
              "num_messages                        0\n",
              "message_len                         0\n",
              "video_id.1                          0\n",
              "num_messages_per_min                0\n",
              "user_id.1                          63\n",
              "user_name                          63\n",
              "duration_min                       63\n",
              "created_at                         63\n",
              "title                              63\n",
              "view_count                         63\n",
              "broadcaster_type                   71\n",
              "broadcast_description             158\n",
              "broadcaster_created_at             83\n",
              "avg_messages_per_min               63\n",
              "video_url_lag                     176\n",
              "num_messages_lag                  176\n",
              "message_len_lag                   176\n",
              "video_id_lag                      176\n",
              "num_messages_per_min_lag          176\n",
              "user_id_lag                       176\n",
              "user_name_lag                     176\n",
              "duration_min_lag                  176\n",
              "created_at_lag                    176\n",
              "title_lag                         176\n",
              "view_count_lag                    176\n",
              "broadcaster_type_lag              183\n",
              "broadcast_description_lag         265\n",
              "broadcaster_created_at_lag        195\n",
              "avg_messages_per_min_lag          176\n",
              "time_after_last_stream            176\n",
              "time_after_last_stream_end        176\n",
              "user_id_post                      176\n",
              "created_at_post                   176\n",
              "time_till_next_stream             176\n",
              "time_till_last_stream_afterend    176\n",
              "ended_at                           63\n",
              "num_raiders                         0\n",
              "dtype: int64"
            ]
          },
          "metadata": {},
          "execution_count": 43
        }
      ]
    },
    {
      "cell_type": "code",
      "source": [
        "features_vid_df_lag_raid.to_csv('features_vid_df_lag_raid3.csv')"
      ],
      "metadata": {
        "id": "ZwUoT2TecH95"
      },
      "execution_count": 44,
      "outputs": []
    },
    {
      "cell_type": "code",
      "source": [
        "features_vid_df_lag_raid[['num_raiders','num_messages_per_min','num_messages','message_len','duration_min']].corr()"
      ],
      "metadata": {
        "colab": {
          "base_uri": "https://localhost:8080/",
          "height": 206
        },
        "id": "blU1NdLTe-rw",
        "outputId": "e9d8cc53-ed5b-4eca-b990-016a987870b5"
      },
      "execution_count": 45,
      "outputs": [
        {
          "output_type": "execute_result",
          "data": {
            "text/plain": [
              "                      num_raiders  num_messages_per_min  num_messages  \\\n",
              "num_raiders              1.000000              0.059615      0.225975   \n",
              "num_messages_per_min     0.059615              1.000000      0.707330   \n",
              "num_messages             0.225975              0.707330      1.000000   \n",
              "message_len             -0.045855             -0.238667     -0.227576   \n",
              "duration_min             0.183271             -0.010461      0.348038   \n",
              "\n",
              "                      message_len  duration_min  \n",
              "num_raiders             -0.045855      0.183271  \n",
              "num_messages_per_min    -0.238667     -0.010461  \n",
              "num_messages            -0.227576      0.348038  \n",
              "message_len              1.000000      0.048602  \n",
              "duration_min             0.048602      1.000000  "
            ],
            "text/html": [
              "\n",
              "  <div id=\"df-589c47b3-3c30-4f7c-9732-8736b05a169a\">\n",
              "    <div class=\"colab-df-container\">\n",
              "      <div>\n",
              "<style scoped>\n",
              "    .dataframe tbody tr th:only-of-type {\n",
              "        vertical-align: middle;\n",
              "    }\n",
              "\n",
              "    .dataframe tbody tr th {\n",
              "        vertical-align: top;\n",
              "    }\n",
              "\n",
              "    .dataframe thead th {\n",
              "        text-align: right;\n",
              "    }\n",
              "</style>\n",
              "<table border=\"1\" class=\"dataframe\">\n",
              "  <thead>\n",
              "    <tr style=\"text-align: right;\">\n",
              "      <th></th>\n",
              "      <th>num_raiders</th>\n",
              "      <th>num_messages_per_min</th>\n",
              "      <th>num_messages</th>\n",
              "      <th>message_len</th>\n",
              "      <th>duration_min</th>\n",
              "    </tr>\n",
              "  </thead>\n",
              "  <tbody>\n",
              "    <tr>\n",
              "      <th>num_raiders</th>\n",
              "      <td>1.000000</td>\n",
              "      <td>0.059615</td>\n",
              "      <td>0.225975</td>\n",
              "      <td>-0.045855</td>\n",
              "      <td>0.183271</td>\n",
              "    </tr>\n",
              "    <tr>\n",
              "      <th>num_messages_per_min</th>\n",
              "      <td>0.059615</td>\n",
              "      <td>1.000000</td>\n",
              "      <td>0.707330</td>\n",
              "      <td>-0.238667</td>\n",
              "      <td>-0.010461</td>\n",
              "    </tr>\n",
              "    <tr>\n",
              "      <th>num_messages</th>\n",
              "      <td>0.225975</td>\n",
              "      <td>0.707330</td>\n",
              "      <td>1.000000</td>\n",
              "      <td>-0.227576</td>\n",
              "      <td>0.348038</td>\n",
              "    </tr>\n",
              "    <tr>\n",
              "      <th>message_len</th>\n",
              "      <td>-0.045855</td>\n",
              "      <td>-0.238667</td>\n",
              "      <td>-0.227576</td>\n",
              "      <td>1.000000</td>\n",
              "      <td>0.048602</td>\n",
              "    </tr>\n",
              "    <tr>\n",
              "      <th>duration_min</th>\n",
              "      <td>0.183271</td>\n",
              "      <td>-0.010461</td>\n",
              "      <td>0.348038</td>\n",
              "      <td>0.048602</td>\n",
              "      <td>1.000000</td>\n",
              "    </tr>\n",
              "  </tbody>\n",
              "</table>\n",
              "</div>\n",
              "      <button class=\"colab-df-convert\" onclick=\"convertToInteractive('df-589c47b3-3c30-4f7c-9732-8736b05a169a')\"\n",
              "              title=\"Convert this dataframe to an interactive table.\"\n",
              "              style=\"display:none;\">\n",
              "        \n",
              "  <svg xmlns=\"http://www.w3.org/2000/svg\" height=\"24px\"viewBox=\"0 0 24 24\"\n",
              "       width=\"24px\">\n",
              "    <path d=\"M0 0h24v24H0V0z\" fill=\"none\"/>\n",
              "    <path d=\"M18.56 5.44l.94 2.06.94-2.06 2.06-.94-2.06-.94-.94-2.06-.94 2.06-2.06.94zm-11 1L8.5 8.5l.94-2.06 2.06-.94-2.06-.94L8.5 2.5l-.94 2.06-2.06.94zm10 10l.94 2.06.94-2.06 2.06-.94-2.06-.94-.94-2.06-.94 2.06-2.06.94z\"/><path d=\"M17.41 7.96l-1.37-1.37c-.4-.4-.92-.59-1.43-.59-.52 0-1.04.2-1.43.59L10.3 9.45l-7.72 7.72c-.78.78-.78 2.05 0 2.83L4 21.41c.39.39.9.59 1.41.59.51 0 1.02-.2 1.41-.59l7.78-7.78 2.81-2.81c.8-.78.8-2.07 0-2.86zM5.41 20L4 18.59l7.72-7.72 1.47 1.35L5.41 20z\"/>\n",
              "  </svg>\n",
              "      </button>\n",
              "      \n",
              "  <style>\n",
              "    .colab-df-container {\n",
              "      display:flex;\n",
              "      flex-wrap:wrap;\n",
              "      gap: 12px;\n",
              "    }\n",
              "\n",
              "    .colab-df-convert {\n",
              "      background-color: #E8F0FE;\n",
              "      border: none;\n",
              "      border-radius: 50%;\n",
              "      cursor: pointer;\n",
              "      display: none;\n",
              "      fill: #1967D2;\n",
              "      height: 32px;\n",
              "      padding: 0 0 0 0;\n",
              "      width: 32px;\n",
              "    }\n",
              "\n",
              "    .colab-df-convert:hover {\n",
              "      background-color: #E2EBFA;\n",
              "      box-shadow: 0px 1px 2px rgba(60, 64, 67, 0.3), 0px 1px 3px 1px rgba(60, 64, 67, 0.15);\n",
              "      fill: #174EA6;\n",
              "    }\n",
              "\n",
              "    [theme=dark] .colab-df-convert {\n",
              "      background-color: #3B4455;\n",
              "      fill: #D2E3FC;\n",
              "    }\n",
              "\n",
              "    [theme=dark] .colab-df-convert:hover {\n",
              "      background-color: #434B5C;\n",
              "      box-shadow: 0px 1px 3px 1px rgba(0, 0, 0, 0.15);\n",
              "      filter: drop-shadow(0px 1px 2px rgba(0, 0, 0, 0.3));\n",
              "      fill: #FFFFFF;\n",
              "    }\n",
              "  </style>\n",
              "\n",
              "      <script>\n",
              "        const buttonEl =\n",
              "          document.querySelector('#df-589c47b3-3c30-4f7c-9732-8736b05a169a button.colab-df-convert');\n",
              "        buttonEl.style.display =\n",
              "          google.colab.kernel.accessAllowed ? 'block' : 'none';\n",
              "\n",
              "        async function convertToInteractive(key) {\n",
              "          const element = document.querySelector('#df-589c47b3-3c30-4f7c-9732-8736b05a169a');\n",
              "          const dataTable =\n",
              "            await google.colab.kernel.invokeFunction('convertToInteractive',\n",
              "                                                     [key], {});\n",
              "          if (!dataTable) return;\n",
              "\n",
              "          const docLinkHtml = 'Like what you see? Visit the ' +\n",
              "            '<a target=\"_blank\" href=https://colab.research.google.com/notebooks/data_table.ipynb>data table notebook</a>'\n",
              "            + ' to learn more about interactive tables.';\n",
              "          element.innerHTML = '';\n",
              "          dataTable['output_type'] = 'display_data';\n",
              "          await google.colab.output.renderOutput(dataTable, element);\n",
              "          const docLink = document.createElement('div');\n",
              "          docLink.innerHTML = docLinkHtml;\n",
              "          element.appendChild(docLink);\n",
              "        }\n",
              "      </script>\n",
              "    </div>\n",
              "  </div>\n",
              "  "
            ]
          },
          "metadata": {},
          "execution_count": 45
        }
      ]
    },
    {
      "cell_type": "code",
      "source": [
        "#temp = features_vid_df_lag_raid.drop(features_vid_df_lag_raid['num_raiders'].idxmax())\n",
        "temp = features_vid_df_lag_raid[features_vid_df_lag_raid.num_raiders < features_vid_df_lag_raid.num_raiders.quantile(.99)]\n",
        "temp[['num_raiders','view_count','num_messages_per_min','num_messages','message_len','duration_min']].corr()"
      ],
      "metadata": {
        "colab": {
          "base_uri": "https://localhost:8080/",
          "height": 237
        },
        "id": "s-G1dpftdSUV",
        "outputId": "8a7892df-3806-4e89-e6ec-069d0560a1b2"
      },
      "execution_count": 46,
      "outputs": [
        {
          "output_type": "execute_result",
          "data": {
            "text/plain": [
              "                      num_raiders  view_count  num_messages_per_min  \\\n",
              "num_raiders              1.000000    0.040523             -0.008803   \n",
              "view_count               0.040523    1.000000              0.432273   \n",
              "num_messages_per_min    -0.008803    0.432273              1.000000   \n",
              "num_messages             0.115523    0.594084              0.713187   \n",
              "message_len             -0.019713   -0.108670             -0.234812   \n",
              "duration_min             0.185056    0.160089             -0.015669   \n",
              "\n",
              "                      num_messages  message_len  duration_min  \n",
              "num_raiders               0.115523    -0.019713      0.185056  \n",
              "view_count                0.594084    -0.108670      0.160089  \n",
              "num_messages_per_min      0.713187    -0.234812     -0.015669  \n",
              "num_messages              1.000000    -0.224616      0.336817  \n",
              "message_len              -0.224616     1.000000      0.055643  \n",
              "duration_min              0.336817     0.055643      1.000000  "
            ],
            "text/html": [
              "\n",
              "  <div id=\"df-01bf88e7-6ad1-42ae-b913-a8cf5087465f\">\n",
              "    <div class=\"colab-df-container\">\n",
              "      <div>\n",
              "<style scoped>\n",
              "    .dataframe tbody tr th:only-of-type {\n",
              "        vertical-align: middle;\n",
              "    }\n",
              "\n",
              "    .dataframe tbody tr th {\n",
              "        vertical-align: top;\n",
              "    }\n",
              "\n",
              "    .dataframe thead th {\n",
              "        text-align: right;\n",
              "    }\n",
              "</style>\n",
              "<table border=\"1\" class=\"dataframe\">\n",
              "  <thead>\n",
              "    <tr style=\"text-align: right;\">\n",
              "      <th></th>\n",
              "      <th>num_raiders</th>\n",
              "      <th>view_count</th>\n",
              "      <th>num_messages_per_min</th>\n",
              "      <th>num_messages</th>\n",
              "      <th>message_len</th>\n",
              "      <th>duration_min</th>\n",
              "    </tr>\n",
              "  </thead>\n",
              "  <tbody>\n",
              "    <tr>\n",
              "      <th>num_raiders</th>\n",
              "      <td>1.000000</td>\n",
              "      <td>0.040523</td>\n",
              "      <td>-0.008803</td>\n",
              "      <td>0.115523</td>\n",
              "      <td>-0.019713</td>\n",
              "      <td>0.185056</td>\n",
              "    </tr>\n",
              "    <tr>\n",
              "      <th>view_count</th>\n",
              "      <td>0.040523</td>\n",
              "      <td>1.000000</td>\n",
              "      <td>0.432273</td>\n",
              "      <td>0.594084</td>\n",
              "      <td>-0.108670</td>\n",
              "      <td>0.160089</td>\n",
              "    </tr>\n",
              "    <tr>\n",
              "      <th>num_messages_per_min</th>\n",
              "      <td>-0.008803</td>\n",
              "      <td>0.432273</td>\n",
              "      <td>1.000000</td>\n",
              "      <td>0.713187</td>\n",
              "      <td>-0.234812</td>\n",
              "      <td>-0.015669</td>\n",
              "    </tr>\n",
              "    <tr>\n",
              "      <th>num_messages</th>\n",
              "      <td>0.115523</td>\n",
              "      <td>0.594084</td>\n",
              "      <td>0.713187</td>\n",
              "      <td>1.000000</td>\n",
              "      <td>-0.224616</td>\n",
              "      <td>0.336817</td>\n",
              "    </tr>\n",
              "    <tr>\n",
              "      <th>message_len</th>\n",
              "      <td>-0.019713</td>\n",
              "      <td>-0.108670</td>\n",
              "      <td>-0.234812</td>\n",
              "      <td>-0.224616</td>\n",
              "      <td>1.000000</td>\n",
              "      <td>0.055643</td>\n",
              "    </tr>\n",
              "    <tr>\n",
              "      <th>duration_min</th>\n",
              "      <td>0.185056</td>\n",
              "      <td>0.160089</td>\n",
              "      <td>-0.015669</td>\n",
              "      <td>0.336817</td>\n",
              "      <td>0.055643</td>\n",
              "      <td>1.000000</td>\n",
              "    </tr>\n",
              "  </tbody>\n",
              "</table>\n",
              "</div>\n",
              "      <button class=\"colab-df-convert\" onclick=\"convertToInteractive('df-01bf88e7-6ad1-42ae-b913-a8cf5087465f')\"\n",
              "              title=\"Convert this dataframe to an interactive table.\"\n",
              "              style=\"display:none;\">\n",
              "        \n",
              "  <svg xmlns=\"http://www.w3.org/2000/svg\" height=\"24px\"viewBox=\"0 0 24 24\"\n",
              "       width=\"24px\">\n",
              "    <path d=\"M0 0h24v24H0V0z\" fill=\"none\"/>\n",
              "    <path d=\"M18.56 5.44l.94 2.06.94-2.06 2.06-.94-2.06-.94-.94-2.06-.94 2.06-2.06.94zm-11 1L8.5 8.5l.94-2.06 2.06-.94-2.06-.94L8.5 2.5l-.94 2.06-2.06.94zm10 10l.94 2.06.94-2.06 2.06-.94-2.06-.94-.94-2.06-.94 2.06-2.06.94z\"/><path d=\"M17.41 7.96l-1.37-1.37c-.4-.4-.92-.59-1.43-.59-.52 0-1.04.2-1.43.59L10.3 9.45l-7.72 7.72c-.78.78-.78 2.05 0 2.83L4 21.41c.39.39.9.59 1.41.59.51 0 1.02-.2 1.41-.59l7.78-7.78 2.81-2.81c.8-.78.8-2.07 0-2.86zM5.41 20L4 18.59l7.72-7.72 1.47 1.35L5.41 20z\"/>\n",
              "  </svg>\n",
              "      </button>\n",
              "      \n",
              "  <style>\n",
              "    .colab-df-container {\n",
              "      display:flex;\n",
              "      flex-wrap:wrap;\n",
              "      gap: 12px;\n",
              "    }\n",
              "\n",
              "    .colab-df-convert {\n",
              "      background-color: #E8F0FE;\n",
              "      border: none;\n",
              "      border-radius: 50%;\n",
              "      cursor: pointer;\n",
              "      display: none;\n",
              "      fill: #1967D2;\n",
              "      height: 32px;\n",
              "      padding: 0 0 0 0;\n",
              "      width: 32px;\n",
              "    }\n",
              "\n",
              "    .colab-df-convert:hover {\n",
              "      background-color: #E2EBFA;\n",
              "      box-shadow: 0px 1px 2px rgba(60, 64, 67, 0.3), 0px 1px 3px 1px rgba(60, 64, 67, 0.15);\n",
              "      fill: #174EA6;\n",
              "    }\n",
              "\n",
              "    [theme=dark] .colab-df-convert {\n",
              "      background-color: #3B4455;\n",
              "      fill: #D2E3FC;\n",
              "    }\n",
              "\n",
              "    [theme=dark] .colab-df-convert:hover {\n",
              "      background-color: #434B5C;\n",
              "      box-shadow: 0px 1px 3px 1px rgba(0, 0, 0, 0.15);\n",
              "      filter: drop-shadow(0px 1px 2px rgba(0, 0, 0, 0.3));\n",
              "      fill: #FFFFFF;\n",
              "    }\n",
              "  </style>\n",
              "\n",
              "      <script>\n",
              "        const buttonEl =\n",
              "          document.querySelector('#df-01bf88e7-6ad1-42ae-b913-a8cf5087465f button.colab-df-convert');\n",
              "        buttonEl.style.display =\n",
              "          google.colab.kernel.accessAllowed ? 'block' : 'none';\n",
              "\n",
              "        async function convertToInteractive(key) {\n",
              "          const element = document.querySelector('#df-01bf88e7-6ad1-42ae-b913-a8cf5087465f');\n",
              "          const dataTable =\n",
              "            await google.colab.kernel.invokeFunction('convertToInteractive',\n",
              "                                                     [key], {});\n",
              "          if (!dataTable) return;\n",
              "\n",
              "          const docLinkHtml = 'Like what you see? Visit the ' +\n",
              "            '<a target=\"_blank\" href=https://colab.research.google.com/notebooks/data_table.ipynb>data table notebook</a>'\n",
              "            + ' to learn more about interactive tables.';\n",
              "          element.innerHTML = '';\n",
              "          dataTable['output_type'] = 'display_data';\n",
              "          await google.colab.output.renderOutput(dataTable, element);\n",
              "          const docLink = document.createElement('div');\n",
              "          docLink.innerHTML = docLinkHtml;\n",
              "          element.appendChild(docLink);\n",
              "        }\n",
              "      </script>\n",
              "    </div>\n",
              "  </div>\n",
              "  "
            ]
          },
          "metadata": {},
          "execution_count": 46
        }
      ]
    },
    {
      "cell_type": "code",
      "source": [
        "temp.plot.scatter(x = 'num_raiders', y = 'num_messages_per_min', s = 10);"
      ],
      "metadata": {
        "colab": {
          "base_uri": "https://localhost:8080/",
          "height": 280
        },
        "id": "4Tn6qKtdfT8d",
        "outputId": "39834c6d-c4d3-418a-bc96-fa1984affc2a"
      },
      "execution_count": 47,
      "outputs": [
        {
          "output_type": "display_data",
          "data": {
            "text/plain": [
              "<Figure size 1152x288 with 1 Axes>"
            ],
            "image/png": "[encoded data removed]"
          },
          "metadata": {
            "needs_background": "light"
          }
        }
      ]
    },
    {
      "cell_type": "code",
      "source": [
        "#temp = features_vid_df_lag_raid.drop(features_vid_df_lag_raid['num_raiders'].idxmax())\n",
        "temp = features_vid_df_lag_raid[features_vid_df_lag_raid.num_raiders < features_vid_df_lag_raid.num_raiders.quantile(.95)]\n",
        "temp = temp[temp['num_raiders'] != 0 ]\n",
        "temp[['num_raiders','view_count','num_messages_per_min','num_messages','message_len','duration_min']].corr()"
      ],
      "metadata": {
        "colab": {
          "base_uri": "https://localhost:8080/",
          "height": 237
        },
        "id": "tQgSFEevgfGs",
        "outputId": "92dd748a-67f3-4d84-9d54-8b34300d6fa7"
      },
      "execution_count": 48,
      "outputs": [
        {
          "output_type": "execute_result",
          "data": {
            "text/plain": [
              "                      num_raiders  view_count  num_messages_per_min  \\\n",
              "num_raiders              1.000000   -0.041537             -0.011538   \n",
              "view_count              -0.041537    1.000000              0.224562   \n",
              "num_messages_per_min    -0.011538    0.224562              1.000000   \n",
              "num_messages             0.056258    0.508789              0.755858   \n",
              "message_len             -0.013178   -0.075152             -0.346670   \n",
              "duration_min             0.051421    0.363965             -0.044045   \n",
              "\n",
              "                      num_messages  message_len  duration_min  \n",
              "num_raiders               0.056258    -0.013178      0.051421  \n",
              "view_count                0.508789    -0.075152      0.363965  \n",
              "num_messages_per_min      0.755858    -0.346670     -0.044045  \n",
              "num_messages              1.000000    -0.283128      0.353476  \n",
              "message_len              -0.283128     1.000000      0.173229  \n",
              "duration_min              0.353476     0.173229      1.000000  "
            ],
            "text/html": [
              "\n",
              "  <div id=\"df-78709c7e-63e4-496c-923c-d8e072c51653\">\n",
              "    <div class=\"colab-df-container\">\n",
              "      <div>\n",
              "<style scoped>\n",
              "    .dataframe tbody tr th:only-of-type {\n",
              "        vertical-align: middle;\n",
              "    }\n",
              "\n",
              "    .dataframe tbody tr th {\n",
              "        vertical-align: top;\n",
              "    }\n",
              "\n",
              "    .dataframe thead th {\n",
              "        text-align: right;\n",
              "    }\n",
              "</style>\n",
              "<table border=\"1\" class=\"dataframe\">\n",
              "  <thead>\n",
              "    <tr style=\"text-align: right;\">\n",
              "      <th></th>\n",
              "      <th>num_raiders</th>\n",
              "      <th>view_count</th>\n",
              "      <th>num_messages_per_min</th>\n",
              "      <th>num_messages</th>\n",
              "      <th>message_len</th>\n",
              "      <th>duration_min</th>\n",
              "    </tr>\n",
              "  </thead>\n",
              "  <tbody>\n",
              "    <tr>\n",
              "      <th>num_raiders</th>\n",
              "      <td>1.000000</td>\n",
              "      <td>-0.041537</td>\n",
              "      <td>-0.011538</td>\n",
              "      <td>0.056258</td>\n",
              "      <td>-0.013178</td>\n",
              "      <td>0.051421</td>\n",
              "    </tr>\n",
              "    <tr>\n",
              "      <th>view_count</th>\n",
              "      <td>-0.041537</td>\n",
              "      <td>1.000000</td>\n",
              "      <td>0.224562</td>\n",
              "      <td>0.508789</td>\n",
              "      <td>-0.075152</td>\n",
              "      <td>0.363965</td>\n",
              "    </tr>\n",
              "    <tr>\n",
              "      <th>num_messages_per_min</th>\n",
              "      <td>-0.011538</td>\n",
              "      <td>0.224562</td>\n",
              "      <td>1.000000</td>\n",
              "      <td>0.755858</td>\n",
              "      <td>-0.346670</td>\n",
              "      <td>-0.044045</td>\n",
              "    </tr>\n",
              "    <tr>\n",
              "      <th>num_messages</th>\n",
              "      <td>0.056258</td>\n",
              "      <td>0.508789</td>\n",
              "      <td>0.755858</td>\n",
              "      <td>1.000000</td>\n",
              "      <td>-0.283128</td>\n",
              "      <td>0.353476</td>\n",
              "    </tr>\n",
              "    <tr>\n",
              "      <th>message_len</th>\n",
              "      <td>-0.013178</td>\n",
              "      <td>-0.075152</td>\n",
              "      <td>-0.346670</td>\n",
              "      <td>-0.283128</td>\n",
              "      <td>1.000000</td>\n",
              "      <td>0.173229</td>\n",
              "    </tr>\n",
              "    <tr>\n",
              "      <th>duration_min</th>\n",
              "      <td>0.051421</td>\n",
              "      <td>0.363965</td>\n",
              "      <td>-0.044045</td>\n",
              "      <td>0.353476</td>\n",
              "      <td>0.173229</td>\n",
              "      <td>1.000000</td>\n",
              "    </tr>\n",
              "  </tbody>\n",
              "</table>\n",
              "</div>\n",
              "      <button class=\"colab-df-convert\" onclick=\"convertToInteractive('df-78709c7e-63e4-496c-923c-d8e072c51653')\"\n",
              "              title=\"Convert this dataframe to an interactive table.\"\n",
              "              style=\"display:none;\">\n",
              "        \n",
              "  <svg xmlns=\"http://www.w3.org/2000/svg\" height=\"24px\"viewBox=\"0 0 24 24\"\n",
              "       width=\"24px\">\n",
              "    <path d=\"M0 0h24v24H0V0z\" fill=\"none\"/>\n",
              "    <path d=\"M18.56 5.44l.94 2.06.94-2.06 2.06-.94-2.06-.94-.94-2.06-.94 2.06-2.06.94zm-11 1L8.5 8.5l.94-2.06 2.06-.94-2.06-.94L8.5 2.5l-.94 2.06-2.06.94zm10 10l.94 2.06.94-2.06 2.06-.94-2.06-.94-.94-2.06-.94 2.06-2.06.94z\"/><path d=\"M17.41 7.96l-1.37-1.37c-.4-.4-.92-.59-1.43-.59-.52 0-1.04.2-1.43.59L10.3 9.45l-7.72 7.72c-.78.78-.78 2.05 0 2.83L4 21.41c.39.39.9.59 1.41.59.51 0 1.02-.2 1.41-.59l7.78-7.78 2.81-2.81c.8-.78.8-2.07 0-2.86zM5.41 20L4 18.59l7.72-7.72 1.47 1.35L5.41 20z\"/>\n",
              "  </svg>\n",
              "      </button>\n",
              "      \n",
              "  <style>\n",
              "    .colab-df-container {\n",
              "      display:flex;\n",
              "      flex-wrap:wrap;\n",
              "      gap: 12px;\n",
              "    }\n",
              "\n",
              "    .colab-df-convert {\n",
              "      background-color: #E8F0FE;\n",
              "      border: none;\n",
              "      border-radius: 50%;\n",
              "      cursor: pointer;\n",
              "      display: none;\n",
              "      fill: #1967D2;\n",
              "      height: 32px;\n",
              "      padding: 0 0 0 0;\n",
              "      width: 32px;\n",
              "    }\n",
              "\n",
              "    .colab-df-convert:hover {\n",
              "      background-color: #E2EBFA;\n",
              "      box-shadow: 0px 1px 2px rgba(60, 64, 67, 0.3), 0px 1px 3px 1px rgba(60, 64, 67, 0.15);\n",
              "      fill: #174EA6;\n",
              "    }\n",
              "\n",
              "    [theme=dark] .colab-df-convert {\n",
              "      background-color: #3B4455;\n",
              "      fill: #D2E3FC;\n",
              "    }\n",
              "\n",
              "    [theme=dark] .colab-df-convert:hover {\n",
              "      background-color: #434B5C;\n",
              "      box-shadow: 0px 1px 3px 1px rgba(0, 0, 0, 0.15);\n",
              "      filter: drop-shadow(0px 1px 2px rgba(0, 0, 0, 0.3));\n",
              "      fill: #FFFFFF;\n",
              "    }\n",
              "  </style>\n",
              "\n",
              "      <script>\n",
              "        const buttonEl =\n",
              "          document.querySelector('#df-78709c7e-63e4-496c-923c-d8e072c51653 button.colab-df-convert');\n",
              "        buttonEl.style.display =\n",
              "          google.colab.kernel.accessAllowed ? 'block' : 'none';\n",
              "\n",
              "        async function convertToInteractive(key) {\n",
              "          const element = document.querySelector('#df-78709c7e-63e4-496c-923c-d8e072c51653');\n",
              "          const dataTable =\n",
              "            await google.colab.kernel.invokeFunction('convertToInteractive',\n",
              "                                                     [key], {});\n",
              "          if (!dataTable) return;\n",
              "\n",
              "          const docLinkHtml = 'Like what you see? Visit the ' +\n",
              "            '<a target=\"_blank\" href=https://colab.research.google.com/notebooks/data_table.ipynb>data table notebook</a>'\n",
              "            + ' to learn more about interactive tables.';\n",
              "          element.innerHTML = '';\n",
              "          dataTable['output_type'] = 'display_data';\n",
              "          await google.colab.output.renderOutput(dataTable, element);\n",
              "          const docLink = document.createElement('div');\n",
              "          docLink.innerHTML = docLinkHtml;\n",
              "          element.appendChild(docLink);\n",
              "        }\n",
              "      </script>\n",
              "    </div>\n",
              "  </div>\n",
              "  "
            ]
          },
          "metadata": {},
          "execution_count": 48
        }
      ]
    },
    {
      "cell_type": "code",
      "source": [
        "temp.plot.scatter(x = 'num_raiders', y = 'num_messages_per_min', s = 10);"
      ],
      "metadata": {
        "colab": {
          "base_uri": "https://localhost:8080/",
          "height": 280
        },
        "id": "dddOtBYHgnO9",
        "outputId": "d5af9646-a0d1-4c5a-a35a-3795fa9c3c42"
      },
      "execution_count": 49,
      "outputs": [
        {
          "output_type": "display_data",
          "data": {
            "text/plain": [
              "<Figure size 1152x288 with 1 Axes>"
            ],
            "image/png": "[encoded data removed]"
          },
          "metadata": {
            "needs_background": "light"
          }
        }
      ]
    },
    {
      "cell_type": "code",
      "source": [
        "#!pip install linearmodels\n",
        "!pip install stargazer"
      ],
      "metadata": {
        "id": "Rmdc3Xt3HXyn",
        "colab": {
          "base_uri": "https://localhost:8080/"
        },
        "outputId": "dfb69afa-5350-44e2-b780-c481d402f8df"
      },
      "execution_count": 50,
      "outputs": [
        {
          "output_type": "stream",
          "name": "stdout",
          "text": [
            "Looking in indexes: https://pypi.org/simple, https://us-python.pkg.dev/colab-wheels/public/simple/\n",
            "Collecting stargazer\n",
            "  Downloading stargazer-0.0.5-py3-none-any.whl (9.7 kB)\n",
            "Installing collected packages: stargazer\n",
            "Successfully installed stargazer-0.0.5\n"
          ]
        }
      ]
    },
    {
      "cell_type": "code",
      "source": [
        "# econometrics in python: https://medium.com/@vince.shields913/econometrics-with-python-pt-4-20b7842f01df\n",
        "import statsmodels.formula.api as smf\n",
        "from stargazer.stargazer import Stargazer\n",
        "from IPython.core.display import HTML\n",
        "\n",
        "est_df = features_vid_df_lag_raid\n",
        "\n",
        "fml = 'num_messages_per_min ~ num_raiders '\n",
        "reg1 = smf.ols(formula= fml, data=est_df).fit(cov_type = 'HC3')\n",
        "\n",
        "fml = 'num_messages_per_min ~ num_raiders + np.log(view_count+1)'\n",
        "reg2 = smf.ols(formula= fml, data=est_df).fit(cov_type = 'HC3')\n",
        "\n",
        "fml = 'num_messages_per_min ~ num_raiders + np.log(view_count+1) '\n",
        "reg3 = smf.ols(formula= fml, data=est_df).fit(cov_type = 'HC3')\n",
        "\n",
        "stargazer = Stargazer([reg1, reg2,reg3])\n",
        "HTML(stargazer.render_html())\n"
      ],
      "metadata": {
        "colab": {
          "base_uri": "https://localhost:8080/",
          "height": 361
        },
        "id": "45YiEPJRGL07",
        "outputId": "22b4530a-07fd-4828-9021-f6cc1bbbc6c4"
      },
      "execution_count": 51,
      "outputs": [
        {
          "output_type": "execute_result",
          "data": {
            "text/plain": [
              "<IPython.core.display.HTML object>"
            ],
            "text/html": [
              "<table style=\"text-align:center\"><tr><td colspan=\"4\" style=\"border-bottom: 1px solid black\"></td></tr><tr><td style=\"text-align:left\"></td><td colspan=\"3\"><em>Dependent variable:num_messages_per_min</em></td></tr><tr><td style=\"text-align:left\"></td><tr><td style=\"text-align:left\"></td><td>(1)</td><td>(2)</td><td>(3)</td></tr><tr><td colspan=\"4\" style=\"border-bottom: 1px solid black\"></td></tr><tr><td style=\"text-align:left\">Intercept</td><td>14.085<sup>***</sup></td><td>-13.157<sup>***</sup></td><td>-13.157<sup>***</sup></td></tr><tr><td style=\"text-align:left\"></td><td>(0.673)</td><td>(2.833)</td><td>(2.833)</td></tr><tr><td style=\"text-align:left\">np.log(view_count + 1)</td><td></td><td>3.691<sup>***</sup></td><td>3.691<sup>***</sup></td></tr><tr><td style=\"text-align:left\"></td><td></td><td>(0.445)</td><td>(0.445)</td></tr><tr><td style=\"text-align:left\">num_raiders</td><td>0.014<sup>***</sup></td><td>-0.000<sup></sup></td><td>-0.000<sup></sup></td></tr><tr><td style=\"text-align:left\"></td><td>(0.005)</td><td>(0.005)</td><td>(0.005)</td></tr><td colspan=\"4\" style=\"border-bottom: 1px solid black\"></td></tr><tr><td style=\"text-align: left\">Observations</td><td>1,888</td><td>1,825</td><td>1,825</td></tr><tr><td style=\"text-align: left\">R<sup>2</sup></td><td>0.004</td><td>0.109</td><td>0.109</td></tr><tr><td style=\"text-align: left\">Adjusted R<sup>2</sup></td><td>0.003</td><td>0.108</td><td>0.108</td></tr><tr><td style=\"text-align: left\">Residual Std. Error</td><td>28.161 (df=1886)</td><td>26.745 (df=1822)</td><td>26.745 (df=1822)</td></tr><tr><td style=\"text-align: left\">F Statistic</td><td>7.486<sup>***</sup> (df=1; 1886)</td><td>44.015<sup>***</sup> (df=2; 1822)</td><td>44.015<sup>***</sup> (df=2; 1822)</td></tr><tr><td colspan=\"4\" style=\"border-bottom: 1px solid black\"></td></tr><tr><td style=\"text-align: left\">Note:</td>\n",
              " <td colspan=\"3\" style=\"text-align: right\">\n",
              "  <sup>*</sup>p&lt;0.1;\n",
              "  <sup>**</sup>p&lt;0.05;\n",
              "  <sup>***</sup>p&lt;0.01\n",
              " </td></tr></table>"
            ]
          },
          "metadata": {},
          "execution_count": 51
        }
      ]
    },
    {
      "cell_type": "code",
      "source": [],
      "metadata": {
        "id": "8rZU9b5CGLoP"
      },
      "execution_count": null,
      "outputs": []
    },
    {
      "cell_type": "markdown",
      "source": [
        "## Ignore code down below"
      ],
      "metadata": {
        "id": "PdHsZUJFJtuz"
      }
    },
    {
      "cell_type": "code",
      "source": [
        "raid_df['Date'][4]"
      ],
      "metadata": {
        "colab": {
          "base_uri": "https://localhost:8080/",
          "height": 36
        },
        "id": "tMM4UrcQJtsm",
        "outputId": "0d9060d8-b058-4525-9e81-6f0375170027"
      },
      "execution_count": null,
      "outputs": [
        {
          "output_type": "execute_result",
          "data": {
            "text/plain": [
              "'Oct 28, 2022 at 19:54'"
            ],
            "application/vnd.google.colaboratory.intrinsic+json": {
              "type": "string"
            }
          },
          "metadata": {},
          "execution_count": 117
        }
      ]
    },
    {
      "cell_type": "code",
      "source": [],
      "metadata": {
        "id": "TM6wLouuJthj"
      },
      "execution_count": null,
      "outputs": []
    },
    {
      "cell_type": "code",
      "source": [
        "# makes a GET request to a URL and returns the text from that page.\n",
        "def get_page(url):\n",
        "    return requests.get(url).content"
      ],
      "metadata": {
        "id": "5miCEAak75rP"
      },
      "execution_count": null,
      "outputs": []
    },
    {
      "cell_type": "code",
      "source": [
        "page = get_page('https://streamscharts.com/tools/raid-finder/vnceofficial')\n",
        "page"
      ],
      "metadata": {
        "id": "rZZ9MA6C-AtS"
      },
      "execution_count": null,
      "outputs": []
    },
    {
      "cell_type": "code",
      "source": [
        "soup = BeautifulSoup(page, 'html.parser') # parses the document using a HTML parser"
      ],
      "metadata": {
        "id": "HX4Ksu9R-Fb4"
      },
      "execution_count": null,
      "outputs": []
    },
    {
      "cell_type": "code",
      "source": [
        "lists = soup.find_all('th')"
      ],
      "metadata": {
        "id": "B68cvgKr-LJ1"
      },
      "execution_count": null,
      "outputs": []
    },
    {
      "cell_type": "code",
      "source": [
        "lists"
      ],
      "metadata": {
        "id": "IJopv5Vh-Lpo"
      },
      "execution_count": null,
      "outputs": []
    },
    {
      "cell_type": "code",
      "source": [
        "import re"
      ],
      "metadata": {
        "id": "qnwMQdv3Brgf"
      },
      "execution_count": null,
      "outputs": []
    },
    {
      "cell_type": "code",
      "source": [
        "url = \"raid_VNCEOOfficial.html\"\n",
        "page = open(url)"
      ],
      "metadata": {
        "id": "yyMbgHqYEiJn"
      },
      "execution_count": null,
      "outputs": []
    },
    {
      "cell_type": "code",
      "source": [
        "page.text()"
      ],
      "metadata": {
        "colab": {
          "base_uri": "https://localhost:8080/",
          "height": 168
        },
        "id": "VJRdqpzR8KAi",
        "outputId": "0c183268-ad20-462b-e0ca-414257ecd42e"
      },
      "execution_count": null,
      "outputs": [
        {
          "output_type": "error",
          "ename": "AttributeError",
          "evalue": "ignored",
          "traceback": [
            "\u001b[0;31m---------------------------------------------------------------------------\u001b[0m",
            "\u001b[0;31mAttributeError\u001b[0m                            Traceback (most recent call last)",
            "\u001b[0;32m<ipython-input-32-73c1e8a32e57>\u001b[0m in \u001b[0;36m<module>\u001b[0;34m\u001b[0m\n\u001b[0;32m----> 1\u001b[0;31m \u001b[0mpage\u001b[0m\u001b[0;34m.\u001b[0m\u001b[0mtext\u001b[0m\u001b[0;34m(\u001b[0m\u001b[0;34m)\u001b[0m\u001b[0;34m\u001b[0m\u001b[0;34m\u001b[0m\u001b[0m\n\u001b[0m",
            "\u001b[0;31mAttributeError\u001b[0m: '_io.TextIOWrapper' object has no attribute 'text'"
          ]
        }
      ]
    },
    {
      "cell_type": "code",
      "source": [
        "soup = BeautifulSoup(page,'html.parser')"
      ],
      "metadata": {
        "id": "MMG-PBbTE2Je"
      },
      "execution_count": null,
      "outputs": []
    },
    {
      "cell_type": "code",
      "source": [
        "print(table)"
      ],
      "metadata": {
        "id": "JvCZA23n8E0o"
      },
      "execution_count": null,
      "outputs": []
    },
    {
      "cell_type": "code",
      "source": [
        "header = table.find_all('th')"
      ],
      "metadata": {
        "colab": {
          "base_uri": "https://localhost:8080/",
          "height": 168
        },
        "id": "YNWaxMgoGSlv",
        "outputId": "9a7095de-3a51-4741-89e0-6c2b890ae1c6"
      },
      "execution_count": null,
      "outputs": [
        {
          "output_type": "error",
          "ename": "AttributeError",
          "evalue": "ignored",
          "traceback": [
            "\u001b[0;31m---------------------------------------------------------------------------\u001b[0m",
            "\u001b[0;31mAttributeError\u001b[0m                            Traceback (most recent call last)",
            "\u001b[0;32m<ipython-input-95-1312e7855d35>\u001b[0m in \u001b[0;36m<module>\u001b[0;34m\u001b[0m\n\u001b[0;32m----> 1\u001b[0;31m \u001b[0mheader\u001b[0m \u001b[0;34m=\u001b[0m \u001b[0mtable\u001b[0m\u001b[0;34m.\u001b[0m\u001b[0mfind_all\u001b[0m\u001b[0;34m(\u001b[0m\u001b[0;34m'th'\u001b[0m\u001b[0;34m)\u001b[0m\u001b[0;34m\u001b[0m\u001b[0;34m\u001b[0m\u001b[0m\n\u001b[0m",
            "\u001b[0;31mAttributeError\u001b[0m: 'NoneType' object has no attribute 'find_all'"
          ]
        }
      ]
    },
    {
      "cell_type": "code",
      "source": [
        "print(table)"
      ],
      "metadata": {
        "colab": {
          "base_uri": "https://localhost:8080/"
        },
        "id": "koDC9sdGGTM2",
        "outputId": "b65cd1c7-f85e-4a92-8991-4f90c4ca3c29"
      },
      "execution_count": null,
      "outputs": [
        {
          "output_type": "stream",
          "name": "stdout",
          "text": [
            "None\n"
          ]
        }
      ]
    },
    {
      "cell_type": "code",
      "source": [
        "soup"
      ],
      "metadata": {
        "id": "0MZ4Lb1kI4lu"
      },
      "execution_count": null,
      "outputs": []
    },
    {
      "cell_type": "code",
      "source": [],
      "metadata": {
        "id": "0m7ZlSsdJZFB"
      },
      "execution_count": null,
      "outputs": []
    }
  ]
}