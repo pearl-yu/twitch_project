{
  "nbformat": 4,
  "nbformat_minor": 0,
  "metadata": {
    "colab": {
      "provenance": [],
      "authorship_tag": "ABX9TyMj8Evq6X05GNy8Mo7gZhiY",
      "include_colab_link": true
    },
    "kernelspec": {
      "name": "python3",
      "display_name": "Python 3"
    },
    "language_info": {
      "name": "python"
    }
  },
  "cells": [
    {
      "cell_type": "markdown",
      "metadata": {
        "id": "view-in-github",
        "colab_type": "text"
      },
      "source": [
        "<a href=\"https://colab.research.google.com/github/pearl-yu/twitch_project/blob/main/dependent_variable_exploration.ipynb\" target=\"_parent\"><img src=\"https://colab.research.google.com/assets/colab-badge.svg\" alt=\"Open In Colab\"/></a>"
      ]
    },
    {
      "cell_type": "markdown",
      "source": [
        "## Explore the dependent variables\n",
        "\n",
        "We want to explore the big decision: becoming full time.   \n",
        "This is based on the streaming time of the streamers.   \n",
        "So we want to plot the distribution of streaming time. To see, if it looks like binormal distribution. \n",
        "- Weekly average: From the small sample, I believe there is the pattern. But we need a larger dataset.\n",
        "- Or just pick one week. \n",
        "\n",
        "Another one is leaving. It'll be easy to include them into the sample tho. "
      ],
      "metadata": {
        "id": "T1kJKxtzeP2n"
      }
    },
    {
      "cell_type": "code",
      "source": [
        "import pandas as pd\n",
        "import matplotlib.pyplot as plt"
      ],
      "metadata": {
        "id": "_e_GzklzFLQ8"
      },
      "execution_count": null,
      "outputs": []
    },
    {
      "cell_type": "code",
      "execution_count": null,
      "metadata": {
        "id": "X3EOxMqmEypO"
      },
      "outputs": [],
      "source": [
        "video_df = pd.read_csv('video_df_merge.csv')"
      ]
    },
    {
      "cell_type": "code",
      "source": [
        "video_df['created_at'] = pd.to_datetime(video_df['created_at']) \n",
        "video_df['created_week'] = video_df['created_at'].dt.week"
      ],
      "metadata": {
        "colab": {
          "base_uri": "https://localhost:8080/"
        },
        "id": "c_DeF3dIFiZw",
        "outputId": "b97dcc60-084a-433d-a1ff-8c784c7be004"
      },
      "execution_count": null,
      "outputs": [
        {
          "output_type": "stream",
          "name": "stderr",
          "text": [
            "/usr/local/lib/python3.7/dist-packages/ipykernel_launcher.py:2: FutureWarning: Series.dt.weekofyear and Series.dt.week have been deprecated.  Please use Series.dt.isocalendar().week instead.\n",
            "  \n"
          ]
        }
      ]
    },
    {
      "cell_type": "code",
      "source": [
        "print('Number of streamers in dataset:', video_df.user_id.nunique())\n",
        "print('Time span of dataset:',video_df['created_at'].min(),video_df['created_at'].max())"
      ],
      "metadata": {
        "colab": {
          "base_uri": "https://localhost:8080/"
        },
        "id": "2dyIXu-6pnOb",
        "outputId": "4d6ddb7b-fabf-4199-ec94-3a423641f1b9"
      },
      "execution_count": null,
      "outputs": [
        {
          "output_type": "stream",
          "name": "stdout",
          "text": [
            "Number of streamers in dataset: 90\n",
            "Time span of dataset: 2013-07-12 13:00:03+00:00 2022-10-11 23:20:12+00:00\n"
          ]
        }
      ]
    },
    {
      "cell_type": "code",
      "source": [
        "# Organize to user-weekly level \n",
        "video_weekly_df = video_df.groupby(['user_id','created_week']).agg({'id':'count',\n",
        "                                 'duration_min':[min,max,'mean','sum'],\n",
        "                                 'view_count':['mean','sum']}).reset_index()\n",
        "video_weekly_df.columns = ['_'.join(col) for col in video_weekly_df.columns]\n",
        "\n",
        "video_weekly_df.head()"
      ],
      "metadata": {
        "colab": {
          "base_uri": "https://localhost:8080/",
          "height": 206
        },
        "id": "COrsV_WdFKFE",
        "outputId": "d49dd064-6463-4681-fa51-71fa9ef36cab"
      },
      "execution_count": null,
      "outputs": [
        {
          "output_type": "execute_result",
          "data": {
            "text/plain": [
              "    user_id_  created_week_  id_count  duration_min_min  duration_min_max  \\\n",
              "0  104211056           22.0         1          1.116667          1.116667   \n",
              "1  104211056           39.0         3        377.666667        488.566667   \n",
              "2  104211056           40.0         3        367.666667        379.366667   \n",
              "3  104211056           41.0         1        385.600000        385.600000   \n",
              "4  113025683           18.0         4         12.716667         14.916667   \n",
              "\n",
              "   duration_min_mean  duration_min_sum  view_count_mean  view_count_sum  \n",
              "0           1.116667          1.116667      7189.000000          7189.0  \n",
              "1         420.188889       1260.566667     47883.666667        143651.0  \n",
              "2         374.311111       1122.933333     66088.666667        198266.0  \n",
              "3         385.600000        385.600000     70199.000000         70199.0  \n",
              "4          13.737500         54.950000         0.500000             2.0  "
            ],
            "text/html": [
              "\n",
              "  <div id=\"df-9cb75bf3-2464-4401-889c-80c40a41712f\">\n",
              "    <div class=\"colab-df-container\">\n",
              "      <div>\n",
              "<style scoped>\n",
              "    .dataframe tbody tr th:only-of-type {\n",
              "        vertical-align: middle;\n",
              "    }\n",
              "\n",
              "    .dataframe tbody tr th {\n",
              "        vertical-align: top;\n",
              "    }\n",
              "\n",
              "    .dataframe thead th {\n",
              "        text-align: right;\n",
              "    }\n",
              "</style>\n",
              "<table border=\"1\" class=\"dataframe\">\n",
              "  <thead>\n",
              "    <tr style=\"text-align: right;\">\n",
              "      <th></th>\n",
              "      <th>user_id_</th>\n",
              "      <th>created_week_</th>\n",
              "      <th>id_count</th>\n",
              "      <th>duration_min_min</th>\n",
              "      <th>duration_min_max</th>\n",
              "      <th>duration_min_mean</th>\n",
              "      <th>duration_min_sum</th>\n",
              "      <th>view_count_mean</th>\n",
              "      <th>view_count_sum</th>\n",
              "    </tr>\n",
              "  </thead>\n",
              "  <tbody>\n",
              "    <tr>\n",
              "      <th>0</th>\n",
              "      <td>104211056</td>\n",
              "      <td>22.0</td>\n",
              "      <td>1</td>\n",
              "      <td>1.116667</td>\n",
              "      <td>1.116667</td>\n",
              "      <td>1.116667</td>\n",
              "      <td>1.116667</td>\n",
              "      <td>7189.000000</td>\n",
              "      <td>7189.0</td>\n",
              "    </tr>\n",
              "    <tr>\n",
              "      <th>1</th>\n",
              "      <td>104211056</td>\n",
              "      <td>39.0</td>\n",
              "      <td>3</td>\n",
              "      <td>377.666667</td>\n",
              "      <td>488.566667</td>\n",
              "      <td>420.188889</td>\n",
              "      <td>1260.566667</td>\n",
              "      <td>47883.666667</td>\n",
              "      <td>143651.0</td>\n",
              "    </tr>\n",
              "    <tr>\n",
              "      <th>2</th>\n",
              "      <td>104211056</td>\n",
              "      <td>40.0</td>\n",
              "      <td>3</td>\n",
              "      <td>367.666667</td>\n",
              "      <td>379.366667</td>\n",
              "      <td>374.311111</td>\n",
              "      <td>1122.933333</td>\n",
              "      <td>66088.666667</td>\n",
              "      <td>198266.0</td>\n",
              "    </tr>\n",
              "    <tr>\n",
              "      <th>3</th>\n",
              "      <td>104211056</td>\n",
              "      <td>41.0</td>\n",
              "      <td>1</td>\n",
              "      <td>385.600000</td>\n",
              "      <td>385.600000</td>\n",
              "      <td>385.600000</td>\n",
              "      <td>385.600000</td>\n",
              "      <td>70199.000000</td>\n",
              "      <td>70199.0</td>\n",
              "    </tr>\n",
              "    <tr>\n",
              "      <th>4</th>\n",
              "      <td>113025683</td>\n",
              "      <td>18.0</td>\n",
              "      <td>4</td>\n",
              "      <td>12.716667</td>\n",
              "      <td>14.916667</td>\n",
              "      <td>13.737500</td>\n",
              "      <td>54.950000</td>\n",
              "      <td>0.500000</td>\n",
              "      <td>2.0</td>\n",
              "    </tr>\n",
              "  </tbody>\n",
              "</table>\n",
              "</div>\n",
              "      <button class=\"colab-df-convert\" onclick=\"convertToInteractive('df-9cb75bf3-2464-4401-889c-80c40a41712f')\"\n",
              "              title=\"Convert this dataframe to an interactive table.\"\n",
              "              style=\"display:none;\">\n",
              "        \n",
              "  <svg xmlns=\"http://www.w3.org/2000/svg\" height=\"24px\"viewBox=\"0 0 24 24\"\n",
              "       width=\"24px\">\n",
              "    <path d=\"M0 0h24v24H0V0z\" fill=\"none\"/>\n",
              "    <path d=\"M18.56 5.44l.94 2.06.94-2.06 2.06-.94-2.06-.94-.94-2.06-.94 2.06-2.06.94zm-11 1L8.5 8.5l.94-2.06 2.06-.94-2.06-.94L8.5 2.5l-.94 2.06-2.06.94zm10 10l.94 2.06.94-2.06 2.06-.94-2.06-.94-.94-2.06-.94 2.06-2.06.94z\"/><path d=\"M17.41 7.96l-1.37-1.37c-.4-.4-.92-.59-1.43-.59-.52 0-1.04.2-1.43.59L10.3 9.45l-7.72 7.72c-.78.78-.78 2.05 0 2.83L4 21.41c.39.39.9.59 1.41.59.51 0 1.02-.2 1.41-.59l7.78-7.78 2.81-2.81c.8-.78.8-2.07 0-2.86zM5.41 20L4 18.59l7.72-7.72 1.47 1.35L5.41 20z\"/>\n",
              "  </svg>\n",
              "      </button>\n",
              "      \n",
              "  <style>\n",
              "    .colab-df-container {\n",
              "      display:flex;\n",
              "      flex-wrap:wrap;\n",
              "      gap: 12px;\n",
              "    }\n",
              "\n",
              "    .colab-df-convert {\n",
              "      background-color: #E8F0FE;\n",
              "      border: none;\n",
              "      border-radius: 50%;\n",
              "      cursor: pointer;\n",
              "      display: none;\n",
              "      fill: #1967D2;\n",
              "      height: 32px;\n",
              "      padding: 0 0 0 0;\n",
              "      width: 32px;\n",
              "    }\n",
              "\n",
              "    .colab-df-convert:hover {\n",
              "      background-color: #E2EBFA;\n",
              "      box-shadow: 0px 1px 2px rgba(60, 64, 67, 0.3), 0px 1px 3px 1px rgba(60, 64, 67, 0.15);\n",
              "      fill: #174EA6;\n",
              "    }\n",
              "\n",
              "    [theme=dark] .colab-df-convert {\n",
              "      background-color: #3B4455;\n",
              "      fill: #D2E3FC;\n",
              "    }\n",
              "\n",
              "    [theme=dark] .colab-df-convert:hover {\n",
              "      background-color: #434B5C;\n",
              "      box-shadow: 0px 1px 3px 1px rgba(0, 0, 0, 0.15);\n",
              "      filter: drop-shadow(0px 1px 2px rgba(0, 0, 0, 0.3));\n",
              "      fill: #FFFFFF;\n",
              "    }\n",
              "  </style>\n",
              "\n",
              "      <script>\n",
              "        const buttonEl =\n",
              "          document.querySelector('#df-9cb75bf3-2464-4401-889c-80c40a41712f button.colab-df-convert');\n",
              "        buttonEl.style.display =\n",
              "          google.colab.kernel.accessAllowed ? 'block' : 'none';\n",
              "\n",
              "        async function convertToInteractive(key) {\n",
              "          const element = document.querySelector('#df-9cb75bf3-2464-4401-889c-80c40a41712f');\n",
              "          const dataTable =\n",
              "            await google.colab.kernel.invokeFunction('convertToInteractive',\n",
              "                                                     [key], {});\n",
              "          if (!dataTable) return;\n",
              "\n",
              "          const docLinkHtml = 'Like what you see? Visit the ' +\n",
              "            '<a target=\"_blank\" href=https://colab.research.google.com/notebooks/data_table.ipynb>data table notebook</a>'\n",
              "            + ' to learn more about interactive tables.';\n",
              "          element.innerHTML = '';\n",
              "          dataTable['output_type'] = 'display_data';\n",
              "          await google.colab.output.renderOutput(dataTable, element);\n",
              "          const docLink = document.createElement('div');\n",
              "          docLink.innerHTML = docLinkHtml;\n",
              "          element.appendChild(docLink);\n",
              "        }\n",
              "      </script>\n",
              "    </div>\n",
              "  </div>\n",
              "  "
            ]
          },
          "metadata": {},
          "execution_count": 59
        }
      ]
    },
    {
      "cell_type": "code",
      "source": [
        "# plot the average weekly streaming time distribution\n",
        "# kde plot: https://pandas.pydata.org/docs/reference/api/pandas.DataFrame.plot.kde.html\n",
        "temp = video_weekly_df.groupby('user_id_')['duration_min_sum'].mean()\n",
        "temp = temp[temp < 4000] / 60\n",
        "\n",
        "plt.rcParams['figure.figsize'] = [16, 4]\n",
        "plt.subplot(1,3,1)\n",
        "temp.hist(bins = 20)\n",
        "plt.title('Streaming time histogram')\n",
        "plt.subplot(1,3,2)\n",
        "temp.plot(kind='kde') # automatic bandwidth determination\n",
        "plt.title('Streaming time Distribution')\n",
        "plt.subplot(1,3,3)\n",
        "temp.plot.kde(bw_method=0.3)\n",
        "plt.title('Streaming time Distribution')"
      ],
      "metadata": {
        "colab": {
          "base_uri": "https://localhost:8080/",
          "height": 298
        },
        "id": "dJlDjLDXJgAU",
        "outputId": "16a136c2-04d6-4874-846b-906b423facb3"
      },
      "execution_count": null,
      "outputs": [
        {
          "output_type": "execute_result",
          "data": {
            "text/plain": [
              "Text(0.5, 1.0, 'Streaming time Distribution')"
            ]
          },
          "metadata": {},
          "execution_count": 82
        },
        {
          "output_type": "display_data",
          "data": {
            "text/plain": [
              "<Figure size 1152x288 with 3 Axes>"
            ],
            "image/png": "[encoded data removed]"
          },
          "metadata": {
            "needs_background": "light"
          }
        }
      ]
    },
    {
      "cell_type": "markdown",
      "source": [
        "Was trying to take a look at the variation in streaming length overtime. The graph below is not readable. Not very helpful. "
      ],
      "metadata": {
        "id": "l2Rtt-5-vH4Q"
      }
    },
    {
      "cell_type": "code",
      "source": [
        "# put it into wide form and plot\n",
        "temp = video_weekly_df.pivot_table(values='duration_min_sum',\n",
        "                                index='created_week_',\n",
        "                                columns=['user_id_'])\n",
        "temp.head()\n",
        "\n",
        "temp[temp <4000].plot(legend=None)"
      ],
      "metadata": {
        "colab": {
          "base_uri": "https://localhost:8080/",
          "height": 298
        },
        "id": "-VMjpHrns5lY",
        "outputId": "f9b2410f-f40e-4fc3-829f-761347f8be72"
      },
      "execution_count": null,
      "outputs": [
        {
          "output_type": "execute_result",
          "data": {
            "text/plain": [
              "<matplotlib.axes._subplots.AxesSubplot at 0x7f00416ae790>"
            ]
          },
          "metadata": {},
          "execution_count": 64
        },
        {
          "output_type": "display_data",
          "data": {
            "text/plain": [
              "<Figure size 432x288 with 1 Axes>"
            ],
            "image/png": "[encoded data removed]"
          },
          "metadata": {
            "needs_background": "light"
          }
        }
      ]
    },
    {
      "cell_type": "code",
      "source": [],
      "metadata": {
        "id": "DHbk4kAKu9tJ"
      },
      "execution_count": null,
      "outputs": []
    }
  ]
}