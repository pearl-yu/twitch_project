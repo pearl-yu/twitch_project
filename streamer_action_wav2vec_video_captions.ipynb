{
  "nbformat": 4,
  "nbformat_minor": 0,
  "metadata": {
    "colab": {
      "provenance": [],
      "include_colab_link": true
    },
    "kernelspec": {
      "name": "python3",
      "display_name": "Python 3"
    },
    "language_info": {
      "name": "python"
    },
    "widgets": {
      "application/vnd.jupyter.widget-state+json": {
        "f31aab8f81dd436a936cb91b195ab8ab": {
          "model_module": "@jupyter-widgets/controls",
          "model_name": "HBoxModel",
          "model_module_version": "1.5.0",
          "state": {
            "_dom_classes": [],
            "_model_module": "@jupyter-widgets/controls",
            "_model_module_version": "1.5.0",
            "_model_name": "HBoxModel",
            "_view_count": null,
            "_view_module": "@jupyter-widgets/controls",
            "_view_module_version": "1.5.0",
            "_view_name": "HBoxView",
            "box_style": "",
            "children": [
              "IPY_MODEL_31241bd182cb40e2ae2c605aed915003",
              "IPY_MODEL_c75b73e7e8dd46eaa5c773e5622cb773",
              "IPY_MODEL_e42906cea83d40d3b91f7907e3b335fe"
            ],
            "layout": "IPY_MODEL_7505a2869f624235ac1c9dc29cceac14"
          }
        },
        "31241bd182cb40e2ae2c605aed915003": {
          "model_module": "@jupyter-widgets/controls",
          "model_name": "HTMLModel",
          "model_module_version": "1.5.0",
          "state": {
            "_dom_classes": [],
            "_model_module": "@jupyter-widgets/controls",
            "_model_module_version": "1.5.0",
            "_model_name": "HTMLModel",
            "_view_count": null,
            "_view_module": "@jupyter-widgets/controls",
            "_view_module_version": "1.5.0",
            "_view_name": "HTMLView",
            "description": "",
            "description_tooltip": null,
            "layout": "IPY_MODEL_204b347d64aa45b2908b28a1e2707021",
            "placeholder": "​",
            "style": "IPY_MODEL_411bc8ffcb6844f69f6813af8e3182d4",
            "value": "Downloading: 100%"
          }
        },
        "c75b73e7e8dd46eaa5c773e5622cb773": {
          "model_module": "@jupyter-widgets/controls",
          "model_name": "FloatProgressModel",
          "model_module_version": "1.5.0",
          "state": {
            "_dom_classes": [],
            "_model_module": "@jupyter-widgets/controls",
            "_model_module_version": "1.5.0",
            "_model_name": "FloatProgressModel",
            "_view_count": null,
            "_view_module": "@jupyter-widgets/controls",
            "_view_module_version": "1.5.0",
            "_view_name": "ProgressView",
            "bar_style": "success",
            "description": "",
            "description_tooltip": null,
            "layout": "IPY_MODEL_b282807cc3c743c0b0354efe224d5743",
            "max": 291,
            "min": 0,
            "orientation": "horizontal",
            "style": "IPY_MODEL_09f0038463eb41d6ab3a5c0006d61e55",
            "value": 291
          }
        },
        "e42906cea83d40d3b91f7907e3b335fe": {
          "model_module": "@jupyter-widgets/controls",
          "model_name": "HTMLModel",
          "model_module_version": "1.5.0",
          "state": {
            "_dom_classes": [],
            "_model_module": "@jupyter-widgets/controls",
            "_model_module_version": "1.5.0",
            "_model_name": "HTMLModel",
            "_view_count": null,
            "_view_module": "@jupyter-widgets/controls",
            "_view_module_version": "1.5.0",
            "_view_name": "HTMLView",
            "description": "",
            "description_tooltip": null,
            "layout": "IPY_MODEL_80244fc4dcfd475582c9dca61baaa005",
            "placeholder": "​",
            "style": "IPY_MODEL_29c3e7d5fa65430b9665799f440f3404",
            "value": " 291/291 [00:00&lt;00:00, 9.10kB/s]"
          }
        },
        "7505a2869f624235ac1c9dc29cceac14": {
          "model_module": "@jupyter-widgets/base",
          "model_name": "LayoutModel",
          "model_module_version": "1.2.0",
          "state": {
            "_model_module": "@jupyter-widgets/base",
            "_model_module_version": "1.2.0",
            "_model_name": "LayoutModel",
            "_view_count": null,
            "_view_module": "@jupyter-widgets/base",
            "_view_module_version": "1.2.0",
            "_view_name": "LayoutView",
            "align_content": null,
            "align_items": null,
            "align_self": null,
            "border": null,
            "bottom": null,
            "display": null,
            "flex": null,
            "flex_flow": null,
            "grid_area": null,
            "grid_auto_columns": null,
            "grid_auto_flow": null,
            "grid_auto_rows": null,
            "grid_column": null,
            "grid_gap": null,
            "grid_row": null,
            "grid_template_areas": null,
            "grid_template_columns": null,
            "grid_template_rows": null,
            "height": null,
            "justify_content": null,
            "justify_items": null,
            "left": null,
            "margin": null,
            "max_height": null,
            "max_width": null,
            "min_height": null,
            "min_width": null,
            "object_fit": null,
            "object_position": null,
            "order": null,
            "overflow": null,
            "overflow_x": null,
            "overflow_y": null,
            "padding": null,
            "right": null,
            "top": null,
            "visibility": null,
            "width": null
          }
        },
        "204b347d64aa45b2908b28a1e2707021": {
          "model_module": "@jupyter-widgets/base",
          "model_name": "LayoutModel",
          "model_module_version": "1.2.0",
          "state": {
            "_model_module": "@jupyter-widgets/base",
            "_model_module_version": "1.2.0",
            "_model_name": "LayoutModel",
            "_view_count": null,
            "_view_module": "@jupyter-widgets/base",
            "_view_module_version": "1.2.0",
            "_view_name": "LayoutView",
            "align_content": null,
            "align_items": null,
            "align_self": null,
            "border": null,
            "bottom": null,
            "display": null,
            "flex": null,
            "flex_flow": null,
            "grid_area": null,
            "grid_auto_columns": null,
            "grid_auto_flow": null,
            "grid_auto_rows": null,
            "grid_column": null,
            "grid_gap": null,
            "grid_row": null,
            "grid_template_areas": null,
            "grid_template_columns": null,
            "grid_template_rows": null,
            "height": null,
            "justify_content": null,
            "justify_items": null,
            "left": null,
            "margin": null,
            "max_height": null,
            "max_width": null,
            "min_height": null,
            "min_width": null,
            "object_fit": null,
            "object_position": null,
            "order": null,
            "overflow": null,
            "overflow_x": null,
            "overflow_y": null,
            "padding": null,
            "right": null,
            "top": null,
            "visibility": null,
            "width": null
          }
        },
        "411bc8ffcb6844f69f6813af8e3182d4": {
          "model_module": "@jupyter-widgets/controls",
          "model_name": "DescriptionStyleModel",
          "model_module_version": "1.5.0",
          "state": {
            "_model_module": "@jupyter-widgets/controls",
            "_model_module_version": "1.5.0",
            "_model_name": "DescriptionStyleModel",
            "_view_count": null,
            "_view_module": "@jupyter-widgets/base",
            "_view_module_version": "1.2.0",
            "_view_name": "StyleView",
            "description_width": ""
          }
        },
        "b282807cc3c743c0b0354efe224d5743": {
          "model_module": "@jupyter-widgets/base",
          "model_name": "LayoutModel",
          "model_module_version": "1.2.0",
          "state": {
            "_model_module": "@jupyter-widgets/base",
            "_model_module_version": "1.2.0",
            "_model_name": "LayoutModel",
            "_view_count": null,
            "_view_module": "@jupyter-widgets/base",
            "_view_module_version": "1.2.0",
            "_view_name": "LayoutView",
            "align_content": null,
            "align_items": null,
            "align_self": null,
            "border": null,
            "bottom": null,
            "display": null,
            "flex": null,
            "flex_flow": null,
            "grid_area": null,
            "grid_auto_columns": null,
            "grid_auto_flow": null,
            "grid_auto_rows": null,
            "grid_column": null,
            "grid_gap": null,
            "grid_row": null,
            "grid_template_areas": null,
            "grid_template_columns": null,
            "grid_template_rows": null,
            "height": null,
            "justify_content": null,
            "justify_items": null,
            "left": null,
            "margin": null,
            "max_height": null,
            "max_width": null,
            "min_height": null,
            "min_width": null,
            "object_fit": null,
            "object_position": null,
            "order": null,
            "overflow": null,
            "overflow_x": null,
            "overflow_y": null,
            "padding": null,
            "right": null,
            "top": null,
            "visibility": null,
            "width": null
          }
        },
        "09f0038463eb41d6ab3a5c0006d61e55": {
          "model_module": "@jupyter-widgets/controls",
          "model_name": "ProgressStyleModel",
          "model_module_version": "1.5.0",
          "state": {
            "_model_module": "@jupyter-widgets/controls",
            "_model_module_version": "1.5.0",
            "_model_name": "ProgressStyleModel",
            "_view_count": null,
            "_view_module": "@jupyter-widgets/base",
            "_view_module_version": "1.2.0",
            "_view_name": "StyleView",
            "bar_color": null,
            "description_width": ""
          }
        },
        "80244fc4dcfd475582c9dca61baaa005": {
          "model_module": "@jupyter-widgets/base",
          "model_name": "LayoutModel",
          "model_module_version": "1.2.0",
          "state": {
            "_model_module": "@jupyter-widgets/base",
            "_model_module_version": "1.2.0",
            "_model_name": "LayoutModel",
            "_view_count": null,
            "_view_module": "@jupyter-widgets/base",
            "_view_module_version": "1.2.0",
            "_view_name": "LayoutView",
            "align_content": null,
            "align_items": null,
            "align_self": null,
            "border": null,
            "bottom": null,
            "display": null,
            "flex": null,
            "flex_flow": null,
            "grid_area": null,
            "grid_auto_columns": null,
            "grid_auto_flow": null,
            "grid_auto_rows": null,
            "grid_column": null,
            "grid_gap": null,
            "grid_row": null,
            "grid_template_areas": null,
            "grid_template_columns": null,
            "grid_template_rows": null,
            "height": null,
            "justify_content": null,
            "justify_items": null,
            "left": null,
            "margin": null,
            "max_height": null,
            "max_width": null,
            "min_height": null,
            "min_width": null,
            "object_fit": null,
            "object_position": null,
            "order": null,
            "overflow": null,
            "overflow_x": null,
            "overflow_y": null,
            "padding": null,
            "right": null,
            "top": null,
            "visibility": null,
            "width": null
          }
        },
        "29c3e7d5fa65430b9665799f440f3404": {
          "model_module": "@jupyter-widgets/controls",
          "model_name": "DescriptionStyleModel",
          "model_module_version": "1.5.0",
          "state": {
            "_model_module": "@jupyter-widgets/controls",
            "_model_module_version": "1.5.0",
            "_model_name": "DescriptionStyleModel",
            "_view_count": null,
            "_view_module": "@jupyter-widgets/base",
            "_view_module_version": "1.2.0",
            "_view_name": "StyleView",
            "description_width": ""
          }
        },
        "0808e3926ebc4b76b2556e7c5a64442c": {
          "model_module": "@jupyter-widgets/controls",
          "model_name": "HBoxModel",
          "model_module_version": "1.5.0",
          "state": {
            "_dom_classes": [],
            "_model_module": "@jupyter-widgets/controls",
            "_model_module_version": "1.5.0",
            "_model_name": "HBoxModel",
            "_view_count": null,
            "_view_module": "@jupyter-widgets/controls",
            "_view_module_version": "1.5.0",
            "_view_name": "HBoxView",
            "box_style": "",
            "children": [
              "IPY_MODEL_65935a530b1a4f52be72e4cf2c7faefc",
              "IPY_MODEL_f484aa16a29840b0a02349fd47696f96",
              "IPY_MODEL_0958c3e74f22498f900124ff7a82d435"
            ],
            "layout": "IPY_MODEL_0da55638ff2d45f9bc08e01628acf1a0"
          }
        },
        "65935a530b1a4f52be72e4cf2c7faefc": {
          "model_module": "@jupyter-widgets/controls",
          "model_name": "HTMLModel",
          "model_module_version": "1.5.0",
          "state": {
            "_dom_classes": [],
            "_model_module": "@jupyter-widgets/controls",
            "_model_module_version": "1.5.0",
            "_model_name": "HTMLModel",
            "_view_count": null,
            "_view_module": "@jupyter-widgets/controls",
            "_view_module_version": "1.5.0",
            "_view_name": "HTMLView",
            "description": "",
            "description_tooltip": null,
            "layout": "IPY_MODEL_5d62e249db754550a4a2825541ce7d5e",
            "placeholder": "​",
            "style": "IPY_MODEL_422210b3d238453882123ac5111c9434",
            "value": "Downloading: 100%"
          }
        },
        "f484aa16a29840b0a02349fd47696f96": {
          "model_module": "@jupyter-widgets/controls",
          "model_name": "FloatProgressModel",
          "model_module_version": "1.5.0",
          "state": {
            "_dom_classes": [],
            "_model_module": "@jupyter-widgets/controls",
            "_model_module_version": "1.5.0",
            "_model_name": "FloatProgressModel",
            "_view_count": null,
            "_view_module": "@jupyter-widgets/controls",
            "_view_module_version": "1.5.0",
            "_view_name": "ProgressView",
            "bar_style": "success",
            "description": "",
            "description_tooltip": null,
            "layout": "IPY_MODEL_09115f3c8a974450a08d517104bbd4b3",
            "max": 163,
            "min": 0,
            "orientation": "horizontal",
            "style": "IPY_MODEL_aa1feb20915a4e5689457e6a8330f75b",
            "value": 163
          }
        },
        "0958c3e74f22498f900124ff7a82d435": {
          "model_module": "@jupyter-widgets/controls",
          "model_name": "HTMLModel",
          "model_module_version": "1.5.0",
          "state": {
            "_dom_classes": [],
            "_model_module": "@jupyter-widgets/controls",
            "_model_module_version": "1.5.0",
            "_model_name": "HTMLModel",
            "_view_count": null,
            "_view_module": "@jupyter-widgets/controls",
            "_view_module_version": "1.5.0",
            "_view_name": "HTMLView",
            "description": "",
            "description_tooltip": null,
            "layout": "IPY_MODEL_6849d4c207eb4c378282571251d1c077",
            "placeholder": "​",
            "style": "IPY_MODEL_7d7145ff87bd409997ed81245d1e6f2a",
            "value": " 163/163 [00:00&lt;00:00, 5.09kB/s]"
          }
        },
        "0da55638ff2d45f9bc08e01628acf1a0": {
          "model_module": "@jupyter-widgets/base",
          "model_name": "LayoutModel",
          "model_module_version": "1.2.0",
          "state": {
            "_model_module": "@jupyter-widgets/base",
            "_model_module_version": "1.2.0",
            "_model_name": "LayoutModel",
            "_view_count": null,
            "_view_module": "@jupyter-widgets/base",
            "_view_module_version": "1.2.0",
            "_view_name": "LayoutView",
            "align_content": null,
            "align_items": null,
            "align_self": null,
            "border": null,
            "bottom": null,
            "display": null,
            "flex": null,
            "flex_flow": null,
            "grid_area": null,
            "grid_auto_columns": null,
            "grid_auto_flow": null,
            "grid_auto_rows": null,
            "grid_column": null,
            "grid_gap": null,
            "grid_row": null,
            "grid_template_areas": null,
            "grid_template_columns": null,
            "grid_template_rows": null,
            "height": null,
            "justify_content": null,
            "justify_items": null,
            "left": null,
            "margin": null,
            "max_height": null,
            "max_width": null,
            "min_height": null,
            "min_width": null,
            "object_fit": null,
            "object_position": null,
            "order": null,
            "overflow": null,
            "overflow_x": null,
            "overflow_y": null,
            "padding": null,
            "right": null,
            "top": null,
            "visibility": null,
            "width": null
          }
        },
        "5d62e249db754550a4a2825541ce7d5e": {
          "model_module": "@jupyter-widgets/base",
          "model_name": "LayoutModel",
          "model_module_version": "1.2.0",
          "state": {
            "_model_module": "@jupyter-widgets/base",
            "_model_module_version": "1.2.0",
            "_model_name": "LayoutModel",
            "_view_count": null,
            "_view_module": "@jupyter-widgets/base",
            "_view_module_version": "1.2.0",
            "_view_name": "LayoutView",
            "align_content": null,
            "align_items": null,
            "align_self": null,
            "border": null,
            "bottom": null,
            "display": null,
            "flex": null,
            "flex_flow": null,
            "grid_area": null,
            "grid_auto_columns": null,
            "grid_auto_flow": null,
            "grid_auto_rows": null,
            "grid_column": null,
            "grid_gap": null,
            "grid_row": null,
            "grid_template_areas": null,
            "grid_template_columns": null,
            "grid_template_rows": null,
            "height": null,
            "justify_content": null,
            "justify_items": null,
            "left": null,
            "margin": null,
            "max_height": null,
            "max_width": null,
            "min_height": null,
            "min_width": null,
            "object_fit": null,
            "object_position": null,
            "order": null,
            "overflow": null,
            "overflow_x": null,
            "overflow_y": null,
            "padding": null,
            "right": null,
            "top": null,
            "visibility": null,
            "width": null
          }
        },
        "422210b3d238453882123ac5111c9434": {
          "model_module": "@jupyter-widgets/controls",
          "model_name": "DescriptionStyleModel",
          "model_module_version": "1.5.0",
          "state": {
            "_model_module": "@jupyter-widgets/controls",
            "_model_module_version": "1.5.0",
            "_model_name": "DescriptionStyleModel",
            "_view_count": null,
            "_view_module": "@jupyter-widgets/base",
            "_view_module_version": "1.2.0",
            "_view_name": "StyleView",
            "description_width": ""
          }
        },
        "09115f3c8a974450a08d517104bbd4b3": {
          "model_module": "@jupyter-widgets/base",
          "model_name": "LayoutModel",
          "model_module_version": "1.2.0",
          "state": {
            "_model_module": "@jupyter-widgets/base",
            "_model_module_version": "1.2.0",
            "_model_name": "LayoutModel",
            "_view_count": null,
            "_view_module": "@jupyter-widgets/base",
            "_view_module_version": "1.2.0",
            "_view_name": "LayoutView",
            "align_content": null,
            "align_items": null,
            "align_self": null,
            "border": null,
            "bottom": null,
            "display": null,
            "flex": null,
            "flex_flow": null,
            "grid_area": null,
            "grid_auto_columns": null,
            "grid_auto_flow": null,
            "grid_auto_rows": null,
            "grid_column": null,
            "grid_gap": null,
            "grid_row": null,
            "grid_template_areas": null,
            "grid_template_columns": null,
            "grid_template_rows": null,
            "height": null,
            "justify_content": null,
            "justify_items": null,
            "left": null,
            "margin": null,
            "max_height": null,
            "max_width": null,
            "min_height": null,
            "min_width": null,
            "object_fit": null,
            "object_position": null,
            "order": null,
            "overflow": null,
            "overflow_x": null,
            "overflow_y": null,
            "padding": null,
            "right": null,
            "top": null,
            "visibility": null,
            "width": null
          }
        },
        "aa1feb20915a4e5689457e6a8330f75b": {
          "model_module": "@jupyter-widgets/controls",
          "model_name": "ProgressStyleModel",
          "model_module_version": "1.5.0",
          "state": {
            "_model_module": "@jupyter-widgets/controls",
            "_model_module_version": "1.5.0",
            "_model_name": "ProgressStyleModel",
            "_view_count": null,
            "_view_module": "@jupyter-widgets/base",
            "_view_module_version": "1.2.0",
            "_view_name": "StyleView",
            "bar_color": null,
            "description_width": ""
          }
        },
        "6849d4c207eb4c378282571251d1c077": {
          "model_module": "@jupyter-widgets/base",
          "model_name": "LayoutModel",
          "model_module_version": "1.2.0",
          "state": {
            "_model_module": "@jupyter-widgets/base",
            "_model_module_version": "1.2.0",
            "_model_name": "LayoutModel",
            "_view_count": null,
            "_view_module": "@jupyter-widgets/base",
            "_view_module_version": "1.2.0",
            "_view_name": "LayoutView",
            "align_content": null,
            "align_items": null,
            "align_self": null,
            "border": null,
            "bottom": null,
            "display": null,
            "flex": null,
            "flex_flow": null,
            "grid_area": null,
            "grid_auto_columns": null,
            "grid_auto_flow": null,
            "grid_auto_rows": null,
            "grid_column": null,
            "grid_gap": null,
            "grid_row": null,
            "grid_template_areas": null,
            "grid_template_columns": null,
            "grid_template_rows": null,
            "height": null,
            "justify_content": null,
            "justify_items": null,
            "left": null,
            "margin": null,
            "max_height": null,
            "max_width": null,
            "min_height": null,
            "min_width": null,
            "object_fit": null,
            "object_position": null,
            "order": null,
            "overflow": null,
            "overflow_x": null,
            "overflow_y": null,
            "padding": null,
            "right": null,
            "top": null,
            "visibility": null,
            "width": null
          }
        },
        "7d7145ff87bd409997ed81245d1e6f2a": {
          "model_module": "@jupyter-widgets/controls",
          "model_name": "DescriptionStyleModel",
          "model_module_version": "1.5.0",
          "state": {
            "_model_module": "@jupyter-widgets/controls",
            "_model_module_version": "1.5.0",
            "_model_name": "DescriptionStyleModel",
            "_view_count": null,
            "_view_module": "@jupyter-widgets/base",
            "_view_module_version": "1.2.0",
            "_view_name": "StyleView",
            "description_width": ""
          }
        },
        "24c94cb856ad4069a07baa399543e224": {
          "model_module": "@jupyter-widgets/controls",
          "model_name": "HBoxModel",
          "model_module_version": "1.5.0",
          "state": {
            "_dom_classes": [],
            "_model_module": "@jupyter-widgets/controls",
            "_model_module_version": "1.5.0",
            "_model_name": "HBoxModel",
            "_view_count": null,
            "_view_module": "@jupyter-widgets/controls",
            "_view_module_version": "1.5.0",
            "_view_name": "HBoxView",
            "box_style": "",
            "children": [
              "IPY_MODEL_014ef3ed2c584a7896282b8ae58d40bc",
              "IPY_MODEL_8dd5f213229c44f48a55821ee27e6f0e",
              "IPY_MODEL_613569ee5ac54ac69c331a38b70fea78"
            ],
            "layout": "IPY_MODEL_b60c9b4e60cf4363983d6e45874c3c23"
          }
        },
        "014ef3ed2c584a7896282b8ae58d40bc": {
          "model_module": "@jupyter-widgets/controls",
          "model_name": "HTMLModel",
          "model_module_version": "1.5.0",
          "state": {
            "_dom_classes": [],
            "_model_module": "@jupyter-widgets/controls",
            "_model_module_version": "1.5.0",
            "_model_name": "HTMLModel",
            "_view_count": null,
            "_view_module": "@jupyter-widgets/controls",
            "_view_module_version": "1.5.0",
            "_view_name": "HTMLView",
            "description": "",
            "description_tooltip": null,
            "layout": "IPY_MODEL_df60bbe3d12d48ca8662911c69c9764e",
            "placeholder": "​",
            "style": "IPY_MODEL_696a731bd76a409ab9fb63cb8d95a639",
            "value": "Downloading: 100%"
          }
        },
        "8dd5f213229c44f48a55821ee27e6f0e": {
          "model_module": "@jupyter-widgets/controls",
          "model_name": "FloatProgressModel",
          "model_module_version": "1.5.0",
          "state": {
            "_dom_classes": [],
            "_model_module": "@jupyter-widgets/controls",
            "_model_module_version": "1.5.0",
            "_model_name": "FloatProgressModel",
            "_view_count": null,
            "_view_module": "@jupyter-widgets/controls",
            "_view_module_version": "1.5.0",
            "_view_name": "ProgressView",
            "bar_style": "success",
            "description": "",
            "description_tooltip": null,
            "layout": "IPY_MODEL_82d0cf5d5b5742479d265d2e5054251a",
            "max": 85,
            "min": 0,
            "orientation": "horizontal",
            "style": "IPY_MODEL_c2f1fdf601ac492baa20821e131bb4f6",
            "value": 85
          }
        },
        "613569ee5ac54ac69c331a38b70fea78": {
          "model_module": "@jupyter-widgets/controls",
          "model_name": "HTMLModel",
          "model_module_version": "1.5.0",
          "state": {
            "_dom_classes": [],
            "_model_module": "@jupyter-widgets/controls",
            "_model_module_version": "1.5.0",
            "_model_name": "HTMLModel",
            "_view_count": null,
            "_view_module": "@jupyter-widgets/controls",
            "_view_module_version": "1.5.0",
            "_view_name": "HTMLView",
            "description": "",
            "description_tooltip": null,
            "layout": "IPY_MODEL_9821aed8e0714c00b0be6f1a9943cba8",
            "placeholder": "​",
            "style": "IPY_MODEL_0426a28583cd4705893d98fd0e9dff86",
            "value": " 85.0/85.0 [00:00&lt;00:00, 647B/s]"
          }
        },
        "b60c9b4e60cf4363983d6e45874c3c23": {
          "model_module": "@jupyter-widgets/base",
          "model_name": "LayoutModel",
          "model_module_version": "1.2.0",
          "state": {
            "_model_module": "@jupyter-widgets/base",
            "_model_module_version": "1.2.0",
            "_model_name": "LayoutModel",
            "_view_count": null,
            "_view_module": "@jupyter-widgets/base",
            "_view_module_version": "1.2.0",
            "_view_name": "LayoutView",
            "align_content": null,
            "align_items": null,
            "align_self": null,
            "border": null,
            "bottom": null,
            "display": null,
            "flex": null,
            "flex_flow": null,
            "grid_area": null,
            "grid_auto_columns": null,
            "grid_auto_flow": null,
            "grid_auto_rows": null,
            "grid_column": null,
            "grid_gap": null,
            "grid_row": null,
            "grid_template_areas": null,
            "grid_template_columns": null,
            "grid_template_rows": null,
            "height": null,
            "justify_content": null,
            "justify_items": null,
            "left": null,
            "margin": null,
            "max_height": null,
            "max_width": null,
            "min_height": null,
            "min_width": null,
            "object_fit": null,
            "object_position": null,
            "order": null,
            "overflow": null,
            "overflow_x": null,
            "overflow_y": null,
            "padding": null,
            "right": null,
            "top": null,
            "visibility": null,
            "width": null
          }
        },
        "df60bbe3d12d48ca8662911c69c9764e": {
          "model_module": "@jupyter-widgets/base",
          "model_name": "LayoutModel",
          "model_module_version": "1.2.0",
          "state": {
            "_model_module": "@jupyter-widgets/base",
            "_model_module_version": "1.2.0",
            "_model_name": "LayoutModel",
            "_view_count": null,
            "_view_module": "@jupyter-widgets/base",
            "_view_module_version": "1.2.0",
            "_view_name": "LayoutView",
            "align_content": null,
            "align_items": null,
            "align_self": null,
            "border": null,
            "bottom": null,
            "display": null,
            "flex": null,
            "flex_flow": null,
            "grid_area": null,
            "grid_auto_columns": null,
            "grid_auto_flow": null,
            "grid_auto_rows": null,
            "grid_column": null,
            "grid_gap": null,
            "grid_row": null,
            "grid_template_areas": null,
            "grid_template_columns": null,
            "grid_template_rows": null,
            "height": null,
            "justify_content": null,
            "justify_items": null,
            "left": null,
            "margin": null,
            "max_height": null,
            "max_width": null,
            "min_height": null,
            "min_width": null,
            "object_fit": null,
            "object_position": null,
            "order": null,
            "overflow": null,
            "overflow_x": null,
            "overflow_y": null,
            "padding": null,
            "right": null,
            "top": null,
            "visibility": null,
            "width": null
          }
        },
        "696a731bd76a409ab9fb63cb8d95a639": {
          "model_module": "@jupyter-widgets/controls",
          "model_name": "DescriptionStyleModel",
          "model_module_version": "1.5.0",
          "state": {
            "_model_module": "@jupyter-widgets/controls",
            "_model_module_version": "1.5.0",
            "_model_name": "DescriptionStyleModel",
            "_view_count": null,
            "_view_module": "@jupyter-widgets/base",
            "_view_module_version": "1.2.0",
            "_view_name": "StyleView",
            "description_width": ""
          }
        },
        "82d0cf5d5b5742479d265d2e5054251a": {
          "model_module": "@jupyter-widgets/base",
          "model_name": "LayoutModel",
          "model_module_version": "1.2.0",
          "state": {
            "_model_module": "@jupyter-widgets/base",
            "_model_module_version": "1.2.0",
            "_model_name": "LayoutModel",
            "_view_count": null,
            "_view_module": "@jupyter-widgets/base",
            "_view_module_version": "1.2.0",
            "_view_name": "LayoutView",
            "align_content": null,
            "align_items": null,
            "align_self": null,
            "border": null,
            "bottom": null,
            "display": null,
            "flex": null,
            "flex_flow": null,
            "grid_area": null,
            "grid_auto_columns": null,
            "grid_auto_flow": null,
            "grid_auto_rows": null,
            "grid_column": null,
            "grid_gap": null,
            "grid_row": null,
            "grid_template_areas": null,
            "grid_template_columns": null,
            "grid_template_rows": null,
            "height": null,
            "justify_content": null,
            "justify_items": null,
            "left": null,
            "margin": null,
            "max_height": null,
            "max_width": null,
            "min_height": null,
            "min_width": null,
            "object_fit": null,
            "object_position": null,
            "order": null,
            "overflow": null,
            "overflow_x": null,
            "overflow_y": null,
            "padding": null,
            "right": null,
            "top": null,
            "visibility": null,
            "width": null
          }
        },
        "c2f1fdf601ac492baa20821e131bb4f6": {
          "model_module": "@jupyter-widgets/controls",
          "model_name": "ProgressStyleModel",
          "model_module_version": "1.5.0",
          "state": {
            "_model_module": "@jupyter-widgets/controls",
            "_model_module_version": "1.5.0",
            "_model_name": "ProgressStyleModel",
            "_view_count": null,
            "_view_module": "@jupyter-widgets/base",
            "_view_module_version": "1.2.0",
            "_view_name": "StyleView",
            "bar_color": null,
            "description_width": ""
          }
        },
        "9821aed8e0714c00b0be6f1a9943cba8": {
          "model_module": "@jupyter-widgets/base",
          "model_name": "LayoutModel",
          "model_module_version": "1.2.0",
          "state": {
            "_model_module": "@jupyter-widgets/base",
            "_model_module_version": "1.2.0",
            "_model_name": "LayoutModel",
            "_view_count": null,
            "_view_module": "@jupyter-widgets/base",
            "_view_module_version": "1.2.0",
            "_view_name": "LayoutView",
            "align_content": null,
            "align_items": null,
            "align_self": null,
            "border": null,
            "bottom": null,
            "display": null,
            "flex": null,
            "flex_flow": null,
            "grid_area": null,
            "grid_auto_columns": null,
            "grid_auto_flow": null,
            "grid_auto_rows": null,
            "grid_column": null,
            "grid_gap": null,
            "grid_row": null,
            "grid_template_areas": null,
            "grid_template_columns": null,
            "grid_template_rows": null,
            "height": null,
            "justify_content": null,
            "justify_items": null,
            "left": null,
            "margin": null,
            "max_height": null,
            "max_width": null,
            "min_height": null,
            "min_width": null,
            "object_fit": null,
            "object_position": null,
            "order": null,
            "overflow": null,
            "overflow_x": null,
            "overflow_y": null,
            "padding": null,
            "right": null,
            "top": null,
            "visibility": null,
            "width": null
          }
        },
        "0426a28583cd4705893d98fd0e9dff86": {
          "model_module": "@jupyter-widgets/controls",
          "model_name": "DescriptionStyleModel",
          "model_module_version": "1.5.0",
          "state": {
            "_model_module": "@jupyter-widgets/controls",
            "_model_module_version": "1.5.0",
            "_model_name": "DescriptionStyleModel",
            "_view_count": null,
            "_view_module": "@jupyter-widgets/base",
            "_view_module_version": "1.2.0",
            "_view_name": "StyleView",
            "description_width": ""
          }
        },
        "abcd5b6f80604eb3831fd806c8fac7dc": {
          "model_module": "@jupyter-widgets/controls",
          "model_name": "HBoxModel",
          "model_module_version": "1.5.0",
          "state": {
            "_dom_classes": [],
            "_model_module": "@jupyter-widgets/controls",
            "_model_module_version": "1.5.0",
            "_model_name": "HBoxModel",
            "_view_count": null,
            "_view_module": "@jupyter-widgets/controls",
            "_view_module_version": "1.5.0",
            "_view_name": "HBoxView",
            "box_style": "",
            "children": [
              "IPY_MODEL_f78eff522a3a4ba79e323fa43fb4f904",
              "IPY_MODEL_9c5cb690538044f4b0f97157dea0e6ed",
              "IPY_MODEL_0972a4daafca49d0bc99ac668dd6a026"
            ],
            "layout": "IPY_MODEL_b8f76524461d4b3983ec466b5a57b619"
          }
        },
        "f78eff522a3a4ba79e323fa43fb4f904": {
          "model_module": "@jupyter-widgets/controls",
          "model_name": "HTMLModel",
          "model_module_version": "1.5.0",
          "state": {
            "_dom_classes": [],
            "_model_module": "@jupyter-widgets/controls",
            "_model_module_version": "1.5.0",
            "_model_name": "HTMLModel",
            "_view_count": null,
            "_view_module": "@jupyter-widgets/controls",
            "_view_module_version": "1.5.0",
            "_view_name": "HTMLView",
            "description": "",
            "description_tooltip": null,
            "layout": "IPY_MODEL_c243077cdacb46cbb101df6fb2d7ccee",
            "placeholder": "​",
            "style": "IPY_MODEL_f5a982e8d43847c3b77a11a1ee5b6e00",
            "value": "Downloading: 100%"
          }
        },
        "9c5cb690538044f4b0f97157dea0e6ed": {
          "model_module": "@jupyter-widgets/controls",
          "model_name": "FloatProgressModel",
          "model_module_version": "1.5.0",
          "state": {
            "_dom_classes": [],
            "_model_module": "@jupyter-widgets/controls",
            "_model_module_version": "1.5.0",
            "_model_name": "FloatProgressModel",
            "_view_count": null,
            "_view_module": "@jupyter-widgets/controls",
            "_view_module_version": "1.5.0",
            "_view_name": "ProgressView",
            "bar_style": "success",
            "description": "",
            "description_tooltip": null,
            "layout": "IPY_MODEL_bc5ba23387474252a0b3035d4a79be45",
            "max": 1596,
            "min": 0,
            "orientation": "horizontal",
            "style": "IPY_MODEL_b9e795eab1f94334800befd40f2f8bf0",
            "value": 1596
          }
        },
        "0972a4daafca49d0bc99ac668dd6a026": {
          "model_module": "@jupyter-widgets/controls",
          "model_name": "HTMLModel",
          "model_module_version": "1.5.0",
          "state": {
            "_dom_classes": [],
            "_model_module": "@jupyter-widgets/controls",
            "_model_module_version": "1.5.0",
            "_model_name": "HTMLModel",
            "_view_count": null,
            "_view_module": "@jupyter-widgets/controls",
            "_view_module_version": "1.5.0",
            "_view_name": "HTMLView",
            "description": "",
            "description_tooltip": null,
            "layout": "IPY_MODEL_1809f8b3f42949fb8baca3a03250d64b",
            "placeholder": "​",
            "style": "IPY_MODEL_47eca707847b4a8481776c097f13c16b",
            "value": " 1.60k/1.60k [00:00&lt;00:00, 6.53kB/s]"
          }
        },
        "b8f76524461d4b3983ec466b5a57b619": {
          "model_module": "@jupyter-widgets/base",
          "model_name": "LayoutModel",
          "model_module_version": "1.2.0",
          "state": {
            "_model_module": "@jupyter-widgets/base",
            "_model_module_version": "1.2.0",
            "_model_name": "LayoutModel",
            "_view_count": null,
            "_view_module": "@jupyter-widgets/base",
            "_view_module_version": "1.2.0",
            "_view_name": "LayoutView",
            "align_content": null,
            "align_items": null,
            "align_self": null,
            "border": null,
            "bottom": null,
            "display": null,
            "flex": null,
            "flex_flow": null,
            "grid_area": null,
            "grid_auto_columns": null,
            "grid_auto_flow": null,
            "grid_auto_rows": null,
            "grid_column": null,
            "grid_gap": null,
            "grid_row": null,
            "grid_template_areas": null,
            "grid_template_columns": null,
            "grid_template_rows": null,
            "height": null,
            "justify_content": null,
            "justify_items": null,
            "left": null,
            "margin": null,
            "max_height": null,
            "max_width": null,
            "min_height": null,
            "min_width": null,
            "object_fit": null,
            "object_position": null,
            "order": null,
            "overflow": null,
            "overflow_x": null,
            "overflow_y": null,
            "padding": null,
            "right": null,
            "top": null,
            "visibility": null,
            "width": null
          }
        },
        "c243077cdacb46cbb101df6fb2d7ccee": {
          "model_module": "@jupyter-widgets/base",
          "model_name": "LayoutModel",
          "model_module_version": "1.2.0",
          "state": {
            "_model_module": "@jupyter-widgets/base",
            "_model_module_version": "1.2.0",
            "_model_name": "LayoutModel",
            "_view_count": null,
            "_view_module": "@jupyter-widgets/base",
            "_view_module_version": "1.2.0",
            "_view_name": "LayoutView",
            "align_content": null,
            "align_items": null,
            "align_self": null,
            "border": null,
            "bottom": null,
            "display": null,
            "flex": null,
            "flex_flow": null,
            "grid_area": null,
            "grid_auto_columns": null,
            "grid_auto_flow": null,
            "grid_auto_rows": null,
            "grid_column": null,
            "grid_gap": null,
            "grid_row": null,
            "grid_template_areas": null,
            "grid_template_columns": null,
            "grid_template_rows": null,
            "height": null,
            "justify_content": null,
            "justify_items": null,
            "left": null,
            "margin": null,
            "max_height": null,
            "max_width": null,
            "min_height": null,
            "min_width": null,
            "object_fit": null,
            "object_position": null,
            "order": null,
            "overflow": null,
            "overflow_x": null,
            "overflow_y": null,
            "padding": null,
            "right": null,
            "top": null,
            "visibility": null,
            "width": null
          }
        },
        "f5a982e8d43847c3b77a11a1ee5b6e00": {
          "model_module": "@jupyter-widgets/controls",
          "model_name": "DescriptionStyleModel",
          "model_module_version": "1.5.0",
          "state": {
            "_model_module": "@jupyter-widgets/controls",
            "_model_module_version": "1.5.0",
            "_model_name": "DescriptionStyleModel",
            "_view_count": null,
            "_view_module": "@jupyter-widgets/base",
            "_view_module_version": "1.2.0",
            "_view_name": "StyleView",
            "description_width": ""
          }
        },
        "bc5ba23387474252a0b3035d4a79be45": {
          "model_module": "@jupyter-widgets/base",
          "model_name": "LayoutModel",
          "model_module_version": "1.2.0",
          "state": {
            "_model_module": "@jupyter-widgets/base",
            "_model_module_version": "1.2.0",
            "_model_name": "LayoutModel",
            "_view_count": null,
            "_view_module": "@jupyter-widgets/base",
            "_view_module_version": "1.2.0",
            "_view_name": "LayoutView",
            "align_content": null,
            "align_items": null,
            "align_self": null,
            "border": null,
            "bottom": null,
            "display": null,
            "flex": null,
            "flex_flow": null,
            "grid_area": null,
            "grid_auto_columns": null,
            "grid_auto_flow": null,
            "grid_auto_rows": null,
            "grid_column": null,
            "grid_gap": null,
            "grid_row": null,
            "grid_template_areas": null,
            "grid_template_columns": null,
            "grid_template_rows": null,
            "height": null,
            "justify_content": null,
            "justify_items": null,
            "left": null,
            "margin": null,
            "max_height": null,
            "max_width": null,
            "min_height": null,
            "min_width": null,
            "object_fit": null,
            "object_position": null,
            "order": null,
            "overflow": null,
            "overflow_x": null,
            "overflow_y": null,
            "padding": null,
            "right": null,
            "top": null,
            "visibility": null,
            "width": null
          }
        },
        "b9e795eab1f94334800befd40f2f8bf0": {
          "model_module": "@jupyter-widgets/controls",
          "model_name": "ProgressStyleModel",
          "model_module_version": "1.5.0",
          "state": {
            "_model_module": "@jupyter-widgets/controls",
            "_model_module_version": "1.5.0",
            "_model_name": "ProgressStyleModel",
            "_view_count": null,
            "_view_module": "@jupyter-widgets/base",
            "_view_module_version": "1.2.0",
            "_view_name": "StyleView",
            "bar_color": null,
            "description_width": ""
          }
        },
        "1809f8b3f42949fb8baca3a03250d64b": {
          "model_module": "@jupyter-widgets/base",
          "model_name": "LayoutModel",
          "model_module_version": "1.2.0",
          "state": {
            "_model_module": "@jupyter-widgets/base",
            "_model_module_version": "1.2.0",
            "_model_name": "LayoutModel",
            "_view_count": null,
            "_view_module": "@jupyter-widgets/base",
            "_view_module_version": "1.2.0",
            "_view_name": "LayoutView",
            "align_content": null,
            "align_items": null,
            "align_self": null,
            "border": null,
            "bottom": null,
            "display": null,
            "flex": null,
            "flex_flow": null,
            "grid_area": null,
            "grid_auto_columns": null,
            "grid_auto_flow": null,
            "grid_auto_rows": null,
            "grid_column": null,
            "grid_gap": null,
            "grid_row": null,
            "grid_template_areas": null,
            "grid_template_columns": null,
            "grid_template_rows": null,
            "height": null,
            "justify_content": null,
            "justify_items": null,
            "left": null,
            "margin": null,
            "max_height": null,
            "max_width": null,
            "min_height": null,
            "min_width": null,
            "object_fit": null,
            "object_position": null,
            "order": null,
            "overflow": null,
            "overflow_x": null,
            "overflow_y": null,
            "padding": null,
            "right": null,
            "top": null,
            "visibility": null,
            "width": null
          }
        },
        "47eca707847b4a8481776c097f13c16b": {
          "model_module": "@jupyter-widgets/controls",
          "model_name": "DescriptionStyleModel",
          "model_module_version": "1.5.0",
          "state": {
            "_model_module": "@jupyter-widgets/controls",
            "_model_module_version": "1.5.0",
            "_model_name": "DescriptionStyleModel",
            "_view_count": null,
            "_view_module": "@jupyter-widgets/base",
            "_view_module_version": "1.2.0",
            "_view_name": "StyleView",
            "description_width": ""
          }
        },
        "1e16898e13454dd8806d2ebaa7ee726e": {
          "model_module": "@jupyter-widgets/controls",
          "model_name": "HBoxModel",
          "model_module_version": "1.5.0",
          "state": {
            "_dom_classes": [],
            "_model_module": "@jupyter-widgets/controls",
            "_model_module_version": "1.5.0",
            "_model_name": "HBoxModel",
            "_view_count": null,
            "_view_module": "@jupyter-widgets/controls",
            "_view_module_version": "1.5.0",
            "_view_name": "HBoxView",
            "box_style": "",
            "children": [
              "IPY_MODEL_d70244f8ecee4b3a9a30b9a06e8d9682",
              "IPY_MODEL_c6a6b1867b234c45a51372249f1c883e",
              "IPY_MODEL_4b1e2b9c1d9a4210b4ee5e3b6f7e9a42"
            ],
            "layout": "IPY_MODEL_66c4b4fa3a474dcc90481aa77baa6f5a"
          }
        },
        "d70244f8ecee4b3a9a30b9a06e8d9682": {
          "model_module": "@jupyter-widgets/controls",
          "model_name": "HTMLModel",
          "model_module_version": "1.5.0",
          "state": {
            "_dom_classes": [],
            "_model_module": "@jupyter-widgets/controls",
            "_model_module_version": "1.5.0",
            "_model_name": "HTMLModel",
            "_view_count": null,
            "_view_module": "@jupyter-widgets/controls",
            "_view_module_version": "1.5.0",
            "_view_name": "HTMLView",
            "description": "",
            "description_tooltip": null,
            "layout": "IPY_MODEL_ca8d0fe6e6ea43179542bc6c5d33c277",
            "placeholder": "​",
            "style": "IPY_MODEL_a6a33cc30c4d4bb7a185b23119aa2499",
            "value": "Downloading: 100%"
          }
        },
        "c6a6b1867b234c45a51372249f1c883e": {
          "model_module": "@jupyter-widgets/controls",
          "model_name": "FloatProgressModel",
          "model_module_version": "1.5.0",
          "state": {
            "_dom_classes": [],
            "_model_module": "@jupyter-widgets/controls",
            "_model_module_version": "1.5.0",
            "_model_name": "FloatProgressModel",
            "_view_count": null,
            "_view_module": "@jupyter-widgets/controls",
            "_view_module_version": "1.5.0",
            "_view_name": "ProgressView",
            "bar_style": "success",
            "description": "",
            "description_tooltip": null,
            "layout": "IPY_MODEL_f208bb95818d4085b1ede996b28be4ca",
            "max": 377667514,
            "min": 0,
            "orientation": "horizontal",
            "style": "IPY_MODEL_a58f1c64b7ca433f95db0af054db3bcf",
            "value": 377667514
          }
        },
        "4b1e2b9c1d9a4210b4ee5e3b6f7e9a42": {
          "model_module": "@jupyter-widgets/controls",
          "model_name": "HTMLModel",
          "model_module_version": "1.5.0",
          "state": {
            "_dom_classes": [],
            "_model_module": "@jupyter-widgets/controls",
            "_model_module_version": "1.5.0",
            "_model_name": "HTMLModel",
            "_view_count": null,
            "_view_module": "@jupyter-widgets/controls",
            "_view_module_version": "1.5.0",
            "_view_name": "HTMLView",
            "description": "",
            "description_tooltip": null,
            "layout": "IPY_MODEL_65e2f1db47864dc9b26e14983e0e8761",
            "placeholder": "​",
            "style": "IPY_MODEL_cf943acfb5c64f548162f12548bccc87",
            "value": " 378M/378M [00:14&lt;00:00, 36.1MB/s]"
          }
        },
        "66c4b4fa3a474dcc90481aa77baa6f5a": {
          "model_module": "@jupyter-widgets/base",
          "model_name": "LayoutModel",
          "model_module_version": "1.2.0",
          "state": {
            "_model_module": "@jupyter-widgets/base",
            "_model_module_version": "1.2.0",
            "_model_name": "LayoutModel",
            "_view_count": null,
            "_view_module": "@jupyter-widgets/base",
            "_view_module_version": "1.2.0",
            "_view_name": "LayoutView",
            "align_content": null,
            "align_items": null,
            "align_self": null,
            "border": null,
            "bottom": null,
            "display": null,
            "flex": null,
            "flex_flow": null,
            "grid_area": null,
            "grid_auto_columns": null,
            "grid_auto_flow": null,
            "grid_auto_rows": null,
            "grid_column": null,
            "grid_gap": null,
            "grid_row": null,
            "grid_template_areas": null,
            "grid_template_columns": null,
            "grid_template_rows": null,
            "height": null,
            "justify_content": null,
            "justify_items": null,
            "left": null,
            "margin": null,
            "max_height": null,
            "max_width": null,
            "min_height": null,
            "min_width": null,
            "object_fit": null,
            "object_position": null,
            "order": null,
            "overflow": null,
            "overflow_x": null,
            "overflow_y": null,
            "padding": null,
            "right": null,
            "top": null,
            "visibility": null,
            "width": null
          }
        },
        "ca8d0fe6e6ea43179542bc6c5d33c277": {
          "model_module": "@jupyter-widgets/base",
          "model_name": "LayoutModel",
          "model_module_version": "1.2.0",
          "state": {
            "_model_module": "@jupyter-widgets/base",
            "_model_module_version": "1.2.0",
            "_model_name": "LayoutModel",
            "_view_count": null,
            "_view_module": "@jupyter-widgets/base",
            "_view_module_version": "1.2.0",
            "_view_name": "LayoutView",
            "align_content": null,
            "align_items": null,
            "align_self": null,
            "border": null,
            "bottom": null,
            "display": null,
            "flex": null,
            "flex_flow": null,
            "grid_area": null,
            "grid_auto_columns": null,
            "grid_auto_flow": null,
            "grid_auto_rows": null,
            "grid_column": null,
            "grid_gap": null,
            "grid_row": null,
            "grid_template_areas": null,
            "grid_template_columns": null,
            "grid_template_rows": null,
            "height": null,
            "justify_content": null,
            "justify_items": null,
            "left": null,
            "margin": null,
            "max_height": null,
            "max_width": null,
            "min_height": null,
            "min_width": null,
            "object_fit": null,
            "object_position": null,
            "order": null,
            "overflow": null,
            "overflow_x": null,
            "overflow_y": null,
            "padding": null,
            "right": null,
            "top": null,
            "visibility": null,
            "width": null
          }
        },
        "a6a33cc30c4d4bb7a185b23119aa2499": {
          "model_module": "@jupyter-widgets/controls",
          "model_name": "DescriptionStyleModel",
          "model_module_version": "1.5.0",
          "state": {
            "_model_module": "@jupyter-widgets/controls",
            "_model_module_version": "1.5.0",
            "_model_name": "DescriptionStyleModel",
            "_view_count": null,
            "_view_module": "@jupyter-widgets/base",
            "_view_module_version": "1.2.0",
            "_view_name": "StyleView",
            "description_width": ""
          }
        },
        "f208bb95818d4085b1ede996b28be4ca": {
          "model_module": "@jupyter-widgets/base",
          "model_name": "LayoutModel",
          "model_module_version": "1.2.0",
          "state": {
            "_model_module": "@jupyter-widgets/base",
            "_model_module_version": "1.2.0",
            "_model_name": "LayoutModel",
            "_view_count": null,
            "_view_module": "@jupyter-widgets/base",
            "_view_module_version": "1.2.0",
            "_view_name": "LayoutView",
            "align_content": null,
            "align_items": null,
            "align_self": null,
            "border": null,
            "bottom": null,
            "display": null,
            "flex": null,
            "flex_flow": null,
            "grid_area": null,
            "grid_auto_columns": null,
            "grid_auto_flow": null,
            "grid_auto_rows": null,
            "grid_column": null,
            "grid_gap": null,
            "grid_row": null,
            "grid_template_areas": null,
            "grid_template_columns": null,
            "grid_template_rows": null,
            "height": null,
            "justify_content": null,
            "justify_items": null,
            "left": null,
            "margin": null,
            "max_height": null,
            "max_width": null,
            "min_height": null,
            "min_width": null,
            "object_fit": null,
            "object_position": null,
            "order": null,
            "overflow": null,
            "overflow_x": null,
            "overflow_y": null,
            "padding": null,
            "right": null,
            "top": null,
            "visibility": null,
            "width": null
          }
        },
        "a58f1c64b7ca433f95db0af054db3bcf": {
          "model_module": "@jupyter-widgets/controls",
          "model_name": "ProgressStyleModel",
          "model_module_version": "1.5.0",
          "state": {
            "_model_module": "@jupyter-widgets/controls",
            "_model_module_version": "1.5.0",
            "_model_name": "ProgressStyleModel",
            "_view_count": null,
            "_view_module": "@jupyter-widgets/base",
            "_view_module_version": "1.2.0",
            "_view_name": "StyleView",
            "bar_color": null,
            "description_width": ""
          }
        },
        "65e2f1db47864dc9b26e14983e0e8761": {
          "model_module": "@jupyter-widgets/base",
          "model_name": "LayoutModel",
          "model_module_version": "1.2.0",
          "state": {
            "_model_module": "@jupyter-widgets/base",
            "_model_module_version": "1.2.0",
            "_model_name": "LayoutModel",
            "_view_count": null,
            "_view_module": "@jupyter-widgets/base",
            "_view_module_version": "1.2.0",
            "_view_name": "LayoutView",
            "align_content": null,
            "align_items": null,
            "align_self": null,
            "border": null,
            "bottom": null,
            "display": null,
            "flex": null,
            "flex_flow": null,
            "grid_area": null,
            "grid_auto_columns": null,
            "grid_auto_flow": null,
            "grid_auto_rows": null,
            "grid_column": null,
            "grid_gap": null,
            "grid_row": null,
            "grid_template_areas": null,
            "grid_template_columns": null,
            "grid_template_rows": null,
            "height": null,
            "justify_content": null,
            "justify_items": null,
            "left": null,
            "margin": null,
            "max_height": null,
            "max_width": null,
            "min_height": null,
            "min_width": null,
            "object_fit": null,
            "object_position": null,
            "order": null,
            "overflow": null,
            "overflow_x": null,
            "overflow_y": null,
            "padding": null,
            "right": null,
            "top": null,
            "visibility": null,
            "width": null
          }
        },
        "cf943acfb5c64f548162f12548bccc87": {
          "model_module": "@jupyter-widgets/controls",
          "model_name": "DescriptionStyleModel",
          "model_module_version": "1.5.0",
          "state": {
            "_model_module": "@jupyter-widgets/controls",
            "_model_module_version": "1.5.0",
            "_model_name": "DescriptionStyleModel",
            "_view_count": null,
            "_view_module": "@jupyter-widgets/base",
            "_view_module_version": "1.2.0",
            "_view_name": "StyleView",
            "description_width": ""
          }
        }
      }
    }
  },
  "cells": [
    {
      "cell_type": "markdown",
      "metadata": {
        "id": "view-in-github",
        "colab_type": "text"
      },
      "source": [
        "<a href=\"https://colab.research.google.com/github/pearl-yu/twitch_project/blob/main/streamer_action_wav2vec_video_captions.ipynb\" target=\"_parent\"><img src=\"https://colab.research.google.com/assets/colab-badge.svg\" alt=\"Open In Colab\"/></a>"
      ]
    },
    {
      "cell_type": "markdown",
      "metadata": {
        "id": "9ObvuKqFqvpE"
      },
      "source": [
        "[GitHub](https://github.com/Muennighoff/ytclipcc/blob/main/wav2vec_youtube_captions.ipynb)\n",
        "# Creating YouTube Captions with Wav2Vec\n",
        "\n",
        "---"
      ]
    },
    {
      "cell_type": "markdown",
      "metadata": {
        "id": "lNvEmcfKrQH4"
      },
      "source": [
        "The Wav2Vec model was introduced by Facebook [here](https://arxiv.org/abs/2006.11477). Thanks to 🤗 Transformers, we can load it in seconds and build cool applications on top of it!\n",
        "\n",
        "This notebooks aim is to serve as an inspiration for just that. We will build a simple script to create captions for YouTube videos! The notebook can be run on CPU. If you have any questions feel free to raise an issue at the GitHub link above."
      ]
    },
    {
      "cell_type": "markdown",
      "metadata": {
        "id": "nG3sw6CGrN-6"
      },
      "source": [
        "## Setup\n",
        "\n",
        "---"
      ]
    },
    {
      "cell_type": "code",
      "metadata": {
        "id": "nctvDSx9pQ28",
        "colab": {
          "base_uri": "https://localhost:8080/"
        },
        "outputId": "fc42fefa-69c9-45cf-9820-d44def488130"
      },
      "source": [
        "!pip -q install transformers \n",
        "!pip -q install youtube_dl\n",
        "!pip install moviepy\n",
        "!pip3 install imageio==2.4.1"
      ],
      "execution_count": 1,
      "outputs": [
        {
          "output_type": "stream",
          "name": "stdout",
          "text": [
            "\u001b[K     |████████████████████████████████| 5.8 MB 4.3 MB/s \n",
            "\u001b[K     |████████████████████████████████| 182 kB 17.8 MB/s \n",
            "\u001b[K     |████████████████████████████████| 7.6 MB 31.4 MB/s \n",
            "\u001b[K     |████████████████████████████████| 1.9 MB 4.2 MB/s \n",
            "\u001b[?25hLooking in indexes: https://pypi.org/simple, https://us-python.pkg.dev/colab-wheels/public/simple/\n",
            "Requirement already satisfied: moviepy in /usr/local/lib/python3.8/dist-packages (0.2.3.5)\n",
            "Requirement already satisfied: decorator<5.0,>=4.0.2 in /usr/local/lib/python3.8/dist-packages (from moviepy) (4.4.2)\n",
            "Requirement already satisfied: tqdm<5.0,>=4.11.2 in /usr/local/lib/python3.8/dist-packages (from moviepy) (4.64.1)\n",
            "Requirement already satisfied: imageio<3.0,>=2.1.2 in /usr/local/lib/python3.8/dist-packages (from moviepy) (2.9.0)\n",
            "Requirement already satisfied: numpy in /usr/local/lib/python3.8/dist-packages (from moviepy) (1.21.6)\n",
            "Requirement already satisfied: pillow in /usr/local/lib/python3.8/dist-packages (from imageio<3.0,>=2.1.2->moviepy) (7.1.2)\n",
            "Looking in indexes: https://pypi.org/simple, https://us-python.pkg.dev/colab-wheels/public/simple/\n",
            "Collecting imageio==2.4.1\n",
            "  Downloading imageio-2.4.1.tar.gz (3.3 MB)\n",
            "\u001b[K     |████████████████████████████████| 3.3 MB 3.8 MB/s \n",
            "\u001b[?25hRequirement already satisfied: numpy in /usr/local/lib/python3.8/dist-packages (from imageio==2.4.1) (1.21.6)\n",
            "Requirement already satisfied: pillow in /usr/local/lib/python3.8/dist-packages (from imageio==2.4.1) (7.1.2)\n",
            "Building wheels for collected packages: imageio\n",
            "  Building wheel for imageio (setup.py) ... \u001b[?25l\u001b[?25hdone\n",
            "  Created wheel for imageio: filename=imageio-2.4.1-py3-none-any.whl size=3303886 sha256=236662514920cd6c7b8ee48d8207fc07be8136de579fff9a6ecde878f272d319\n",
            "  Stored in directory: /root/.cache/pip/wheels/be/7b/04/4d8d56f1d503e5c404f0de6018c0cfa592c71588a39b49e002\n",
            "Successfully built imageio\n",
            "Installing collected packages: imageio\n",
            "  Attempting uninstall: imageio\n",
            "    Found existing installation: imageio 2.9.0\n",
            "    Uninstalling imageio-2.9.0:\n",
            "      Successfully uninstalled imageio-2.9.0\n",
            "Successfully installed imageio-2.4.1\n"
          ]
        }
      ]
    },
    {
      "cell_type": "code",
      "metadata": {
        "colab": {
          "base_uri": "https://localhost:8080/"
        },
        "id": "m6HYcU4Vr7HD",
        "outputId": "78c9fe91-1cf6-443c-b5f1-84e2756cf010"
      },
      "source": [
        "from transformers import Wav2Vec2Tokenizer, Wav2Vec2ForCTC\n",
        "from IPython.display import Audio\n",
        "\n",
        "import moviepy.editor as mp\n",
        "import torch\n",
        "import librosa\n",
        "import os"
      ],
      "execution_count": 2,
      "outputs": [
        {
          "output_type": "stream",
          "name": "stdout",
          "text": [
            "Imageio: 'ffmpeg-linux64-v3.3.1' was not found on your computer; downloading it now.\n",
            "Try 1. Download from https://github.com/imageio/imageio-binaries/raw/master/ffmpeg/ffmpeg-linux64-v3.3.1 (43.8 MB)\n",
            "Downloading: 8192/45929032 bytes (0.0%)\b\b\b\b\b\b\b\b\b\b\b\b\b\b\b\b\b\b\b\b\b\b\b\b\b\b1941504/45929032 bytes (4.2%)\b\b\b\b\b\b\b\b\b\b\b\b\b\b\b\b\b\b\b\b\b\b\b\b\b\b\b\b\b3604480/45929032 bytes (7.8%)\b\b\b\b\b\b\b\b\b\b\b\b\b\b\b\b\b\b\b\b\b\b\b\b\b\b\b\b\b5677056/45929032 bytes (12.4%)\b\b\b\b\b\b\b\b\b\b\b\b\b\b\b\b\b\b\b\b\b\b\b\b\b\b\b\b\b\b8134656/45929032 bytes (17.7%)\b\b\b\b\b\b\b\b\b\b\b\b\b\b\b\b\b\b\b\b\b\b\b\b\b\b\b\b\b\b11198464/45929032 bytes (24.4%)\b\b\b\b\b\b\b\b\b\b\b\b\b\b\b\b\b\b\b\b\b\b\b\b\b\b\b\b\b\b\b14065664/45929032 bytes (30.6%)\b\b\b\b\b\b\b\b\b\b\b\b\b\b\b\b\b\b\b\b\b\b\b\b\b\b\b\b\b\b\b15851520/45929032 bytes (34.5%)\b\b\b\b\b\b\b\b\b\b\b\b\b\b\b\b\b\b\b\b\b\b\b\b\b\b\b\b\b\b\b18669568/45929032 bytes (40.6%)\b\b\b\b\b\b\b\b\b\b\b\b\b\b\b\b\b\b\b\b\b\b\b\b\b\b\b\b\b\b\b20570112/45929032 bytes (44.8%)\b\b\b\b\b\b\b\b\b\b\b\b\b\b\b\b\b\b\b\b\b\b\b\b\b\b\b\b\b\b\b22503424/45929032 bytes (49.0%)\b\b\b\b\b\b\b\b\b\b\b\b\b\b\b\b\b\b\b\b\b\b\b\b\b\b\b\b\b\b\b25124864/45929032 bytes (54.7%)\b\b\b\b\b\b\b\b\b\b\b\b\b\b\b\b\b\b\b\b\b\b\b\b\b\b\b\b\b\b\b27631616/45929032 bytes (60.2%)\b\b\b\b\b\b\b\b\b\b\b\b\b\b\b\b\b\b\b\b\b\b\b\b\b\b\b\b\b\b\b30130176/45929032 bytes (65.6%)\b\b\b\b\b\b\b\b\b\b\b\b\b\b\b\b\b\b\b\b\b\b\b\b\b\b\b\b\b\b\b32710656/45929032 bytes (71.2%)\b\b\b\b\b\b\b\b\b\b\b\b\b\b\b\b\b\b\b\b\b\b\b\b\b\b\b\b\b\b\b34603008/45929032 bytes (75.3%)\b\b\b\b\b\b\b\b\b\b\b\b\b\b\b\b\b\b\b\b\b\b\b\b\b\b\b\b\b\b\b37896192/45929032 bytes (82.5%)\b\b\b\b\b\b\b\b\b\b\b\b\b\b\b\b\b\b\b\b\b\b\b\b\b\b\b\b\b\b\b40263680/45929032 bytes (87.7%)\b\b\b\b\b\b\b\b\b\b\b\b\b\b\b\b\b\b\b\b\b\b\b\b\b\b\b\b\b\b\b43204608/45929032 bytes (94.1%)\b\b\b\b\b\b\b\b\b\b\b\b\b\b\b\b\b\b\b\b\b\b\b\b\b\b\b\b\b\b\b45105152/45929032 bytes (98.2%)\b\b\b\b\b\b\b\b\b\b\b\b\b\b\b\b\b\b\b\b\b\b\b\b\b\b\b\b\b\b\b45929032/45929032 bytes (100.0%)\n",
            "  Done\n",
            "File saved as /root/.imageio/ffmpeg/ffmpeg-linux64-v3.3.1.\n"
          ]
        }
      ]
    },
    {
      "cell_type": "markdown",
      "metadata": {
        "id": "Npi9t6uCr6jN"
      },
      "source": [
        "## Get Clip\n",
        "\n",
        "---"
      ]
    },
    {
      "cell_type": "markdown",
      "metadata": {
        "id": "gzSbcjaysn6R"
      },
      "source": [
        "Choose your favorite clip from YouTube & paste in the YouTube link. Ideally make it a short clip, as it will take some time to download. Choose the start & end seconds for the sequence whose caption you'd like to create. You can also give it a run with the default first 😊"
      ]
    },
    {
      "cell_type": "code",
      "metadata": {
        "id": "cAyYM9XPs05q"
      },
      "source": [
        "# Substitute below YT link\n",
        "clip = \"https://www.twitch.tv/videos/1012207207\"\n",
        "\n",
        "# Substitue below for start/end seconds\n",
        "start = 1\n",
        "end = 60"
      ],
      "execution_count": null,
      "outputs": []
    },
    {
      "cell_type": "code",
      "metadata": {
        "id": "JRK1o1DitfTM"
      },
      "source": [
        "# Download the clip as mp4 & rename it for usability\n",
        "os.system('youtube-dl {} --recode-video mp4'.format(clip))\n",
        "os.system('mv *.mp4 clip.mp4')"
      ],
      "execution_count": null,
      "outputs": []
    },
    {
      "cell_type": "markdown",
      "metadata": {
        "id": "wNrrqoCZvVAs"
      },
      "source": [
        "## Model and tokenizer\n",
        "\n",
        "---"
      ]
    },
    {
      "cell_type": "markdown",
      "metadata": {
        "id": "URLRwAb_vYFx"
      },
      "source": [
        "Load the Wav2Vec model from 🤗 Transformers. See [here](https://huggingface.co/transformers/model_doc/wav2vec2.html) for the models documentation."
      ]
    },
    {
      "cell_type": "code",
      "metadata": {
        "id": "NXZJng_hvV3H",
        "colab": {
          "base_uri": "https://localhost:8080/",
          "height": 336,
          "referenced_widgets": [
            "f31aab8f81dd436a936cb91b195ab8ab",
            "31241bd182cb40e2ae2c605aed915003",
            "c75b73e7e8dd46eaa5c773e5622cb773",
            "e42906cea83d40d3b91f7907e3b335fe",
            "7505a2869f624235ac1c9dc29cceac14",
            "204b347d64aa45b2908b28a1e2707021",
            "411bc8ffcb6844f69f6813af8e3182d4",
            "b282807cc3c743c0b0354efe224d5743",
            "09f0038463eb41d6ab3a5c0006d61e55",
            "80244fc4dcfd475582c9dca61baaa005",
            "29c3e7d5fa65430b9665799f440f3404",
            "0808e3926ebc4b76b2556e7c5a64442c",
            "65935a530b1a4f52be72e4cf2c7faefc",
            "f484aa16a29840b0a02349fd47696f96",
            "0958c3e74f22498f900124ff7a82d435",
            "0da55638ff2d45f9bc08e01628acf1a0",
            "5d62e249db754550a4a2825541ce7d5e",
            "422210b3d238453882123ac5111c9434",
            "09115f3c8a974450a08d517104bbd4b3",
            "aa1feb20915a4e5689457e6a8330f75b",
            "6849d4c207eb4c378282571251d1c077",
            "7d7145ff87bd409997ed81245d1e6f2a",
            "24c94cb856ad4069a07baa399543e224",
            "014ef3ed2c584a7896282b8ae58d40bc",
            "8dd5f213229c44f48a55821ee27e6f0e",
            "613569ee5ac54ac69c331a38b70fea78",
            "b60c9b4e60cf4363983d6e45874c3c23",
            "df60bbe3d12d48ca8662911c69c9764e",
            "696a731bd76a409ab9fb63cb8d95a639",
            "82d0cf5d5b5742479d265d2e5054251a",
            "c2f1fdf601ac492baa20821e131bb4f6",
            "9821aed8e0714c00b0be6f1a9943cba8",
            "0426a28583cd4705893d98fd0e9dff86",
            "abcd5b6f80604eb3831fd806c8fac7dc",
            "f78eff522a3a4ba79e323fa43fb4f904",
            "9c5cb690538044f4b0f97157dea0e6ed",
            "0972a4daafca49d0bc99ac668dd6a026",
            "b8f76524461d4b3983ec466b5a57b619",
            "c243077cdacb46cbb101df6fb2d7ccee",
            "f5a982e8d43847c3b77a11a1ee5b6e00",
            "bc5ba23387474252a0b3035d4a79be45",
            "b9e795eab1f94334800befd40f2f8bf0",
            "1809f8b3f42949fb8baca3a03250d64b",
            "47eca707847b4a8481776c097f13c16b",
            "1e16898e13454dd8806d2ebaa7ee726e",
            "d70244f8ecee4b3a9a30b9a06e8d9682",
            "c6a6b1867b234c45a51372249f1c883e",
            "4b1e2b9c1d9a4210b4ee5e3b6f7e9a42",
            "66c4b4fa3a474dcc90481aa77baa6f5a",
            "ca8d0fe6e6ea43179542bc6c5d33c277",
            "a6a33cc30c4d4bb7a185b23119aa2499",
            "f208bb95818d4085b1ede996b28be4ca",
            "a58f1c64b7ca433f95db0af054db3bcf",
            "65e2f1db47864dc9b26e14983e0e8761",
            "cf943acfb5c64f548162f12548bccc87"
          ]
        },
        "outputId": "1df69cd3-e847-4086-a514-ebee663cfae6"
      },
      "source": [
        "# Load Wav2Vec from huggingface\n",
        "tokenizer = Wav2Vec2Tokenizer.from_pretrained(\"facebook/wav2vec2-base-960h\")\n",
        "model = Wav2Vec2ForCTC.from_pretrained(\"facebook/wav2vec2-base-960h\")"
      ],
      "execution_count": 3,
      "outputs": [
        {
          "output_type": "display_data",
          "data": {
            "text/plain": [
              "Downloading:   0%|          | 0.00/291 [00:00<?, ?B/s]"
            ],
            "application/vnd.jupyter.widget-view+json": {
              "version_major": 2,
              "version_minor": 0,
              "model_id": "f31aab8f81dd436a936cb91b195ab8ab"
            }
          },
          "metadata": {}
        },
        {
          "output_type": "display_data",
          "data": {
            "text/plain": [
              "Downloading:   0%|          | 0.00/163 [00:00<?, ?B/s]"
            ],
            "application/vnd.jupyter.widget-view+json": {
              "version_major": 2,
              "version_minor": 0,
              "model_id": "0808e3926ebc4b76b2556e7c5a64442c"
            }
          },
          "metadata": {}
        },
        {
          "output_type": "display_data",
          "data": {
            "text/plain": [
              "Downloading:   0%|          | 0.00/85.0 [00:00<?, ?B/s]"
            ],
            "application/vnd.jupyter.widget-view+json": {
              "version_major": 2,
              "version_minor": 0,
              "model_id": "24c94cb856ad4069a07baa399543e224"
            }
          },
          "metadata": {}
        },
        {
          "output_type": "display_data",
          "data": {
            "text/plain": [
              "Downloading:   0%|          | 0.00/1.60k [00:00<?, ?B/s]"
            ],
            "application/vnd.jupyter.widget-view+json": {
              "version_major": 2,
              "version_minor": 0,
              "model_id": "abcd5b6f80604eb3831fd806c8fac7dc"
            }
          },
          "metadata": {}
        },
        {
          "output_type": "stream",
          "name": "stderr",
          "text": [
            "The tokenizer class you load from this checkpoint is not the same type as the class this function is called from. It may result in unexpected tokenization. \n",
            "The tokenizer class you load from this checkpoint is 'Wav2Vec2CTCTokenizer'. \n",
            "The class this function is called from is 'Wav2Vec2Tokenizer'.\n",
            "WARNING:py.warnings:/usr/local/lib/python3.8/dist-packages/transformers/models/wav2vec2/tokenization_wav2vec2.py:752: FutureWarning: The class `Wav2Vec2Tokenizer` is deprecated and will be removed in version 5 of Transformers. Please use `Wav2Vec2Processor` or `Wav2Vec2CTCTokenizer` instead.\n",
            "  warnings.warn(\n",
            "\n"
          ]
        },
        {
          "output_type": "display_data",
          "data": {
            "text/plain": [
              "Downloading:   0%|          | 0.00/378M [00:00<?, ?B/s]"
            ],
            "application/vnd.jupyter.widget-view+json": {
              "version_major": 2,
              "version_minor": 0,
              "model_id": "1e16898e13454dd8806d2ebaa7ee726e"
            }
          },
          "metadata": {}
        },
        {
          "output_type": "stream",
          "name": "stderr",
          "text": [
            "Some weights of Wav2Vec2ForCTC were not initialized from the model checkpoint at facebook/wav2vec2-base-960h and are newly initialized: ['wav2vec2.masked_spec_embed']\n",
            "You should probably TRAIN this model on a down-stream task to be able to use it for predictions and inference.\n"
          ]
        }
      ]
    },
    {
      "cell_type": "markdown",
      "metadata": {
        "id": "P98J77f6tbD2"
      },
      "source": [
        "## Extract Audio\n",
        "\n",
        "---"
      ]
    },
    {
      "cell_type": "code",
      "source": [
        "from google.colab import drive\n",
        "drive.mount('/content/drive')"
      ],
      "metadata": {
        "colab": {
          "base_uri": "https://localhost:8080/"
        },
        "id": "etW6k4rH-p_q",
        "outputId": "7b6c82e4-ba63-4aca-d660-7ceac321b5a1"
      },
      "execution_count": 4,
      "outputs": [
        {
          "output_type": "stream",
          "name": "stdout",
          "text": [
            "Mounted at /content/drive\n"
          ]
        }
      ]
    },
    {
      "cell_type": "markdown",
      "metadata": {
        "id": "crEfXw7tvl35"
      },
      "source": [
        "First we'll extract the audio in mp3 format from the clip, as the Wav2Vec models expects audio input. We do this in subclips of 10 second length to save some memory lateron. "
      ]
    },
    {
      "cell_type": "code",
      "source": [
        "%cd /content/drive/MyDrive/twitch_data/videos"
      ],
      "metadata": {
        "colab": {
          "base_uri": "https://localhost:8080/"
        },
        "id": "T1qrIbso-wLV",
        "outputId": "838882c5-abf1-4f17-959b-1d430557bcb6"
      },
      "execution_count": 5,
      "outputs": [
        {
          "output_type": "stream",
          "name": "stdout",
          "text": [
            "/content/drive/MyDrive/twitch_data/videos\n"
          ]
        }
      ]
    },
    {
      "cell_type": "code",
      "metadata": {
        "id": "a6Df9DuWvG57",
        "colab": {
          "base_uri": "https://localhost:8080/"
        },
        "outputId": "804ac4a7-72cb-427a-d8ca-33fe074f936e"
      },
      "source": [
        "start = 1\n",
        "end = 1000000000\n",
        "\n",
        "clip = mp.VideoFileClip(\"1013713136.mp4\")\n",
        "end = min(clip.duration, end)\n",
        "\n",
        "# Save the paths for later\n",
        "clip_paths = []\n",
        "\n",
        "# Extract Audio-only from mp4\n",
        "for i in range(start, int(end), 10):\n",
        "  sub_end = min(i+10, end)\n",
        "  sub_clip = clip.subclip(i,sub_end)\n",
        "\n",
        "  sub_clip.audio.write_audiofile(\"audio_\" + str(i) + \".mp3\")\n",
        "  clip_paths.append(\"audio_\" + str(i) + \".mp3\")"
      ],
      "execution_count": 7,
      "outputs": [
        {
          "output_type": "stream",
          "name": "stdout",
          "text": [
            "[MoviePy] Writing audio in audio_1.mp3\n"
          ]
        },
        {
          "output_type": "stream",
          "name": "stderr",
          "text": [
            "100%|██████████| 221/221 [00:00<00:00, 335.75it/s]\n"
          ]
        },
        {
          "output_type": "stream",
          "name": "stdout",
          "text": [
            "[MoviePy] Done.\n",
            "[MoviePy] Writing audio in audio_11.mp3\n"
          ]
        },
        {
          "output_type": "stream",
          "name": "stderr",
          "text": [
            "100%|██████████| 221/221 [00:00<00:00, 391.46it/s]"
          ]
        },
        {
          "output_type": "stream",
          "name": "stdout",
          "text": [
            "[MoviePy] Done.\n"
          ]
        },
        {
          "output_type": "stream",
          "name": "stderr",
          "text": [
            "\n"
          ]
        },
        {
          "output_type": "stream",
          "name": "stdout",
          "text": [
            "[MoviePy] Writing audio in audio_21.mp3\n"
          ]
        },
        {
          "output_type": "stream",
          "name": "stderr",
          "text": [
            "100%|██████████| 177/177 [00:00<00:00, 403.07it/s]"
          ]
        },
        {
          "output_type": "stream",
          "name": "stdout",
          "text": [
            "[MoviePy] Done.\n"
          ]
        },
        {
          "output_type": "stream",
          "name": "stderr",
          "text": [
            "\n"
          ]
        }
      ]
    },
    {
      "cell_type": "code",
      "metadata": {
        "id": "eAUMoKrbzVWy",
        "colab": {
          "base_uri": "https://localhost:8080/",
          "height": 76
        },
        "outputId": "dea56bc0-b4a5-4de3-fc07-c4386e54fc90"
      },
      "source": [
        "# Play Audio \n",
        "Audio(clip_paths[0])"
      ],
      "execution_count": 8,
      "outputs": [
        {
          "output_type": "execute_result",
          "data": {
            "text/plain": [
              "<IPython.lib.display.Audio object>"
            ],
            "text/html": [
              "\n",
              "                <audio  controls=\"controls\" >\n",
              "                    <source src=\"data:audio/mpeg;base64,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\" type=\"audio/mpeg\" />\n",
              "                    Your browser does not support the audio element.\n",
              "                </audio>\n",
              "              "
            ]
          },
          "metadata": {},
          "execution_count": 8
        }
      ]
    },
    {
      "cell_type": "markdown",
      "metadata": {
        "id": "Fnr7uduAwMeT"
      },
      "source": [
        "## Transcribe Audio\n",
        "\n",
        "---"
      ]
    },
    {
      "cell_type": "markdown",
      "metadata": {
        "id": "iYwp2dJ9wP9E"
      },
      "source": [
        "The last step is turning the Audio into text! The Wav2Vec model does most of the job here for us. We do each 10-second clip one-by-one to save memory."
      ]
    },
    {
      "cell_type": "code",
      "metadata": {
        "id": "yRyfVsqeslc-",
        "colab": {
          "base_uri": "https://localhost:8080/"
        },
        "outputId": "8efccddc-af96-4424-ea0f-ad3e510b88ed"
      },
      "source": [
        "cc = \"\"\n",
        "\n",
        "for path in clip_paths:\n",
        "    # Load the audio with the librosa library\n",
        "    input_audio, _ = librosa.load(path, \n",
        "                                sr=16000)\n",
        "\n",
        "    # Tokenize the audio\n",
        "    input_values = tokenizer(input_audio, return_tensors=\"pt\", padding=\"longest\").input_values\n",
        "\n",
        "    # Feed it through Wav2Vec & choose the most probable tokens\n",
        "    with torch.no_grad():\n",
        "      logits = model(input_values).logits\n",
        "      predicted_ids = torch.argmax(logits, dim=-1)\n",
        "\n",
        "    # Decode & add to our caption string\n",
        "    transcription = tokenizer.batch_decode(predicted_ids)[0]\n",
        "    cc += transcription + \" \""
      ],
      "execution_count": 9,
      "outputs": [
        {
          "output_type": "stream",
          "name": "stderr",
          "text": [
            "WARNING:py.warnings:/usr/local/lib/python3.8/dist-packages/librosa/core/audio.py:165: UserWarning: PySoundFile failed. Trying audioread instead.\n",
            "  warnings.warn(\"PySoundFile failed. Trying audioread instead.\")\n",
            "\n",
            "WARNING:py.warnings:/usr/local/lib/python3.8/dist-packages/librosa/core/audio.py:165: UserWarning: PySoundFile failed. Trying audioread instead.\n",
            "  warnings.warn(\"PySoundFile failed. Trying audioread instead.\")\n",
            "\n",
            "WARNING:py.warnings:/usr/local/lib/python3.8/dist-packages/librosa/core/audio.py:165: UserWarning: PySoundFile failed. Trying audioread instead.\n",
            "  warnings.warn(\"PySoundFile failed. Trying audioread instead.\")\n",
            "\n"
          ]
        }
      ]
    },
    {
      "cell_type": "code",
      "metadata": {
        "id": "nzE6ZCHswxJZ",
        "colab": {
          "base_uri": "https://localhost:8080/"
        },
        "outputId": "54a72d30-50ab-44b8-f107-1fbd4851475e"
      },
      "source": [
        "# Here's your caption!\n",
        "# Note that there may be mistakes especially if the audio is noisy or there are uncommon words\n",
        "# If you picked the default video and change start to 0, you will see that the model gets confused by the word \"Anakin\"\n",
        "print(cc)"
      ],
      "execution_count": 10,
      "outputs": [
        {
          "output_type": "stream",
          "name": "stdout",
          "text": [
            "OQUE QUET WORZON GET A LITTLE BUGGY IN WHYU REPLYIN AH AH  AH A   WAS A WOG I A IL I \n"
          ]
        }
      ]
    },
    {
      "cell_type": "code",
      "source": [],
      "metadata": {
        "id": "0eFzqeAB2J2R"
      },
      "execution_count": null,
      "outputs": []
    }
  ]
}